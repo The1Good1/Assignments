{
 "cells": [
  {
   "cell_type": "code",
   "execution_count": 6,
   "id": "71328a09",
   "metadata": {},
   "outputs": [],
   "source": [
    "# Ques 1\n",
    "\n",
    "def track_robot(instructions):\n",
    "    x = 0\n",
    "    y = 0\n",
    "    for instruction in instructions:\n",
    "        direction, distance = instruction.split()\n",
    "        distance = int(distance)\n",
    "        if direction == \"right\":\n",
    "            x += distance\n",
    "        elif direction == \"left\":\n",
    "            x -= distance\n",
    "        elif direction == \"up\":\n",
    "            y += distance\n",
    "        elif direction == \"down\":\n",
    "            y -= distance\n",
    "    return [x, y]\n"
   ]
  },
  {
   "cell_type": "code",
   "execution_count": 7,
   "id": "7b41e54b",
   "metadata": {},
   "outputs": [],
   "source": [
    "# Ques 2\n",
    "\n",
    "import re\n",
    "\n",
    "def find_longest(sentence):\n",
    "    words = re.findall(r'\\b\\w+\\b', sentence)\n",
    "    return max(words, key=len)\n"
   ]
  },
  {
   "cell_type": "code",
   "execution_count": 8,
   "id": "b406cc99",
   "metadata": {},
   "outputs": [],
   "source": [
    "# Ques 3\n",
    "\n",
    "def interview(times, total_time):\n",
    "    if len(times) != 8:\n",
    "        return \"disqualified\"\n",
    "    max_times = [5, 5, 10, 10, 15, 15, 20, 20]\n",
    "    if sum(times) > total_time - 20:\n",
    "        return \"disqualified\"\n",
    "    for i in range(len(times)):\n",
    "        if times[i] > max_times[i]:\n",
    "            return \"disqualified\"\n",
    "    return \"qualified\"\n",
    "\n"
   ]
  },
  {
   "cell_type": "code",
   "execution_count": 9,
   "id": "129a0cab",
   "metadata": {},
   "outputs": [],
   "source": [
    "# Ques 4\n",
    "\n",
    "def chunkify(lst, n):\n",
    "    return [lst[i:i+n] for i in range(0, len(lst), n)]\n"
   ]
  },
  {
   "cell_type": "code",
   "execution_count": 10,
   "id": "20b183cf",
   "metadata": {},
   "outputs": [],
   "source": [
    "# Ques 5\n",
    "\n",
    "import re\n",
    "\n",
    "def get_prices(lst):\n",
    "    prices = []\n",
    "    for item in lst:\n",
    "        match = re.search(r'\\(\\$([\\d.]+)\\)', item)\n",
    "        if match:\n",
    "            price = float(match.group(1))\n",
    "            prices.append(price)\n",
    "    return prices\n"
   ]
  },
  {
   "cell_type": "code",
   "execution_count": null,
   "id": "cc6ed03b",
   "metadata": {},
   "outputs": [],
   "source": []
  },
  {
   "cell_type": "code",
   "execution_count": null,
   "id": "aa817794",
   "metadata": {},
   "outputs": [],
   "source": []
  }
 ],
 "metadata": {
  "kernelspec": {
   "display_name": "Python 3 (ipykernel)",
   "language": "python",
   "name": "python3"
  },
  "language_info": {
   "codemirror_mode": {
    "name": "ipython",
    "version": 3
   },
   "file_extension": ".py",
   "mimetype": "text/x-python",
   "name": "python",
   "nbconvert_exporter": "python",
   "pygments_lexer": "ipython3",
   "version": "3.9.13"
  }
 },
 "nbformat": 4,
 "nbformat_minor": 5
}
