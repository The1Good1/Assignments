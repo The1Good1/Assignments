{
 "cells": [
  {
   "cell_type": "markdown",
   "id": "222b2556",
   "metadata": {},
   "source": [
    "# Ques1:"
   ]
  },
  {
   "cell_type": "markdown",
   "id": "8c8e80b0",
   "metadata": {},
   "source": [
    "What does an empty dictionary's code look like?\n",
    "\n",
    "An empty dictionary's code\n"
   ]
  },
  {
   "cell_type": "code",
   "execution_count": null,
   "id": "de4ffa61",
   "metadata": {},
   "outputs": [],
   "source": [
    "my_dict1 = {}"
   ]
  },
  {
   "cell_type": "markdown",
   "id": "c62d82dd",
   "metadata": {},
   "source": [
    "# Ques 2:\n"
   ]
  },
  {
   "cell_type": "markdown",
   "id": "4aca5b6b",
   "metadata": {},
   "source": [
    "What is the value of a dictionary value with the key 'foo' and the value 42?\n",
    "\n",
    "The value of a dictionary value with the key 'foo' and the value 42 would look like this:\n",
    "\n"
   ]
  },
  {
   "cell_type": "code",
   "execution_count": 1,
   "id": "a9c4ddf1",
   "metadata": {},
   "outputs": [],
   "source": [
    "d={'foo': 42}"
   ]
  },
  {
   "cell_type": "markdown",
   "id": "d2221e78",
   "metadata": {},
   "source": [
    "# Ques 3"
   ]
  },
  {
   "cell_type": "markdown",
   "id": "357dd8c6",
   "metadata": {},
   "source": [
    "What is the most significant distinction between a dictionary and a list?\n",
    "\n",
    "The most significant distinction between a dictionary and a list is that a dictionary is a collection of key-value pairs, whereas a list is a collection of ordered elements. In a dictionary, each key must be unique, and it maps to a single value, whereas in a list, each element can be accessed using an index."
   ]
  },
  {
   "cell_type": "markdown",
   "id": "a5d3455f",
   "metadata": {},
   "source": [
    "# Ques 4"
   ]
  },
  {
   "cell_type": "markdown",
   "id": "3956e486",
   "metadata": {},
   "source": [
    "What happens if you try to access spam['foo'] if spam is {'bar': 100}?\n",
    "\n",
    "If you try to access spam['foo'] and spam is { 'bar': 100 }, you will get a KeyError because the key 'foo' does not exist in the dictionary.|"
   ]
  },
  {
   "cell_type": "markdown",
   "id": "dc3fd4d0",
   "metadata": {},
   "source": [
    "# Ques 5"
   ]
  },
  {
   "cell_type": "markdown",
   "id": "4504d060",
   "metadata": {},
   "source": [
    "If a dictionary is stored in spam, what is the difference between the expressions 'cat' in spam and\n",
    "'cat' in spam.keys()?\n",
    "\n",
    "If a dictionary is stored in spam, the expression 'cat' in spam checks whether the dictionary contains the key 'cat', whereas the expression 'cat' in spam.keys() checks whether the dictionary contains the key 'cat' in the list of all keys of the dictionary. In practice, both expressions should return the same result."
   ]
  },
  {
   "cell_type": "markdown",
   "id": "56eb58e8",
   "metadata": {},
   "source": [
    "# Ques 6"
   ]
  },
  {
   "cell_type": "markdown",
   "id": "c41aaa28",
   "metadata": {},
   "source": [
    "If a dictionary is stored in spam, what is the difference between the expressions 'cat' in spam and\n",
    "'cat' in spam.values()?\n",
    "\n",
    "If a dictionary is stored in spam, the expression 'cat' in spam checks whether the dictionary contains the key 'cat', whereas the expression 'cat' in spam.values() checks whether the dictionary contains the value 'cat' in any of its values. In practice, these expressions can return different results because different keys in the dictionary could have the same value."
   ]
  },
  {
   "cell_type": "markdown",
   "id": "3a1b6dca",
   "metadata": {},
   "source": [
    "# Ques 7"
   ]
  },
  {
   "cell_type": "markdown",
   "id": "5deb22ec",
   "metadata": {},
   "source": [
    "What is a shortcut for the following code?\n",
    "if 'color' not in spam:\n",
    "spam['color'] = 'black'\n",
    "\n",
    "\n",
    "A shortcut for the following code is to use the setdefault() method of the dictionary object. The code using setdefault() is"
   ]
  },
  {
   "cell_type": "code",
   "execution_count": null,
   "id": "e0856c11",
   "metadata": {},
   "outputs": [],
   "source": [
    "spam.setdefault('color', 'black')\n"
   ]
  },
  {
   "cell_type": "markdown",
   "id": "f1aaa4ef",
   "metadata": {},
   "source": [
    "# Ques 8"
   ]
  },
  {
   "cell_type": "markdown",
   "id": "b1dd53ba",
   "metadata": {},
   "source": [
    "How do you \"pretty print\" dictionary values using which module and function?\n",
    "\n",
    "You can \"pretty print\" dictionary values using the pprint module's pprint() function.\n"
   ]
  },
  {
   "cell_type": "code",
   "execution_count": 3,
   "id": "f718ff5b",
   "metadata": {},
   "outputs": [
    {
     "name": "stdout",
     "output_type": "stream",
     "text": [
      "{'age': 30, 'city': 'New York', 'name': 'John'}\n"
     ]
    }
   ],
   "source": [
    "import pprint\n",
    "\n",
    "my_dict = {'name': 'John', 'age': 30, 'city': 'New York'}\n",
    "pprint.pprint(my_dict)\n"
   ]
  },
  {
   "cell_type": "code",
   "execution_count": null,
   "id": "6bc480a8",
   "metadata": {},
   "outputs": [],
   "source": []
  }
 ],
 "metadata": {
  "kernelspec": {
   "display_name": "Python 3 (ipykernel)",
   "language": "python",
   "name": "python3"
  },
  "language_info": {
   "codemirror_mode": {
    "name": "ipython",
    "version": 3
   },
   "file_extension": ".py",
   "mimetype": "text/x-python",
   "name": "python",
   "nbconvert_exporter": "python",
   "pygments_lexer": "ipython3",
   "version": "3.9.13"
  }
 },
 "nbformat": 4,
 "nbformat_minor": 5
}
