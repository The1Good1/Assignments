{
 "cells": [
  {
   "cell_type": "markdown",
   "id": "209200ad",
   "metadata": {},
   "source": [
    "# Ques 1\n",
    "What is the meaning of multiple inheritance?\n",
    "\n",
    "Multiple inheritance refers to the ability of a class to inherit attributes and methods from multiple parent classes. In other words, a class can have more than one direct superclass. This allows the class to inherit and combine behaviors from multiple sources.\n",
    "\n",
    "\n",
    "When a class inherits from multiple parent classes, it gains access to all the attributes and methods defined in those parent classes. The class can override or extend the inherited behaviors and can also define its own attributes and methods. Multiple inheritance provides a way to create complex class hierarchies and promote code reuse by inheriting from different sources.\n",
    "\n",
    "\n",
    "However, multiple inheritance can also introduce challenges such as method name clashes or conflicts between different inherited behaviors. Proper design and careful consideration of class relationships are essential to manage these challenges effectively."
   ]
  },
  {
   "cell_type": "markdown",
   "id": "0811f751",
   "metadata": {},
   "source": [
    "# Ques 2\n",
    "What is the concept of delegation?\n",
    "\n",
    "The concept of delegation involves one object forwarding or delegating a task or responsibility to another object. It allows objects to work together by distributing responsibilities and promoting modular and reusable code.\n",
    "\n",
    "In delegation, an object delegates a specific task to another object that is better suited to perform it or has the necessary expertise. The delegating object typically holds a reference to the delegate object and calls its methods to accomplish the delegated task.\n",
    "\n",
    "Delegation enables code organization, encapsulation, and loose coupling between objects. It allows objects to collaborate without having tight dependencies on each other, resulting in more maintainable and flexible code."
   ]
  },
  {
   "cell_type": "markdown",
   "id": "32105a11",
   "metadata": {},
   "source": [
    "# Ques 3\n",
    "\n",
    "What is the concept of composition?\n",
    "\n",
    "Composition is a concept in object-oriented programming where a class contains objects of other classes as its members. It is a way to build complex objects by combining simpler objects, forming a has-a relationship.\n",
    "\n",
    "In composition, an object is composed of one or more other objects. The composed objects are often referred to as components or parts. The composition relationship allows the object to use and interact with the behavior and attributes of its composed objects.\n",
    "\n",
    "Composition is a powerful alternative to inheritance when creating complex class structures. It promotes code reusability, modularity, and flexibility by assembling objects with specific functionalities rather than relying solely on class inheritance."
   ]
  },
  {
   "cell_type": "markdown",
   "id": "13c2e1d2",
   "metadata": {},
   "source": [
    "# Ques 4\n",
    "What are bound methods and how do we use them?\n",
    "\n",
    "Bound methods are methods that are associated with a specific instance of a class. When a method is called on an instance, it automatically receives the instance itself as the first argument, commonly referred to as self in Python.\n",
    "\n",
    "Bound methods are created by accessing a method of an object and binding it to the object instance. They carry the instance information and can access the instance's attributes and call other instance methods."
   ]
  },
  {
   "cell_type": "code",
   "execution_count": null,
   "id": "fa0e7746",
   "metadata": {},
   "outputs": [],
   "source": [
    "class MyClass:\n",
    "    def my_method(self):\n",
    "        print(\"Hello, bound method!\")\n",
    "\n",
    "obj = MyClass()\n",
    "bound_method = obj.my_method\n",
    "bound_method()  \n"
   ]
  },
  {
   "cell_type": "markdown",
   "id": "58c59913",
   "metadata": {},
   "source": [
    "obj.my_method is a bound method because it is associated with the instance obj. When bound_method() is called, it automatically passes the instance obj as the first argument (self) to the my_method() method.\n",
    "\n",
    "Bound methods are commonly used to access and modify instance-specific data or perform operations related to a specific instance."
   ]
  },
  {
   "cell_type": "markdown",
   "id": "449c7198",
   "metadata": {},
   "source": [
    "# Ques 5\n",
    "\n",
    "What is the purpose of pseudoprivate attributes?\n",
    "\n",
    "Pseudoprivate attributes, also known as name mangling, are attributes in Python classes that are intended to be private within the class but can still be accessed and modified using a modified name.\n",
    "\n",
    "In Python, there is no strict enforcement of private attributes, but a convention is followed to indicate that an attribute should be treated as private and not accessed directly from outside the class. This convention involves prefixing the attribute name with two underscores (__).\n",
    "\n",
    "When an attribute is defined with double underscores as a prefix (e.g., __attribute), Python performs name mangling by adding the class name as a prefix to the attribute name. This is done to avoid accidental name clashes in subclasses."
   ]
  },
  {
   "cell_type": "code",
   "execution_count": null,
   "id": "0e1030d9",
   "metadata": {},
   "outputs": [],
   "source": [
    "class MyClass:\n",
    "    def __init__(self):\n",
    "        self.__attribute = 42\n",
    "\n",
    "obj = MyClass()\n",
    "print(obj._MyClass__attribute)\n"
   ]
  }
 ],
 "metadata": {
  "kernelspec": {
   "display_name": "Python 3 (ipykernel)",
   "language": "python",
   "name": "python3"
  },
  "language_info": {
   "codemirror_mode": {
    "name": "ipython",
    "version": 3
   },
   "file_extension": ".py",
   "mimetype": "text/x-python",
   "name": "python",
   "nbconvert_exporter": "python",
   "pygments_lexer": "ipython3",
   "version": "3.9.13"
  }
 },
 "nbformat": 4,
 "nbformat_minor": 5
}
