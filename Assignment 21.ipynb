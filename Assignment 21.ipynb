{
 "cells": [
  {
   "cell_type": "markdown",
   "id": "91fdcdbe",
   "metadata": {},
   "source": [
    "# Ques 1\n",
    "Add the current date to the text file today.txt as a string.\n",
    "\n",
    "To the current date to the text file today.txt as a string"
   ]
  },
  {
   "cell_type": "code",
   "execution_count": 4,
   "id": "ff2d038f",
   "metadata": {},
   "outputs": [],
   "source": [
    "import datetime\n",
    "\n",
    "current_date = datetime.datetime.now().strftime(\"%Y-%m-%d\")\n",
    "\n",
    "with open(\"today.txt\", \"w\") as file:\n",
    "    file.write(current_date)\n"
   ]
  },
  {
   "cell_type": "markdown",
   "id": "286d0b7c",
   "metadata": {},
   "source": [
    "# Ques 2\n",
    "Read the text file today.txt into the string today_string"
   ]
  },
  {
   "cell_type": "code",
   "execution_count": null,
   "id": "271e2a69",
   "metadata": {},
   "outputs": [],
   "source": [
    "with open(\"today.txt\", \"r\") as file:\n",
    "    today_string = file.read()"
   ]
  },
  {
   "cell_type": "markdown",
   "id": "ed2a2d9d",
   "metadata": {},
   "source": [
    "# Ques 3\n",
    "Parse the date from today_string.\n"
   ]
  },
  {
   "cell_type": "code",
   "execution_count": null,
   "id": "bf9e2e9f",
   "metadata": {},
   "outputs": [],
   "source": [
    "parsed_date = datetime.strptime(today_string, \"%Y-%m-%d\")\n"
   ]
  },
  {
   "cell_type": "markdown",
   "id": "ae529436",
   "metadata": {},
   "source": [
    "# Ques 4\n",
    "List the files in your current directory\n"
   ]
  },
  {
   "cell_type": "code",
   "execution_count": 5,
   "id": "5c97c4ac",
   "metadata": {},
   "outputs": [
    {
     "name": "stdout",
     "output_type": "stream",
     "text": [
      "Files in current directory:\n",
      ".conda\n",
      ".condarc\n",
      ".continuum\n",
      ".emulator_console_auth_token\n",
      ".ipynb_checkpoints\n",
      ".ipython\n",
      ".jupyter\n",
      "anaconda3\n",
      "ansel\n",
      "AppData\n",
      "Application Data\n",
      "Assignment 1.ipynb\n",
      "Assignment 12.ipynb\n",
      "Assignment 2.ipynb\n",
      "Assignment 3.ipynb\n",
      "books.csv\n",
      "books.db\n",
      "Contacts\n",
      "Cookies\n",
      "Documents\n",
      "Downloads\n",
      "Favorites\n",
      "genymotion-logs-20230111-015938.zip\n",
      "glass.data\n",
      "IntelGraphicsProfiles\n",
      "Links\n",
      "Local Settings\n",
      "Music\n",
      "My Documents\n",
      "NetHood\n",
      "NTUSER.DAT\n",
      "ntuser.dat.LOG1\n",
      "ntuser.dat.LOG2\n",
      "NTUSER.DAT{a2332f18-cdbf-11ec-8680-002248483d79}.TM.blf\n",
      "NTUSER.DAT{a2332f18-cdbf-11ec-8680-002248483d79}.TMContainer00000000000000000001.regtrans-ms\n",
      "NTUSER.DAT{a2332f18-cdbf-11ec-8680-002248483d79}.TMContainer00000000000000000002.regtrans-ms\n",
      "ntuser.ini\n",
      "OneDrive\n",
      "PrintHood\n",
      "property_addresses.csv\n",
      "Python Advance Assignment 1.ipynb\n",
      "Recent\n",
      "Saved Games\n",
      "Searches\n",
      "SendTo\n",
      "Start Menu\n",
      "Templates\n",
      "test.log\n",
      "test.txt\n",
      "today.txt\n",
      "Tracing\n",
      "Untitled.ipynb\n",
      "Untitled1.ipynb\n",
      "Untitled2.ipynb\n",
      "Untitled3.ipynb\n",
      "Untitled4.ipynb\n",
      "Videos\n",
      "yelp_results.xlsx\n"
     ]
    }
   ],
   "source": [
    "import os\n",
    "\n",
    "current_directory = os.getcwd()\n",
    "files_in_directory = os.listdir(current_directory)\n",
    "print(\"Files in current directory:\")\n",
    "for file_name in files_in_directory:\n",
    "    print(file_name)"
   ]
  },
  {
   "cell_type": "markdown",
   "id": "866b378c",
   "metadata": {},
   "source": [
    "# Ques 5\n",
    "Create a list of all of the files in your parent directory (minimum five files should be available).\n"
   ]
  },
  {
   "cell_type": "code",
   "execution_count": null,
   "id": "0e95407d",
   "metadata": {},
   "outputs": [],
   "source": [
    "import os\n",
    "\n",
    "parent_directory = os.path.dirname(current_directory)\n",
    "files_in_parent_directory = os.listdir(parent_directory)\n",
    "print(\"\\nFiles in parent directory:\")\n",
    "for file_name in files_in_parent_directory:\n",
    "    print(file_name)"
   ]
  },
  {
   "cell_type": "markdown",
   "id": "b4b6c8d2",
   "metadata": {},
   "source": [
    "# Ques 6\n",
    "Use multiprocessing to create three separate processes. Make each one wait a random number of seconds between one and five, print the current time, and then exit.\n",
    "\n",
    "To use multiprocessing in Python to create three separate processes, where each process waits for a random number of seconds between one and five, prints the current time, and then exits, we can use the following code:"
   ]
  },
  {
   "cell_type": "code",
   "execution_count": null,
   "id": "454ea822",
   "metadata": {},
   "outputs": [],
   "source": [
    "import multiprocessing\n",
    "import random\n",
    "import time\n",
    "from datetime import datetime\n",
    "\n",
    "def worker():\n",
    "    wait_time = random.randint(1, 5)\n",
    "    time.sleep(wait_time)\n",
    "    current_time = datetime.now().strftime(\"%H:%M:%S\")\n",
    "    print(\"Process ID:\", multiprocessing.current_process().pid, \"- Current Time:\", current_time)\n",
    "\n",
    "# Create three separate processes\n",
    "processes = []\n",
    "for _ in range(3):\n",
    "    process = multiprocessing.Process(target=worker)\n",
    "    processes.append(process)\n",
    "    process.start()\n",
    "\n",
    "# Wait for all processes to finish\n",
    "for process in processes:\n",
    "    process.join()\n"
   ]
  },
  {
   "cell_type": "markdown",
   "id": "1d7ec4b2",
   "metadata": {},
   "source": [
    "# Ques 7\n",
    "Create a date object of your day of birth.\n"
   ]
  },
  {
   "cell_type": "code",
   "execution_count": null,
   "id": "c93bb406",
   "metadata": {},
   "outputs": [],
   "source": [
    "from datetime import datetime\n",
    "\n",
    "birth_date = datetime(year=1991, month=12, day=18).date()\n",
    "print(birth_date)\n"
   ]
  },
  {
   "cell_type": "markdown",
   "id": "b1886cff",
   "metadata": {},
   "source": [
    "# Ques 8 \n",
    "What day of the week was your day of birth?\n"
   ]
  },
  {
   "cell_type": "code",
   "execution_count": null,
   "id": "01f0677a",
   "metadata": {},
   "outputs": [],
   "source": [
    "birth_day_of_week = birth_date.strftime(\"%A\")\n",
    "print(\"\\nDay of the week of my birth:\", birth_day_of_week)\n"
   ]
  },
  {
   "cell_type": "markdown",
   "id": "155c13fb",
   "metadata": {},
   "source": [
    "# Ques 9\n",
    "\n",
    "When will you be (or when were you) 10,000 days old?\n"
   ]
  },
  {
   "cell_type": "code",
   "execution_count": null,
   "id": "24a9fb19",
   "metadata": {},
   "outputs": [],
   "source": [
    "ten_thousand_days_after_birth = birth_date + timedelta(days=10000)\n",
    "print(\"When I will be/was 10,000 days old:\", ten_thousand_days_after_birth)"
   ]
  }
 ],
 "metadata": {
  "kernelspec": {
   "display_name": "Python 3 (ipykernel)",
   "language": "python",
   "name": "python3"
  },
  "language_info": {
   "codemirror_mode": {
    "name": "ipython",
    "version": 3
   },
   "file_extension": ".py",
   "mimetype": "text/x-python",
   "name": "python",
   "nbconvert_exporter": "python",
   "pygments_lexer": "ipython3",
   "version": "3.9.13"
  }
 },
 "nbformat": 4,
 "nbformat_minor": 5
}
