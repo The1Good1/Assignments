{
 "cells": [
  {
   "cell_type": "markdown",
   "id": "4e864a43",
   "metadata": {},
   "source": [
    "# Ques 1\n",
    "\n"
   ]
  },
  {
   "cell_type": "code",
   "execution_count": 9,
   "id": "1fe9afaa",
   "metadata": {},
   "outputs": [],
   "source": [
    "def findPermutation(s):\n",
    "    n = len(s)\n",
    "    perm = []\n",
    "    low, high = 0, n\n",
    "\n",
    "    for ch in s:\n",
    "        if ch == 'I':\n",
    "            perm.append(low)\n",
    "            low += 1\n",
    "        elif ch == 'D':\n",
    "            perm.append(high)\n",
    "            high -= 1\n",
    "\n",
    "    perm.append(low)  # or perm.append(high)\n",
    "\n",
    "    return perm\n"
   ]
  },
  {
   "cell_type": "markdown",
   "id": "be9e9310",
   "metadata": {},
   "source": [
    "# Ques 2\n",
    "\n"
   ]
  },
  {
   "cell_type": "code",
   "execution_count": 10,
   "id": "3cfc3e87",
   "metadata": {},
   "outputs": [],
   "source": [
    "def searchMatrix(matrix, target):\n",
    "    m = len(matrix)\n",
    "    n = len(matrix[0])\n",
    "\n",
    "    left = 0\n",
    "    right = m * n - 1\n",
    "\n",
    "    while left <= right:\n",
    "        mid = (left + right) // 2\n",
    "        row = mid // n\n",
    "        col = mid % n\n",
    "\n",
    "        if matrix[row][col] == target:\n",
    "            return True\n",
    "        elif matrix[row][col] < target:\n",
    "            left = mid + 1\n",
    "        else:\n",
    "            right = mid - 1\n",
    "\n",
    "    return False\n"
   ]
  },
  {
   "cell_type": "markdown",
   "id": "87d70732",
   "metadata": {},
   "source": [
    "# Ques 3\n",
    "\n",
    "\n"
   ]
  },
  {
   "cell_type": "code",
   "execution_count": 11,
   "id": "a22f7bfb",
   "metadata": {},
   "outputs": [],
   "source": [
    "def validMountainArray(arr):\n",
    "    n = len(arr)\n",
    "    if n < 3:\n",
    "        return False\n",
    "\n",
    "    left = 0\n",
    "    right = n - 1\n",
    "\n",
    "    while left < right:\n",
    "        if arr[left] < arr[left + 1]:\n",
    "            left += 1\n",
    "        elif arr[right] < arr[right - 1]:\n",
    "            right -= 1\n",
    "        else:\n",
    "            break\n",
    "\n",
    "    return left == right and left != 0 and right != n - 1\n"
   ]
  },
  {
   "cell_type": "markdown",
   "id": "5a5d3b41",
   "metadata": {},
   "source": [
    "# Ques 4\n",
    "\n"
   ]
  },
  {
   "cell_type": "code",
   "execution_count": 12,
   "id": "d03fafeb",
   "metadata": {},
   "outputs": [],
   "source": [
    "def findMaxLength(nums):\n",
    "    max_length = 0\n",
    "    count = 0\n",
    "    prefix_sums = {0: -1}  # Initialize with count 0 at index -1\n",
    "\n",
    "    for i in range(len(nums)):\n",
    "        if nums[i] == 1:\n",
    "            count += 1\n",
    "        else:\n",
    "            count -= 1\n",
    "\n",
    "        if count == 0:\n",
    "            max_length = max(max_length, i + 1)\n",
    "        elif count in prefix_sums:\n",
    "            max_length = max(max_length, i - prefix_sums[count])\n",
    "\n",
    "        if count not in prefix_sums:\n",
    "            prefix_sums[count] = i\n",
    "\n",
    "    return max_length\n"
   ]
  },
  {
   "cell_type": "markdown",
   "id": "023f0137",
   "metadata": {},
   "source": [
    "# Ques 5\n"
   ]
  },
  {
   "cell_type": "code",
   "execution_count": 13,
   "id": "37e6093f",
   "metadata": {},
   "outputs": [],
   "source": [
    "def minProductSum(nums1, nums2):\n",
    "    nums1.sort()\n",
    "    nums2.sort(reverse=True)\n",
    "\n",
    "    min_product_sum = 0\n",
    "    for i in range(len(nums1)):\n",
    "        min_product_sum += nums1[i] * nums2[i]\n",
    "\n",
    "    return min_product_sum\n"
   ]
  },
  {
   "cell_type": "markdown",
   "id": "c6b97405",
   "metadata": {},
   "source": [
    "# Ques 6\n"
   ]
  },
  {
   "cell_type": "code",
   "execution_count": 14,
   "id": "f1dab1e8",
   "metadata": {},
   "outputs": [],
   "source": [
    "def findOriginalArray(changed):\n",
    "    doubles = set(changed)\n",
    "    original = []\n",
    "\n",
    "    for num in changed:\n",
    "        half = num // 2\n",
    "        if half in doubles:\n",
    "            doubles.remove(half)\n",
    "        else:\n",
    "            return []\n",
    "\n",
    "    return original if not doubles else []\n"
   ]
  },
  {
   "cell_type": "markdown",
   "id": "93175276",
   "metadata": {},
   "source": [
    "# Ques 7\n",
    "\n"
   ]
  },
  {
   "cell_type": "code",
   "execution_count": 15,
   "id": "f5074bf0",
   "metadata": {},
   "outputs": [],
   "source": [
    "def spiral_Matrix(n):\n",
    "    result = [[0] * n for _ in range(n)]\n",
    "    rowStart, rowEnd = 0, n - 1\n",
    "    colStart, colEnd = 0, n - 1\n",
    "    num = 1\n",
    "\n",
    "    while num <= n * n and rowStart <= rowEnd and colStart <= colEnd:\n",
    "        # Top row\n",
    "        for j in range(colStart, colEnd + 1):\n",
    "            result[rowStart][j] = num\n",
    "            num += 1\n",
    "        rowStart += 1\n",
    "\n",
    "        # Right column\n",
    "        for i in range(rowStart, rowEnd + 1):\n",
    "            result[i][colEnd] = num\n",
    "            num += 1\n",
    "        colEnd -= 1\n",
    "\n",
    "        # Bottom row\n",
    "        if rowStart <= rowEnd:\n",
    "            for j in range(colEnd, colStart - 1, -1):\n",
    "                result[rowEnd][j] = num\n",
    "                num += 1\n",
    "            rowEnd -= 1\n",
    "\n",
    "        # Left column\n",
    "        if colStart <= colEnd:\n",
    "            for i in range(rowEnd, rowStart - 1, -1):\n",
    "                result[i][colStart] = num\n",
    "                num += 1\n",
    "            colStart += 1\n",
    "\n",
    "    return result\n"
   ]
  },
  {
   "cell_type": "markdown",
   "id": "0e704234",
   "metadata": {},
   "source": [
    "# Ques 8\n"
   ]
  },
  {
   "cell_type": "code",
   "execution_count": null,
   "id": "37d3a534",
   "metadata": {},
   "outputs": [],
   "source": [
    "def multiplySparseMatrices(mat1, mat2):\n",
    "    m, k = len(mat1), len(mat1[0])\n",
    "    n = len(mat2[0])\n",
    "    result = [[0] * n for _ in range(m)]\n",
    "    \n",
    "    for i in range(m):\n",
    "        for j in range(n):\n",
    "            for l in range(k):\n",
    "                if mat1[i][l] != 0 and mat2[l][j] != 0:\n",
    "                    result[i][j] += mat1[i][l] * mat2[l][j]\n",
    "    \n",
    "    return result\n"
   ]
  }
 ],
 "metadata": {
  "kernelspec": {
   "display_name": "Python 3 (ipykernel)",
   "language": "python",
   "name": "python3"
  },
  "language_info": {
   "codemirror_mode": {
    "name": "ipython",
    "version": 3
   },
   "file_extension": ".py",
   "mimetype": "text/x-python",
   "name": "python",
   "nbconvert_exporter": "python",
   "pygments_lexer": "ipython3",
   "version": "3.9.13"
  }
 },
 "nbformat": 4,
 "nbformat_minor": 5
}
