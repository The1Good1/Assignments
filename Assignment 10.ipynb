{
 "cells": [
  {
   "cell_type": "markdown",
   "id": "12621796",
   "metadata": {},
   "source": [
    "# Ques1:"
   ]
  },
  {
   "cell_type": "markdown",
   "id": "bc511017",
   "metadata": {},
   "source": [
    "How do you distinguish between shutil.copy() and shutil.copytree()?\n",
    "\n",
    "The shutil.copy() function is used to copy a single file from one location to another, while shutil.copytree() is used to copy an entire directory tree from one location to another, including all of its files and subdirectories."
   ]
  },
  {
   "cell_type": "markdown",
   "id": "4aa9294d",
   "metadata": {},
   "source": [
    "# Ques 2:"
   ]
  },
  {
   "cell_type": "markdown",
   "id": "d3bd4588",
   "metadata": {},
   "source": [
    "What function is used to rename files??\n",
    "\n",
    "The os.rename() function is commonly used to rename files in Python. This function takes two arguments: the original file name, and the new file name. For example, to rename a file named \"oldfile.txt\" to \"newfile.txt\", we would use the following code:"
   ]
  },
  {
   "cell_type": "code",
   "execution_count": null,
   "id": "66b5f9a1",
   "metadata": {},
   "outputs": [],
   "source": [
    "import os\n",
    "os.rename(\"oldfile.txt\", \"newfile.txt\")\n"
   ]
  },
  {
   "cell_type": "markdown",
   "id": "ededd26e",
   "metadata": {},
   "source": [
    "# Ques 3:"
   ]
  },
  {
   "cell_type": "markdown",
   "id": "b6a0d1cd",
   "metadata": {},
   "source": [
    "What is the difference between the delete functions in the send2trash and shutil modules?\n",
    "\n",
    "The send2trash module moves files to the operating system's trash or recycle bin instead of deleting them permanently, while the shutil module's rmtree() function deletes entire directories and their contents permanently. This means that if we use send2trash, we can recover the deleted files from the trash or recycle bin if we need to, but if we use shutil.rmtree(), the files will be gone forever."
   ]
  },
  {
   "cell_type": "markdown",
   "id": "c06138bc",
   "metadata": {},
   "source": [
    "# Ques 4:"
   ]
  },
  {
   "cell_type": "markdown",
   "id": "3a51748b",
   "metadata": {},
   "source": [
    "ZipFile objects have a close() method just like File objects’ close() method. What ZipFile method is\n",
    "equivalent to File objects’ open() method?\n",
    "\n",
    "\n",
    "The ZipFile method that is equivalent to the open() method of File objects is the ZipFile() method. This method is used to open a ZIP archive file and return a ZipFile object, which can then be used to manipulate the contents of the archive."
   ]
  },
  {
   "cell_type": "markdown",
   "id": "36f2414a",
   "metadata": {},
   "source": [
    "# Ques 5:"
   ]
  },
  {
   "cell_type": "markdown",
   "id": "efead8d2",
   "metadata": {},
   "source": [
    "Create a programme that searches a folder tree for files with a certain file extension (such as .pdf\n",
    "or .jpg). Copy these files from whatever location they are in to a new folder."
   ]
  },
  {
   "cell_type": "code",
   "execution_count": null,
   "id": "690f9b33",
   "metadata": {},
   "outputs": [],
   "source": [
    "import os\n",
    "import shutil\n",
    "\n",
    "# Define the search directory\n",
    "search_directory = \"/path/to/search/directory\"\n",
    "\n",
    "# Define the destination directory\n",
    "destination_directory = \"/path/to/destination/directory\"\n",
    "\n",
    "# Define the file extension to search for\n",
    "file_extension = \".pdf\"\n",
    "\n",
    "# Create the destination directory if it does not exist\n",
    "if not os.path.exists(destination_directory):\n",
    "    os.makedirs(destination_directory)\n",
    "\n",
    "# Traverse the directory tree and copy the matching files to the destination directory\n",
    "for root, dirs, files in os.walk(search_directory):\n",
    "    for file in files:\n",
    "        if file.endswith(file_extension):\n",
    "            source_file_path = os.path.join(root, file)\n",
    "            destination_file_path = os.path.join(destination_directory, file)\n",
    "            shutil.copy(source_file_path, destination_file_path)\n",
    "            print(f\"Copied {file} from {source_file_path} to {destination_file_path}\")\n",
    "\n"
   ]
  }
 ],
 "metadata": {
  "kernelspec": {
   "display_name": "Python 3 (ipykernel)",
   "language": "python",
   "name": "python3"
  },
  "language_info": {
   "codemirror_mode": {
    "name": "ipython",
    "version": 3
   },
   "file_extension": ".py",
   "mimetype": "text/x-python",
   "name": "python",
   "nbconvert_exporter": "python",
   "pygments_lexer": "ipython3",
   "version": "3.9.13"
  }
 },
 "nbformat": 4,
 "nbformat_minor": 5
}
