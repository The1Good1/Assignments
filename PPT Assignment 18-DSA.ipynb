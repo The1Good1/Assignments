{
 "cells": [
  {
   "cell_type": "markdown",
   "id": "4e864a43",
   "metadata": {},
   "source": [
    "# Ques 1 \n",
    "\n"
   ]
  },
  {
   "cell_type": "code",
   "execution_count": null,
   "id": "ec9ef308",
   "metadata": {},
   "outputs": [],
   "source": [
    "def merge(intervals):\n",
    "    if not intervals:\n",
    "        return []\n",
    "    \n",
    "    intervals.sort(key=lambda x: x[0])\n",
    "    merged = [intervals[0]]\n",
    "    \n",
    "    for interval in intervals[1:]:\n",
    "        if interval[0] <= merged[-1][1]:\n",
    "            merged[-1][1] = max(merged[-1][1], interval[1])\n",
    "        else:\n",
    "            merged.append(interval)\n",
    "    \n",
    "    return merged\n"
   ]
  },
  {
   "cell_type": "markdown",
   "id": "be9e9310",
   "metadata": {},
   "source": [
    "# Ques 2\n",
    "\n"
   ]
  },
  {
   "cell_type": "code",
   "execution_count": 10,
   "id": "3cfc3e87",
   "metadata": {},
   "outputs": [],
   "source": [
    "def sortColors(nums):\n",
    "    left = 0\n",
    "    right = len(nums) - 1\n",
    "    current = 0\n",
    "    \n",
    "    while current <= right:\n",
    "        if nums[current] == 0:\n",
    "            nums[left], nums[current] = nums[current], nums[left]\n",
    "            left += 1\n",
    "            current += 1\n",
    "        elif nums[current] == 2:\n",
    "            nums[right], nums[current] = nums[current], nums[right]\n",
    "            right -= 1\n",
    "        else:\n",
    "            current += 1\n"
   ]
  },
  {
   "cell_type": "markdown",
   "id": "87d70732",
   "metadata": {},
   "source": [
    "# Ques 3\n",
    "\n",
    "\n"
   ]
  },
  {
   "cell_type": "code",
   "execution_count": 11,
   "id": "a22f7bfb",
   "metadata": {},
   "outputs": [],
   "source": [
    "def firstBadVersion(n):\n",
    "    left = 1\n",
    "    right = n\n",
    "    \n",
    "    while left < right:\n",
    "        mid = left + (right - left) // 2\n",
    "        if isBadVersion(mid):\n",
    "            right = mid\n",
    "        else:\n",
    "            left = mid + 1\n",
    "    \n",
    "    return left\n"
   ]
  },
  {
   "cell_type": "markdown",
   "id": "1524f83a",
   "metadata": {},
   "source": [
    "# Ques 4\n",
    "\n"
   ]
  },
  {
   "cell_type": "code",
   "execution_count": null,
   "id": "d43cdac7",
   "metadata": {},
   "outputs": [],
   "source": [
    "def maximumGap(nums):\n",
    "    if len(nums) < 2:\n",
    "        return 0\n",
    "    \n",
    "    # Perform radix sort\n",
    "    radixSort(nums)\n",
    "    \n",
    "    maxGap = 0\n",
    "    for i in range(1, len(nums)):\n",
    "        maxGap = max(maxGap, nums[i] - nums[i - 1])\n",
    "    \n",
    "    return maxGap\n",
    "\n",
    "def radixSort(nums):\n",
    "    # Find the maximum element in the array\n",
    "    maxValue = max(nums)\n",
    "    \n",
    "    # Perform radix sort using counting sort as the stable sort\n",
    "    exp = 1\n",
    "    while maxValue // exp > 0:\n",
    "        countingSort(nums, exp)\n",
    "        exp *= 10\n",
    "\n",
    "def countingSort(nums, exp):\n",
    "    n = len(nums)\n",
    "    output = [0] * n\n",
    "    count = [0] * 10\n",
    "    \n",
    "    # Count the frequency of digits at the current exponent\n",
    "    for num in nums:\n",
    "        count[(num // exp) % 10] += 1\n",
    "    \n",
    "    # Calculate the cumulative count\n",
    "    for i in range(1, 10):\n",
    "        count[i] += count[i - 1]\n",
    "    \n",
    "    # Build the sorted output array\n",
    "    for i in range(n - 1, -1, -1):\n",
    "        digit = (nums[i] // exp) % 10\n",
    "        output[count[digit] - 1] = nums[i]\n",
    "        count[digit] -= 1\n",
    "    \n",
    "    # Copy the sorted output array back to the input array\n",
    "    for i in range(n):\n",
    "        nums[i] = output[i]\n"
   ]
  },
  {
   "cell_type": "code",
   "execution_count": null,
   "id": "104adeea",
   "metadata": {},
   "outputs": [],
   "source": []
  },
  {
   "cell_type": "markdown",
   "id": "352bc259",
   "metadata": {},
   "source": [
    "# Ques 5\n",
    "\n"
   ]
  },
  {
   "cell_type": "code",
   "execution_count": null,
   "id": "800c9d71",
   "metadata": {},
   "outputs": [],
   "source": [
    "def containsDuplicate(nums):\n",
    "    seen = set()\n",
    "    \n",
    "    for num in nums:\n",
    "        if num in seen:\n",
    "            return True\n",
    "        seen.add(num)\n",
    "    \n",
    "    return False\n"
   ]
  },
  {
   "cell_type": "markdown",
   "id": "623d67fe",
   "metadata": {},
   "source": [
    "# Ques 6\n",
    "\n"
   ]
  },
  {
   "cell_type": "code",
   "execution_count": null,
   "id": "a0d03d9f",
   "metadata": {},
   "outputs": [],
   "source": [
    "def findMinArrowShots(points):\n",
    "    if not points:\n",
    "        return 0\n",
    "    \n",
    "    points.sort(key=lambda x: x[1])\n",
    "    arrows = 1\n",
    "    end = points[0][1]\n",
    "    \n",
    "    for i in range(1, len(points)):\n",
    "        if points[i][0] > end:\n",
    "            arrows += 1\n",
    "            end = points[i][1]\n",
    "    \n",
    "    return arrows\n"
   ]
  },
  {
   "cell_type": "markdown",
   "id": "09e2ff76",
   "metadata": {},
   "source": [
    "# Ques 7\n",
    "\n"
   ]
  },
  {
   "cell_type": "code",
   "execution_count": null,
   "id": "ba16dfdd",
   "metadata": {},
   "outputs": [],
   "source": [
    "def lengthOfLIS(nums):\n",
    "    if not nums:\n",
    "        return 0\n",
    "    \n",
    "    dp = [1] * len(nums)\n",
    "    \n",
    "    for i in range(1, len(nums)):\n",
    "        for j in range(i):\n",
    "            if nums[i] > nums[j]:\n",
    "                dp[i] = max(dp[i], dp[j] + 1)\n",
    "    \n",
    "    return max(dp)\n"
   ]
  },
  {
   "cell_type": "markdown",
   "id": "9926bfe0",
   "metadata": {},
   "source": [
    "# Ques 8\n",
    "\n"
   ]
  },
  {
   "cell_type": "code",
   "execution_count": 12,
   "id": "d03fafeb",
   "metadata": {},
   "outputs": [],
   "source": [
    "def find132pattern(nums):\n",
    "    stack = []\n",
    "    num3 = float('-inf')\n",
    "    \n",
    "    for i in range(len(nums) - 1, -1, -1):\n",
    "        if nums[i] < num3:\n",
    "            return True\n",
    "        while stack and stack[-1] < nums[i]:\n",
    "            num3 = stack.pop()\n",
    "        stack.append(nums[i])\n",
    "    \n",
    "    return False\n"
   ]
  }
 ],
 "metadata": {
  "kernelspec": {
   "display_name": "Python 3 (ipykernel)",
   "language": "python",
   "name": "python3"
  },
  "language_info": {
   "codemirror_mode": {
    "name": "ipython",
    "version": 3
   },
   "file_extension": ".py",
   "mimetype": "text/x-python",
   "name": "python",
   "nbconvert_exporter": "python",
   "pygments_lexer": "ipython3",
   "version": "3.9.13"
  }
 },
 "nbformat": 4,
 "nbformat_minor": 5
}
