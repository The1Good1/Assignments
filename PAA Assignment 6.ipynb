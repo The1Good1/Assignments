{
 "cells": [
  {
   "cell_type": "markdown",
   "id": "189082e9",
   "metadata": {},
   "source": [
    "# Ques 1\n",
    "Describe three applications for exception processing.\n",
    "\n",
    "Error handling: Exception processing is commonly used to handle errors and unexpected conditions in a program. When an error occurs, an exception is raised, and we can write code to handle that exception gracefully. This helps prevent your program from crashing and allows us to provide informative error messages to users.\n",
    "\n",
    "Input validation: Exceptions can be used to validate user input and handle cases where the input does not meet certain requirements. For example, if we expect an integer input but receive a string, we can raise a ValueError exception and prompt the user to enter a valid integer.\n",
    "\n",
    "Resource management: Exception processing can be used for proper resource management, such as closing files or releasing system resources. By catching exceptions, we can ensure that resources are properly cleaned up, even if an error occurs during their use.\n"
   ]
  },
  {
   "cell_type": "markdown",
   "id": "fc934233",
   "metadata": {},
   "source": [
    "# Ques 2\n",
    "What happens if you don't do something extra to treat an exception?\n",
    "\n",
    "If we don't handle or treat an exception, it will propagate up the call stack until it reaches the top-level of your program or until it is caught and handled by an exception handler. When an unhandled exception reaches the top-level, the program will terminate abruptly, and an error message or stack trace will be displayed, indicating the details of the exception that occurred."
   ]
  },
  {
   "cell_type": "markdown",
   "id": "d3b84716",
   "metadata": {},
   "source": [
    "# Ques 3\n",
    "\n",
    "What are your options for recovering from an exception in your script?\n",
    "\n",
    "When an exception occurs, we have several options for recovering from it in your script:\n",
    "\n",
    "1. Handling the exception: We can use a try-except block to catch and handle specific exceptions. Inside the except block, we can write code to handle the exception, such as logging an error message, retrying the operation, or taking an alternative course of action.\n",
    "\n",
    "2. Raising a different exception: If you catch an exception but cannot handle it appropriately, we can raise a different exception using the raise statement. This allows us to customize the error message or propagate a more specific exception type.\n",
    "\n",
    "3. Graceful program termination: If the exception is severe and cannot be recovered from within the script, we can choose to terminate the program gracefully by allowing the exception to propagate up the call stack without catching it. This will display an error message and stop the program execution."
   ]
  },
  {
   "cell_type": "markdown",
   "id": "53d95e92",
   "metadata": {},
   "source": [
    "# Ques 4\n",
    "Describe two methods for triggering exceptions in your script.\n",
    "\n",
    "1. Explicitly raising an exception: We can trigger an exception at any point in our script by using the raise statement followed by an exception type. For example, raise ValueError(\"Invalid input\") raises a ValueError exception with a specific error message.\n",
    "\n",
    "2. Invoking a function or method that raises an exception: We can call a function or method that is designed to raise exceptions based on certain conditions. For instance, the open() function in Python raises a FileNotFoundError if the specified file does not exist."
   ]
  },
  {
   "cell_type": "markdown",
   "id": "e7012bb4",
   "metadata": {},
   "source": [
    "# Ques 5\n",
    "\n",
    "Identify two methods for specifying actions to be executed at termination time, regardless of\n",
    "whether or not an exception exists.\n",
    "\n",
    "1. Using the finally block: The finally block is a part of the try-except statement. It allows us to specify a block of code that will be executed regardless of whether an exception was raised or not. This is useful for releasing resources or performing cleanup operations that need to be done irrespective of the exception.\n",
    "\n",
    "2. Context managers with the with statement: The with statement provides a way to define a context within which resources are managed. Objects that implement the context management protocol can define __enter__ and __exit__ methods, where we can specify actions to be executed at the beginning and end of the block. The __exit__ method is guaranteed to be called, even if an exception occurs within the block, allowing us to perform cleanup operations reliably."
   ]
  }
 ],
 "metadata": {
  "kernelspec": {
   "display_name": "Python 3 (ipykernel)",
   "language": "python",
   "name": "python3"
  },
  "language_info": {
   "codemirror_mode": {
    "name": "ipython",
    "version": 3
   },
   "file_extension": ".py",
   "mimetype": "text/x-python",
   "name": "python",
   "nbconvert_exporter": "python",
   "pygments_lexer": "ipython3",
   "version": "3.9.13"
  }
 },
 "nbformat": 4,
 "nbformat_minor": 5
}
