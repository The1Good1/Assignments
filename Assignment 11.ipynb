{
 "cells": [
  {
   "cell_type": "markdown",
   "id": "82b7685a",
   "metadata": {},
   "source": [
    "# Ques1:"
   ]
  },
  {
   "cell_type": "markdown",
   "id": "6e9ed95d",
   "metadata": {},
   "source": [
    "Create an assert statement that throws an AssertionError if the variable spam is a negative\n",
    "integer.\n"
   ]
  },
  {
   "cell_type": "code",
   "execution_count": null,
   "id": "5c5c1531",
   "metadata": {},
   "outputs": [],
   "source": [
    "assert spam >= 0, \"spam should be a non-negative integer\""
   ]
  },
  {
   "cell_type": "markdown",
   "id": "1e3047b9",
   "metadata": {},
   "source": [
    "# Ques 2:"
   ]
  },
  {
   "cell_type": "markdown",
   "id": "a1f19384",
   "metadata": {},
   "source": [
    "Write an assert statement that triggers an AssertionError if the variables eggs and bacon contain\n",
    "strings that are the same as each other, even if their cases are different (that is, 'hello' and 'hello' are\n",
    "considered the same, and 'goodbye' and 'GOODbye' are also considered the same).\n"
   ]
  },
  {
   "cell_type": "code",
   "execution_count": null,
   "id": "8f51df38",
   "metadata": {},
   "outputs": [],
   "source": [
    "assert eggs.lower() != bacon.lower(), \"eggs and bacon should not be the same\""
   ]
  },
  {
   "cell_type": "markdown",
   "id": "2f7c076c",
   "metadata": {},
   "source": [
    "# Ques 3:"
   ]
  },
  {
   "cell_type": "markdown",
   "id": "63e732c3",
   "metadata": {},
   "source": [
    "Create an assert statement that throws an AssertionError every time.\n"
   ]
  },
  {
   "cell_type": "code",
   "execution_count": null,
   "id": "71892fce",
   "metadata": {},
   "outputs": [],
   "source": [
    "assert False, \"This assert statement always throws an AssertionError\""
   ]
  },
  {
   "cell_type": "markdown",
   "id": "fde9d5cc",
   "metadata": {},
   "source": [
    "# Ques 4:"
   ]
  },
  {
   "cell_type": "markdown",
   "id": "e19f38ea",
   "metadata": {},
   "source": [
    "What are the two lines that must be present in your software in order to call logging.debug()?\n"
   ]
  },
  {
   "cell_type": "code",
   "execution_count": null,
   "id": "90f0a89b",
   "metadata": {},
   "outputs": [],
   "source": [
    "import logging\n",
    "logging.basicConfig(level=logging.DEBUG, format='%(asctime)s - %(levelname)s - %(message)s')\n"
   ]
  },
  {
   "cell_type": "markdown",
   "id": "64e479ff",
   "metadata": {},
   "source": [
    "# Ques 5:"
   ]
  },
  {
   "cell_type": "markdown",
   "id": "c5b285c3",
   "metadata": {},
   "source": [
    "What are the two lines that your program must have in order to have logging.debug() send a\n",
    "logging message to a file named programLog.txt?\n"
   ]
  },
  {
   "cell_type": "code",
   "execution_count": null,
   "id": "d0ef3e91",
   "metadata": {},
   "outputs": [],
   "source": [
    "import logging\n",
    "logging.basicConfig(filename='programLog.txt', level=logging.DEBUG, format='%(asctime)s - %(levelname)s - %(message)s')\n"
   ]
  },
  {
   "cell_type": "markdown",
   "id": "d86ba32f",
   "metadata": {},
   "source": [
    "# Ques 6:"
   ]
  },
  {
   "cell_type": "markdown",
   "id": "debc92c8",
   "metadata": {},
   "source": [
    "What are the five levels of logging?\n",
    "\n",
    "The five levels of logging are: DEBUG, INFO, WARNING, ERROR, and CRITICAL.\n"
   ]
  },
  {
   "cell_type": "markdown",
   "id": "cecbab57",
   "metadata": {},
   "source": [
    "# Ques 7:"
   ]
  },
  {
   "cell_type": "markdown",
   "id": "dbfac477",
   "metadata": {},
   "source": [
    "What line of code would you add to your software to disable all logging messages?\n"
   ]
  },
  {
   "cell_type": "code",
   "execution_count": null,
   "id": "05675c7b",
   "metadata": {},
   "outputs": [],
   "source": [
    "logging.disable(logging.CRITICAL)"
   ]
  },
  {
   "cell_type": "markdown",
   "id": "89ad3dd1",
   "metadata": {},
   "source": [
    "# Ques 8:"
   ]
  },
  {
   "cell_type": "markdown",
   "id": "9e0417dc",
   "metadata": {},
   "source": [
    "Why is using logging messages better than using print() to display the same message?\n",
    "\n",
    "Using logging messages is better than using print() to display the same message because logging messages can be easily controlled and disabled as needed, and they can also be written to files or other destinations in addition to the console."
   ]
  },
  {
   "cell_type": "markdown",
   "id": "0a8d0a0c",
   "metadata": {},
   "source": [
    "# Ques 9:"
   ]
  },
  {
   "cell_type": "markdown",
   "id": "a1f2e804",
   "metadata": {},
   "source": [
    "What are the differences between the Step Over, Step In, and Step Out buttons in the debugger?\n",
    "\n",
    "The Step Over button allows us to execute the current line of code and then move to the next line, while Step In allows us to move to the next line of code and enter into any function calls on that line. Step Out allows us to execute the remaining lines in the current function and return to the calling function."
   ]
  },
  {
   "cell_type": "markdown",
   "id": "5089a475",
   "metadata": {},
   "source": [
    "# Ques 10:"
   ]
  },
  {
   "cell_type": "markdown",
   "id": "3cc4cccb",
   "metadata": {},
   "source": [
    "After you click Continue, when will the debugger stop ?\n",
    "\n",
    "The debugger will stop again when it reaches another breakpoint or encounters an unhandled exception."
   ]
  },
  {
   "cell_type": "markdown",
   "id": "4b41f1fa",
   "metadata": {},
   "source": [
    "# Ques 11:"
   ]
  },
  {
   "cell_type": "markdown",
   "id": "9b86a187",
   "metadata": {},
   "source": [
    "What is the concept of a breakpoint?\n",
    "\n",
    "A breakpoint is a point in our code where the debugger will pause execution so that we can examine the program state and step through the code line by line. We can set breakpoints at specific lines of code in your program using your IDE's debugger tools."
   ]
  },
  {
   "cell_type": "code",
   "execution_count": null,
   "id": "226f1aa5",
   "metadata": {},
   "outputs": [],
   "source": []
  }
 ],
 "metadata": {
  "kernelspec": {
   "display_name": "Python 3 (ipykernel)",
   "language": "python",
   "name": "python3"
  },
  "language_info": {
   "codemirror_mode": {
    "name": "ipython",
    "version": 3
   },
   "file_extension": ".py",
   "mimetype": "text/x-python",
   "name": "python",
   "nbconvert_exporter": "python",
   "pygments_lexer": "ipython3",
   "version": "3.9.13"
  }
 },
 "nbformat": 4,
 "nbformat_minor": 5
}
