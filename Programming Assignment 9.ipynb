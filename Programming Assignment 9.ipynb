{
 "cells": [
  {
   "cell_type": "markdown",
   "id": "bcf39788",
   "metadata": {},
   "source": [
    "# Ques 1\n",
    "\n",
    "1. Write a Python program to check if the given number is a Disarium Number?\n"
   ]
  },
  {
   "cell_type": "code",
   "execution_count": 44,
   "id": "f0ecf669",
   "metadata": {},
   "outputs": [
    {
     "name": "stdout",
     "output_type": "stream",
     "text": [
      "Enter a number: 34\n",
      "34 is not a Disarium Number\n"
     ]
    }
   ],
   "source": [
    "def is_disarium_number(num):\n",
    "    digit_count = len(str(num))\n",
    "    temp = num\n",
    "    sum = 0\n",
    "\n",
    "    while temp > 0:\n",
    "        digit = temp % 10\n",
    "        sum += digit ** digit_count\n",
    "        temp //= 10\n",
    "        digit_count -= 1\n",
    "\n",
    "    return num == sum\n",
    "\n",
    "\n",
    "# Input number\n",
    "number = int(input(\"Enter a number: \"))\n",
    "\n",
    "# Check if the number is a Disarium Number\n",
    "if is_disarium_number(number):\n",
    "    print(number, \"is a Disarium Number\")\n",
    "else:\n",
    "    print(number, \"is not a Disarium Number\")\n"
   ]
  },
  {
   "cell_type": "markdown",
   "id": "79fd765d",
   "metadata": {},
   "source": [
    "# Ques 2\n",
    "\n",
    "2. Write a Python program to print all disarium numbers between 1 to 100?\n"
   ]
  },
  {
   "cell_type": "code",
   "execution_count": 45,
   "id": "f6c6ce04",
   "metadata": {},
   "outputs": [
    {
     "name": "stdout",
     "output_type": "stream",
     "text": [
      "Disarium Numbers between 1 and 100:\n",
      "1\n",
      "2\n",
      "3\n",
      "4\n",
      "5\n",
      "6\n",
      "7\n",
      "8\n",
      "9\n",
      "89\n"
     ]
    }
   ],
   "source": [
    "def is_disarium_number(num):\n",
    "    digit_count = len(str(num))\n",
    "    temp = num\n",
    "    sum = 0\n",
    "\n",
    "    while temp > 0:\n",
    "        digit = temp % 10\n",
    "        sum += digit ** digit_count\n",
    "        temp //= 10\n",
    "        digit_count -= 1\n",
    "\n",
    "    return num == sum\n",
    "\n",
    "\n",
    "# Find and print all Disarium Numbers between 1 and 100\n",
    "print(\"Disarium Numbers between 1 and 100:\")\n",
    "for number in range(1, 101):\n",
    "    if is_disarium_number(number):\n",
    "        print(number)\n"
   ]
  },
  {
   "cell_type": "markdown",
   "id": "7d7e666c",
   "metadata": {},
   "source": [
    "# Ques 3\n",
    "\n",
    "3. Write a Python program to check if the given number is Happy Number?\n"
   ]
  },
  {
   "cell_type": "code",
   "execution_count": null,
   "id": "c17ae8be",
   "metadata": {},
   "outputs": [],
   "source": [
    "def is_happy_number(num):\n",
    "    visited = set()\n",
    "\n",
    "    while num != 1:\n",
    "        num = sum(int(digit) ** 2 for digit in str(num))\n",
    "\n",
    "        if num in visited:\n",
    "            return False\n",
    "\n",
    "        visited.add(num)\n",
    "\n",
    "    return True\n",
    "\n",
    "\n",
    "# Input number\n",
    "number = int(input(\"Enter a number: \"))\n",
    "\n",
    "# Check if the number is a Happy Number\n",
    "if is_happy_number(number):\n",
    "    print(number, \"is a Happy Number\")\n",
    "else:\n",
    "    print(number, \"is not a Happy Number\")\n"
   ]
  },
  {
   "cell_type": "markdown",
   "id": "4a51f7c2",
   "metadata": {},
   "source": [
    "# Ques 4\n",
    "\n",
    "\n",
    "4. Write a Python program to print all happy numbers between 1 and 100?\n"
   ]
  },
  {
   "cell_type": "code",
   "execution_count": null,
   "id": "ded4a2d3",
   "metadata": {},
   "outputs": [],
   "source": [
    "def is_happy_number(num):\n",
    "    visited = set()\n",
    "\n",
    "    while num != 1:\n",
    "        num = sum(int(digit) ** 2 for digit in str(num))\n",
    "\n",
    "        if num in visited:\n",
    "            return False\n",
    "\n",
    "        visited.add(num)\n",
    "\n",
    "    return True\n",
    "\n",
    "\n",
    "# Find and print all Happy Numbers between 1 and 100\n",
    "print(\"Happy Numbers between 1 and 100:\")\n",
    "for number in range(1, 101):\n",
    "    if is_happy_number(number):\n",
    "        print(number)\n"
   ]
  },
  {
   "cell_type": "markdown",
   "id": "180b0e27",
   "metadata": {},
   "source": [
    "# Ques 5\n",
    "\n",
    "5. Write a Python program to determine whether the given number is a Harshad Number?\n"
   ]
  },
  {
   "cell_type": "code",
   "execution_count": null,
   "id": "c7333454",
   "metadata": {
    "scrolled": true
   },
   "outputs": [],
   "source": [
    "def is_harshad_number(number):\n",
    "    # Calculate the sum of digits\n",
    "    digit_sum = sum(int(digit) for digit in str(number))\n",
    "    \n",
    "    # Check if the number is divisible by the sum of its digits\n",
    "    if number % digit_sum == 0:\n",
    "        return True\n",
    "    else:\n",
    "        return False\n",
    "\n",
    "\n",
    "# Input number\n",
    "number = int(input(\"Enter a number: \"))\n",
    "\n",
    "# Check if the number is a Harshad Number\n",
    "if is_harshad_number(number):\n",
    "    print(number, \"is a Harshad Number\")\n",
    "else:\n",
    "    print(number, \"is not a Harshad Number\")\n"
   ]
  },
  {
   "cell_type": "markdown",
   "id": "9bda6174",
   "metadata": {},
   "source": [
    "# Ques 6\n",
    "\n",
    "6. Write a Python program to print all pronic numbers between 1 and 100?\n"
   ]
  },
  {
   "cell_type": "code",
   "execution_count": 59,
   "id": "ff55b07f",
   "metadata": {},
   "outputs": [
    {
     "name": "stdout",
     "output_type": "stream",
     "text": [
      "Pronic numbers between 1 and 100 :\n",
      "2\n",
      "6\n",
      "12\n",
      "20\n",
      "30\n",
      "42\n",
      "56\n",
      "72\n",
      "90\n"
     ]
    }
   ],
   "source": [
    "def print_pronic_numbers():\n",
    "    start = 1\n",
    "    end = 100\n",
    "\n",
    "    print(\"Pronic numbers between\", start, \"and\", end, \":\")\n",
    "\n",
    "    for number in range(start, end+1):\n",
    "        for i in range(1, int(number**0.5)+1):\n",
    "            if i * (i+1) == number:\n",
    "                print(number)\n",
    "                break\n",
    "\n",
    "\n",
    "# Call the function to print pronic numbers\n",
    "print_pronic_numbers()\n",
    "\n"
   ]
  },
  {
   "cell_type": "code",
   "execution_count": null,
   "id": "df899d34",
   "metadata": {},
   "outputs": [],
   "source": []
  }
 ],
 "metadata": {
  "kernelspec": {
   "display_name": "Python 3 (ipykernel)",
   "language": "python",
   "name": "python3"
  },
  "language_info": {
   "codemirror_mode": {
    "name": "ipython",
    "version": 3
   },
   "file_extension": ".py",
   "mimetype": "text/x-python",
   "name": "python",
   "nbconvert_exporter": "python",
   "pygments_lexer": "ipython3",
   "version": "3.9.13"
  }
 },
 "nbformat": 4,
 "nbformat_minor": 5
}
