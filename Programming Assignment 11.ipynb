{
 "cells": [
  {
   "cell_type": "markdown",
   "id": "8be7532e",
   "metadata": {},
   "source": [
    "# Ques 1\n",
    "\n",
    "1. Write a Python program to find words which are greater than given length k?\n"
   ]
  },
  {
   "cell_type": "code",
   "execution_count": 80,
   "id": "f6d92837",
   "metadata": {},
   "outputs": [
    {
     "name": "stdout",
     "output_type": "stream",
     "text": [
      "Enter a sentence: Say hello to world\n",
      "Enter the length threshold: 3\n",
      "Words greater than length 3 : ['hello', 'world']\n"
     ]
    }
   ],
   "source": [
    "def find_long_words(sentence, k):\n",
    "    words = sentence.split()\n",
    "    long_words = [word for word in words if len(word) > k]\n",
    "    return long_words\n",
    "\n",
    "sentence = input(\"Enter a sentence: \")\n",
    "k = int(input(\"Enter the length threshold: \"))\n",
    "\n",
    "# Find and print the long words\n",
    "result = find_long_words(sentence, k)\n",
    "print(\"Words greater than length\", k, \":\", result)\n"
   ]
  },
  {
   "cell_type": "markdown",
   "id": "44a63157",
   "metadata": {},
   "source": [
    "# Ques 2\n",
    "2. Write a Python program for removing i-th character from a string?\n"
   ]
  },
  {
   "cell_type": "code",
   "execution_count": 82,
   "id": "8963113b",
   "metadata": {},
   "outputs": [
    {
     "name": "stdout",
     "output_type": "stream",
     "text": [
      "Enter a string: Python program for removing i-th character from\n",
      "Enter the index of the character to remove: 5\n",
      "String after removing character at index 5 : Pytho program for removing i-th character from\n"
     ]
    }
   ],
   "source": [
    "def remove_character(string, i):\n",
    "    new_string = string[:i] + string[i+1:]\n",
    "    return new_string\n",
    "\n",
    "\n",
    "string = input(\"Enter a string: \")\n",
    "i = int(input(\"Enter the index of the character to remove: \"))\n",
    "\n",
    "# Remove the character and print the result\n",
    "result = remove_character(string, i)\n",
    "print(\"String after removing character at index\", i, \":\", result)\n"
   ]
  },
  {
   "cell_type": "markdown",
   "id": "19489e25",
   "metadata": {},
   "source": [
    "# Ques 3\n",
    "\n",
    "3. Write a Python program to split and join a string?\n"
   ]
  },
  {
   "cell_type": "code",
   "execution_count": 84,
   "id": "58b7b227",
   "metadata": {},
   "outputs": [
    {
     "name": "stdout",
     "output_type": "stream",
     "text": [
      "Enter a string: hello to the world \n",
      "Enter the delimiter to split the string: 2\n",
      "Joined string: hello to the world \n"
     ]
    }
   ],
   "source": [
    "def split_and_join(string, delimiter):\n",
    "    words = string.split(delimiter)\n",
    "    new_string = \"-\".join(words)\n",
    "    return new_string\n",
    "\n",
    "# Take input from the user\n",
    "string = input(\"Enter a string: \")\n",
    "delimiter = input(\"Enter the delimiter to split the string: \")\n",
    "\n",
    "# Split, join, and print the result\n",
    "result = split_and_join(string, delimiter)\n",
    "print(\"Joined string:\", result)\n"
   ]
  },
  {
   "cell_type": "markdown",
   "id": "39e7d64b",
   "metadata": {},
   "source": [
    "# Ques 4\n",
    "\n",
    "4. Write a Python to check if a given string is binary string or not?\n",
    "\n"
   ]
  },
  {
   "cell_type": "code",
   "execution_count": 76,
   "id": "5285d8e1",
   "metadata": {},
   "outputs": [
    {
     "name": "stdout",
     "output_type": "stream",
     "text": [
      "Is the string a binary string? True\n"
     ]
    }
   ],
   "source": [
    "def is_binary_string(string):\n",
    "    for char in string:\n",
    "        if char != '0' and char != '1':\n",
    "            return False\n",
    "    return True\n",
    "\n",
    "# Test the function\n",
    "binary_string = \"101010\"\n",
    "print(\"Is the string a binary string?\", is_binary_string(binary_string))\n"
   ]
  },
  {
   "cell_type": "markdown",
   "id": "138d8e13",
   "metadata": {},
   "source": [
    "# Ques 5\n",
    "\n",
    "5. Write a Python program to find uncommon words from two Strings?\n"
   ]
  },
  {
   "cell_type": "code",
   "execution_count": 77,
   "id": "ea160e1f",
   "metadata": {},
   "outputs": [
    {
     "name": "stdout",
     "output_type": "stream",
     "text": [
      "Uncommon words:\n",
      "{'dog', 'fox', 'quick', 'lazy', 'brown'}\n"
     ]
    }
   ],
   "source": [
    "def find_uncommon_words(string1, string2):\n",
    "    words1 = set(string1.split())\n",
    "    words2 = set(string2.split())\n",
    "    uncommon_words = words1.symmetric_difference(words2)\n",
    "    return uncommon_words\n",
    "\n",
    "# Test the function\n",
    "sentence1 = \"The quick brown fox\"\n",
    "sentence2 = \"The lazy dog\"\n",
    "print(\"Uncommon words:\")\n",
    "print(find_uncommon_words(sentence1, sentence2))\n"
   ]
  },
  {
   "cell_type": "markdown",
   "id": "3b345956",
   "metadata": {},
   "source": [
    "# Ques 6\n",
    "\n",
    "6. Write a Python to find all duplicate characters in string?\n"
   ]
  },
  {
   "cell_type": "code",
   "execution_count": 78,
   "id": "8ac41ddd",
   "metadata": {},
   "outputs": [
    {
     "name": "stdout",
     "output_type": "stream",
     "text": [
      "Duplicate characters:\n",
      "['r', 'g', 'm']\n"
     ]
    }
   ],
   "source": [
    "def find_duplicate_characters(string):\n",
    "    duplicates = []\n",
    "    for char in string:\n",
    "        if string.count(char) > 1 and char not in duplicates:\n",
    "            duplicates.append(char)\n",
    "    return duplicates\n",
    "\n",
    "# Test the function\n",
    "word = \"programming\"\n",
    "print(\"Duplicate characters:\")\n",
    "print(find_duplicate_characters(word))\n"
   ]
  },
  {
   "cell_type": "markdown",
   "id": "ad0393b2",
   "metadata": {},
   "source": [
    "# Ques 7\n",
    "\n",
    "7. Write a Python Program to check if a string contains any special character?\n"
   ]
  },
  {
   "cell_type": "code",
   "execution_count": 79,
   "id": "714ca1fb",
   "metadata": {},
   "outputs": [
    {
     "name": "stdout",
     "output_type": "stream",
     "text": [
      "Does the string have special characters? True\n"
     ]
    }
   ],
   "source": [
    "import re\n",
    "\n",
    "def has_special_characters(string):\n",
    "    regex = re.compile('[^a-zA-Z0-9]')\n",
    "    return bool(regex.search(string))\n",
    "\n",
    "# Test the function\n",
    "text = \"Hello!\"\n",
    "print(\"Does the string have special characters?\", has_special_characters(text))\n"
   ]
  },
  {
   "cell_type": "code",
   "execution_count": null,
   "id": "6af2f385",
   "metadata": {},
   "outputs": [],
   "source": []
  }
 ],
 "metadata": {
  "kernelspec": {
   "display_name": "Python 3 (ipykernel)",
   "language": "python",
   "name": "python3"
  },
  "language_info": {
   "codemirror_mode": {
    "name": "ipython",
    "version": 3
   },
   "file_extension": ".py",
   "mimetype": "text/x-python",
   "name": "python",
   "nbconvert_exporter": "python",
   "pygments_lexer": "ipython3",
   "version": "3.9.13"
  }
 },
 "nbformat": 4,
 "nbformat_minor": 5
}
