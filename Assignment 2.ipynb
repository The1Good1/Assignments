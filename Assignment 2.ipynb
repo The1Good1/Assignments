{
 "cells": [
  {
   "cell_type": "markdown",
   "id": "0306b123",
   "metadata": {},
   "source": [
    " # Ques 1: \n",
    " What are the two values of the Boolean data type? How do you write them?"
   ]
  },
  {
   "cell_type": "markdown",
   "id": "da520433",
   "metadata": {},
   "source": [
    "The two values of the Boolean data type are True and False.\n",
    "\n",
    "In Python,can be written as exactly as they are shown here, with the first letter capitalized: True or False\n",
    "\n",
    "These values are often used in conditional statements and expressions to control program flow or evaluate logical conditions. For example, the following code snippet assigns the Boolean value True to a variable named is_greater_than_five if the variable x contains a value greater than 5:"
   ]
  },
  {
   "cell_type": "code",
   "execution_count": 1,
   "id": "a804a415",
   "metadata": {},
   "outputs": [
    {
     "name": "stdout",
     "output_type": "stream",
     "text": [
      "True\n"
     ]
    }
   ],
   "source": [
    "x = 7\n",
    "is_greater_than_five = x > 5\n",
    "print(is_greater_than_five)  # Output: True\n"
   ]
  },
  {
   "cell_type": "markdown",
   "id": "73b8454b",
   "metadata": {},
   "source": [
    "# Ques 2 : \n",
    "What are the three different types of Boolean operators?"
   ]
  },
  {
   "cell_type": "markdown",
   "id": "69db21f5",
   "metadata": {},
   "source": [
    "The three different types of Boolean operators are:\n",
    "\n",
    "AND operator: The 'and' operator returns 'True' if both operands are true, otherwise it returns 'False'. For example:"
   ]
  },
  {
   "cell_type": "code",
   "execution_count": 2,
   "id": "125cc08d",
   "metadata": {},
   "outputs": [
    {
     "name": "stdout",
     "output_type": "stream",
     "text": [
      "True\n",
      "False\n"
     ]
    }
   ],
   "source": [
    "x = 5\n",
    "y = 10\n",
    "print(x < 10 and y > 5)  # Output: True\n",
    "print(x < 3 and y > 5)   # Output: False\n"
   ]
  },
  {
   "cell_type": "markdown",
   "id": "d4a0e1cb",
   "metadata": {},
   "source": [
    "OR operator: The or operator returns True if at least one of the operands is true, otherwise it returns False. For example:"
   ]
  },
  {
   "cell_type": "code",
   "execution_count": 3,
   "id": "9c85649d",
   "metadata": {},
   "outputs": [
    {
     "name": "stdout",
     "output_type": "stream",
     "text": [
      "True\n",
      "False\n"
     ]
    }
   ],
   "source": [
    "x = 5\n",
    "y = 10\n",
    "print(x < 3 or y > 5)    # Output: True\n",
    "print(x < 3 or y < 5)    # Output: False\n"
   ]
  },
  {
   "cell_type": "markdown",
   "id": "cd216f02",
   "metadata": {},
   "source": [
    "NOT operator: The not operator returns the opposite Boolean value of the operand. If the operand is True, then it returns False, and if the operand is False, then it returns True. For example:"
   ]
  },
  {
   "cell_type": "code",
   "execution_count": 4,
   "id": "c7bccd2a",
   "metadata": {},
   "outputs": [
    {
     "name": "stdout",
     "output_type": "stream",
     "text": [
      "True\n",
      "True\n"
     ]
    }
   ],
   "source": [
    "x = 5\n",
    "y = 10\n",
    "print(not x < 3)         # Output: True\n",
    "print(not y < 5)         # Output: True\n"
   ]
  },
  {
   "cell_type": "markdown",
   "id": "bfed521c",
   "metadata": {},
   "source": [
    "# Ques 3 : \n",
    "Make a list of each Boolean operator&#39;s truth tables (i.e. every possible combination of Boolean\n",
    "values for the operator and what it evaluate )."
   ]
  },
  {
   "cell_type": "markdown",
   "id": "aa11fde4",
   "metadata": {},
   "source": [
    "Here are the truth tables for each Boolean operator:\n",
    "\n",
    "AND operator:\n",
    "# Operand 1\tOperand 2\tResult\n",
    "    True\tTrue\tTrue\n",
    "    True\tFalse\tFalse\n",
    "    False\tTrue\tFalse\n",
    "    False\tFalse\tFalse\n",
    "OR operator:\n",
    "# Operand 1\tOperand 2\tResult\n",
    "    True\tTrue\tTrue\n",
    "    True\tFalse\tTrue\n",
    "    False\tTrue\tTrue\n",
    "    False\tFalse\tFalse\n",
    "NOT operator:\n",
    "# Operand\tResult\n",
    "    True\tFalse\n",
    "    False\tTrue\n",
    "Each truth table shows every possible combination of Boolean values for the given operator, and the corresponding result of the operation. For example, the truth table for the AND operator shows that if both operands are True, the result is True, and if either or both operands are False, the result is False. The truth tables are useful for understanding the behavior of Boolean operators and for evaluating complex Boolean expressions.\n",
    "\n",
    "\n",
    "\n",
    "\n"
   ]
  },
  {
   "cell_type": "markdown",
   "id": "af34919f",
   "metadata": {},
   "source": [
    "# Ques 4\n",
    "What are the values of the following expressions?\n",
    "(5 > 4) and (3 == 5) - False\n",
    "\n",
    "not (5 > 4) - True\n",
    "\n",
    "(5 > 4) or (3 == 5) - True\n",
    "\n",
    "not ((5 > 4) or (3 == 5)) - False\n",
    "\n",
    "(True and True) and (True == False) - False\n",
    "\n",
    "(not False) or (not True) - True"
   ]
  },
  {
   "cell_type": "markdown",
   "id": "2ff73f7f",
   "metadata": {},
   "source": [
    "# Ques 5:"
   ]
  },
  {
   "cell_type": "markdown",
   "id": "cc19e8b5",
   "metadata": {},
   "source": [
    "What are the six comparison operators?"
   ]
  },
  {
   "cell_type": "markdown",
   "id": "490a4173",
   "metadata": {},
   "source": [
    "The six comparison operators are:\n",
    "\n",
    "(greater than) > : returns True if the left operand is greater than the right operand, otherwise False.\n",
    "\n",
    "< (less than): returns True if the left operand is less than the right operand, otherwise False.\n",
    "\n",
    "(greater than or equal to) >= : returns True if the left operand is greater than or equal to the right operand, otherwise False.\n",
    "\n",
    "<= (less than or equal to): returns True if the left operand is less than or equal to the right operand, otherwise False.\n",
    "\n",
    "== (equal to): returns True if the left operand is equal to the right operand, otherwise False.\n",
    "\n",
    "!= (not equal to): returns True if the left operand is not equal to the right operand, otherwise False.\n",
    "\n",
    "These operators are commonly used to compare values and evaluate Boolean expressions."
   ]
  },
  {
   "cell_type": "markdown",
   "id": "86f5c30a",
   "metadata": {},
   "source": [
    "# Ques 6:"
   ]
  },
  {
   "cell_type": "markdown",
   "id": "66d00f03",
   "metadata": {},
   "source": [
    "How do you tell the difference between the equal to and assignment operators?Describe a\n",
    "condition and when you would use one."
   ]
  },
  {
   "cell_type": "markdown",
   "id": "19cd7ccb",
   "metadata": {},
   "source": [
    "In Python, the equal to operator is '==' and the assignment operator is '='. The equal to operator is used to compare two values for equality, while the assignment operator is used to assign a value to a variable.\n",
    "\n",
    "A condition is a Boolean expression that evaluates to either 'True' or 'False'. Conditions are commonly used in control structures like 'if' statements to control the flow of a program.\n",
    "\n",
    "Here's an example to illustrate the difference between the equal to and assignment operators:"
   ]
  },
  {
   "cell_type": "code",
   "execution_count": 5,
   "id": "3f9ef0ec",
   "metadata": {},
   "outputs": [
    {
     "name": "stdout",
     "output_type": "stream",
     "text": [
      "x is equal to 5\n"
     ]
    }
   ],
   "source": [
    "x = 5   # assignment operator assigns the value 5 to the variable x\n",
    "if x == 5:   # equal to operator checks if the value of x is equal to 5\n",
    "    print(\"x is equal to 5\")\n"
   ]
  },
  {
   "cell_type": "markdown",
   "id": "30a02b08",
   "metadata": {},
   "source": [
    "In this example, the assignment operator '=' is used to assign the value '5' to the variable 'x'. The equal to operator '==' is used in the 'if' statement to check if the value of 'x' is equal to '5'. If the condition is 'True', the program will print the message \"x is equal to 5\".\n",
    "\n",
    "In summary, the assignment operator '=' is used to assign a value to a variable, while the equal to operator '==' is used to compare two values for equality. It's important to use the correct operator in the appropriate context to avoid syntax errors and unintended behavior in your Python programs."
   ]
  },
  {
   "cell_type": "markdown",
   "id": "b4bf581f",
   "metadata": {},
   "source": [
    "# Ques 7:"
   ]
  },
  {
   "cell_type": "markdown",
   "id": "7b0c8b71",
   "metadata": {},
   "source": []
  },
  {
   "cell_type": "code",
   "execution_count": 7,
   "id": "754bbee1",
   "metadata": {},
   "outputs": [],
   "source": [
    "# Block 1:\n",
    "spam = 0\n",
    "if spam == 10:\n",
    "    print('eggs')\n"
   ]
  },
  {
   "cell_type": "markdown",
   "id": "7c3c747f",
   "metadata": {},
   "source": [
    "This block assigns the value 0 to the variable 'spam', then checks if 'spam' is equal to 10 using an 'if' statement. However, since 'spam' is not equal to 10, the print statement is not executed."
   ]
  },
  {
   "cell_type": "code",
   "execution_count": 8,
   "id": "5c42d2ce",
   "metadata": {},
   "outputs": [
    {
     "name": "stdout",
     "output_type": "stream",
     "text": [
      "ham\n"
     ]
    }
   ],
   "source": [
    "# Block 2:\n",
    "if spam > 5:\n",
    "    print('bacon')\n",
    "else:\n",
    "    print('ham')\n"
   ]
  },
  {
   "cell_type": "markdown",
   "id": "79d6876b",
   "metadata": {},
   "source": [
    "This block checks if 'spam' is greater than 5 using an if statement. Since 'spam' is not greater than 5, the 'else' block is executed and the program prints \"ham\"."
   ]
  },
  {
   "cell_type": "code",
   "execution_count": 9,
   "id": "a11bfb9f",
   "metadata": {},
   "outputs": [
    {
     "name": "stdout",
     "output_type": "stream",
     "text": [
      "spam\n",
      "spam\n"
     ]
    }
   ],
   "source": [
    "# Block 3\n",
    "print('spam')\n",
    "print('spam')\n"
   ]
  },
  {
   "cell_type": "markdown",
   "id": "37f65a65",
   "metadata": {},
   "source": [
    "Note that the first two blocks are conditional blocks that are executed only if certain conditions are met, while the third block is executed unconditionally."
   ]
  },
  {
   "cell_type": "markdown",
   "id": "c947478a",
   "metadata": {},
   "source": [
    "# Ques 8:"
   ]
  },
  {
   "cell_type": "markdown",
   "id": "4134f29a",
   "metadata": {},
   "source": [
    "Write code that prints Hello if 1 is stored in spam, prints Howdy if 2 is stored in spam, and prints\n",
    "Greetings! if anything else is stored in spam.\n"
   ]
  },
  {
   "cell_type": "code",
   "execution_count": 10,
   "id": "b5a60800",
   "metadata": {},
   "outputs": [
    {
     "name": "stdout",
     "output_type": "stream",
     "text": [
      "Greetings!\n"
     ]
    }
   ],
   "source": [
    "if spam == 1:\n",
    "    print(\"Hello\")\n",
    "elif spam == 2:\n",
    "    print(\"Howdy\")\n",
    "else:\n",
    "    print(\"Greetings!\")\n"
   ]
  },
  {
   "cell_type": "markdown",
   "id": "1254d523",
   "metadata": {},
   "source": [
    "# Ques 9:"
   ]
  },
  {
   "cell_type": "markdown",
   "id": "068cf365",
   "metadata": {},
   "source": [
    "If your programme is stuck in an endless loop, what keys you’ll press?"
   ]
  },
  {
   "cell_type": "markdown",
   "id": "5dcf20f3",
   "metadata": {},
   "source": [
    "If your program is stuck in an endless loop and you want to stop it, you can press the 'Ctrl' and 'C' keys simultaneously. This will send an interrupt signal to the program, causing it to terminate. In some cases, you may need to press 'Ctrl' and 'Break' keys on Windows."
   ]
  },
  {
   "cell_type": "markdown",
   "id": "cf918ae7",
   "metadata": {},
   "source": [
    "# Ques 10:"
   ]
  },
  {
   "cell_type": "markdown",
   "id": "8dc870bd",
   "metadata": {},
   "source": [
    "How can you tell the difference between break and continue?"
   ]
  },
  {
   "cell_type": "markdown",
   "id": "cd575c69",
   "metadata": {},
   "source": [
    "'break' and 'continue' are control flow statements used in Python loops to alter the normal flow of execution.\n",
    "\n",
    "The 'break' statement is used to exit a loop prematurely, i.e., it terminates the loop and the control of the program moves to the next statement following the loop. It is often used in conjunction with a conditional statement inside the loop to check for a specific condition and break out of the loop if the condition is met.\n",
    "\n",
    "Here's an example:"
   ]
  },
  {
   "cell_type": "code",
   "execution_count": 11,
   "id": "944e2abf",
   "metadata": {},
   "outputs": [
    {
     "name": "stdout",
     "output_type": "stream",
     "text": [
      "0\n",
      "1\n",
      "2\n",
      "3\n",
      "4\n"
     ]
    }
   ],
   "source": [
    "for i in range(10):\n",
    "    if i == 5:\n",
    "        break   # exit the loop when i is equal to 5\n",
    "    print(i)\n"
   ]
  },
  {
   "cell_type": "markdown",
   "id": "6acb7969",
   "metadata": {},
   "source": [
    "In this example, the loop runs from 0 to 9, but when 'i' becomes equal to 5, the 'break' statement is executed and the loop terminates prematurely. Therefore, the program prints the numbers 0 to 4 only.\n",
    "\n",
    "On the other hand, the 'continue' statement is used to skip the current iteration of a loop and move on to the next iteration. It is also often used in conjunction with a conditional statement inside the loop to skip certain iterations based on a specific condition.\n",
    "\n",
    "Here's an example:"
   ]
  },
  {
   "cell_type": "code",
   "execution_count": 12,
   "id": "2052bc15",
   "metadata": {},
   "outputs": [
    {
     "name": "stdout",
     "output_type": "stream",
     "text": [
      "1\n",
      "3\n",
      "5\n",
      "7\n",
      "9\n"
     ]
    }
   ],
   "source": [
    "for i in range(10):\n",
    "    if i % 2 == 0:\n",
    "        continue   # skip even numbers\n",
    "    print(i)\n"
   ]
  },
  {
   "cell_type": "markdown",
   "id": "558cd9c4",
   "metadata": {},
   "source": [
    "In this example, the loop runs from 0 to 9, but when 'i' is an even number, the 'continue' statement is executed and the current iteration is skipped. Therefore, the program prints only the odd numbers.\n",
    "\n",
    "In summary, 'break' is used to exit a loop prematurely, while 'continue' is used to skip the current iteration of a loop and move on to the next iteration."
   ]
  },
  {
   "cell_type": "markdown",
   "id": "710ab44c",
   "metadata": {},
   "source": [
    "# Ques 11:"
   ]
  },
  {
   "cell_type": "markdown",
   "id": "20287499",
   "metadata": {},
   "source": [
    "In a for loop, what is the difference between range(10), range(0, 10), and range(0, 10, 1)?"
   ]
  },
  {
   "cell_type": "markdown",
   "id": "8de87358",
   "metadata": {},
   "source": [
    "In a for loop, range(10), range(0, 10), and range(0, 10, 1) are equivalent and will generate the same sequence of numbers from 0 to 9 (inclusive).\n",
    "\n",
    "range(10) generates a sequence of numbers starting from 0 up to (but not including) 10, with a step size of 1. This is the most common way to use range() function in a for loop when you want to iterate over a sequence of numbers.\n",
    "\n",
    "range(0, 10) is the same as range(10), but it is explicitly specifying the start value of the sequence (0) and the end value of the sequence (10 is not included).\n",
    "\n",
    "range(0, 10, 1) is also the same as range(10), but it is explicitly specifying the start value of the sequence (0), the end value of the sequence (10 is not included), and the step size between numbers (1).\n",
    "\n",
    "In general, the range() function takes up to three arguments: start, stop, and step, in that order. If we only provide one argument, it is taken as the stop value, and the start value is assumed to be 0, and the step value is assumed to be 1. If you provide two arguments, they are taken as the start and stop values, and the step value is assumed to be 1. If we provide three arguments, they are taken as the start, stop, and step values, respectively.\n",
    "\n",
    "In conclusion, range(10), range(0, 10), and range(0, 10, 1) are equivalent in a for loop and will generate the same sequence of numbers from 0 to 9 (inclusive)."
   ]
  },
  {
   "cell_type": "markdown",
   "id": "379a3df8",
   "metadata": {},
   "source": [
    "# Ques 12:"
   ]
  },
  {
   "cell_type": "markdown",
   "id": "eff4d7aa",
   "metadata": {},
   "source": [
    "Write a short program that prints the numbers 1 to 10 using a for loop. Then write an equivalent\n",
    "program that prints the numbers 1 to 10 using a while loop."
   ]
  },
  {
   "cell_type": "code",
   "execution_count": 13,
   "id": "876a5cf1",
   "metadata": {},
   "outputs": [
    {
     "name": "stdout",
     "output_type": "stream",
     "text": [
      "1\n",
      "2\n",
      "3\n",
      "4\n",
      "5\n",
      "6\n",
      "7\n",
      "8\n",
      "9\n",
      "10\n"
     ]
    }
   ],
   "source": [
    "for i in range(1, 11):\n",
    "    print(i)\n"
   ]
  },
  {
   "cell_type": "code",
   "execution_count": 14,
   "id": "17fbb2c8",
   "metadata": {},
   "outputs": [
    {
     "name": "stdout",
     "output_type": "stream",
     "text": [
      "1\n",
      "2\n",
      "3\n",
      "4\n",
      "5\n",
      "6\n",
      "7\n",
      "8\n",
      "9\n",
      "10\n"
     ]
    }
   ],
   "source": [
    "i = 1\n",
    "while i <= 10:\n",
    "    print(i)\n",
    "    i += 1\n"
   ]
  },
  {
   "cell_type": "markdown",
   "id": "bbb6ea5e",
   "metadata": {},
   "source": [
    "# Ques 13:\n"
   ]
  },
  {
   "cell_type": "markdown",
   "id": "9da54cc8",
   "metadata": {},
   "source": [
    "If you had a function named bacon() inside a module named spam, how would you call it after\n",
    "importing spam?"
   ]
  },
  {
   "cell_type": "markdown",
   "id": "f2dcf9fc",
   "metadata": {},
   "source": [
    "If you have a function named bacon() inside a module named 'spam', you can call it after importing spam using the dot notation as follows:"
   ]
  },
  {
   "cell_type": "code",
   "execution_count": 15,
   "id": "07b92011",
   "metadata": {},
   "outputs": [
    {
     "ename": "ModuleNotFoundError",
     "evalue": "No module named 'spam'",
     "output_type": "error",
     "traceback": [
      "\u001b[1;31m---------------------------------------------------------------------------\u001b[0m",
      "\u001b[1;31mModuleNotFoundError\u001b[0m                       Traceback (most recent call last)",
      "\u001b[1;32m~\\AppData\\Local\\Temp\\ipykernel_14296\\1458448255.py\u001b[0m in \u001b[0;36m<module>\u001b[1;34m\u001b[0m\n\u001b[1;32m----> 1\u001b[1;33m \u001b[1;32mimport\u001b[0m \u001b[0mspam\u001b[0m\u001b[1;33m\u001b[0m\u001b[1;33m\u001b[0m\u001b[0m\n\u001b[0m\u001b[0;32m      2\u001b[0m \u001b[1;33m\u001b[0m\u001b[0m\n\u001b[0;32m      3\u001b[0m \u001b[0mspam\u001b[0m\u001b[1;33m.\u001b[0m\u001b[0mbacon\u001b[0m\u001b[1;33m(\u001b[0m\u001b[1;33m)\u001b[0m\u001b[1;33m\u001b[0m\u001b[1;33m\u001b[0m\u001b[0m\n",
      "\u001b[1;31mModuleNotFoundError\u001b[0m: No module named 'spam'"
     ]
    }
   ],
   "source": [
    "import spam\n",
    "\n",
    "spam.bacon()\n"
   ]
  },
  {
   "cell_type": "code",
   "execution_count": null,
   "id": "475ed701",
   "metadata": {},
   "outputs": [],
   "source": []
  }
 ],
 "metadata": {
  "kernelspec": {
   "display_name": "Python 3 (ipykernel)",
   "language": "python",
   "name": "python3"
  },
  "language_info": {
   "codemirror_mode": {
    "name": "ipython",
    "version": 3
   },
   "file_extension": ".py",
   "mimetype": "text/x-python",
   "name": "python",
   "nbconvert_exporter": "python",
   "pygments_lexer": "ipython3",
   "version": "3.9.13"
  }
 },
 "nbformat": 4,
 "nbformat_minor": 5
}
