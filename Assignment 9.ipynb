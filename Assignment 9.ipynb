{
 "cells": [
  {
   "cell_type": "markdown",
   "id": "376e8a8f",
   "metadata": {},
   "source": [
    "# Ques1:"
   ]
  },
  {
   "cell_type": "markdown",
   "id": "6c63c8cd",
   "metadata": {},
   "source": [
    "To what does a relative path refer?\n",
    "\n",
    "A relative path refers to a file or directory location that is relative to the current working directory of the program or script.\n"
   ]
  },
  {
   "cell_type": "markdown",
   "id": "d1d451d6",
   "metadata": {},
   "source": [
    "# Ques 2:"
   ]
  },
  {
   "cell_type": "markdown",
   "id": "86e75ba8",
   "metadata": {},
   "source": [
    "What does an absolute path start with your operating system?\n",
    "\n",
    "An absolute path starts with the root directory of the operating system, such as \"C:\" on Windows or \"/\" on Unix-like systems."
   ]
  },
  {
   "cell_type": "markdown",
   "id": "8a452335",
   "metadata": {},
   "source": [
    "# Ques 3:"
   ]
  },
  {
   "cell_type": "markdown",
   "id": "9fa6bbfe",
   "metadata": {},
   "source": [
    "What do the functions os.getcwd() and os.chdir() do?\n",
    "\n",
    "os.getcwd() returns the current working directory, and os.chdir() changes the current working directory to the specified path."
   ]
  },
  {
   "cell_type": "markdown",
   "id": "6694621a",
   "metadata": {},
   "source": [
    "# Ques 4:"
   ]
  },
  {
   "cell_type": "markdown",
   "id": "7d332ff2",
   "metadata": {},
   "source": [
    "What are the . and .. folders?\n",
    "\n",
    "\".\" refers to the current directory, while \"..\" refers to the parent directory."
   ]
  },
  {
   "cell_type": "markdown",
   "id": "4d559c9e",
   "metadata": {},
   "source": [
    "# Ques 5:"
   ]
  },
  {
   "cell_type": "markdown",
   "id": "5b0af5d4",
   "metadata": {},
   "source": [
    "In C:\\bacon\\eggs\\spam.txt, which part is the dir name, and which part is the base name?\n",
    "\n",
    "\".\" refers to the current directory, while \"..\" refers to the parent directory."
   ]
  },
  {
   "cell_type": "markdown",
   "id": "0025894a",
   "metadata": {},
   "source": [
    "# Ques 6:"
   ]
  },
  {
   "cell_type": "markdown",
   "id": "3eb780e9",
   "metadata": {},
   "source": [
    "What are the three “mode” arguments that can be passed to the open() function?\n",
    "\n",
    "The three mode arguments are \"r\" for reading, \"w\" for writing, and \"a\" for appending."
   ]
  },
  {
   "cell_type": "markdown",
   "id": "1459538e",
   "metadata": {},
   "source": [
    "# Ques 7:"
   ]
  },
  {
   "cell_type": "markdown",
   "id": "765fdc7b",
   "metadata": {},
   "source": [
    "What happens if an existing file is opened in write mode?\n",
    "\n",
    "If an existing file is opened in write mode, its contents will be truncated, and the new data will overwrite the existing data."
   ]
  },
  {
   "cell_type": "markdown",
   "id": "b86babe5",
   "metadata": {},
   "source": [
    "# Ques 8:"
   ]
  },
  {
   "cell_type": "markdown",
   "id": "3ccc2077",
   "metadata": {},
   "source": [
    "How do you tell the difference between read() and readlines()?\n",
    "\n",
    "read() reads the entire contents of the file as a single string, while readlines() reads the contents of the file line-by-line and returns a list of strings."
   ]
  },
  {
   "cell_type": "markdown",
   "id": "5a9489f1",
   "metadata": {},
   "source": [
    "# Ques 9:"
   ]
  },
  {
   "cell_type": "markdown",
   "id": "fb067366",
   "metadata": {},
   "source": [
    "What data structure does a shelf value resemble?\n",
    "\n",
    "A shelf value in Python resembles a dictionary, as it stores key-value pairs, but it is stored as a file on disk and can be accessed like a dictionary object."
   ]
  },
  {
   "cell_type": "code",
   "execution_count": null,
   "id": "fc5298a2",
   "metadata": {},
   "outputs": [],
   "source": []
  }
 ],
 "metadata": {
  "kernelspec": {
   "display_name": "Python 3 (ipykernel)",
   "language": "python",
   "name": "python3"
  },
  "language_info": {
   "codemirror_mode": {
    "name": "ipython",
    "version": 3
   },
   "file_extension": ".py",
   "mimetype": "text/x-python",
   "name": "python",
   "nbconvert_exporter": "python",
   "pygments_lexer": "ipython3",
   "version": "3.9.13"
  }
 },
 "nbformat": 4,
 "nbformat_minor": 5
}
