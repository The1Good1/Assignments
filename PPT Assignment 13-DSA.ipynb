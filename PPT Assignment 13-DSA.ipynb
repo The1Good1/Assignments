{
 "cells": [
  {
   "cell_type": "markdown",
   "id": "4e864a43",
   "metadata": {},
   "source": [
    "# Ques 1 \n",
    "\n"
   ]
  },
  {
   "cell_type": "code",
   "execution_count": null,
   "id": "ec9ef308",
   "metadata": {},
   "outputs": [],
   "source": [
    "class ListNode:\n",
    "    def __init__(self, val=0, next=None):\n",
    "        self.val = val\n",
    "        self.next = next\n",
    "\n",
    "def createNewList(list1, list2):\n",
    "    dummy = ListNode()\n",
    "    curr = dummy\n",
    "    \n",
    "    while list1 and list2:\n",
    "        if list1.val >= list2.val:\n",
    "            curr.next = ListNode(list1.val)\n",
    "            list1 = list1.next\n",
    "        else:\n",
    "            curr.next = ListNode(list2.val)\n",
    "            list2 = list2.next\n",
    "        curr = curr.next\n",
    "    \n",
    "    if list1:\n",
    "        curr.next = list1\n",
    "    if list2:\n",
    "        curr.next = list2\n",
    "    \n",
    "    return dummy.next\n"
   ]
  },
  {
   "cell_type": "markdown",
   "id": "be9e9310",
   "metadata": {},
   "source": [
    "# Ques 2\n",
    "\n"
   ]
  },
  {
   "cell_type": "code",
   "execution_count": 10,
   "id": "3cfc3e87",
   "metadata": {},
   "outputs": [],
   "source": [
    "class ListNode:\n",
    "    def __init__(self, val=0, next=None):\n",
    "        self.val = val\n",
    "        self.next = next\n",
    "\n",
    "def removeDuplicates(head):\n",
    "    curr = head\n",
    "    \n",
    "    while curr and curr.next:\n",
    "        if curr.val == curr.next.val:\n",
    "            curr.next = curr.next.next\n",
    "        else:\n",
    "            curr = curr.next\n",
    "    \n",
    "    return head\n"
   ]
  },
  {
   "cell_type": "markdown",
   "id": "87d70732",
   "metadata": {},
   "source": [
    "# Ques 3\n",
    "\n",
    "\n"
   ]
  },
  {
   "cell_type": "code",
   "execution_count": 11,
   "id": "a22f7bfb",
   "metadata": {},
   "outputs": [],
   "source": [
    "class ListNode:\n",
    "    def __init__(self, val=0, next=None):\n",
    "        self.val = val\n",
    "        self.next = next\n",
    "\n",
    "def reverseKNodes(head, k):\n",
    "    if not head:\n",
    "        return None\n",
    "    \n",
    "    curr = head\n",
    "    prev = None\n",
    "    count = 0\n",
    "    \n",
    "    # Reverse the first k nodes\n",
    "    while curr and count < k:\n",
    "        next_node = curr.next\n",
    "        curr.next = prev\n",
    "        prev = curr\n",
    "        curr = next_node\n",
    "        count += 1\n",
    "    \n",
    "    # Recursively reverse the rest of the list\n",
    "    if next_node:\n",
    "        head.next = reverseKNodes(next_node, k)\n",
    "    \n",
    "    return prev\n"
   ]
  },
  {
   "cell_type": "markdown",
   "id": "56dc84fa",
   "metadata": {},
   "source": [
    "# Ques 4\n",
    "\n"
   ]
  },
  {
   "cell_type": "code",
   "execution_count": null,
   "id": "2025e298",
   "metadata": {},
   "outputs": [],
   "source": [
    "class ListNode:\n",
    "    def __init__(self, val=0, next=None):\n",
    "        self.val = val\n",
    "        self.next = next\n",
    "\n",
    "def reverseAlternateKNodes(head, k):\n",
    "    if not head:\n",
    "        return None\n",
    "    \n",
    "    curr = head\n",
    "    prev = None\n",
    "    count = 0\n",
    "    \n",
    "    # Reverse k nodes in odd-indexed groups\n",
    "    while curr and count < k:\n",
    "        next_node = curr.next\n",
    "        if count % 2 == 1:\n",
    "            curr.next = prev\n",
    "        prev = curr\n",
    "        curr = next_node\n",
    "        count += 1\n",
    "    \n",
    "    # Recursively reverse the rest of the list\n",
    "    if next_node:\n",
    "        head.next = reverseAlternateKNodes(next_node, k)\n",
    "    \n",
    "    return prev\n"
   ]
  },
  {
   "cell_type": "code",
   "execution_count": null,
   "id": "1f23fc63",
   "metadata": {},
   "outputs": [],
   "source": []
  },
  {
   "cell_type": "markdown",
   "id": "9b21a35f",
   "metadata": {},
   "source": [
    "# Ques 5\n",
    "\n"
   ]
  },
  {
   "cell_type": "code",
   "execution_count": null,
   "id": "6e897f38",
   "metadata": {},
   "outputs": [],
   "source": [
    "class ListNode:\n",
    "    def __init__(self, val=0, next=None):\n",
    "        self.val = val\n",
    "        self.next = next\n",
    "\n",
    "def deleteLastOccurrence(head, key):\n",
    "    if not head:\n",
    "        return None\n",
    "    \n",
    "    last = None\n",
    "    curr = head\n",
    "    prev = None\n",
    "    \n",
    "    # Find the last occurrence of the key and its previous node\n",
    "    while curr:\n",
    "        if curr.val == key:\n",
    "            last = curr\n",
    "        curr = curr.next\n",
    "    \n",
    "    if not last:\n",
    "        return head\n",
    "    \n",
    "    curr = head\n",
    "    \n",
    "    # Update the previous node's next pointer\n",
    "    while curr.next != last.next:\n",
    "        prev = curr\n",
    "        curr = curr.next\n",
    "    \n",
    "    if not prev:\n",
    "        return last.next\n",
    "    \n",
    "    prev.next = curr.next\n",
    "    \n",
    "    return head\n"
   ]
  },
  {
   "cell_type": "markdown",
   "id": "750e09dc",
   "metadata": {},
   "source": [
    "# Ques 6\n",
    "\n"
   ]
  },
  {
   "cell_type": "code",
   "execution_count": null,
   "id": "d54cc6cb",
   "metadata": {},
   "outputs": [],
   "source": [
    "class ListNode:\n",
    "    def __init__(self, val=0, next=None):\n",
    "        self.val = val\n",
    "        self.next = next\n",
    "\n",
    "def mergeTwoLists(l1, l2):\n",
    "    dummy = ListNode()\n",
    "    curr = dummy\n",
    "    \n",
    "    while l1 and l2:\n",
    "        if l1.val <= l2.val:\n",
    "            curr.next = l1\n",
    "            l1 = l1.next\n",
    "        else:\n",
    "            curr.next = l2\n",
    "            l2 = l2.next\n",
    "        curr = curr.next\n",
    "    \n",
    "    if l1:\n",
    "        curr.next = l1\n",
    "    if l2:\n",
    "        curr.next = l2\n",
    "    \n",
    "    return dummy.next\n"
   ]
  },
  {
   "cell_type": "markdown",
   "id": "e5f0213e",
   "metadata": {},
   "source": [
    "# Ques 7\n",
    "\n"
   ]
  },
  {
   "cell_type": "code",
   "execution_count": null,
   "id": "4ca623b3",
   "metadata": {},
   "outputs": [],
   "source": [
    "class Node:\n",
    "    def __init__(self, data):\n",
    "        self.data = data\n",
    "        self.next = None\n",
    "        self.prev = None\n",
    "\n",
    "def reverseDoublyLinkedList(head):\n",
    "    if not head:\n",
    "        return None\n",
    "    \n",
    "    curr = head\n",
    "    \n",
    "    # Swap next and prev pointers of each node\n",
    "    while curr:\n",
    "        temp = curr.next\n",
    "        curr.next = curr.prev\n",
    "        curr.prev = temp\n",
    "        prev = curr\n",
    "        curr = curr.prev\n",
    "    \n",
    "    return prev\n"
   ]
  },
  {
   "cell_type": "markdown",
   "id": "72842135",
   "metadata": {},
   "source": [
    "# Ques 8\n",
    "\n"
   ]
  },
  {
   "cell_type": "code",
   "execution_count": 12,
   "id": "d03fafeb",
   "metadata": {},
   "outputs": [],
   "source": [
    "class Node:\n",
    "    def __init__(self, data):\n",
    "        self.data = data\n",
    "        self.next = None\n",
    "        self.prev = None\n",
    "\n",
    "def deleteNodeAtPosition(head, position):\n",
    "    if not head:\n",
    "        return None\n",
    "    \n",
    "    curr = head\n",
    "    \n",
    "    # Traverse to the node at the given position\n",
    "    for _ in range(position-1):\n",
    "        if not curr:\n",
    "            return head\n",
    "        curr = curr.next\n",
    "    \n",
    "    # Update adjacent nodes' pointers to skip the current node\n",
    "    if curr.prev:\n",
    "        curr.prev.next = curr.next\n",
    "    else:\n",
    "        head = curr.next\n",
    "    \n",
    "    if curr.next:\n",
    "        curr.next.prev = curr.prev\n",
    "    \n",
    "    return head\n"
   ]
  }
 ],
 "metadata": {
  "kernelspec": {
   "display_name": "Python 3 (ipykernel)",
   "language": "python",
   "name": "python3"
  },
  "language_info": {
   "codemirror_mode": {
    "name": "ipython",
    "version": 3
   },
   "file_extension": ".py",
   "mimetype": "text/x-python",
   "name": "python",
   "nbconvert_exporter": "python",
   "pygments_lexer": "ipython3",
   "version": "3.9.13"
  }
 },
 "nbformat": 4,
 "nbformat_minor": 5
}
