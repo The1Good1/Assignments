{
 "cells": [
  {
   "cell_type": "markdown",
   "id": "a6f57f29",
   "metadata": {},
   "source": [
    "# Ques 1\n",
    "What is the relationship between def statements and lambda expressions ?\n",
    "\n",
    "The def statement is used to define a regular function in Python, while a lambda expression is used to create an anonymous function. The main difference between them is that a def statement allows for the creation of a named function with a block of code, while a lambda expression creates an unnamed function with a single expression.\n",
    "\n",
    "\n"
   ]
  },
  {
   "cell_type": "markdown",
   "id": "bccde456",
   "metadata": {},
   "source": [
    "# Ques 2\n",
    "What is the benefit of lambda?\n",
    "\n",
    "The benefits of lambda expressions include:\n",
    "\n",
    "1. Concise syntax: Lambda expressions allow you to define functions in a compact and inline manner without the need for a full function definition.\n",
    "2. Convenience: They are useful for situations where you need to create simple, one-time-use functions without assigning them a name.\n",
    "3. Readability: Lambda expressions can enhance the readability of your code by making the function logic more self-contained and easier to understand in the context of its usage."
   ]
  },
  {
   "cell_type": "markdown",
   "id": "337fcccd",
   "metadata": {},
   "source": [
    "# Ques 3\n",
    "Compare and contrast map, filter, and reduce.\n",
    "\n",
    "Map, filter, and reduce are built-in functions that operate on iterable objects:\n",
    "\n",
    "1. map() applies a given function to each item in an iterable and returns an iterator with the results.\n",
    "2. filter() filters out elements from an iterable based on a given condition or predicate function and returns an iterator with the filtered results.\n",
    "3. reduce() applies a rolling computation to an iterable, where the function takes two arguments and combines them into a single value. It returns the final accumulated result.\n",
    "\n",
    "\n",
    "While all three functions operate on iterables and involve applying a function, they serve different purposes:\n",
    "\n",
    "1. map() transforms each element of an iterable according to a specified function.\n",
    "2. filter() selectively filters out elements from an iterable based on a given condition.\n",
    "3. reduce() performs a cumulative computation on an iterable, reducing it to a single value."
   ]
  },
  {
   "cell_type": "markdown",
   "id": "6c953e8f",
   "metadata": {},
   "source": [
    "# Ques 4\n",
    "What are function annotations, and how are they used?\n",
    "\n",
    "Function annotations in Python are a way to associate metadata or additional information with the parameters and return values of functions. Annotations are optional and do not affect the function's behavior at runtime. They are specified using colons after the parameter or return value, followed by the annotation expression.\n",
    "\n",
    "\n",
    "\n",
    "Function annotations can be used to provide type hints, document the expected types or behavior of the parameters and return values, or any other metadata that can be useful to the developer or external tools. The annotations can be accessed using the __annotations__ attribute of the function."
   ]
  },
  {
   "cell_type": "markdown",
   "id": "9ee36190",
   "metadata": {},
   "source": [
    "# Ques 5\n",
    "What are recursive functions, and how are they used?\n",
    "\n",
    "Recursive functions are functions that call themselves within their own function body. They are used to solve problems that can be divided into smaller sub-problems of the same nature. Recursive functions typically have a base case that defines the termination condition, and recursive calls that solve smaller instances of the same problem.\n",
    "\n",
    "\n",
    "Recursive functions are useful when working with problems that exhibit a recursive structure, such as tree traversal, factorial computation, or solving mathematical sequences. They provide an elegant and intuitive way to solve such problems by breaking them down into smaller, more manageable sub-problems.\n",
    "\n"
   ]
  },
  {
   "cell_type": "markdown",
   "id": "47f6c9fd",
   "metadata": {},
   "source": [
    "# Ques 6\n",
    "What are some general design guidelines for coding functions?\n",
    "\n",
    "Some general design guidelines for coding functions include:\n",
    "\n",
    "1. Function names should be descriptive and follow naming conventions (e.g., lowercase with words separated by underscores).\n",
    "2. Functions should have a clear and single responsibility, focusing on a specific task or functionality.\n",
    "3. Functions should have a well-defined input (parameters) and output (return value) relationship.\n",
    "4. Functions should be modular and reusable, avoiding excessive code duplication.\n",
    "5. Functions should be properly documented, including docstrings that describe the purpose, parameters, and return values.\n",
    "6. Functions should follow the principle of \"separation of concerns,\" meaning they should handle one aspect of the problem rather than performing multiple unrelated tasks.\n",
    "7. Functions should be concise and easy to read, using meaningful variable and parameter names.\n",
    "8. Functions should handle errors gracefully by using appropriate exception handling."
   ]
  },
  {
   "cell_type": "markdown",
   "id": "b949c36a",
   "metadata": {},
   "source": [
    "# Ques 7:\n",
    "\n",
    "Name three or more ways that functions can communicate results to a caller.\n",
    "\n",
    "Functions can communicate results to a caller in several ways:\n",
    "\n",
    "1. Return statement: Functions can use the return statement to provide a value or multiple values as the result of their computation.\n",
    "2. Print statements: Functions can use print() statements to display intermediate results or informational messages during execution.\n",
    "3. Modifying mutable objects: Functions can modify mutable objects passed as arguments, and the changes will be visible to the caller.\n",
    "4. Exception handling: Functions can raise exceptions using the raise statement to indicate errors or exceptional conditions to the caller.\n",
    "5. Global variables: Functions can modify global variables to communicate results, although this approach is generally discouraged for clarity and maintainability.\n",
    "\n",
    "\n",
    "Note that the choice of communication method depends on the specific requirements and design of the function and its intended interaction with the caller"
   ]
  },
  {
   "cell_type": "code",
   "execution_count": null,
   "id": "acf011e9",
   "metadata": {},
   "outputs": [],
   "source": []
  }
 ],
 "metadata": {
  "kernelspec": {
   "display_name": "Python 3 (ipykernel)",
   "language": "python",
   "name": "python3"
  },
  "language_info": {
   "codemirror_mode": {
    "name": "ipython",
    "version": 3
   },
   "file_extension": ".py",
   "mimetype": "text/x-python",
   "name": "python",
   "nbconvert_exporter": "python",
   "pygments_lexer": "ipython3",
   "version": "3.9.13"
  }
 },
 "nbformat": 4,
 "nbformat_minor": 5
}
