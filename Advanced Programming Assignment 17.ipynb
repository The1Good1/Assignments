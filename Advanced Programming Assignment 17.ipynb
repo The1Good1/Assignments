{
 "cells": [
  {
   "cell_type": "code",
   "execution_count": 6,
   "id": "71328a09",
   "metadata": {},
   "outputs": [],
   "source": [
    "# Ques 1\n",
    "\n",
    "def transpose_matrix(matrix):\n",
    "    return [list(row) for row in zip(*matrix)]\n"
   ]
  },
  {
   "cell_type": "code",
   "execution_count": 7,
   "id": "7b41e54b",
   "metadata": {},
   "outputs": [],
   "source": [
    "# Ques 2\n",
    "\n",
    "import re\n",
    "\n",
    "def is_valid_hex_code(code):\n",
    "    pattern = r'^#[0-9a-fA-F]{6}$'\n",
    "    return bool(re.match(pattern, code))\n"
   ]
  },
  {
   "cell_type": "code",
   "execution_count": 8,
   "id": "b406cc99",
   "metadata": {},
   "outputs": [],
   "source": [
    "# Ques 3\n",
    "\n",
    "def mark_maths(equations):\n",
    "    total = len(equations)\n",
    "    correct = sum(eval(eq.split('=')[0]) == int(eq.split('=')[1]) for eq in equations)\n",
    "    percentage = (correct / total) * 100\n",
    "    return f'{round(percentage)}%'\n",
    "\n",
    "\n",
    "\n"
   ]
  },
  {
   "cell_type": "code",
   "execution_count": 9,
   "id": "129a0cab",
   "metadata": {},
   "outputs": [],
   "source": [
    "# Ques 4\n",
    "\n",
    "def magic_square_game(alice, bob):\n",
    "    alice_row = alice[0]\n",
    "    alice_choice = alice[1][alice_row]\n",
    "    bob_col = bob[0] - 1\n",
    "    bob_choice = bob[1][bob_col]\n",
    "    return alice_choice == bob_choice\n"
   ]
  },
  {
   "cell_type": "code",
   "execution_count": 10,
   "id": "20b183cf",
   "metadata": {},
   "outputs": [],
   "source": [
    "# Ques 5\n",
    "\n",
    "def lets_meet(distance, va, vb):\n",
    "    total_velocity = va + vb\n",
    "    time = distance / total_velocity\n",
    "    hours = int(time)\n",
    "    minutes = int((time - hours) * 60)\n",
    "    seconds = int(((time - hours) * 60 - minutes) * 60)\n",
    "    return f\"{hours}h {minutes}min {seconds}s\"\n"
   ]
  },
  {
   "cell_type": "code",
   "execution_count": null,
   "id": "cc6ed03b",
   "metadata": {},
   "outputs": [],
   "source": []
  },
  {
   "cell_type": "code",
   "execution_count": null,
   "id": "046f4805",
   "metadata": {},
   "outputs": [],
   "source": []
  }
 ],
 "metadata": {
  "kernelspec": {
   "display_name": "Python 3 (ipykernel)",
   "language": "python",
   "name": "python3"
  },
  "language_info": {
   "codemirror_mode": {
    "name": "ipython",
    "version": 3
   },
   "file_extension": ".py",
   "mimetype": "text/x-python",
   "name": "python",
   "nbconvert_exporter": "python",
   "pygments_lexer": "ipython3",
   "version": "3.9.13"
  }
 },
 "nbformat": 4,
 "nbformat_minor": 5
}
