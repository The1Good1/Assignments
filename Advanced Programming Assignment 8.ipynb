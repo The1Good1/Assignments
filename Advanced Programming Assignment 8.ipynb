{
 "cells": [
  {
   "cell_type": "code",
   "execution_count": 6,
   "id": "71328a09",
   "metadata": {},
   "outputs": [],
   "source": [
    "# Ques 1\n",
    "\n",
    "def vowel_links(txt):\n",
    "    words = txt.split()\n",
    "    for i in range(len(words) - 1):\n",
    "        if words[i][-1].lower() in \"aeiou\" and words[i + 1][0].lower() in \"aeiou\":\n",
    "            return True\n",
    "    return False\n",
    "\n"
   ]
  },
  {
   "cell_type": "code",
   "execution_count": 7,
   "id": "7b41e54b",
   "metadata": {},
   "outputs": [],
   "source": [
    "# Ques 2\n",
    "\n",
    "def first_before_second(txt, first, second):\n",
    "    first_indices = []\n",
    "    second_indices = []\n",
    "    for i, char in enumerate(txt):\n",
    "        if char == first:\n",
    "            first_indices.append(i)\n",
    "        elif char == second:\n",
    "            second_indices.append(i)\n",
    "    return max(first_indices) < min(second_indices) if first_indices and second_indices else False\n",
    "\n"
   ]
  },
  {
   "cell_type": "code",
   "execution_count": 8,
   "id": "b406cc99",
   "metadata": {},
   "outputs": [],
   "source": [
    "# Ques 3\n",
    "\n",
    "def char_at_pos(r, s):\n",
    "    if s == \"odd\":\n",
    "        return r[::2]\n",
    "    elif s == \"even\":\n",
    "        return r[1::2]\n",
    "    else:\n",
    "        return None  # or raise an exception for invalid specifier\n"
   ]
  },
  {
   "cell_type": "code",
   "execution_count": 9,
   "id": "129a0cab",
   "metadata": {},
   "outputs": [],
   "source": [
    "# Ques 4\n",
    "\n",
    "import math\n",
    "\n",
    "def GCD(lst):\n",
    "    gcd = lst[0]\n",
    "    for num in lst[1:]:\n",
    "        gcd = math.gcd(gcd, num)\n",
    "        if gcd == 1:\n",
    "            return 1\n",
    "    return gcd\n"
   ]
  },
  {
   "cell_type": "code",
   "execution_count": 10,
   "id": "20b183cf",
   "metadata": {},
   "outputs": [],
   "source": [
    "# Ques 5\n",
    "\n",
    "def palindrome_type(n):\n",
    "    decimal_palindrome = str(n) == str(n)[::-1]\n",
    "    binary_palindrome = bin(n)[2:] == bin(n)[2:][::-1]\n",
    "    if decimal_palindrome and binary_palindrome:\n",
    "        return \"Decimal and binary.\"\n",
    "    elif decimal_palindrome:\n",
    "        return \"Decimal only.\"\n",
    "    elif binary_palindrome:\n",
    "        return \"Binary only.\"\n",
    "    else:\n",
    "        return \"Neither!\"\n"
   ]
  },
  {
   "cell_type": "code",
   "execution_count": null,
   "id": "cc6ed03b",
   "metadata": {},
   "outputs": [],
   "source": []
  },
  {
   "cell_type": "code",
   "execution_count": null,
   "id": "c286ae9b",
   "metadata": {},
   "outputs": [],
   "source": []
  }
 ],
 "metadata": {
  "kernelspec": {
   "display_name": "Python 3 (ipykernel)",
   "language": "python",
   "name": "python3"
  },
  "language_info": {
   "codemirror_mode": {
    "name": "ipython",
    "version": 3
   },
   "file_extension": ".py",
   "mimetype": "text/x-python",
   "name": "python",
   "nbconvert_exporter": "python",
   "pygments_lexer": "ipython3",
   "version": "3.9.13"
  }
 },
 "nbformat": 4,
 "nbformat_minor": 5
}
