{
 "cells": [
  {
   "cell_type": "markdown",
   "id": "4f3fc048",
   "metadata": {},
   "source": [
    "# Ques 1: \n",
    "Q1. What is the distinction between a numpy array and a pandas data frame? Is there a way to\n",
    "convert between the two if there is?\n",
    "\n",
    "The main distinction between a NumPy array and a pandas DataFrame lies in their structure and functionality.\n",
    "\n",
    "A NumPy array is a multidimensional container that stores homogeneous data (i.e., all elements have the same data type). It is optimized for numerical operations and provides efficient computation and storage of large arrays. NumPy arrays have a fixed size and shape, and their indexing is based on integer positions.\n",
    "\n",
    "On the other hand, a pandas DataFrame is a two-dimensional labeled data structure with columns of potentially different data types. It is built on top of NumPy arrays but provides additional functionality for data manipulation and analysis. DataFrames offer labeled indexing for both rows and columns, allowing for intuitive data selection and manipulation. They can also handle missing data and provide powerful data alignment capabilities.\n",
    "\n",
    "To convert between a NumPy array and a pandas DataFrame, we can use the pandas.DataFrame() constructor to create a DataFrame from a NumPy array, specifying column names if desired. Conversely, we can use the .values attribute of a DataFrame to obtain a NumPy array representation of the data."
   ]
  },
  {
   "cell_type": "markdown",
   "id": "e4de4282",
   "metadata": {},
   "source": [
    "# Ques 2:\n",
    "Q2. What can go wrong when an user enters in a stock-ticker symbol, and how do you handle it?\n",
    "\n",
    "When a user enters a stock ticker symbol, several issues can arise:\n",
    "\n",
    "1. Incorrect or unrecognized symbol: The user may enter a symbol that does not correspond to any valid stock. In such cases, it is important to handle the error gracefully and provide appropriate feedback to the user.\n",
    "\n",
    "2. Data availability: Not all stock symbols may have available data for the desired timeframe or market. It is necessary to handle cases where the requested data is not available or incomplete.\n",
    "\n",
    "To handle these issues, robust error handling mechanisms should be implemented. This can include validating the user input, checking for data availability, and providing informative error messages to guide the user."
   ]
  },
  {
   "cell_type": "markdown",
   "id": "94da65bb",
   "metadata": {},
   "source": [
    "# Ques 3:\n",
    "Q3. Identify some of the plotting techniques that are used to produce a stock-market chart.\n",
    "\n",
    "Some plotting techniques commonly used to produce stock market charts include:\n",
    "\n",
    "1. Line charts: Line charts display the closing prices of stocks over a given time period. They provide a visual representation of the price trend.\n",
    "\n",
    "2. Candlestick charts: Candlestick charts show the open, high, low, and close prices of stocks for each time period. They provide more detailed information about price movements and can reveal patterns such as bullish or bearish trends.\n",
    "\n",
    "3. Moving averages: Moving averages smooth out price data by calculating an average over a specific time window. They help identify trends and potential support/resistance levels.\n",
    "\n",
    "4. Volume charts: Volume charts display the trading volume of stocks over time. They provide insights into the level of market activity."
   ]
  },
  {
   "cell_type": "markdown",
   "id": "85ab542d",
   "metadata": {},
   "source": [
    "# Ques 4:\n",
    "\n",
    "Q4. Why is it essential to print a legend on a stock market chart?\n",
    "\n",
    "Printing a legend on a stock market chart is essential to provide clear information about the data being displayed. The legend typically includes labels and descriptions for different lines or elements on the chart, such as the price line, moving averages, or other indicators. This helps viewers understand the meaning and significance of each element and facilitates the interpretation of the chart."
   ]
  },
  {
   "cell_type": "markdown",
   "id": "23ab1e2a",
   "metadata": {},
   "source": [
    "# Ques 5:\n",
    "\n",
    "Q5. What is the best way to limit the length of a pandas data frame to less than a year?\n",
    "\n",
    "To limit the length of a pandas DataFrame to less than a year, we can use the indexing capabilities of pandas. Assuming the DataFrame has a column containing the date information, we can filter the DataFrame based on the date range using logical conditions.\n",
    "\n",
    "For example, if our DataFrame has a column named \"date\" containing datetime values, and we want to limit it to less than a year, we can use the following code:"
   ]
  },
  {
   "cell_type": "code",
   "execution_count": null,
   "id": "50c31560",
   "metadata": {},
   "outputs": [],
   "source": [
    "import pandas as pd\n",
    "\n",
    "# Assuming df is the DataFrame\n",
    "start_date = pd.to_datetime('2022-01-01')\n",
    "end_date = pd.to_datetime('2022-12-31')\n",
    "\n",
    "filtered_df = df[(df['date'] >= start_date) & (df['date'] <= end_date)]\n"
   ]
  },
  {
   "cell_type": "markdown",
   "id": "e23c0f4c",
   "metadata": {},
   "source": [
    "# Ques 6:\n",
    "\n",
    "Q6. What is the definition of a 180-day moving average?\n",
    "\n",
    "A 180-day moving average is a technical indicator commonly used in financial analysis. It calculates the average closing price of a stock over the past 180 trading days. Each day, the oldest price is dropped, and the most recent price is added, resulting in a moving average that represents the smoothed trend of the stock's price over the specified period."
   ]
  },
  {
   "cell_type": "markdown",
   "id": "717abeac",
   "metadata": {},
   "source": [
    "# Ques 7:\n",
    "\n",
    "\n",
    "Q7. Did the chapter's final example use \"indirect\" importing? If so, how exactly do you do it?\n",
    "\n",
    "\"Indirect\" importing, as mentioned in the question, refers to importing a module indirectly through another module. In the context of the chapter's final example, it refers to importing the numpy module indirectly through the pandas module.\n",
    "\n",
    "In the example, the pandas module was imported using the statement import pandas as pd. Later in the code, the numpy module was used for certain operations, but it was not imported explicitly. However, since pandas depends on numpy, it imports numpy internally.\n",
    "\n",
    "This approach allows the code to access the functionality of both pandas and numpy without the need for separate import statements for each module. It simplifies the code and avoids redundancy."
   ]
  },
  {
   "cell_type": "code",
   "execution_count": null,
   "id": "3bda1904",
   "metadata": {},
   "outputs": [],
   "source": []
  }
 ],
 "metadata": {
  "kernelspec": {
   "display_name": "Python 3 (ipykernel)",
   "language": "python",
   "name": "python3"
  },
  "language_info": {
   "codemirror_mode": {
    "name": "ipython",
    "version": 3
   },
   "file_extension": ".py",
   "mimetype": "text/x-python",
   "name": "python",
   "nbconvert_exporter": "python",
   "pygments_lexer": "ipython3",
   "version": "3.9.13"
  }
 },
 "nbformat": 4,
 "nbformat_minor": 5
}
