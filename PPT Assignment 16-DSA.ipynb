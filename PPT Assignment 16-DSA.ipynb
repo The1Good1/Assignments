{
 "cells": [
  {
   "cell_type": "markdown",
   "id": "4e864a43",
   "metadata": {},
   "source": [
    "# Ques 1 \n",
    "\n"
   ]
  },
  {
   "cell_type": "code",
   "execution_count": null,
   "id": "ec9ef308",
   "metadata": {},
   "outputs": [],
   "source": [
    "def nearestGreaterFrequency(arr):\n",
    "    frequency = {}\n",
    "    stack = []\n",
    "    result = [-1] * len(arr)\n",
    "\n",
    "    for i in range(len(arr) - 1, -1, -1):\n",
    "        if arr[i] in frequency:\n",
    "            frequency[arr[i]] += 1\n",
    "        else:\n",
    "            frequency[arr[i]] = 1\n",
    "\n",
    "        while stack and frequency[arr[stack[-1]]] <= frequency[arr[i]]:\n",
    "            stack.pop()\n",
    "\n",
    "        if stack:\n",
    "            result[i] = arr[stack[-1]]\n",
    "\n",
    "        stack.append(i)\n",
    "\n",
    "    return result\n"
   ]
  },
  {
   "cell_type": "markdown",
   "id": "be9e9310",
   "metadata": {},
   "source": [
    "# Ques 2\n",
    "\n"
   ]
  },
  {
   "cell_type": "code",
   "execution_count": 10,
   "id": "3cfc3e87",
   "metadata": {},
   "outputs": [],
   "source": [
    "def sortStack(stack):\n",
    "    tempStack = []\n",
    "\n",
    "    while stack:\n",
    "        temp = stack.pop()\n",
    "\n",
    "        while tempStack and tempStack[-1] > temp:\n",
    "            stack.append(tempStack.pop())\n",
    "\n",
    "        tempStack.append(temp)\n",
    "\n",
    "    while tempStack:\n",
    "        stack.append(tempStack.pop())\n",
    "\n",
    "\n"
   ]
  },
  {
   "cell_type": "markdown",
   "id": "87d70732",
   "metadata": {},
   "source": [
    "# Ques 3\n",
    "\n",
    "\n"
   ]
  },
  {
   "cell_type": "code",
   "execution_count": 11,
   "id": "a22f7bfb",
   "metadata": {},
   "outputs": [],
   "source": [
    "def deleteMiddle(stack, n, current):\n",
    "    if current == n // 2:\n",
    "        stack.pop()\n",
    "        return\n",
    "\n",
    "    temp = stack.pop()\n",
    "    deleteMiddle(stack, n, current + 1)\n",
    "    stack.append(temp)\n",
    "\n"
   ]
  },
  {
   "cell_type": "markdown",
   "id": "a3fe9b28",
   "metadata": {},
   "source": [
    "# Ques 4\n",
    "\n"
   ]
  },
  {
   "cell_type": "code",
   "execution_count": null,
   "id": "de5e40f4",
   "metadata": {},
   "outputs": [],
   "source": [
    "def checkArrangement(queue):\n",
    "    stack = []\n",
    "    second_queue = []\n",
    "    expected = 1\n",
    "\n",
    "    for element in queue:\n",
    "        if element == expected:\n",
    "            second_queue.append(element)\n",
    "            expected += 1\n",
    "        else:\n",
    "            stack.append(element)\n",
    "\n",
    "    while stack:\n",
    "        popped_element = stack.pop()\n",
    "        if popped_element == expected:\n",
    "            second_queue.append(popped_element)\n",
    "            expected += 1\n",
    "        else:\n",
    "            return \"No\"\n",
    "\n",
    "    return \"Yes\"\n",
    "\n",
    "# Example 1\n",
    "queue1 = [5, 1, 2, 3, 4]\n",
    "print(checkArrangement(queue1))  # Output: Yes\n",
    "\n",
    "# Example 2\n",
    "queue2 = [5, 1, 2, 6, 3, 4]\n",
    "print(checkArrangement(queue2))  # Output: No\n"
   ]
  },
  {
   "cell_type": "markdown",
   "id": "5fed043f",
   "metadata": {},
   "source": [
    "# Ques 5\n",
    "\n"
   ]
  },
  {
   "cell_type": "code",
   "execution_count": null,
   "id": "30d77af7",
   "metadata": {},
   "outputs": [],
   "source": [
    "def reverseNumber(num):\n",
    "    num_str = str(num)\n",
    "    stack = []\n",
    "\n",
    "    # Push digits onto the stack\n",
    "    for digit in num_str:\n",
    "        stack.append(digit)\n",
    "\n",
    "    # Pop digits from the stack to form reversed number\n",
    "    reversed_num = ''\n",
    "    while stack:\n",
    "        reversed_num += stack.pop()\n",
    "\n",
    "    return int(reversed_num)\n"
   ]
  },
  {
   "cell_type": "markdown",
   "id": "0b2960c8",
   "metadata": {},
   "source": [
    "# Ques 6\n",
    "\n"
   ]
  },
  {
   "cell_type": "code",
   "execution_count": null,
   "id": "fb127294",
   "metadata": {},
   "outputs": [],
   "source": [
    "from queue import Queue\n",
    "\n",
    "def reverse_first_k(queue, k):\n",
    "    stack = []\n",
    "    \n",
    "    # Dequeue the first k elements and push them onto the stack\n",
    "    for _ in range(k):\n",
    "        stack.append(queue.get())\n",
    "    \n",
    "    # Dequeue the remaining elements and enqueue them back into the queue\n",
    "    while not queue.empty():\n",
    "        queue.put(queue.get())\n",
    "    \n",
    "    # Pop the elements from the stack and enqueue them back into the queue\n",
    "    while stack:\n",
    "        queue.put(stack.pop())\n",
    "    \n",
    "    return queue\n"
   ]
  },
  {
   "cell_type": "markdown",
   "id": "8d21aec2",
   "metadata": {},
   "source": [
    "# Ques 7\n",
    "\n"
   ]
  },
  {
   "cell_type": "code",
   "execution_count": null,
   "id": "4bf011eb",
   "metadata": {},
   "outputs": [],
   "source": [
    "def countWords(sequence):\n",
    "    stack = []\n",
    "\n",
    "    for word in sequence:\n",
    "        if len(stack) > 0 and stack[-1] == word:\n",
    "            stack.pop()\n",
    "        else:\n",
    "            stack.append(word)\n",
    "\n",
    "    return len(stack)\n"
   ]
  },
  {
   "cell_type": "markdown",
   "id": "e9ec146f",
   "metadata": {},
   "source": [
    "# Ques 8\n",
    "\n"
   ]
  },
  {
   "cell_type": "code",
   "execution_count": 12,
   "id": "d03fafeb",
   "metadata": {},
   "outputs": [],
   "source": [
    "def max_absolute_difference(arr):\n",
    "    n = len(arr)\n",
    "    left_smaller = [0] * n\n",
    "    right_smaller = [0] * n\n",
    "\n",
    "    left_smaller[0] = 0\n",
    "    right_smaller[n - 1] = 0\n",
    "\n",
    "    for i in range(1, n):\n",
    "        if arr[i] < arr[i - 1]:\n",
    "            left_smaller[i] = arr[i - 1]\n",
    "        else:\n",
    "            j = i - 1\n",
    "            while j > 0 and arr[i] >= left_smaller[j]:\n",
    "                j -= 1\n",
    "            left_smaller[i] = left_smaller[j]\n",
    "\n",
    "    for i in range(n - 2, -1, -1):\n",
    "        if arr[i] < arr[i + 1]:\n",
    "            right_smaller[i] = arr[i + 1]\n",
    "        else:\n",
    "            j = i + 1\n",
    "            while j < n - 1 and arr[i] >= right_smaller[j]:\n",
    "                j += 1\n",
    "            right_smaller[i] = right_smaller[j]\n",
    "\n",
    "    max_diff = 0\n",
    "    for i in range(n):\n",
    "        diff = abs(left_smaller[i] - right_smaller[i])\n",
    "        if diff > max_diff:\n",
    "            max_diff = diff\n",
    "\n",
    "    return max_diff\n"
   ]
  }
 ],
 "metadata": {
  "kernelspec": {
   "display_name": "Python 3 (ipykernel)",
   "language": "python",
   "name": "python3"
  },
  "language_info": {
   "codemirror_mode": {
    "name": "ipython",
    "version": 3
   },
   "file_extension": ".py",
   "mimetype": "text/x-python",
   "name": "python",
   "nbconvert_exporter": "python",
   "pygments_lexer": "ipython3",
   "version": "3.9.13"
  }
 },
 "nbformat": 4,
 "nbformat_minor": 5
}
