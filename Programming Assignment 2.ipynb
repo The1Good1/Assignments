{
 "cells": [
  {
   "cell_type": "markdown",
   "id": "ed0627c2",
   "metadata": {},
   "source": [
    "# Ques 1\n",
    "\n",
    "1. Write a Python program to convert kilometers to miles?\n"
   ]
  },
  {
   "cell_type": "code",
   "execution_count": 6,
   "id": "a0d64106",
   "metadata": {},
   "outputs": [
    {
     "name": "stdout",
     "output_type": "stream",
     "text": [
      "Enter the distance in kilometers: 22\n",
      "Distance in miles: 13.670162\n"
     ]
    }
   ],
   "source": [
    "kilometers = float(input(\"Enter the distance in kilometers: \"))\n",
    "\n",
    "# Conversion factor for kilometers to miles\n",
    "conversion_factor = 0.621371\n",
    "\n",
    "# Calculate miles\n",
    "miles = kilometers * conversion_factor\n",
    "\n",
    "print(\"Distance in miles:\", miles)\n"
   ]
  },
  {
   "cell_type": "markdown",
   "id": "2b52888e",
   "metadata": {},
   "source": [
    "# Ques 2\n",
    "\n",
    "2. Write a Python program to convert Celsius to Fahrenheit?\n"
   ]
  },
  {
   "cell_type": "code",
   "execution_count": 7,
   "id": "ed0bcf04",
   "metadata": {},
   "outputs": [
    {
     "name": "stdout",
     "output_type": "stream",
     "text": [
      "Enter the temperature in Celsius: 21\n",
      "Temperature in Fahrenheit: 69.8\n"
     ]
    }
   ],
   "source": [
    "celsius = float(input(\"Enter the temperature in Celsius: \"))\n",
    "\n",
    "# Conversion formula for Celsius to Fahrenheit\n",
    "fahrenheit = (celsius * 9/5) + 32\n",
    "\n",
    "print(\"Temperature in Fahrenheit:\", fahrenheit)\n"
   ]
  },
  {
   "cell_type": "markdown",
   "id": "85d2e1d5",
   "metadata": {},
   "source": [
    "# Ques 3\n",
    "\n",
    "3. Write a Python program to display calendar?\n"
   ]
  },
  {
   "cell_type": "code",
   "execution_count": 8,
   "id": "fce13065",
   "metadata": {},
   "outputs": [
    {
     "name": "stdout",
     "output_type": "stream",
     "text": [
      "Enter the year: 2014\n",
      "Enter the month: 2\n",
      "   February 2014\n",
      "Mo Tu We Th Fr Sa Su\n",
      "                1  2\n",
      " 3  4  5  6  7  8  9\n",
      "10 11 12 13 14 15 16\n",
      "17 18 19 20 21 22 23\n",
      "24 25 26 27 28\n",
      "\n"
     ]
    }
   ],
   "source": [
    "import calendar\n",
    "\n",
    "year = int(input(\"Enter the year: \"))\n",
    "month = int(input(\"Enter the month: \"))\n",
    "\n",
    "# Display calendar for the given year and month\n",
    "print(calendar.month(year, month))\n"
   ]
  },
  {
   "cell_type": "markdown",
   "id": "3828c2b7",
   "metadata": {},
   "source": [
    "# Ques 4\n",
    "\n",
    "4. Write a Python program to solve quadratic equation?\n"
   ]
  },
  {
   "cell_type": "code",
   "execution_count": 10,
   "id": "6f013408",
   "metadata": {},
   "outputs": [
    {
     "name": "stdout",
     "output_type": "stream",
     "text": [
      "Enter the coefficient a: 2\n",
      "Enter the coefficient b: 4\n",
      "Enter the coefficient c: 8\n",
      "No real roots exist for the quadratic equation.\n"
     ]
    }
   ],
   "source": [
    "import math\n",
    "\n",
    "a = float(input(\"Enter the coefficient a: \"))\n",
    "b = float(input(\"Enter the coefficient b: \"))\n",
    "c = float(input(\"Enter the coefficient c: \"))\n",
    "\n",
    "# Calculate the discriminant\n",
    "discriminant = b**2 - 4*a*c\n",
    "\n",
    "# Check if the equation has real roots\n",
    "if discriminant >= 0:\n",
    "    # Calculate the roots\n",
    "    root1 = (-b + math.sqrt(discriminant)) / (2*a)\n",
    "    root2 = (-b - math.sqrt(discriminant)) / (2*a)\n",
    "    print(\"Roots of the quadratic equation:\")\n",
    "    print(\"Root 1:\", root1)\n",
    "    print(\"Root 2:\", root2)\n",
    "else:\n",
    "    print(\"No real roots exist for the quadratic equation.\")\n"
   ]
  },
  {
   "cell_type": "markdown",
   "id": "1219d95a",
   "metadata": {},
   "source": [
    "# Ques 5\n",
    "\n",
    "5. Write a Python program to swap two variables without temp variable?\n"
   ]
  },
  {
   "cell_type": "code",
   "execution_count": 11,
   "id": "bed3fff3",
   "metadata": {},
   "outputs": [
    {
     "name": "stdout",
     "output_type": "stream",
     "text": [
      "Before swapping:\n",
      "a = 10\n",
      "b = 20\n",
      "After swapping:\n",
      "a = 20\n",
      "b = 10\n"
     ]
    }
   ],
   "source": [
    "a = 10\n",
    "b = 20\n",
    "\n",
    "print(\"Before swapping:\")\n",
    "print(\"a =\", a)\n",
    "print(\"b =\", b)\n",
    "\n",
    "# Swap variables without using a temporary variable\n",
    "a, b = b, a\n",
    "\n",
    "print(\"After swapping:\")\n",
    "print(\"a =\", a)\n",
    "print(\"b =\", b)\n"
   ]
  },
  {
   "cell_type": "code",
   "execution_count": null,
   "id": "77b66556",
   "metadata": {},
   "outputs": [],
   "source": []
  }
 ],
 "metadata": {
  "kernelspec": {
   "display_name": "Python 3 (ipykernel)",
   "language": "python",
   "name": "python3"
  },
  "language_info": {
   "codemirror_mode": {
    "name": "ipython",
    "version": 3
   },
   "file_extension": ".py",
   "mimetype": "text/x-python",
   "name": "python",
   "nbconvert_exporter": "python",
   "pygments_lexer": "ipython3",
   "version": "3.9.13"
  }
 },
 "nbformat": 4,
 "nbformat_minor": 5
}
