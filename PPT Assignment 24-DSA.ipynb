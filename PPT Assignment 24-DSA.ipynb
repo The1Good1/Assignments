{
 "cells": [
  {
   "cell_type": "markdown",
   "id": "4e864a43",
   "metadata": {},
   "source": [
    "# Ques 1\n",
    "\n"
   ]
  },
  {
   "cell_type": "code",
   "execution_count": null,
   "id": "ec9ef308",
   "metadata": {},
   "outputs": [],
   "source": [
    "def romanToInt(s):\n",
    "    roman_values = {\n",
    "        'I': 1,\n",
    "        'V': 5,\n",
    "        'X': 10,\n",
    "        'L': 50,\n",
    "        'C': 100,\n",
    "        'D': 500,\n",
    "        'M': 1000\n",
    "    }\n",
    "\n",
    "    result = 0\n",
    "    prev_value = 0\n",
    "\n",
    "    for i in range(len(s) - 1, -1, -1):\n",
    "        current_value = roman_values[s[i]]\n",
    "        if current_value >= prev_value:\n",
    "            result += current_value\n",
    "        else:\n",
    "            result -= current_value\n",
    "        prev_value = current_value\n",
    "\n",
    "    return result\n"
   ]
  },
  {
   "cell_type": "markdown",
   "id": "be9e9310",
   "metadata": {},
   "source": [
    "# Ques 2\n",
    "\n"
   ]
  },
  {
   "cell_type": "code",
   "execution_count": 10,
   "id": "3cfc3e87",
   "metadata": {},
   "outputs": [],
   "source": [
    "def lengthOfLongestSubstring(s):\n",
    "    n = len(s)\n",
    "    char_set = set()\n",
    "    max_length = 0\n",
    "    left = 0\n",
    "    right = 0\n",
    "\n",
    "    while right < n:\n",
    "        if s[right] not in char_set:\n",
    "            char_set.add(s[right])\n",
    "            max_length = max(max_length, right - left + 1)\n",
    "            right += 1\n",
    "        else:\n",
    "            char_set.remove(s[left])\n",
    "            left += 1\n",
    "\n",
    "    return max_length\n"
   ]
  },
  {
   "cell_type": "markdown",
   "id": "87d70732",
   "metadata": {},
   "source": [
    "# Ques 3\n",
    "\n",
    "\n"
   ]
  },
  {
   "cell_type": "code",
   "execution_count": 11,
   "id": "a22f7bfb",
   "metadata": {},
   "outputs": [],
   "source": [
    "def majorityElement(nums):\n",
    "    count = 0\n",
    "    candidate = None\n",
    "\n",
    "    for num in nums:\n",
    "        if count == 0:\n",
    "            candidate = num\n",
    "        count += 1 if num == candidate else -1\n",
    "\n",
    "    return candidate\n"
   ]
  },
  {
   "cell_type": "markdown",
   "id": "5a5d3b41",
   "metadata": {},
   "source": [
    "# Ques 4\n",
    "\n"
   ]
  },
  {
   "cell_type": "code",
   "execution_count": 12,
   "id": "d03fafeb",
   "metadata": {},
   "outputs": [],
   "source": [
    "def groupAnagrams(strs):\n",
    "    anagram_map = {}\n",
    "\n",
    "    for string in strs:\n",
    "        sorted_str = ''.join(sorted(string))\n",
    "        if sorted_str in anagram_map:\n",
    "            anagram_map[sorted_str].append(string)\n",
    "        else:\n",
    "            anagram_map[sorted_str] = [string]\n",
    "\n",
    "    return list(anagram_map.values())\n"
   ]
  },
  {
   "cell_type": "markdown",
   "id": "023f0137",
   "metadata": {},
   "source": [
    "# Ques 5\n"
   ]
  },
  {
   "cell_type": "code",
   "execution_count": 13,
   "id": "37e6093f",
   "metadata": {},
   "outputs": [],
   "source": [
    "def nthUglyNumber(n):\n",
    "    ugly = [1]\n",
    "    i2 = i3 = i5 = 0\n",
    "\n",
    "    while len(ugly) < n:\n",
    "        next_ugly = min(ugly[i2] * 2, ugly[i3] * 3, ugly[i5] * 5)\n",
    "        ugly.append(next_ugly)\n",
    "\n",
    "        if next_ugly == ugly[i2] * 2:\n",
    "            i2 += 1\n",
    "        if next_ugly == ugly[i3] * 3:\n",
    "            i3 += 1\n",
    "        if next_ugly == ugly[i5] * 5:\n",
    "            i5 += 1\n",
    "\n",
    "    return ugly[-1]\n"
   ]
  },
  {
   "cell_type": "markdown",
   "id": "c6b97405",
   "metadata": {},
   "source": [
    "# Ques 6\n"
   ]
  },
  {
   "cell_type": "code",
   "execution_count": 14,
   "id": "f1dab1e8",
   "metadata": {},
   "outputs": [],
   "source": [
    "import heapq\n",
    "from collections import Counter\n",
    "\n",
    "def topKFrequent(words, k):\n",
    "    counter = Counter(words)\n",
    "    min_heap = []\n",
    "\n",
    "    for word, freq in counter.items():\n",
    "        heapq.heappush(min_heap, (-freq, word))\n",
    "        if len(min_heap) > k:\n",
    "            heapq.heappop(min_heap)\n",
    "\n",
    "    return [word for _, word in reversed(min_heap)]\n"
   ]
  },
  {
   "cell_type": "markdown",
   "id": "93175276",
   "metadata": {},
   "source": [
    "# Ques 7\n",
    "\n"
   ]
  },
  {
   "cell_type": "code",
   "execution_count": 15,
   "id": "f5074bf0",
   "metadata": {},
   "outputs": [],
   "source": [
    "from collections import deque\n",
    "\n",
    "def maxSlidingWindow(nums, k):\n",
    "    dq = deque()\n",
    "    result = []\n",
    "\n",
    "    for i in range(len(nums)):\n",
    "        while dq and dq[0] <= i - k:\n",
    "            dq.popleft()\n",
    "        while dq and nums[dq[-1]] <= nums[i]:\n",
    "            dq.pop()\n",
    "        dq.append(i)\n",
    "\n",
    "        if i >= k - 1:\n",
    "            result.append(nums[dq[0]])\n",
    "\n",
    "    return result\n"
   ]
  },
  {
   "cell_type": "markdown",
   "id": "0e704234",
   "metadata": {},
   "source": [
    "# Ques 8\n"
   ]
  },
  {
   "cell_type": "code",
   "execution_count": null,
   "id": "37d3a534",
   "metadata": {},
   "outputs": [],
   "source": [
    "def findClosestElements(arr, k, x):\n",
    "    left = 0\n",
    "    right = len(arr) - k\n",
    "\n",
    "    while left < right:\n",
    "        mid = left + (right - left) // 2\n",
    "        if x - arr[mid] > arr[mid + k] - x:\n",
    "            left = mid + 1\n",
    "        else:\n",
    "            right = mid\n",
    "\n",
    "    return arr[left:left + k]\n"
   ]
  }
 ],
 "metadata": {
  "kernelspec": {
   "display_name": "Python 3 (ipykernel)",
   "language": "python",
   "name": "python3"
  },
  "language_info": {
   "codemirror_mode": {
    "name": "ipython",
    "version": 3
   },
   "file_extension": ".py",
   "mimetype": "text/x-python",
   "name": "python",
   "nbconvert_exporter": "python",
   "pygments_lexer": "ipython3",
   "version": "3.9.13"
  }
 },
 "nbformat": 4,
 "nbformat_minor": 5
}
