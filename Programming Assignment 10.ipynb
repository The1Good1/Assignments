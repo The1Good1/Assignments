{
 "cells": [
  {
   "cell_type": "markdown",
   "id": "402b1ce8",
   "metadata": {},
   "source": [
    "# Ques 1\n",
    "\n",
    "1. Write a Python program to find sum of elements in list?\n"
   ]
  },
  {
   "cell_type": "code",
   "execution_count": null,
   "id": "ff36f7f7",
   "metadata": {},
   "outputs": [],
   "source": [
    "def find_sum(lst):\n",
    "    return sum(lst)\n",
    "\n",
    "# Test the function\n",
    "numbers = [1, 2, 3, 4, 5]\n",
    "print(\"Sum:\", find_sum(numbers))\n"
   ]
  },
  {
   "cell_type": "markdown",
   "id": "15189d7c",
   "metadata": {},
   "source": [
    "# Ques 2\n",
    "2. Write a Python program to Multiply all numbers in the list?\n"
   ]
  },
  {
   "cell_type": "code",
   "execution_count": null,
   "id": "263cd2c5",
   "metadata": {},
   "outputs": [],
   "source": [
    "def multiply_numbers(lst):\n",
    "    result = 1\n",
    "    for num in lst:\n",
    "        result *= num\n",
    "    return result\n",
    "\n",
    "# Test the function\n",
    "numbers = [1, 2, 3, 4, 5]\n",
    "print(\"Product:\", multiply_numbers(numbers))\n"
   ]
  },
  {
   "cell_type": "markdown",
   "id": "9cbe93bb",
   "metadata": {},
   "source": [
    "# Ques 3\n",
    "\n",
    "3. Write a Python program to find smallest number in a list?\n"
   ]
  },
  {
   "cell_type": "code",
   "execution_count": 66,
   "id": "ebfe5a23",
   "metadata": {},
   "outputs": [
    {
     "name": "stdout",
     "output_type": "stream",
     "text": [
      "Smallest number: 1\n"
     ]
    }
   ],
   "source": [
    "def find_smallest(lst):\n",
    "    return min(lst)\n",
    "\n",
    "# Test the function\n",
    "numbers = [5, 3, 9, 1, 7]\n",
    "print(\"Smallest number:\", find_smallest(numbers))\n"
   ]
  },
  {
   "cell_type": "markdown",
   "id": "dd99c353",
   "metadata": {},
   "source": [
    "# Ques 4\n",
    "\n",
    "4. Write a Python program to find largest number in a list?\n",
    "\n"
   ]
  },
  {
   "cell_type": "code",
   "execution_count": null,
   "id": "fb97e2b2",
   "metadata": {},
   "outputs": [],
   "source": [
    "def find_largest(lst):\n",
    "    return max(lst)\n",
    "\n",
    "# Test the function\n",
    "numbers = [5, 3, 9, 1, 7]\n",
    "print(\"Largest number:\", find_largest(numbers))\n"
   ]
  },
  {
   "cell_type": "markdown",
   "id": "d03243ab",
   "metadata": {},
   "source": [
    "# Ques 5\n",
    "\n",
    "5. Write a Python program to find second largest number in a list?\n"
   ]
  },
  {
   "cell_type": "code",
   "execution_count": 67,
   "id": "0e68e0b1",
   "metadata": {},
   "outputs": [
    {
     "name": "stdout",
     "output_type": "stream",
     "text": [
      "Second largest number: 7\n"
     ]
    }
   ],
   "source": [
    "def find_second_largest(lst):\n",
    "    sorted_lst = sorted(lst)\n",
    "    return sorted_lst[-2]\n",
    "\n",
    "# Test the function\n",
    "numbers = [5, 3, 9, 1, 7]\n",
    "print(\"Second largest number:\", find_second_largest(numbers))\n"
   ]
  },
  {
   "cell_type": "markdown",
   "id": "0e001cd5",
   "metadata": {},
   "source": [
    "# Ques 6\n",
    "\n",
    "6. Write a Python program to find N largest elements from a list?\n"
   ]
  },
  {
   "cell_type": "code",
   "execution_count": null,
   "id": "2a25c818",
   "metadata": {},
   "outputs": [],
   "source": [
    "def find_n_largest(lst, n):\n",
    "    sorted_lst = sorted(lst, reverse=True)\n",
    "    return sorted_lst[:n]\n",
    "\n",
    "# Test the function\n",
    "numbers = [5, 3, 9, 1, 7]\n",
    "n = 3\n",
    "print(f\"{n} largest numbers:\", find_n_largest(numbers, n))\n"
   ]
  },
  {
   "cell_type": "markdown",
   "id": "a9f21248",
   "metadata": {},
   "source": [
    "# Ques 7\n",
    "\n",
    "7. Write a Python program to print even numbers in a list?\n"
   ]
  },
  {
   "cell_type": "code",
   "execution_count": 68,
   "id": "4b6c2d59",
   "metadata": {},
   "outputs": [
    {
     "name": "stdout",
     "output_type": "stream",
     "text": [
      "Even numbers:\n",
      "2\n",
      "4\n"
     ]
    }
   ],
   "source": [
    "def print_even_numbers(lst):\n",
    "    for num in lst:\n",
    "        if num % 2 == 0:\n",
    "            print(num)\n",
    "\n",
    "# Test the function\n",
    "numbers = [1, 2, 3, 4, 5]\n",
    "print(\"Even numbers:\")\n",
    "print_even_numbers(numbers)\n"
   ]
  },
  {
   "cell_type": "markdown",
   "id": "915fd5d1",
   "metadata": {},
   "source": [
    "# Ques 8\n",
    "\n",
    "8. Write a Python program to print odd numbers in a List?\n"
   ]
  },
  {
   "cell_type": "code",
   "execution_count": 69,
   "id": "359ed9dc",
   "metadata": {},
   "outputs": [
    {
     "name": "stdout",
     "output_type": "stream",
     "text": [
      "Odd numbers:\n",
      "1\n",
      "3\n",
      "5\n"
     ]
    }
   ],
   "source": [
    "def print_odd_numbers(lst):\n",
    "    for num in lst:\n",
    "        if num % 2 != 0:\n",
    "            print(num)\n",
    "\n",
    "# Test the function\n",
    "numbers = [1, 2, 3, 4, 5]\n",
    "print(\"Odd numbers:\")\n",
    "print_odd_numbers(numbers)\n"
   ]
  },
  {
   "cell_type": "markdown",
   "id": "f6e4a36c",
   "metadata": {},
   "source": [
    "# Ques 9\n",
    "\n",
    "9. Write a Python program to Remove empty List from List?\n"
   ]
  },
  {
   "cell_type": "code",
   "execution_count": 70,
   "id": "6aea4056",
   "metadata": {},
   "outputs": [
    {
     "name": "stdout",
     "output_type": "stream",
     "text": [
      "List after removing empty lists: [1, [2, 3], 4]\n"
     ]
    }
   ],
   "source": [
    "def remove_empty_lists(lst):\n",
    "    return [sublist for sublist in lst if sublist]\n",
    "\n",
    "# Test the function\n",
    "my_list = [1, [], [2, 3], [], 4, []]\n",
    "print(\"List after removing empty lists:\", remove_empty_lists(my_list))\n"
   ]
  },
  {
   "cell_type": "markdown",
   "id": "ada3bfcb",
   "metadata": {},
   "source": [
    "# Ques 10\n",
    "\n",
    "10. Write a Python program to Cloning or Copying a list?\n"
   ]
  },
  {
   "cell_type": "code",
   "execution_count": 71,
   "id": "ac68e546",
   "metadata": {},
   "outputs": [
    {
     "name": "stdout",
     "output_type": "stream",
     "text": [
      "Original list: [1, 2, 3, 4, 5]\n",
      "Cloned list: [1, 2, 3, 4, 5]\n"
     ]
    }
   ],
   "source": [
    "def clone_list(lst):\n",
    "    return lst.copy()\n",
    "\n",
    "# Test the function\n",
    "original_list = [1, 2, 3, 4, 5]\n",
    "cloned_list = clone_list(original_list)\n",
    "print(\"Original list:\", original_list)\n",
    "print(\"Cloned list:\", cloned_list)\n"
   ]
  },
  {
   "cell_type": "markdown",
   "id": "d4f55b2c",
   "metadata": {},
   "source": [
    "# Ques 11\n",
    "\n",
    "11. Write a Python program to Count occurrences of an element in a list?"
   ]
  },
  {
   "cell_type": "code",
   "execution_count": 72,
   "id": "e4b14ebb",
   "metadata": {},
   "outputs": [
    {
     "name": "stdout",
     "output_type": "stream",
     "text": [
      "Occurrences of 2 in the list: 3\n"
     ]
    }
   ],
   "source": [
    "def count_occurrences(lst, element):\n",
    "    return lst.count(element)\n",
    "\n",
    "# Test the function\n",
    "numbers = [1, 2, 3, 2, 4, 2, 5]\n",
    "element = 2\n",
    "print(\"Occurrences of\", element, \"in the list:\", count_occurrences(numbers, element))\n"
   ]
  },
  {
   "cell_type": "code",
   "execution_count": null,
   "id": "aeeef5ed",
   "metadata": {},
   "outputs": [],
   "source": []
  }
 ],
 "metadata": {
  "kernelspec": {
   "display_name": "Python 3 (ipykernel)",
   "language": "python",
   "name": "python3"
  },
  "language_info": {
   "codemirror_mode": {
    "name": "ipython",
    "version": 3
   },
   "file_extension": ".py",
   "mimetype": "text/x-python",
   "name": "python",
   "nbconvert_exporter": "python",
   "pygments_lexer": "ipython3",
   "version": "3.9.13"
  }
 },
 "nbformat": 4,
 "nbformat_minor": 5
}
