{
 "cells": [
  {
   "cell_type": "markdown",
   "id": "4f3fc048",
   "metadata": {},
   "source": [
    "# Ques 1: \n",
    "Q1. If you have any, what are your choices for increasing the comparison between different figures on\n",
    "the same graph?\n",
    "\n",
    "To increase the comparison between different figures on the same graph, you can consider the following options:\n",
    "\n",
    "1. Adjusting the scale: Use appropriate scaling on the axes to ensure that the data points are spread out enough to facilitate comparison. This can be done by changing the range or tick spacing on the axes.\n",
    "\n",
    "2. Using different colors or markers: Assign distinct colors or markers to different figures on the graph to make them visually distinguishable.\n",
    "\n",
    "3. Adding annotations or labels: Include labels or annotations near the data points or lines to provide additional information or highlight key features.\n",
    "\n",
    "4. Using subplots: If the figures are significantly different in scale or range, consider creating subplots with shared or individual axes to compare them side by side.\n",
    "\n"
   ]
  },
  {
   "cell_type": "markdown",
   "id": "e4de4282",
   "metadata": {},
   "source": [
    "# Ques 2:\n",
    "Q2. Can you explain the benefit of compound interest over a higher rate of interest that does not\n",
    "compound after reading this chapter?\n",
    "\n",
    "Compound interest refers to the process of earning interest on both the initial principal amount and the accumulated interest from previous periods. The benefit of compound interest over a higher rate of interest that does not compound is that it allows for exponential growth of the investment or loan balance over time.\n",
    "\n",
    "With compound interest, the interest earned or charged in each period is added to the principal, and subsequent interest calculations are based on the increased principal. As a result, the interest compounds and grows over time, leading to higher overall returns or larger debt balances.\n",
    "\n",
    "In contrast, a higher rate of interest that does not compound would only apply the interest to the initial principal amount. The interest earned or charged in each period does not accumulate and contribute to future interest calculations. This leads to slower growth of investments and smaller debt balances compared to compound interest.\n",
    "\n"
   ]
  },
  {
   "cell_type": "markdown",
   "id": "94da65bb",
   "metadata": {},
   "source": [
    "# Ques 3:\n",
    "Q3. What is a histogram, exactly? Name a numpy method for creating such a graph.\n",
    "\n",
    "A histogram is a graphical representation of the distribution of a dataset. It consists of a set of bins that divide the range of values of the dataset into intervals, and the height of each bin represents the frequency or count of values falling within that interval. Histograms are used to visualize the underlying distribution of continuous or discrete data.\n",
    "In NumPy, the numpy.histogram method can be used to create a histogram. It takes an input array or sequence of data values and returns the histogram values (bin counts) and bin edges. The resulting histogram can then be plotted using visualization libraries like Matplotlib.\n",
    "\n"
   ]
  },
  {
   "cell_type": "markdown",
   "id": "95ce2889",
   "metadata": {},
   "source": [
    "# Ques 4:\n",
    "\n",
    "Q4. If necessary, how do you change the aspect ratios between the X and Y axes?\n",
    "\n",
    "To change the aspect ratios between the X and Y axes, you can modify the aspect parameter of the plot or figure. In Matplotlib, for example, you can use the plt.axes or plt.subplot function with the aspect parameter to set the aspect ratio.\n",
    "For instance, to set the aspect ratio to be equal, you can use plt.axes(aspect='equal') or plt.subplot(aspect='equal'). This ensures that one unit on the X-axis is equal in length to one unit on the Y-axis, resulting in a square aspect ratio.\n",
    "\n"
   ]
  },
  {
   "cell_type": "markdown",
   "id": "925a6720",
   "metadata": {},
   "source": [
    "# Ques 5:\n",
    "\n",
    "Q5. Compare and contrast the three types of array multiplication between two numpy arrays: dot\n",
    "product, outer product, and regular multiplication of two numpy arrays.\n",
    "\n",
    "The three types of array multiplication between two NumPy arrays are:\n",
    "\n",
    "1. Dot product: The dot product of two arrays is calculated using the numpy.dot function or the dot operator (@). It performs matrix multiplication if the arrays are two-dimensional or calculates the dot product if the arrays are one-dimensional. The resulting array is a scalar or a matrix depending on the dimensions of the input arrays.\n",
    "\n",
    "2. Outer product: The outer product of two arrays is calculated using the numpy.outer function. It computes the tensor product of the two input arrays, resulting in a new array with dimensions determined by the sizes of the input arrays. The resulting array will have the product of each element from the first array with each element from the second array.\n",
    "\n",
    "3. Regular multiplication: Regular multiplication (*) between two NumPy arrays performs element-wise multiplication. Each element in one array is multiplied with the corresponding element in the other array, resulting in an array with the same shape as the input arrays. This is the default multiplication behavior for NumPy arrays.\n",
    "\n"
   ]
  },
  {
   "cell_type": "markdown",
   "id": "dc2ffe47",
   "metadata": {},
   "source": [
    "# Ques 6:\n",
    "\n",
    "Q6. Before you buy a home, which numpy function will you use to measure your monthly mortgage\n",
    "payment?\n",
    "\n",
    "Before buying a home, a numpy function that can be used to measure the monthly mortgage payment is numpy.pmt. This function calculates the payment amount for a loan based on a fixed interest rate, a fixed number of periods, and a present value (loan amount). The function returns the monthly payment required to fully amortize the loan over the specified number of periods.\n",
    "\n"
   ]
  },
  {
   "cell_type": "markdown",
   "id": "6ad7d32d",
   "metadata": {},
   "source": [
    "# Ques 7:\n",
    "\n",
    "\n",
    "Q7. Can string data be stored in numpy arrays? If so, list at least one restriction that applies to this\n",
    "data.\n",
    "\n",
    "Yes, string data can be stored in NumPy arrays, but there are certain restrictions:\n",
    "\n",
    "1. Fixed-length strings: NumPy arrays require fixed-length strings. We need to specify the maximum length of the strings when creating the array, and all strings in the array will have that fixed length. If a longer string is assigned to an element, it will be truncated to fit the specified length.\n",
    "\n",
    "2. Homogeneous data: NumPy arrays are designed to store homogeneous data, meaning all elements should have the same data type. If we create a NumPy array with string data, all elements must be strings of the same length.\n",
    "\n",
    "3. Performance considerations: Compared to numerical data, string operations on NumPy arrays can be slower and less efficient due to the fixed-length requirement. For more advanced string manipulation or working with variable-length strings, other libraries like pandas may provide more flexibility and functionality."
   ]
  },
  {
   "cell_type": "code",
   "execution_count": null,
   "id": "49d2fafd",
   "metadata": {},
   "outputs": [],
   "source": []
  },
  {
   "cell_type": "code",
   "execution_count": null,
   "id": "9abe733b",
   "metadata": {},
   "outputs": [],
   "source": []
  }
 ],
 "metadata": {
  "kernelspec": {
   "display_name": "Python 3 (ipykernel)",
   "language": "python",
   "name": "python3"
  },
  "language_info": {
   "codemirror_mode": {
    "name": "ipython",
    "version": 3
   },
   "file_extension": ".py",
   "mimetype": "text/x-python",
   "name": "python",
   "nbconvert_exporter": "python",
   "pygments_lexer": "ipython3",
   "version": "3.9.13"
  }
 },
 "nbformat": 4,
 "nbformat_minor": 5
}
