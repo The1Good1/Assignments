{
 "cells": [
  {
   "cell_type": "code",
   "execution_count": 6,
   "id": "71328a09",
   "metadata": {},
   "outputs": [],
   "source": [
    "# Ques 1\n",
    "\n",
    "def repeat(lst, n):\n",
    "    lst.extend(lst * (n - 1))\n",
    "\n",
    "def add(lst, x):\n",
    "    lst.append(x)\n",
    "\n",
    "def remove(lst, m, n):\n",
    "    del lst[m:n+1]\n",
    "\n",
    "def concat(lst, x):\n",
    "    lst.extend(x)\n"
   ]
  },
  {
   "cell_type": "code",
   "execution_count": 7,
   "id": "7b41e54b",
   "metadata": {},
   "outputs": [],
   "source": [
    "# Ques 2\n",
    "\n",
    "def guess_score(code, guess):\n",
    "    score = {\"black\": 0, \"white\": 0}\n",
    "    code_counts = {}\n",
    "    guess_counts = {}\n",
    "\n",
    "    for i in range(len(code)):\n",
    "        if code[i] == guess[i]:\n",
    "            score[\"black\"] += 1\n",
    "        else:\n",
    "            code_counts[code[i]] = code_counts.get(code[i], 0) + 1\n",
    "            guess_counts[guess[i]] = guess_counts.get(guess[i], 0) + 1\n",
    "\n",
    "    for color, count in guess_counts.items():\n",
    "        if color in code_counts:\n",
    "            score[\"white\"] += min(count, code_counts[color])\n",
    "\n",
    "    return score\n"
   ]
  },
  {
   "cell_type": "code",
   "execution_count": 8,
   "id": "b406cc99",
   "metadata": {},
   "outputs": [],
   "source": [
    "# Ques 3\n",
    "\n",
    "def two_product(lst, N):\n",
    "    seen = set()\n",
    "    for num in lst:\n",
    "        if N % num == 0 and N // num in seen:\n",
    "            return [N // num, num]\n",
    "        seen.add(num)\n",
    "    return None\n"
   ]
  },
  {
   "cell_type": "code",
   "execution_count": 9,
   "id": "129a0cab",
   "metadata": {},
   "outputs": [],
   "source": [
    "# Ques 4\n",
    "\n",
    "from datetime import datetime\n",
    "\n",
    "def sort_dates(lst, mode):\n",
    "    return sorted(lst, key=lambda x: datetime.strptime(x, \"%d-%m-%Y_%H:%M\"), reverse=(mode == \"DSC\"))\n"
   ]
  },
  {
   "cell_type": "code",
   "execution_count": 10,
   "id": "20b183cf",
   "metadata": {},
   "outputs": [],
   "source": [
    "# Ques 5\n",
    "\n",
    "def same_vowel_group(lst):\n",
    "    vowels = set(lst[0])  # Set of vowels in the first word\n",
    "    return [word for word in lst if set(word) == vowels]\n"
   ]
  },
  {
   "cell_type": "code",
   "execution_count": null,
   "id": "cd8565ba",
   "metadata": {},
   "outputs": [],
   "source": [
    "# Ques 6\n",
    "\n",
    "def lcm_of_list(lst):\n",
    "    def gcd(a, b):\n",
    "        while b:\n",
    "            a, b = b, a % b\n",
    "        return a\n",
    "\n",
    "    def lcm(a, b):\n",
    "        return abs(a * b) // gcd(a, b)\n",
    "\n",
    "    result = 1\n",
    "    for num in lst:\n",
    "        result = lcm(result, num)\n",
    "    return result\n"
   ]
  },
  {
   "cell_type": "markdown",
   "id": "2ac2b7ed",
   "metadata": {},
   "source": [
    "# Example\n"
   ]
  },
  {
   "cell_type": "code",
   "execution_count": null,
   "id": "f28a0bd3",
   "metadata": {},
   "outputs": [],
   "source": [
    "# Example 1: repeat\n",
    "lst = [1, 2, 3, 4]\n",
    "repeat(lst, 3)\n",
    "print(lst)\n",
    "# Output: [1, 2, 3, 4, 1, 2, 3, 4, 1, 2, 3, 4]\n",
    "\n",
    "# Example 2: add\n",
    "add(lst, 1)\n",
    "print(lst)\n",
    "# Output: [1, 2, 3, 4, 1, 2, 3, 4, 1, 2, 3, 4, 1]\n",
    "\n",
    "# Example 3: remove\n",
    "remove(lst, 1, 12)\n",
    "print(lst)\n",
    "# Output: [1]\n",
    "\n",
    "# Example 4: concat\n",
    "concat(lst, [3, 4])\n",
    "print(lst)\n",
    "# Output: [1, 3, 4]\n",
    "\n",
    "# Example 5: guess_score\n",
    "print(guess_score(\"1423\", \"5678\"))\n",
    "# Output: {\"black\": 0, \"white\": 0}\n",
    "print(guess_score(\"1423\", \"2222\"))\n",
    "# Output: {\"black\": 1, \"white\": 0}\n",
    "print(guess_score(\"1423\", \"1234\"))\n",
    "# Output: {\"black\": 1, \"white\": 3}\n",
    "print(guess_score(\"1423\", \"2211\"))\n",
    "# Output: {\"black\": 0, \"white\": 2}\n",
    "\n",
    "# Example 6: two_product\n",
    "print(two_product([1, 2, -1, 4, 5], 20))\n",
    "# Output: [4, 5]\n",
    "print(two_product([1, 2, 3, 4, 5], 10))\n",
    "# Output: [2, 5]\n",
    "print(two_product([100, 12, 4, 1, 2], 15))\n",
    "# Output: None\n",
    "\n",
    "# Example 7: sort_dates\n",
    "print(sort_dates([\"10-02-2018_12:30\", \"10-02-2016_12:30\", \"10-02-2018_12:15\"], \"ASC\"))\n",
    "# Output: [\"10-02-2016_12:30\", \"10-02-2018_12:15\", \"10-02-2018_12:30\"]\n",
    "print(sort_dates([\"10-02-2018_12:30\", \"10-02-2016_12:30\", \"10-02-2018_12:15\"], \"DSC\"))\n",
    "# Output: [\"10-02-2018_12:30\", \"10-02-2018_12:15\", \"10-02-2016_12:30\"]\n",
    "print(sort_dates([\"09-02-2000_10:03\", \"10-02-2000_18:29\", \"01-01-1999_00:55\"], \"ASC\"))\n",
    "# Output: [\"01-01-1999_00:55\", \"09-02-2000_10:03\", \"10-02-2000_18:29\"]\n",
    "\n",
    "# Example 8: same_vowel_group\n",
    "print(same_vowel_group([\"toe\", \"ocelot\", \"maniac\"]))\n",
    "# Output: [\"toe\", \"ocelot\"]\n",
    "print(same_vowel_group([\"many\", \"carriage\", \"emit\", \"apricot\", \"animal\"]))\n",
    "# Output: [\"many\"]\n",
    "print(same_vowel_group([\"hoops\", \"chuff\", \"bot\", \"bottom\"]))\n",
    "# Output: [\"hoops\", \"bot\", \"bottom\"]\n",
    "\n",
    "# Example 9: lcm_of_list\n",
    "print(lcm_of_list([1, 2, 3, 4, 5, 6, 7, 8, 9, 10]))\n",
    "# Output: 2520\n",
    "print(lcm_of_list([13, 6, 17, 18, 19, 20, 37]))\n",
    "# Output: 27965340\n",
    "print(lcm_of_list([44, 64, 12, 17, 65]))\n",
    "# Output: 2333760\n"
   ]
  }
 ],
 "metadata": {
  "kernelspec": {
   "display_name": "Python 3 (ipykernel)",
   "language": "python",
   "name": "python3"
  },
  "language_info": {
   "codemirror_mode": {
    "name": "ipython",
    "version": 3
   },
   "file_extension": ".py",
   "mimetype": "text/x-python",
   "name": "python",
   "nbconvert_exporter": "python",
   "pygments_lexer": "ipython3",
   "version": "3.9.13"
  }
 },
 "nbformat": 4,
 "nbformat_minor": 5
}
