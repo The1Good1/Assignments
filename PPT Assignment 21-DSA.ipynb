{
 "cells": [
  {
   "cell_type": "markdown",
   "id": "4e864a43",
   "metadata": {},
   "source": [
    "# Ques 1 & Ques 2\n",
    "\n"
   ]
  },
  {
   "cell_type": "code",
   "execution_count": null,
   "id": "ec9ef308",
   "metadata": {},
   "outputs": [],
   "source": [
    "class TreeNode:\n",
    "    def __init__(self, val=0, left=None, right=None):\n",
    "        self.val = val\n",
    "        self.left = left\n",
    "        self.right = right\n",
    "\n",
    "def convertToBST(root):\n",
    "    if not root:\n",
    "        return None\n",
    "\n",
    "    # Helper function for in-order traversal\n",
    "    def inorder(node):\n",
    "        nonlocal values\n",
    "\n",
    "        if node:\n",
    "            # Recursively traverse the left subtree\n",
    "            inorder(node.left)\n",
    "\n",
    "            # Update the node value with the next value from the sorted list\n",
    "            node.val = values.pop(0)\n",
    "\n",
    "            # Recursively traverse the right subtree\n",
    "            inorder(node.right)\n",
    "\n",
    "    # Collect the node values in a list\n",
    "    def collectValues(node):\n",
    "        if node:\n",
    "            collectValues(node.left)\n",
    "            values.append(node.val)\n",
    "            collectValues(node.right)\n",
    "\n",
    "    # Collect the node values in a list\n",
    "    values = []\n",
    "    collectValues(root)\n",
    "\n",
    "    # Sort the values in ascending order\n",
    "    values.sort()\n",
    "\n",
    "    # Update the node values in the binary tree\n",
    "    inorder(root)\n",
    "\n",
    "    return root\n"
   ]
  },
  {
   "cell_type": "markdown",
   "id": "be9e9310",
   "metadata": {},
   "source": [
    "# Ques 3 & Ques 4\n",
    "\n"
   ]
  },
  {
   "cell_type": "code",
   "execution_count": 10,
   "id": "3cfc3e87",
   "metadata": {},
   "outputs": [],
   "source": [
    "class TreeNode:\n",
    "    def __init__(self, val=0, left=None, right=None):\n",
    "        self.val = val\n",
    "        self.left = left\n",
    "        self.right = right\n",
    "\n",
    "def findDistance(root, node1, node2):\n",
    "    if not root:\n",
    "        return 0\n",
    "\n",
    "    # Helper function to find the lowest common ancestor (LCA)\n",
    "    def findLCA(node, n1, n2):\n",
    "        if not node:\n",
    "            return None\n",
    "\n",
    "        if node.val > n1 and node.val > n2:\n",
    "            return findLCA(node.left, n1, n2)\n",
    "\n",
    "        if node.val < n1 and node.val < n2:\n",
    "            return findLCA(node.right, n1, n2)\n",
    "\n",
    "        return node\n",
    "\n",
    "    # Helper function to find the distance between a node and the LCA\n",
    "    def findDistanceFromLCA(node, target):\n",
    "        if not node:\n",
    "            return 0\n",
    "\n",
    "        if node.val == target:\n",
    "            return 0\n",
    "\n",
    "        if node.val > target:\n",
    "            return 1 + findDistanceFromLCA(node.left, target)\n",
    "\n",
    "        return 1 + findDistanceFromLCA(node.right, target)\n",
    "\n",
    "    # Find the LCA of the two nodes\n",
    "    lca = findLCA(root, node1, node2)\n",
    "\n",
    "    # Calculate the distances from the LCA to the two nodes\n",
    "    distance1 = findDistanceFromLCA(lca, node1)\n",
    "    distance2 = findDistanceFromLCA(lca, node2)\n",
    "\n",
    "    # Return the sum of the distances\n",
    "    return distance1 + distance2\n"
   ]
  },
  {
   "cell_type": "markdown",
   "id": "87d70732",
   "metadata": {},
   "source": [
    "\n",
    "\n",
    "\n"
   ]
  },
  {
   "cell_type": "code",
   "execution_count": 11,
   "id": "a22f7bfb",
   "metadata": {},
   "outputs": [],
   "source": []
  },
  {
   "cell_type": "markdown",
   "id": "5a5d3b41",
   "metadata": {},
   "source": [
    "\n",
    "\n"
   ]
  },
  {
   "cell_type": "code",
   "execution_count": 12,
   "id": "d03fafeb",
   "metadata": {},
   "outputs": [],
   "source": []
  }
 ],
 "metadata": {
  "kernelspec": {
   "display_name": "Python 3 (ipykernel)",
   "language": "python",
   "name": "python3"
  },
  "language_info": {
   "codemirror_mode": {
    "name": "ipython",
    "version": 3
   },
   "file_extension": ".py",
   "mimetype": "text/x-python",
   "name": "python",
   "nbconvert_exporter": "python",
   "pygments_lexer": "ipython3",
   "version": "3.9.13"
  }
 },
 "nbformat": 4,
 "nbformat_minor": 5
}
