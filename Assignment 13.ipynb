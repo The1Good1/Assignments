{
 "cells": [
  {
   "cell_type": "markdown",
   "id": "1a4736a7",
   "metadata": {},
   "source": [
    "# Ques 1:"
   ]
  },
  {
   "cell_type": "markdown",
   "id": "74cfc6f9",
   "metadata": {},
   "source": [
    "What advantages do Excel spreadsheets have over CSV spreadsheets?"
   ]
  },
  {
   "cell_type": "markdown",
   "id": "235adfba",
   "metadata": {},
   "source": [
    "Excel spreadsheets have a few advantages over CSV spreadsheets:\n",
    "\n",
    "1. Formatting: Excel spreadsheets allow for more advanced formatting options than CSV files. For example, you can apply bold, italic, and underlining to text, change font styles and sizes, adjust column widths and row heights, and insert images and charts.\n",
    "\n",
    "2. Multiple sheets: Excel spreadsheets can contain multiple sheets within a single file, which allows you to organize data into separate sections and perform complex data analysis across different sheets.\n",
    "\n",
    "3. Formulas and functions: Excel has a vast array of built-in formulas and functions that allow you to perform complex calculations and analysis on your data. You can also create custom formulas and functions using Visual Basic for Applications (VBA).\n",
    "\n",
    "4. Data validation: Excel provides data validation features that enable you to define rules and constraints for your data, such as requiring that a cell contain a certain data type or fall within a specific range of values.\n",
    "\n",
    "In Python, we can use libraries such as pandas to work with both CSV and Excel files. pandas provides functions to read and write data from CSV and Excel files and manipulate the data using data frames, which are similar to tables in a spreadsheet. However, if we need to preserve formatting, multiple sheets, formulas, or data validation rules, then Excel files may be a better choice than CSV files."
   ]
  },
  {
   "cell_type": "markdown",
   "id": "916f92c9",
   "metadata": {},
   "source": [
    "# Ques 2:"
   ]
  },
  {
   "cell_type": "markdown",
   "id": "8cbcd8c6",
   "metadata": {},
   "source": [
    "What do you pass to csv.reader() and csv.writer() to create reader and writer objects?"
   ]
  },
  {
   "cell_type": "markdown",
   "id": "eb3bb27a",
   "metadata": {},
   "source": [
    "To create a reader object using the csv module in Python, we pass a file object and optionally a delimiter character to the csv.reader() function. For example, if we have a CSV file called data.csv with a comma (,) as the delimiter"
   ]
  },
  {
   "cell_type": "code",
   "execution_count": null,
   "id": "e60d288e",
   "metadata": {},
   "outputs": [],
   "source": [
    "import csv\n",
    "\n",
    "with open('data.csv', 'r') as file:\n",
    "    reader = csv.reader(file, delimiter=',')\n"
   ]
  },
  {
   "cell_type": "markdown",
   "id": "504be38d",
   "metadata": {},
   "source": [
    "To create a writer object using the csv module, we pass a file object and optionally a delimiter character and a quote character to the csv.writer() function. For example, if we want to create a CSV file called output.csv with a semicolon (;) as the delimiter and a double quote (\") as the quote character"
   ]
  },
  {
   "cell_type": "code",
   "execution_count": null,
   "id": "ee451e88",
   "metadata": {},
   "outputs": [],
   "source": [
    "import csv\n",
    "\n",
    "with open('output.csv', 'w', newline='') as file:\n",
    "    writer = csv.writer(file, delimiter=';', quotechar='\"', quoting=csv.QUOTE_MINIMAL)\n"
   ]
  },
  {
   "cell_type": "markdown",
   "id": "b2526c8c",
   "metadata": {},
   "source": [
    "# Ques 3:"
   ]
  },
  {
   "cell_type": "markdown",
   "id": "709eb81a",
   "metadata": {},
   "source": [
    "What modes do File objects for reader and writer objects need to be opened in?"
   ]
  },
  {
   "cell_type": "markdown",
   "id": "da35fa69",
   "metadata": {},
   "source": [
    "When working with reader and writer objects in the csv module in Python, the file objects need to be opened in the appropriate mode depending on whether we are reading from or writing to the file.\n",
    "\n",
    "To create a reader object, we need to open the CSV file in read mode ('r') using the open() function. For example:"
   ]
  },
  {
   "cell_type": "code",
   "execution_count": null,
   "id": "cdd97efa",
   "metadata": {},
   "outputs": [],
   "source": [
    "import csv\n",
    "\n",
    "with open('example.csv', 'r') as file:\n",
    "    reader = csv.reader(file)\n"
   ]
  },
  {
   "cell_type": "markdown",
   "id": "1acc7046",
   "metadata": {},
   "source": [
    "To create a writer object, we need to open the CSV file in write mode ('w') using the open() function. For example:"
   ]
  },
  {
   "cell_type": "code",
   "execution_count": null,
   "id": "a8907817",
   "metadata": {},
   "outputs": [],
   "source": [
    "import csv\n",
    "\n",
    "with open('output.csv', 'w', newline='') as file:\n",
    "    writer = csv.writer(file)\n"
   ]
  },
  {
   "cell_type": "markdown",
   "id": "6709e746",
   "metadata": {},
   "source": [
    "Note that in both cases, the with statement is used to ensure that the file object is properly closed after use. The newline='' argument is also used when opening the file in write mode to ensure that no additional newlines are added to the file.\n",
    "\n",
    "It's important to ensure that we open the file in the correct mode, as opening a file in the wrong mode can lead to errors or unexpected behavior when reading from or writing to the file."
   ]
  },
  {
   "cell_type": "markdown",
   "id": "172f8035",
   "metadata": {},
   "source": [
    "# Ques 4:\n"
   ]
  },
  {
   "cell_type": "markdown",
   "id": "3b83a0d0",
   "metadata": {},
   "source": [
    "What method takes a list argument and writes it to a CSV file?\n"
   ]
  },
  {
   "cell_type": "markdown",
   "id": "82e3bfa2",
   "metadata": {},
   "source": [
    "To write data to a CSV file in Python, we can use the csv.writer.writerow() method, which takes a list as its argument. Each item in the list represents a column in the CSV file. For example, the following code writes a row of data to a CSV file:\n"
   ]
  },
  {
   "cell_type": "code",
   "execution_count": null,
   "id": "aa941f08",
   "metadata": {},
   "outputs": [],
   "source": [
    "import csv\n",
    "\n",
    "with open('output.csv', 'w', newline='') as file:\n",
    "    writer = csv.writer(file)\n",
    "    writer.writerow(['John', 'Doe', 25])\n"
   ]
  },
  {
   "cell_type": "markdown",
   "id": "ea824a36",
   "metadata": {},
   "source": [
    "# Ques 5:\n"
   ]
  },
  {
   "cell_type": "markdown",
   "id": "75590f37",
   "metadata": {},
   "source": [
    "What do the keyword arguments delimiter and line terminator do?\n"
   ]
  },
  {
   "cell_type": "markdown",
   "id": "4cab81c5",
   "metadata": {},
   "source": [
    "The delimiter keyword argument specifies the character used to separate fields in a CSV file. By default, the delimiter is a comma (','). The line terminator keyword argument specifies the character used to terminate each row in the CSV file. By default, the line terminator is a newline character ('\\n'). We can pass in different values for these keyword arguments to customize the format of the CSV file. For example:\n"
   ]
  },
  {
   "cell_type": "code",
   "execution_count": null,
   "id": "52453c30",
   "metadata": {},
   "outputs": [],
   "source": [
    "import csv\n",
    "\n",
    "with open('output.csv', 'w', newline='') as file:\n",
    "    writer = csv.writer(file, delimiter=';', lineterminator='\\r\\n')\n",
    "    writer.writerow(['John', 'Doe', 25])\n"
   ]
  },
  {
   "cell_type": "markdown",
   "id": "3e1eec00",
   "metadata": {},
   "source": [
    "# Ques 6:\n",
    "\n"
   ]
  },
  {
   "cell_type": "markdown",
   "id": "31ed3df2",
   "metadata": {},
   "source": [
    "What function takes a string of JSON data and returns a Python data structure?\n"
   ]
  },
  {
   "cell_type": "markdown",
   "id": "b3fb4208",
   "metadata": {},
   "source": [
    "The json.loads() function in Python takes a string of JSON data as its argument and returns a Python data structure, typically a dictionary or a list. For example:"
   ]
  },
  {
   "cell_type": "code",
   "execution_count": 1,
   "id": "50f76b2b",
   "metadata": {},
   "outputs": [
    {
     "name": "stdout",
     "output_type": "stream",
     "text": [
      "{'name': 'John', 'age': 25}\n"
     ]
    }
   ],
   "source": [
    "import json\n",
    "\n",
    "json_data = '{\"name\": \"John\", \"age\": 25}'\n",
    "data = json.loads(json_data)\n",
    "print(data)\n"
   ]
  },
  {
   "cell_type": "markdown",
   "id": "330a245f",
   "metadata": {},
   "source": [
    "This code takes a string of JSON data and converts it into a Python dictionary."
   ]
  },
  {
   "cell_type": "markdown",
   "id": "545fbc09",
   "metadata": {},
   "source": [
    "# Ques 7:\n"
   ]
  },
  {
   "cell_type": "markdown",
   "id": "4241febd",
   "metadata": {},
   "source": [
    "What function takes a Python data structure and returns a string of JSON data?\n"
   ]
  },
  {
   "cell_type": "markdown",
   "id": "2b181d0b",
   "metadata": {},
   "source": [
    "The json.dumps() function in Python takes a Python data structure, typically a dictionary or a list, as its argument and returns a string of JSON data. For example:\n",
    "\n"
   ]
  },
  {
   "cell_type": "code",
   "execution_count": 2,
   "id": "5fe6ee76",
   "metadata": {},
   "outputs": [
    {
     "name": "stdout",
     "output_type": "stream",
     "text": [
      "{\"name\": \"John\", \"age\": 25}\n"
     ]
    }
   ],
   "source": [
    "import json\n",
    "\n",
    "data = {'name': 'John', 'age': 25}\n",
    "json_data = json.dumps(data)\n",
    "print(json_data)\n"
   ]
  },
  {
   "cell_type": "code",
   "execution_count": null,
   "id": "40ea5539",
   "metadata": {},
   "outputs": [],
   "source": []
  }
 ],
 "metadata": {
  "kernelspec": {
   "display_name": "Python 3 (ipykernel)",
   "language": "python",
   "name": "python3"
  },
  "language_info": {
   "codemirror_mode": {
    "name": "ipython",
    "version": 3
   },
   "file_extension": ".py",
   "mimetype": "text/x-python",
   "name": "python",
   "nbconvert_exporter": "python",
   "pygments_lexer": "ipython3",
   "version": "3.9.13"
  }
 },
 "nbformat": 4,
 "nbformat_minor": 5
}
