{
 "cells": [
  {
   "cell_type": "markdown",
   "id": "30d25941",
   "metadata": {},
   "source": [
    "Ques 1"
   ]
  },
  {
   "cell_type": "markdown",
   "id": "7e61cac1",
   "metadata": {},
   "source": [
    "Why are functions advantageous to have in your programs?"
   ]
  },
  {
   "cell_type": "markdown",
   "id": "f0aceb3c",
   "metadata": {},
   "source": [
    "Functions are advantageous to have in programs for several reasons:\n",
    "\n",
    "1.Code reusability: Functions allow you to reuse the same code in different parts of your program, without having to write it again. This makes your code more modular and easier to maintain.\n",
    "\n",
    "2.Code organization: Functions help to organize your code into logical units, making it easier to understand and debug. By breaking your program into smaller functions, you can better manage the complexity of your code.\n",
    "\n",
    "3.Abstraction: Functions allow you to abstract away the details of how a particular task is accomplished, allowing you to focus on the higher-level functionality. This makes it easier to reason about the program and to make changes to it in the future.\n",
    "\n",
    "4.Encapsulation: Functions can help you encapsulate data and functionality, making it easier to manage and control access to that data. This can help to prevent bugs and make your program more secure.\n",
    "\n",
    "5.Testing: Functions are easier to test in isolation than larger blocks of code. By testing each function individually, you can be more confident that your program is working correctly as a whole.\n"
   ]
  },
  {
   "cell_type": "markdown",
   "id": "8446f54b",
   "metadata": {},
   "source": [
    "Ques 2:\n"
   ]
  },
  {
   "cell_type": "markdown",
   "id": "8fe5ac2f",
   "metadata": {},
   "source": [
    "When does the code in a function run: when it's specified or when it's called?\n"
   ]
  },
  {
   "cell_type": "markdown",
   "id": "0ccb071f",
   "metadata": {},
   "source": [
    "the code in a function runs only when the function is called, not when it is specified.\n",
    "\n",
    "When we define a function in Python, we are essentially creating a reusable block of code that is stored in memory. The code inside the function is not executed until the function is called. When the function is called, Python jumps to the point in the code where the function is defined, runs the code inside the function, and then returns the result (if any) back to the caller.\n",
    "\n",
    "For example, consider the following Python code:"
   ]
  },
  {
   "cell_type": "code",
   "execution_count": 1,
   "id": "13cb7d65",
   "metadata": {},
   "outputs": [
    {
     "name": "stdout",
     "output_type": "stream",
     "text": [
      "25\n"
     ]
    }
   ],
   "source": [
    "def square(x):\n",
    "    return x ** 2\n",
    "\n",
    "print(square(5))\n"
   ]
  },
  {
   "cell_type": "markdown",
   "id": "e6d1f94d",
   "metadata": {},
   "source": [
    "In this example, the code inside the square function is not executed when the function is defined. Instead, it only runs when the function is called on the next line with the argument 5. The function then returns the result of 25, which is printed to the console.\n",
    "\n",
    "It's worth noting that defining a function in Python does not actually execute the function's code. The function is only executed when it is called, as described above."
   ]
  },
  {
   "cell_type": "markdown",
   "id": "5bcf10bc",
   "metadata": {},
   "source": [
    "Ques 3:\n"
   ]
  },
  {
   "cell_type": "markdown",
   "id": "2a3a727f",
   "metadata": {},
   "source": [
    "What statement creates a function?"
   ]
  },
  {
   "cell_type": "markdown",
   "id": "8c31a263",
   "metadata": {},
   "source": [
    "the 'def' statement is used to create a function. The 'def' statement is followed by the name of the function, followed by a set of parentheses and a colon. The code that makes up the function is then indented underneath the 'def' statement. "
   ]
  },
  {
   "cell_type": "markdown",
   "id": "98cb1be4",
   "metadata": {},
   "source": [
    "Ques 4:"
   ]
  },
  {
   "cell_type": "markdown",
   "id": "34d66eae",
   "metadata": {},
   "source": [
    "What is the difference between a function and a function call?"
   ]
  },
  {
   "cell_type": "markdown",
   "id": "5a7699c1",
   "metadata": {},
   "source": [
    "A function is a block of code that performs a specific task and may accept input arguments and return output values. It is defined using the 'def' statement in Python, followed by the function name, input parameters (if any), and the code to be executed when the function is called.\n",
    "\n",
    "A function call, on the other hand, is the act of actually invoking or executing the function. When a function is called, the program control jumps to the function definition, executes the code inside the function, and then returns to the point where the function was called from. A function call typically includes the function name, and may include one or more input arguments (depending on the function definition)."
   ]
  },
  {
   "cell_type": "markdown",
   "id": "36c7f01e",
   "metadata": {},
   "source": [
    "Ques 5:"
   ]
  },
  {
   "cell_type": "markdown",
   "id": "d4fa60c2",
   "metadata": {},
   "source": [
    "How many global scopes are there in a Python program? How many local scopes?"
   ]
  },
  {
   "cell_type": "markdown",
   "id": "d6186043",
   "metadata": {},
   "source": [
    "There is only one global scope, which is a namespace that is available throughout the entire program. Any variable or function defined at the top level of a Python program (i.e., not inside a function or class definition) is in the global scope.\n",
    "\n",
    "On the other hand, there can be multiple local scopes in a Python program, depending on how many functions are defined. Each time a function is called, a new local scope is created for that function. Any variables or functions defined inside a function are in the local scope of that function, and are not visible outside of it."
   ]
  },
  {
   "cell_type": "markdown",
   "id": "cfa6d673",
   "metadata": {},
   "source": [
    "Ques 6:\n",
    "What happens to variables in a local scope when the function call returns?"
   ]
  },
  {
   "cell_type": "markdown",
   "id": "079e85fb",
   "metadata": {},
   "source": [
    "When a function call returns, the local scope for that function is destroyed, and any variables defined inside the function are lost. In other words, local variables are destroyed when the function call completes and control returns to the calling function or to the top-level of the program."
   ]
  },
  {
   "cell_type": "markdown",
   "id": "a003e597",
   "metadata": {},
   "source": [
    "Ques 7: What is the concept of a return value? Is it possible to have a return value in an expression?"
   ]
  },
  {
   "cell_type": "markdown",
   "id": "580354ba",
   "metadata": {},
   "source": [
    "A return value is the value that a function returns to its caller when the function is finished executing. The return value can be any Python object, including numbers, strings, lists, dictionaries, and even other functions.\n",
    "\n",
    "To specify a return value for a function in Python, you can use the return statement followed by the value that you want to return."
   ]
  },
  {
   "cell_type": "markdown",
   "id": "077dda85",
   "metadata": {},
   "source": [
    "Ques 8:If a function does not have a return statement, what is the return value of a call to that function?"
   ]
  },
  {
   "cell_type": "markdown",
   "id": "f4ca5e9a",
   "metadata": {},
   "source": [
    "If a function does not have a return statement, the return value of a call to that function is None. None is a special Python object that represents the absence of a value."
   ]
  },
  {
   "cell_type": "markdown",
   "id": "dba6512d",
   "metadata": {},
   "source": [
    "Ques 9: How do you make a function variable refer to the global variable?"
   ]
  },
  {
   "cell_type": "markdown",
   "id": "d8a22fcc",
   "metadata": {},
   "source": [
    "We can make a function variable refer to a global variable by using the global keyword inside the function.\n",
    "\n",
    "When we use the global keyword followed by a variable name inside a function, it tells Python to use the global variable with that name instead of creating a new local variable with the same name."
   ]
  },
  {
   "cell_type": "markdown",
   "id": "925f7747",
   "metadata": {},
   "source": [
    "Ques 10: What is the data type of None?"
   ]
  },
  {
   "cell_type": "markdown",
   "id": "2600261f",
   "metadata": {},
   "source": [
    "In Python, None is a special value that represents the absence of a value. It is often used to indicate the result of a function that does not return anything.\n",
    "\n",
    "None is its own data type in Python, called the NoneType. It is a built-in type that represents the absence of a value, similar to how 0 represents the number zero and False represents a Boolean value of false."
   ]
  },
  {
   "cell_type": "markdown",
   "id": "70c67350",
   "metadata": {},
   "source": [
    "Ques 11: What does the sentence import areallyourpetsnamederic do?"
   ]
  },
  {
   "cell_type": "markdown",
   "id": "46d6f2ef",
   "metadata": {},
   "source": [
    "The sentence import areallyourpetsnamederic is not a standard Python library import statement and is not a valid Python code. It does not import any module or package in Python.\n",
    "\n",
    "To import a module or a package, we need to use the import keyword followed by the name of the module or package that we want to import. For example, import numpy imports the NumPy package and makes its functions and objects available in the current Python environment.\n"
   ]
  },
  {
   "cell_type": "markdown",
   "id": "a9bd3356",
   "metadata": {},
   "source": [
    "Ques 12: If you had a bacon() feature in a spam module, what would you call it after importing spam?\n"
   ]
  },
  {
   "cell_type": "markdown",
   "id": "b7689003",
   "metadata": {},
   "source": [
    "If we imported a module named spam in Python, and that module contains a function named bacon(), we could call the bacon() function by prefixing it with the name of the module.\n",
    "\n",
    "For Example\n"
   ]
  },
  {
   "cell_type": "markdown",
   "id": "38009553",
   "metadata": {},
   "source": [
    "import spam\n",
    "\n",
    "spam.bacon()\n"
   ]
  },
  {
   "cell_type": "markdown",
   "id": "d6bdf976",
   "metadata": {},
   "source": [
    "Ques 13 : What can you do to save a programme from crashing if it encounters an error?"
   ]
  },
  {
   "cell_type": "markdown",
   "id": "8d41ca06",
   "metadata": {},
   "source": [
    "There are a few things we can do to prevent your Python program from crashing when it encounters an error:\n",
    "\n",
    "1. Use exception handling with a try/except block: we can wrap the code that you think might cause an error in a try block and then handle any errors that occur in the except block. This way, if an error occurs, our program can gracefully handle the error and continue running.\n",
    "2. Check for errors using conditional statements: we can check for errors before executing code that might cause an error by using conditional statements. This can help prevent our program from executing code that might cause an error in the first place.\n",
    "3. Use default values or fallback options: If our program depends on external data or resources, we can use default values or fallback options in case those resources are not available. This can help prevent our program from crashing if it encounters an error. "
   ]
  },
  {
   "cell_type": "markdown",
   "id": "a6099737",
   "metadata": {},
   "source": [
    "Ques 14: What is the purpose of the try clause? What is the purpose of the except clause?"
   ]
  },
  {
   "cell_type": "markdown",
   "id": "cbe52ff7",
   "metadata": {},
   "source": [
    "In Python, the try and except statements are used for exception handling. The try clause contains the code that we want to execute that might raise an exception, and the except clause contains the code that will handle the exception if it occurs.\n",
    "\n",
    "The purpose of the try clause is to test a block of code for exceptions. If an exception occurs during the execution of the try clause, Python stops executing the remaining code in the try block and jumps to the except clause to handle the exception.\n",
    "\n",
    "The purpose of the except clause is to handle the exception that was raised in the try block. It contains the code that will be executed if an exception occurs during the execution of the try block. The except clause can handle specific types of exceptions, or it can handle all exceptions using a generic exception handling syntax."
   ]
  },
  {
   "cell_type": "code",
   "execution_count": null,
   "id": "e9c1308d",
   "metadata": {},
   "outputs": [],
   "source": []
  }
 ],
 "metadata": {
  "kernelspec": {
   "display_name": "Python 3 (ipykernel)",
   "language": "python",
   "name": "python3"
  },
  "language_info": {
   "codemirror_mode": {
    "name": "ipython",
    "version": 3
   },
   "file_extension": ".py",
   "mimetype": "text/x-python",
   "name": "python",
   "nbconvert_exporter": "python",
   "pygments_lexer": "ipython3",
   "version": "3.9.13"
  }
 },
 "nbformat": 4,
 "nbformat_minor": 5
}
