{
 "cells": [
  {
   "cell_type": "markdown",
   "id": "4f3fc048",
   "metadata": {},
   "source": [
    "# Ques 1: \n",
    "What is the difference between __getattr__ and __getattribute__?\n",
    "\n",
    " The main difference between __getattr__ and __getattribute__ in Python is their behavior when accessing attributes of an object:\n",
    "\n",
    "1. __getattr__ is a special method that is called when an attribute is accessed and not found using normal lookup. It is invoked only when the attribute is not present in the object's instance dictionary or its class hierarchy. You can use __getattr__ to dynamically compute or provide a default value for missing attributes.\n",
    "\n",
    "2. __getattribute__ is a more powerful special method that is called for every attribute access, regardless of whether the attribute exists or not. It is invoked before __getattr__ and allows you to override the default attribute access behavior. Be cautious when implementing __getattribute__ as it can lead to infinite recursion if not handled properly."
   ]
  },
  {
   "cell_type": "markdown",
   "id": "e4de4282",
   "metadata": {},
   "source": [
    "# Ques 2:\n",
    "What is the difference between properties and descriptors?\n",
    "\n",
    " The main difference between __getattr__ and __getattribute__ in Python is their behavior when accessing attributes of an object:\n",
    "\n",
    "1. __getattr__ is a special method that is called when an attribute is accessed and not found using normal lookup. It is invoked only when the attribute is not present in the object's instance dictionary or its class hierarchy. You can use __getattr__ to dynamically compute or provide a default value for missing attributes.\n",
    "\n",
    "2. __getattribute__ is a more powerful special method that is called for every attribute access, regardless of whether the attribute exists or not. It is invoked before __getattr__ and allows you to override the default attribute access behavior. Be cautious when implementing __getattribute__ as it can lead to infinite recursion if not handled properly."
   ]
  },
  {
   "cell_type": "markdown",
   "id": "94da65bb",
   "metadata": {},
   "source": [
    "# Ques 3:\n",
    "Q3. What are the key differences in functionality between __getattr__ and __getattribute__, as well as\n",
    "properties and descriptors?\n",
    "\n",
    "Here are the key differences in functionality between __getattr__, __getattribute__, properties, and descriptors:\n",
    "\n",
    "        1. __getattr__:\n",
    "\n",
    "1. Called only when an attribute is not found through normal lookup.\n",
    "2. Can be used to provide default values or compute attributes dynamically.\n",
    "3. Can't override the behavior of attributes that already exist.\n",
    "4. Used for handling attribute access after normal lookup has failed.\n",
    "\n",
    "       2. __getattribute__:\n",
    "\n",
    "1. Called for every attribute access, even if the attribute exists.\n",
    "2. Allows us to override the default attribute access behavior.\n",
    "3. Can be used to customize all attribute accesses, but requires caution to avoid infinite recursion.\n",
    "\n",
    "        3. Properties:\n",
    "\n",
    "1. Provide a high-level, Pythonic syntax for computed attributes.\n",
    "2. Defined at the class level using the @property decorator or by defining getter, setter, and deleter methods.\n",
    "3. Allow uss to add additional logic or calculations to attribute access, assignment, and deletion.\n",
    "4. Properties are accessed like regular attributes, but the defined methods are invoked transparently.\n",
    "\n",
    "        4. Descriptors:\n",
    "\n",
    "1. Provide a lower-level mechanism for controlling attribute access.\n",
    "2. Defined as classes with __get__, __set__, and __delete__ methods.\n",
    "3. Can be shared across multiple attributes or objects.\n",
    "4. Offer fine-grained control over attribute access and can customize behavior at a more granular level."
   ]
  },
  {
   "cell_type": "code",
   "execution_count": null,
   "id": "3506da38",
   "metadata": {},
   "outputs": [],
   "source": []
  }
 ],
 "metadata": {
  "kernelspec": {
   "display_name": "Python 3 (ipykernel)",
   "language": "python",
   "name": "python3"
  },
  "language_info": {
   "codemirror_mode": {
    "name": "ipython",
    "version": 3
   },
   "file_extension": ".py",
   "mimetype": "text/x-python",
   "name": "python",
   "nbconvert_exporter": "python",
   "pygments_lexer": "ipython3",
   "version": "3.9.13"
  }
 },
 "nbformat": 4,
 "nbformat_minor": 5
}
