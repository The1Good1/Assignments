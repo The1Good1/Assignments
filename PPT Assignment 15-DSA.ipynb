{
 "cells": [
  {
   "cell_type": "markdown",
   "id": "4e864a43",
   "metadata": {},
   "source": [
    "# Ques 1 \n",
    "\n"
   ]
  },
  {
   "cell_type": "code",
   "execution_count": null,
   "id": "ec9ef308",
   "metadata": {},
   "outputs": [],
   "source": [
    "def nextGreaterElements(n, arr):\n",
    "    result = [-1] * n\n",
    "    stack = []\n",
    "\n",
    "    for i in range(n - 1, -1, -1):\n",
    "        while stack and stack[-1] <= arr[i]:\n",
    "            stack.pop()\n",
    "\n",
    "        if stack:\n",
    "            result[i] = stack[-1]\n",
    "\n",
    "        stack.append(arr[i])\n",
    "\n",
    "    return result\n"
   ]
  },
  {
   "cell_type": "markdown",
   "id": "be9e9310",
   "metadata": {},
   "source": [
    "# Ques 2\n",
    "\n"
   ]
  },
  {
   "cell_type": "code",
   "execution_count": 10,
   "id": "3cfc3e87",
   "metadata": {},
   "outputs": [],
   "source": [
    "def nearestSmallerElements(n, arr):\n",
    "    result = [-1] * n\n",
    "    stack = []\n",
    "\n",
    "    for i in range(n):\n",
    "        while stack and stack[-1] >= arr[i]:\n",
    "            stack.pop()\n",
    "\n",
    "        if stack:\n",
    "            result[i] = stack[-1]\n",
    "\n",
    "        stack.append(arr[i])\n",
    "\n",
    "    return result\n"
   ]
  },
  {
   "cell_type": "markdown",
   "id": "87d70732",
   "metadata": {},
   "source": [
    "# Ques 3\n",
    "\n",
    "\n"
   ]
  },
  {
   "cell_type": "code",
   "execution_count": 11,
   "id": "a22f7bfb",
   "metadata": {},
   "outputs": [],
   "source": [
    "class Stack:\n",
    "    def __init__(self):\n",
    "        self.q1 = []\n",
    "        self.q2 = []\n",
    "\n",
    "    def push(self, value):\n",
    "        self.q1.append(value)\n",
    "\n",
    "    def pop(self):\n",
    "        if not self.isEmpty():\n",
    "            size = len(self.q1)\n",
    "            for _ in range(size - 1):\n",
    "                self.q2.append(self.q1.pop(0))\n",
    "            return self.q1.pop(0)\n",
    "        return None\n",
    "\n",
    "    def isEmpty(self):\n",
    "        return len(self.q1) == 0\n",
    "\n",
    "    def top(self):\n",
    "        if not self.isEmpty():\n",
    "            return self.q1[0]\n",
    "        return None\n"
   ]
  },
  {
   "cell_type": "markdown",
   "id": "c2ede738",
   "metadata": {},
   "source": [
    "# Ques 4\n",
    "\n"
   ]
  },
  {
   "cell_type": "code",
   "execution_count": null,
   "id": "06f199a7",
   "metadata": {},
   "outputs": [],
   "source": [
    "def reverseStack(St):\n",
    "    if len(St) <= 1:\n",
    "        return St\n",
    "    else:\n",
    "        top = St.pop()\n",
    "        St = reverseStack(St)\n",
    "        St = insertAtBottom(St, top)\n",
    "        return St\n",
    "\n",
    "def insertAtBottom(St, item):\n",
    "    if len(St) == 0:\n",
    "        St.append(item)\n",
    "    else:\n",
    "        top = St.pop()\n",
    "        St = insertAtBottom(St, item)\n",
    "        St.append(top)\n",
    "    return St\n"
   ]
  },
  {
   "cell_type": "code",
   "execution_count": null,
   "id": "3ecc65ce",
   "metadata": {},
   "outputs": [],
   "source": []
  },
  {
   "cell_type": "markdown",
   "id": "063896af",
   "metadata": {},
   "source": [
    "# Ques 5\n",
    "\n"
   ]
  },
  {
   "cell_type": "code",
   "execution_count": null,
   "id": "883b83a8",
   "metadata": {},
   "outputs": [],
   "source": [
    "def reverseString(S):\n",
    "    stack = []\n",
    "    reversed_string = \"\"\n",
    "    \n",
    "    # Push each character onto the stack\n",
    "    for char in S:\n",
    "        stack.append(char)\n",
    "    \n",
    "    # Pop each character from the stack and append to the reversed string\n",
    "    while len(stack) > 0:\n",
    "        reversed_string += stack.pop()\n",
    "    \n",
    "    return reversed_string\n"
   ]
  },
  {
   "cell_type": "markdown",
   "id": "0ae7954a",
   "metadata": {},
   "source": [
    "# Ques 6\n",
    "\n"
   ]
  },
  {
   "cell_type": "code",
   "execution_count": null,
   "id": "f301a4a7",
   "metadata": {},
   "outputs": [],
   "source": [
    "def evaluatePostfixExpression(S):\n",
    "    stack = []\n",
    "    \n",
    "    for char in S:\n",
    "        if char.isdigit():\n",
    "            stack.append(int(char))\n",
    "        else:\n",
    "            operand2 = stack.pop()\n",
    "            operand1 = stack.pop()\n",
    "            \n",
    "            if char == '+':\n",
    "                result = operand1 + operand2\n",
    "            elif char == '-':\n",
    "                result = operand1 - operand2\n",
    "            elif char == '*':\n",
    "                result = operand1 * operand2\n",
    "            elif char == '/':\n",
    "                result = operand1 / operand2\n",
    "                \n",
    "            stack.append(result)\n",
    "    \n",
    "    return stack.pop()\n",
    "\n",
    "# Testing the implementation\n",
    "S = \"231*+9-\"\n",
    "result = evaluatePostfixExpression(S)\n",
    "print(\"Result:\", result)\n"
   ]
  },
  {
   "cell_type": "markdown",
   "id": "e20d488f",
   "metadata": {},
   "source": [
    "# Ques 7\n",
    "\n"
   ]
  },
  {
   "cell_type": "code",
   "execution_count": null,
   "id": "3561990f",
   "metadata": {},
   "outputs": [],
   "source": [
    "class MinStack:\n",
    "    def __init__(self):\n",
    "        self.stack = []\n",
    "        self.min_stack = []\n",
    "\n",
    "    def push(self, val):\n",
    "        self.stack.append(val)\n",
    "        \n",
    "        if not self.min_stack or val <= self.min_stack[-1]:\n",
    "            self.min_stack.append(val)\n",
    "\n",
    "    def pop(self):\n",
    "        if self.stack:\n",
    "            val = self.stack.pop()\n",
    "            \n",
    "            if val == self.min_stack[-1]:\n",
    "                self.min_stack.pop()\n",
    "\n",
    "    def top(self):\n",
    "        if self.stack:\n",
    "            return self.stack[-1]\n",
    "\n",
    "    def getMin(self):\n",
    "        if self.min_stack:\n",
    "            return self.min_stack[-1]\n"
   ]
  },
  {
   "cell_type": "markdown",
   "id": "121c80dd",
   "metadata": {},
   "source": [
    "# Ques 8\n",
    "\n"
   ]
  },
  {
   "cell_type": "code",
   "execution_count": 12,
   "id": "d03fafeb",
   "metadata": {},
   "outputs": [],
   "source": [
    "def trap(height):\n",
    "    n = len(height)\n",
    "    left, right = 0, n - 1\n",
    "    left_max = right_max = water = 0\n",
    "\n",
    "    while left <= right:\n",
    "        if height[left] <= height[right]:\n",
    "            left_max = max(left_max, height[left])\n",
    "            water += left_max - height[left]\n",
    "            left += 1\n",
    "        else:\n",
    "            right_max = max(right_max, height[right])\n",
    "            water += right_max - height[right]\n",
    "            right -= 1\n",
    "\n",
    "    return water\n"
   ]
  }
 ],
 "metadata": {
  "kernelspec": {
   "display_name": "Python 3 (ipykernel)",
   "language": "python",
   "name": "python3"
  },
  "language_info": {
   "codemirror_mode": {
    "name": "ipython",
    "version": 3
   },
   "file_extension": ".py",
   "mimetype": "text/x-python",
   "name": "python",
   "nbconvert_exporter": "python",
   "pygments_lexer": "ipython3",
   "version": "3.9.13"
  }
 },
 "nbformat": 4,
 "nbformat_minor": 5
}
