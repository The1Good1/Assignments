{
 "cells": [
  {
   "cell_type": "markdown",
   "id": "82b7685a",
   "metadata": {},
   "source": [
    "# Ques1:"
   ]
  },
  {
   "cell_type": "code",
   "execution_count": null,
   "id": "5c5c1531",
   "metadata": {},
   "outputs": [],
   "source": [
    "def isPowerOfThree(n):\n",
    "    if n <= 0:\n",
    "        return False\n",
    "    while n > 1:\n",
    "        if n % 3 != 0:\n",
    "            return False\n",
    "        n = n // 3\n",
    "    return True\n"
   ]
  },
  {
   "cell_type": "markdown",
   "id": "1e3047b9",
   "metadata": {},
   "source": [
    "# Ques 2:"
   ]
  },
  {
   "cell_type": "code",
   "execution_count": null,
   "id": "8f51df38",
   "metadata": {},
   "outputs": [],
   "source": [
    "def lastRemaining(n):\n",
    "    if n == 1:\n",
    "        return 1\n",
    "    if n % 2 == 1:\n",
    "        return lastRemaining(n // 2 + 1)\n",
    "    else:\n",
    "        return lastRemaining(n // 2)\n"
   ]
  },
  {
   "cell_type": "markdown",
   "id": "2f7c076c",
   "metadata": {},
   "source": [
    "# Ques 3:"
   ]
  },
  {
   "cell_type": "code",
   "execution_count": null,
   "id": "71892fce",
   "metadata": {},
   "outputs": [],
   "source": [
    "def subsetsUtil(s, subset, index, subsets):\n",
    "    if index == len(s):\n",
    "        subsets.append(subset)\n",
    "        return\n",
    "    subsetsUtil(s, subset + s[index], index + 1, subsets)\n",
    "    subsetsUtil(s, subset, index + 1, subsets)\n",
    "\n",
    "def subsets(s):\n",
    "    subsets = []\n",
    "    subsetsUtil(s, \"\", 0, subsets)\n",
    "    return subsets\n",
    "\n",
    "\n"
   ]
  },
  {
   "cell_type": "markdown",
   "id": "fde9d5cc",
   "metadata": {},
   "source": [
    "# Ques 4:"
   ]
  },
  {
   "cell_type": "code",
   "execution_count": null,
   "id": "90f0a89b",
   "metadata": {},
   "outputs": [],
   "source": [
    "def stringLength(str):\n",
    "    if str == \"\":\n",
    "        return 0\n",
    "    return 1 + stringLength(str[1:])\n",
    "\n",
    "\n",
    "\n",
    "\n"
   ]
  },
  {
   "cell_type": "markdown",
   "id": "64e479ff",
   "metadata": {},
   "source": [
    "# Ques 5:"
   ]
  },
  {
   "cell_type": "code",
   "execution_count": null,
   "id": "d0ef3e91",
   "metadata": {},
   "outputs": [],
   "source": [
    "def countSubstrings(S):\n",
    "    count = 0\n",
    "    prev = None\n",
    "    for ch in S:\n",
    "        count += 1\n",
    "        if prev == ch:\n",
    "            count += 1\n",
    "        prev = ch\n",
    "    return count\n",
    "\n"
   ]
  },
  {
   "cell_type": "markdown",
   "id": "d86ba32f",
   "metadata": {},
   "source": [
    "# Ques 6:"
   ]
  },
  {
   "cell_type": "code",
   "execution_count": null,
   "id": "71a8103f",
   "metadata": {},
   "outputs": [],
   "source": [
    "def towerOfHanoi(n, source, destination, auxiliary):\n",
    "    if n == 1:\n",
    "        print(\"move disk 1 from rod\", source, \"to rod\", destination)\n",
    "        return 1\n",
    "    \n",
    "    count = 0\n",
    "    \n",
    "    count += towerOfHanoi(n - 1, source, auxiliary, destination)\n",
    "    print(\"move disk\", n, \"from rod\", source, \"to rod\", destination)\n",
    "    count += 1\n",
    "    count += towerOfHanoi(n - 1, auxiliary, destination, source)\n",
    "    \n",
    "    return count\n",
    "\n"
   ]
  },
  {
   "cell_type": "markdown",
   "id": "cecbab57",
   "metadata": {},
   "source": [
    "# Ques 7:"
   ]
  },
  {
   "cell_type": "code",
   "execution_count": null,
   "id": "05675c7b",
   "metadata": {},
   "outputs": [],
   "source": [
    "def permute(s, left, right):\n",
    "    if left == right:\n",
    "        print(\"\".join(s))\n",
    "        return\n",
    "\n",
    "    for i in range(left, right + 1):\n",
    "        # Fix the character at position left\n",
    "        s[left], s[i] = s[i], s[left]\n",
    "\n",
    "        # Recursively permute the remaining characters\n",
    "        permute(s, left + 1, right)\n",
    "\n",
    "        # Restore the original order\n",
    "        s[left], s[i] = s[i], s[left]\n",
    "\n"
   ]
  },
  {
   "cell_type": "markdown",
   "id": "89ad3dd1",
   "metadata": {},
   "source": [
    "# Ques 8:"
   ]
  },
  {
   "cell_type": "code",
   "execution_count": null,
   "id": "90988ccd",
   "metadata": {},
   "outputs": [],
   "source": [
    "def count_consonants(string):\n",
    "    consonants = \"bcdfghjklmnpqrstvwxyzBCDFGHJKLMNPQRSTVWXYZ\"\n",
    "    count = 0\n",
    "    for char in string:\n",
    "        if char in consonants:\n",
    "            count += 1\n",
    "    return count\n",
    "\n"
   ]
  }
 ],
 "metadata": {
  "kernelspec": {
   "display_name": "Python 3 (ipykernel)",
   "language": "python",
   "name": "python3"
  },
  "language_info": {
   "codemirror_mode": {
    "name": "ipython",
    "version": 3
   },
   "file_extension": ".py",
   "mimetype": "text/x-python",
   "name": "python",
   "nbconvert_exporter": "python",
   "pygments_lexer": "ipython3",
   "version": "3.9.13"
  }
 },
 "nbformat": 4,
 "nbformat_minor": 5
}
