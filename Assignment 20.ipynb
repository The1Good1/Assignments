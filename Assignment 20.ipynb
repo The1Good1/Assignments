{
 "cells": [
  {
   "cell_type": "markdown",
   "id": "1a4736a7",
   "metadata": {},
   "source": [
    "# Ques 1:"
   ]
  },
  {
   "cell_type": "markdown",
   "id": "74cfc6f9",
   "metadata": {},
   "source": [
    "Set the variable test1 to the string 'This is a test of the emergency text system,' and save test1 to a file named test.txt.\n"
   ]
  },
  {
   "cell_type": "code",
   "execution_count": 11,
   "id": "143334ad",
   "metadata": {},
   "outputs": [],
   "source": [
    "test1 = 'This is a test of the emergency text system.'\n",
    "with open('test.txt', 'w') as file:\n",
    "    file.write(test1)\n"
   ]
  },
  {
   "cell_type": "markdown",
   "id": "916f92c9",
   "metadata": {},
   "source": [
    "# Ques 2:"
   ]
  },
  {
   "cell_type": "markdown",
   "id": "8cbcd8c6",
   "metadata": {},
   "source": [
    "Read the contents of the file test.txt into the variable test2. Is there a difference between test 1 and test 2?\n"
   ]
  },
  {
   "cell_type": "code",
   "execution_count": 12,
   "id": "118ca2db",
   "metadata": {},
   "outputs": [],
   "source": [
    "with open('test.txt', 'r') as file:\n",
    "    test2 = file.read()\n"
   ]
  },
  {
   "cell_type": "markdown",
   "id": "cab9ecc7",
   "metadata": {},
   "source": [
    "We can use a straightforward comparison to see if test1 and test2 differ from one another:"
   ]
  },
  {
   "cell_type": "code",
   "execution_count": 13,
   "id": "a6abd7d6",
   "metadata": {},
   "outputs": [
    {
     "name": "stdout",
     "output_type": "stream",
     "text": [
      "True\n"
     ]
    }
   ],
   "source": [
    "difference = test1 == test2\n",
    "print(difference)\n"
   ]
  },
  {
   "cell_type": "markdown",
   "id": "b2526c8c",
   "metadata": {},
   "source": [
    "# Ques 3:"
   ]
  },
  {
   "cell_type": "markdown",
   "id": "709eb81a",
   "metadata": {},
   "source": [
    "Create a CSV file called books.csv by using these lines: \n",
    "title,author,year\n",
    "The Weirdstone of Brisingamen,Alan Garner,1960\n",
    "Perdido Street Station,China Miéville,2000\n",
    "Thud!,Terry Pratchett,2005\n",
    "The Spellman Files,Lisa Lutz,2007\n",
    "Small Gods,Terry Pratchett,1992"
   ]
  },
  {
   "cell_type": "code",
   "execution_count": 14,
   "id": "12288a33",
   "metadata": {},
   "outputs": [],
   "source": [
    "import csv\n",
    "\n",
    "data = [\n",
    "    ['title', 'author', 'year'],\n",
    "    ['The Weirdstone of Brisingamen', 'Alan Garner', '1960'],\n",
    "    ['Perdido Street Station', 'China Miéville', '2000'],\n",
    "    ['Thud!', 'Terry Pratchett', '2005'],\n",
    "    ['The Spellman Files', 'Lisa Lutz', '2007'],\n",
    "    ['Small Gods', 'Terry Pratchett', '1992']\n",
    "]\n",
    "\n",
    "filename = 'books.csv'\n",
    "\n",
    "with open(filename, 'w', newline='') as file:\n",
    "    writer = csv.writer(file)\n",
    "    writer.writerows(data)\n"
   ]
  },
  {
   "cell_type": "markdown",
   "id": "172f8035",
   "metadata": {},
   "source": [
    "# Ques 4:\n"
   ]
  },
  {
   "cell_type": "markdown",
   "id": "3b83a0d0",
   "metadata": {},
   "source": [
    "Use the sqlite3 module to create a SQLite database called books.db, and a table called books with these fields: title (text), author (text), and year (integer).\n"
   ]
  },
  {
   "cell_type": "code",
   "execution_count": 15,
   "id": "b734bc83",
   "metadata": {},
   "outputs": [],
   "source": [
    "import sqlite3\n",
    "\n",
    "# Connect to the database (creates a new file if it doesn't exist)\n",
    "connection = sqlite3.connect('books.db')\n",
    "\n",
    "# Create a cursor object to execute SQL commands\n",
    "cursor = connection.cursor()\n",
    "\n",
    "# Create the books table with title, author, and year columns\n",
    "cursor.execute('''\n",
    "    CREATE TABLE IF NOT EXISTS books (\n",
    "        title TEXT,\n",
    "        author TEXT,\n",
    "        year INTEGER\n",
    "    )\n",
    "''')\n",
    "\n",
    "# Commit the changes and close the connection\n",
    "connection.commit()\n",
    "connection.close()\n"
   ]
  },
  {
   "cell_type": "markdown",
   "id": "ea824a36",
   "metadata": {},
   "source": [
    "# Ques 5:\n"
   ]
  },
  {
   "cell_type": "markdown",
   "id": "75590f37",
   "metadata": {},
   "source": [
    "Read books.csv and insert its data into the book table.\n"
   ]
  },
  {
   "cell_type": "code",
   "execution_count": 16,
   "id": "e6c0ccb3",
   "metadata": {},
   "outputs": [],
   "source": [
    "import csv\n",
    "import sqlite3\n",
    "\n",
    "# Connect to the database\n",
    "connection = sqlite3.connect('books.db')\n",
    "cursor = connection.cursor()\n",
    "\n",
    "# Read data from books.csv\n",
    "with open('books.csv', 'r') as file:\n",
    "    reader = csv.reader(file)\n",
    "    next(reader)  # Skip the header row\n",
    "    for row in reader:\n",
    "        title, author, year = row\n",
    "        # Insert each row into the books table\n",
    "        cursor.execute(\"INSERT INTO books (title, author, year) VALUES (?, ?, ?)\", (title, author, int(year)))\n",
    "\n",
    "# Commit the changes and close the connection\n",
    "connection.commit()\n",
    "connection.close()\n"
   ]
  },
  {
   "cell_type": "markdown",
   "id": "3e1eec00",
   "metadata": {},
   "source": [
    "# Ques 6:\n",
    "\n"
   ]
  },
  {
   "cell_type": "markdown",
   "id": "31ed3df2",
   "metadata": {},
   "source": [
    "Select and print the title column from the book table in alphabetical order.\n"
   ]
  },
  {
   "cell_type": "code",
   "execution_count": 17,
   "id": "29bd6bd6",
   "metadata": {},
   "outputs": [
    {
     "name": "stdout",
     "output_type": "stream",
     "text": [
      "Perdido Street Station\n",
      "Small Gods\n",
      "The Spellman Files\n",
      "The Weirdstone of Brisingamen\n",
      "Thud!\n"
     ]
    }
   ],
   "source": [
    "import sqlite3\n",
    "\n",
    "# Connect to the database\n",
    "connection = sqlite3.connect('books.db')\n",
    "cursor = connection.cursor()\n",
    "\n",
    "# Select the title column from the books table in alphabetical order\n",
    "cursor.execute(\"SELECT title FROM books ORDER BY title ASC\")\n",
    "rows = cursor.fetchall()\n",
    "\n",
    "# Print the titles\n",
    "for row in rows:\n",
    "    print(row[0])\n",
    "\n",
    "# Close the connection\n",
    "connection.close()\n"
   ]
  },
  {
   "cell_type": "markdown",
   "id": "545fbc09",
   "metadata": {},
   "source": [
    "# Ques 7:\n"
   ]
  },
  {
   "cell_type": "markdown",
   "id": "4241febd",
   "metadata": {},
   "source": [
    "From the book table, select and print all columns in the order of publication."
   ]
  },
  {
   "cell_type": "code",
   "execution_count": 18,
   "id": "581af416",
   "metadata": {},
   "outputs": [
    {
     "name": "stdout",
     "output_type": "stream",
     "text": [
      "('The Weirdstone of Brisingamen', 'Alan Garner', 1960)\n",
      "('Small Gods', 'Terry Pratchett', 1992)\n",
      "('Perdido Street Station', 'China Miéville', 2000)\n",
      "('Thud!', 'Terry Pratchett', 2005)\n",
      "('The Spellman Files', 'Lisa Lutz', 2007)\n"
     ]
    }
   ],
   "source": [
    "import sqlite3\n",
    "\n",
    "# Connect to the database\n",
    "connection = sqlite3.connect('books.db')\n",
    "cursor = connection.cursor()\n",
    "\n",
    "# Select all columns from the books table in the order of publication\n",
    "cursor.execute(\"SELECT * FROM books ORDER BY year ASC\")\n",
    "rows = cursor.fetchall()\n",
    "\n",
    "# Print the columns\n",
    "for row in rows:\n",
    "    print(row)\n",
    "\n",
    "# Close the connection\n",
    "connection.close()\n"
   ]
  },
  {
   "cell_type": "markdown",
   "id": "5096185d",
   "metadata": {},
   "source": [
    "# Ques 8:"
   ]
  },
  {
   "cell_type": "markdown",
   "id": "bb636177",
   "metadata": {},
   "source": [
    "Use the sqlalchemy module to connect to the sqlite3 database books.db that you just made in exercise 6.\n"
   ]
  },
  {
   "cell_type": "code",
   "execution_count": 19,
   "id": "c1a5ec0f",
   "metadata": {},
   "outputs": [],
   "source": [
    "from sqlalchemy import create_engine\n",
    "\n",
    "# Create the SQLAlchemy engine to connect to the database\n",
    "engine = create_engine('sqlite:///books.db')\n",
    "\n",
    "# Establish a connection\n",
    "connection = engine.connect()\n",
    "\n",
    "# Perform database operations...\n",
    "\n",
    "# Close the connection\n",
    "connection.close()\n"
   ]
  },
  {
   "cell_type": "markdown",
   "id": "6a037e2f",
   "metadata": {},
   "source": [
    "# Ques 9:\n"
   ]
  },
  {
   "cell_type": "markdown",
   "id": "c0d9eaee",
   "metadata": {},
   "source": [
    "Install the Redis server and the Python redis library (pip install redis) on your computer. Create a Redis hash called test with the fields count (1) and name ('Fester Bestertester'). Print all the fields for test.\n"
   ]
  },
  {
   "cell_type": "code",
   "execution_count": null,
   "id": "f9487c14",
   "metadata": {},
   "outputs": [],
   "source": [
    "import redis\n",
    "\n",
    "# Connect to Redis\n",
    "r = redis.Redis()\n",
    "\n",
    "# Create a Redis hash called \"test\" with fields and values\n",
    "r.hset(\"test\", \"count\", 1)\n",
    "r.hset(\"test\", \"name\", \"Fester Bestertester\")\n",
    "\n",
    "# Get all fields and values from the \"test\" hash\n",
    "all_fields = r.hgetall(\"test\")\n",
    "\n",
    "# Print all fields and values\n",
    "for field, value in all_fields.items():\n",
    "    print(f\"{field}: {value.decode()}\")  # Convert bytes to string\n",
    "\n",
    "# Close the Redis connection\n",
    "r.close()\n"
   ]
  },
  {
   "cell_type": "markdown",
   "id": "cf59288d",
   "metadata": {},
   "source": [
    "# Ques 10:"
   ]
  },
  {
   "cell_type": "markdown",
   "id": "258e673f",
   "metadata": {},
   "source": [
    "Increment the count field of test and print it."
   ]
  },
  {
   "cell_type": "code",
   "execution_count": null,
   "id": "91aa5c52",
   "metadata": {},
   "outputs": [],
   "source": [
    "import redis\n",
    "\n",
    "# Connect to Redis\n",
    "r = redis.Redis()\n",
    "\n",
    "# Increment the count field of test by 1\n",
    "updated_count = r.hincrby(\"test\", \"count\", 1)\n",
    "\n",
    "# Print the updated count\n",
    "print(\"Updated count:\", updated_count)\n",
    "\n",
    "# Close the Redis connection\n",
    "r.close()\n"
   ]
  },
  {
   "cell_type": "code",
   "execution_count": null,
   "id": "ba9e0488",
   "metadata": {},
   "outputs": [],
   "source": []
  }
 ],
 "metadata": {
  "kernelspec": {
   "display_name": "Python 3 (ipykernel)",
   "language": "python",
   "name": "python3"
  },
  "language_info": {
   "codemirror_mode": {
    "name": "ipython",
    "version": 3
   },
   "file_extension": ".py",
   "mimetype": "text/x-python",
   "name": "python",
   "nbconvert_exporter": "python",
   "pygments_lexer": "ipython3",
   "version": "3.9.13"
  }
 },
 "nbformat": 4,
 "nbformat_minor": 5
}
