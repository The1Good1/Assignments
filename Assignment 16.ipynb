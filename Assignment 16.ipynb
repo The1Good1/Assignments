{
 "cells": [
  {
   "cell_type": "markdown",
   "id": "30d25941",
   "metadata": {},
   "source": [
    "Ques 1"
   ]
  },
  {
   "cell_type": "markdown",
   "id": "7e61cac1",
   "metadata": {},
   "source": [
    "Create a list called years_list, starting with the year of your birth, and each year thereafter until\n",
    "the year of your fifth birthday. For example, if you were born in 1980. the list would be years_list =\n",
    "[1980, 1981, 1982, 1983, 1984, 1985].\n"
   ]
  },
  {
   "cell_type": "code",
   "execution_count": 1,
   "id": "6e65fd6b",
   "metadata": {},
   "outputs": [],
   "source": [
    "birth_year = 1991\n",
    "years_list = [birth_year + i for i in range(6)]\n"
   ]
  },
  {
   "cell_type": "markdown",
   "id": "8446f54b",
   "metadata": {},
   "source": [
    "Ques 2:\n"
   ]
  },
  {
   "cell_type": "markdown",
   "id": "8fe5ac2f",
   "metadata": {},
   "source": [
    "In which year in years_list was your third birthday? Remember, you were 0 years of age for your\n",
    "first year."
   ]
  },
  {
   "cell_type": "markdown",
   "id": "0ccb071f",
   "metadata": {},
   "source": [
    "My third birthday would be in the year 1993, as I was 0 years old in 1991, 1 year old in 1992, and 2 years old in 1993."
   ]
  },
  {
   "cell_type": "markdown",
   "id": "5bcf10bc",
   "metadata": {},
   "source": [
    "Ques 3:\n"
   ]
  },
  {
   "cell_type": "markdown",
   "id": "2a3a727f",
   "metadata": {},
   "source": [
    "In the years list, which year were you the oldest?"
   ]
  },
  {
   "cell_type": "markdown",
   "id": "8c31a263",
   "metadata": {},
   "source": [
    "For the birth year 1991, I would be the oldest in the year 1996"
   ]
  },
  {
   "cell_type": "markdown",
   "id": "98cb1be4",
   "metadata": {},
   "source": [
    "Ques 4: Make a list called things with these three strings as elements:\"mozzarella\", \"cinderella\", and \"salmonella\"\n",
    "\n"
   ]
  },
  {
   "cell_type": "code",
   "execution_count": 2,
   "id": "1847cc11",
   "metadata": {},
   "outputs": [],
   "source": [
    "D = [\"mozzarella\", \"cinderella\", \"salmonella\"]\n"
   ]
  },
  {
   "cell_type": "markdown",
   "id": "36c7f01e",
   "metadata": {},
   "source": [
    "Ques 5:"
   ]
  },
  {
   "cell_type": "markdown",
   "id": "d4fa60c2",
   "metadata": {},
   "source": [
    "Capitalize the element in things that refers to a person and then print the list. Did it change the\n",
    "element in the list?\n"
   ]
  },
  {
   "cell_type": "code",
   "execution_count": 3,
   "id": "2b1cc4b3",
   "metadata": {},
   "outputs": [
    {
     "name": "stdout",
     "output_type": "stream",
     "text": [
      "['mozzarella', 'Cinderella', 'salmonella']\n"
     ]
    }
   ],
   "source": [
    "D[1] = D[1].capitalize()\n",
    "print(D)\n"
   ]
  },
  {
   "cell_type": "markdown",
   "id": "cfa6d673",
   "metadata": {},
   "source": [
    "Ques 6:Make a surprise list with the elements \"Groucho,\" \"Chico,\" and \"Harpo.\""
   ]
  },
  {
   "cell_type": "code",
   "execution_count": 4,
   "id": "9c60086d",
   "metadata": {},
   "outputs": [],
   "source": [
    "surprise = [\"Groucho\", \"Chico\", \"Harpo\"]"
   ]
  },
  {
   "cell_type": "markdown",
   "id": "a003e597",
   "metadata": {},
   "source": [
    "Ques 7: Lowercase the last element of the surprise list, reverse it, and then capitalize it.\n"
   ]
  },
  {
   "cell_type": "code",
   "execution_count": 5,
   "id": "131fb203",
   "metadata": {},
   "outputs": [],
   "source": [
    "surprise[-1] = surprise[-1].lower()\n",
    "surprise[-1] = surprise[-1][::-1]\n",
    "surprise[-1] = surprise[-1].capitalize()\n"
   ]
  },
  {
   "cell_type": "markdown",
   "id": "077dda85",
   "metadata": {},
   "source": [
    "Ques 8:Make an English-to-French dictionary called e2f and print it. Here are your starter words: dog is\n",
    "chien, cat is chat, and walrus is morse.\n"
   ]
  },
  {
   "cell_type": "code",
   "execution_count": 6,
   "id": "30fccbb6",
   "metadata": {},
   "outputs": [
    {
     "name": "stdout",
     "output_type": "stream",
     "text": [
      "{'dog': 'chien', 'cat': 'chat', 'walrus': 'morse'}\n"
     ]
    }
   ],
   "source": [
    "e2f = {\n",
    "    'dog': 'chien',\n",
    "    'cat': 'chat',\n",
    "    'walrus': 'morse'\n",
    "}\n",
    "\n",
    "print(e2f)\n"
   ]
  },
  {
   "cell_type": "markdown",
   "id": "dba6512d",
   "metadata": {},
   "source": [
    "Ques 9: Write the French word for walrus in your three-word dictionary e2f."
   ]
  },
  {
   "cell_type": "markdown",
   "id": "bef5d9da",
   "metadata": {},
   "source": [
    "The French word for \"walrus\" is \"morse\" in the e2f dictionary"
   ]
  },
  {
   "cell_type": "markdown",
   "id": "925f7747",
   "metadata": {},
   "source": [
    "Ques 10:Make a French-to-English dictionary called f2e from e2f. Use the items method.\n"
   ]
  },
  {
   "cell_type": "markdown",
   "id": "2600261f",
   "metadata": {},
   "source": [
    "To make the French-to-English dictionary f2e from the e2f dictionary using the items() method, we can use the following code:"
   ]
  },
  {
   "cell_type": "code",
   "execution_count": 7,
   "id": "bf47766f",
   "metadata": {},
   "outputs": [],
   "source": [
    "f2e = {value: key for key, value in e2f.items()}\n"
   ]
  },
  {
   "cell_type": "markdown",
   "id": "70c67350",
   "metadata": {},
   "source": [
    "Ques 11:Print the English version of the French word chien using f2e.\n",
    "\n",
    "To print the English version of the French word \"chien\" using f2e, we can use the following code:\n"
   ]
  },
  {
   "cell_type": "code",
   "execution_count": 9,
   "id": "809100c5",
   "metadata": {},
   "outputs": [
    {
     "name": "stdout",
     "output_type": "stream",
     "text": [
      "dog\n"
     ]
    }
   ],
   "source": [
    "print(f2e['chien'])\n"
   ]
  },
  {
   "cell_type": "markdown",
   "id": "a9bd3356",
   "metadata": {},
   "source": [
    "Ques 12: Make and print a set of English words from the keys in e2f."
   ]
  },
  {
   "cell_type": "code",
   "execution_count": 10,
   "id": "9962d0fa",
   "metadata": {},
   "outputs": [
    {
     "name": "stdout",
     "output_type": "stream",
     "text": [
      "{'cat', 'walrus', 'dog'}\n"
     ]
    }
   ],
   "source": [
    "english_words = set(e2f.keys())\n",
    "print(english_words)\n"
   ]
  },
  {
   "cell_type": "markdown",
   "id": "d6bdf976",
   "metadata": {},
   "source": [
    "Ques 13 : Make a multilevel dictionary called life. Use these strings for the topmost keys: 'animals', 'plants', and 'other'. Make the 'animals' key refer to another dictionary with the keys 'cats', 'octopi', and 'emus'. Make the 'cats' key refer to a list of strings with the values 'Henri', 'Grumpy', and 'Lucy'.\n",
    "Make all the other keys refer to empty dictionaries.\n",
    "\n",
    "We can use the following code to build the multilayer dictionary life as described:"
   ]
  },
  {
   "cell_type": "code",
   "execution_count": 11,
   "id": "0bd35377",
   "metadata": {},
   "outputs": [],
   "source": [
    "life = {\n",
    "    'animals': {\n",
    "        'cats': ['Henri', 'Grumpy', 'Lucy'],\n",
    "        'octopi': {},\n",
    "        'emus': {}\n",
    "    },\n",
    "    'plants': {},\n",
    "    'other': {}\n",
    "}\n"
   ]
  },
  {
   "cell_type": "markdown",
   "id": "a6099737",
   "metadata": {},
   "source": [
    "Ques 14: Print the top-level keys of life.\n"
   ]
  },
  {
   "cell_type": "markdown",
   "id": "cbe52ff7",
   "metadata": {},
   "source": [
    "We may use the keys() method to turn the life dictionary's top-level keys into a list and print them. Here is the key:"
   ]
  },
  {
   "cell_type": "code",
   "execution_count": 12,
   "id": "e9c1308d",
   "metadata": {},
   "outputs": [
    {
     "name": "stdout",
     "output_type": "stream",
     "text": [
      "['animals', 'plants', 'other']\n"
     ]
    }
   ],
   "source": [
    "top_level_keys = list(life.keys())\n",
    "print(top_level_keys)\n"
   ]
  },
  {
   "cell_type": "markdown",
   "id": "b404b8ca",
   "metadata": {},
   "source": [
    "Ques 15: Print the keys for life['animals'].\n",
    "\n",
    "Use the nested dictionary's keys() method to print the keys for life['animals']. Here is the key:"
   ]
  },
  {
   "cell_type": "code",
   "execution_count": 13,
   "id": "42639731",
   "metadata": {},
   "outputs": [
    {
     "name": "stdout",
     "output_type": "stream",
     "text": [
      "['cats', 'octopi', 'emus']\n"
     ]
    }
   ],
   "source": [
    "animal_keys = list(life['animals'].keys())\n",
    "print(animal_keys)\n"
   ]
  },
  {
   "cell_type": "markdown",
   "id": "07ad25b4",
   "metadata": {},
   "source": [
    "Ques 16: Print the values for life['animals']['cats']"
   ]
  },
  {
   "cell_type": "markdown",
   "id": "85d6a015",
   "metadata": {},
   "source": [
    "We may directly access the nested list to print the data for life['animals']['cats']. As for the code:"
   ]
  },
  {
   "cell_type": "code",
   "execution_count": 14,
   "id": "4fddeecd",
   "metadata": {},
   "outputs": [
    {
     "name": "stdout",
     "output_type": "stream",
     "text": [
      "['Henri', 'Grumpy', 'Lucy']\n"
     ]
    }
   ],
   "source": [
    "cat_values = life['animals']['cats']\n",
    "print(cat_values)\n"
   ]
  },
  {
   "cell_type": "code",
   "execution_count": null,
   "id": "de3b475c",
   "metadata": {},
   "outputs": [],
   "source": []
  }
 ],
 "metadata": {
  "kernelspec": {
   "display_name": "Python 3 (ipykernel)",
   "language": "python",
   "name": "python3"
  },
  "language_info": {
   "codemirror_mode": {
    "name": "ipython",
    "version": 3
   },
   "file_extension": ".py",
   "mimetype": "text/x-python",
   "name": "python",
   "nbconvert_exporter": "python",
   "pygments_lexer": "ipython3",
   "version": "3.9.13"
  }
 },
 "nbformat": 4,
 "nbformat_minor": 5
}
