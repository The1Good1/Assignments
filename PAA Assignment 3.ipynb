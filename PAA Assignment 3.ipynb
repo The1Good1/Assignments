{
 "cells": [
  {
   "cell_type": "markdown",
   "id": "4988184c",
   "metadata": {},
   "source": [
    "# Ques 1\n",
    " What is the concept of an abstract superclass?\n",
    "\n",
    "The concept of an abstract superclass refers to a class that is designed to be inherited by other classes but is not intended to be instantiated on its own. An abstract superclass typically contains common attributes and methods that are shared by its subclasses. It serves as a blueprint or template for its subclasses to inherit and override specific behaviors.\n",
    "Abstract superclasses often define abstract methods, which are method declarations without any implementation. Subclasses that inherit from the abstract superclass are required to provide an implementation for these abstract methods. This concept promotes code reusability, modularity, and polymorphism in object-oriented programming.\n",
    "\n",
    "In Python, we can create an abstract superclass by using the abc module (Abstract Base Classes) and its ABC (Abstract Base Class) metaclass"
   ]
  },
  {
   "cell_type": "markdown",
   "id": "88f32b7c",
   "metadata": {},
   "source": [
    "# Ques 2\n",
    "What happens when a class statement&#39;s top level contains a basic assignment statement?\n",
    "\n",
    "When a class statement's top level contains a basic assignment statement, it creates a class attribute. This means that the assigned value becomes an attribute of the class itself, rather than an instance attribute.\n"
   ]
  },
  {
   "cell_type": "code",
   "execution_count": null,
   "id": "4bf966ba",
   "metadata": {},
   "outputs": [],
   "source": [
    "class MyClass:\n",
    "    class_attribute = \"This is a class attribute\"\n",
    "\n",
    "    def __init__(self):\n",
    "        self.instance_attribute = \"This is an instance attribute\"\n"
   ]
  },
  {
   "cell_type": "markdown",
   "id": "9a72b51a",
   "metadata": {},
   "source": [
    "In this example, class_attribute is a class attribute, which is accessible directly from the class itself and shared by all instances of the class. On the other hand, instance_attribute is an instance attribute, which is unique to each instance of the class."
   ]
  },
  {
   "cell_type": "markdown",
   "id": "032f84b8",
   "metadata": {},
   "source": [
    "# Ques 3\n",
    "\n",
    "Why does a class need to manually call a superclass's __init__ method?\n",
    "\n",
    "\n",
    "A class needs to manually call a superclass's __init__ method when it wants to invoke the superclass's initialization logic. By calling the superclass's __init__ method, the subclass can inherit and initialize any attributes or behaviors defined in the superclass.\n",
    "In Python, when a class defines its own __init__ method, it overrides the superclass's __init__ method. If we want to include the initialization logic of the superclass as well, we need to explicitly call the superclass's __init__ method using the super() function."
   ]
  },
  {
   "cell_type": "code",
   "execution_count": null,
   "id": "12892a95",
   "metadata": {},
   "outputs": [],
   "source": [
    "class Superclass:\n",
    "    def __init__(self):\n",
    "        # Superclass initialization logic\n",
    "\n",
    "class Subclass(Superclass):\n",
    "    def __init__(self):\n",
    "        super().__init__()  # Call superclass's __init__ method\n",
    "        # Subclass initialization logic\n"
   ]
  },
  {
   "cell_type": "markdown",
   "id": "497e5179",
   "metadata": {},
   "source": [
    "# Ques 4\n",
    "How can you augment, instead of completely replacing, an inherited method?\n",
    "\n",
    "To augment, rather than completely replace, an inherited method, we can use method overriding. Method overriding allows a subclass to provide its own implementation of a method inherited from the superclass while keeping the same method name and signature.\n",
    "In Python, to override a method from the superclass, we define a method with the same name in the subclass. Inside the subclass's method, we can choose to invoke the superclass's method using the super() function and then modify or extend its behavior as needed."
   ]
  },
  {
   "cell_type": "code",
   "execution_count": null,
   "id": "de7789c9",
   "metadata": {},
   "outputs": [],
   "source": [
    "class Superclass:\n",
    "    def my_method(self):\n",
    "        print(\"Superclass method\")\n",
    "\n",
    "class Subclass(Superclass):\n",
    "    def my_method(self):\n",
    "        super().my_method()  # Call superclass's method\n",
    "        print(\"Subclass method\")\n",
    "\n",
    "# Usage\n",
    "obj = Subclass()\n",
    "obj.my_method()\n"
   ]
  },
  {
   "cell_type": "markdown",
   "id": "a9db1c10",
   "metadata": {},
   "source": [
    "By calling super().my_method(), the subclass augments the behavior of the inherited method by first executing the superclass's method and then adding its own behavior."
   ]
  },
  {
   "cell_type": "markdown",
   "id": "bedac05f",
   "metadata": {},
   "source": [
    "# Ques 5\n",
    "\n",
    "How is the local scope of a class different from that of a function?\n",
    "\n",
    "The local scope of a class and a function in Python is different in the following ways:\n",
    "1. Variables defined within a class, including class attributes and methods, are accessible throughout the class and can be referred to using the self keyword. These variables have a broader scope within the class and can be accessed from multiple methods.\n",
    "\n",
    "2. In contrast, variables defined within a function have a local scope, meaning they are only accessible within that specific function. These variables are not directly accessible from other functions or outside the function.\n",
    "\n",
    "3. Additionally, class attributes and instance attributes can be accessed outside of methods by using the instance/object of the class. However, local variables in a function are not directly accessible from outside the function.\n",
    "\n",
    "4. Another difference is that the local scope of a class can also include nested classes or inner classes, which have their own scope within the enclosing class. Inner classes can access variables and methods of the outer class, but not vice versa.\n",
    "\n",
    "In summary, the local scope of a class is broader and encompasses the entire class, including its attributes and methods, while the local scope of a function is limited to that specific function.\n"
   ]
  }
 ],
 "metadata": {
  "kernelspec": {
   "display_name": "Python 3 (ipykernel)",
   "language": "python",
   "name": "python3"
  },
  "language_info": {
   "codemirror_mode": {
    "name": "ipython",
    "version": 3
   },
   "file_extension": ".py",
   "mimetype": "text/x-python",
   "name": "python",
   "nbconvert_exporter": "python",
   "pygments_lexer": "ipython3",
   "version": "3.9.13"
  }
 },
 "nbformat": 4,
 "nbformat_minor": 5
}
