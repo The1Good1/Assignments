{
 "cells": [
  {
   "cell_type": "markdown",
   "id": "1f9908db",
   "metadata": {},
   "source": [
    "# Ques 1\n",
    "\n",
    "1. Write a Python Program to find sum of array?\n"
   ]
  },
  {
   "cell_type": "code",
   "execution_count": 32,
   "id": "8ba1c2c8",
   "metadata": {},
   "outputs": [
    {
     "name": "stdout",
     "output_type": "stream",
     "text": [
      "Enter the number of terms: 3\n",
      "Fibonacci sequence:\n",
      "0 1 1 "
     ]
    }
   ],
   "source": [
    "array = input(\"Enter the elements of the array (space-separated): \").split()\n",
    "array = [int(num) for num in array]\n",
    "\n",
    "sum_of_array = sum(array)\n",
    "print(\"Sum of the array:\", sum_of_array)\n"
   ]
  },
  {
   "cell_type": "markdown",
   "id": "1150e11e",
   "metadata": {},
   "source": [
    "# Ques 2\n",
    "\n",
    "2. Write a Python Program to find largest element in an array?\n"
   ]
  },
  {
   "cell_type": "code",
   "execution_count": null,
   "id": "5548ef92",
   "metadata": {},
   "outputs": [],
   "source": [
    "array = input(\"Enter the elements of the array (space-separated): \").split()\n",
    "array = [int(num) for num in array]\n",
    "\n",
    "largest = max(array)\n",
    "print(\"Largest element in the array:\", largest)\n"
   ]
  },
  {
   "cell_type": "markdown",
   "id": "9ae95740",
   "metadata": {},
   "source": [
    "# Ques 3\n",
    "\n",
    "3. Write a Python Program for array rotation?\n"
   ]
  },
  {
   "cell_type": "code",
   "execution_count": null,
   "id": "26699ebc",
   "metadata": {},
   "outputs": [],
   "source": [
    "array = input(\"Enter the elements of the array (space-separated): \").split()\n",
    "array = [int(num) for num in array]\n",
    "\n",
    "rotation = int(input(\"Enter the number of rotations: \"))\n",
    "\n",
    "rotated_array = array[rotation:] + array[:rotation]\n",
    "print(\"Rotated array:\", rotated_array)\n"
   ]
  },
  {
   "cell_type": "markdown",
   "id": "b0773499",
   "metadata": {},
   "source": [
    "# Ques 4\n",
    "\n",
    "\n",
    "4. Write a Python Program to Split the array and add the first part to the end?\n"
   ]
  },
  {
   "cell_type": "code",
   "execution_count": null,
   "id": "73e1d2e6",
   "metadata": {},
   "outputs": [],
   "source": [
    "array = input(\"Enter the elements of the array (space-separated): \").split()\n",
    "array = [int(num) for num in array]\n",
    "\n",
    "split_index = int(input(\"Enter the split index: \"))\n",
    "\n",
    "split_array = array[split_index:] + array[:split_index]\n",
    "print(\"Split and added array:\", split_array)\n"
   ]
  },
  {
   "cell_type": "markdown",
   "id": "cb55839c",
   "metadata": {},
   "source": [
    "# Ques 5\n",
    "\n",
    "5. Write a Python Program to check if given array is Monotonic?\n"
   ]
  },
  {
   "cell_type": "code",
   "execution_count": null,
   "id": "a7a31706",
   "metadata": {},
   "outputs": [],
   "source": [
    "array = input(\"Enter the elements of the array (space-separated): \").split()\n",
    "array = [int(num) for num in array]\n",
    "\n",
    "is_monotonic = all(array[i] <= array[i+1] for i in range(len(array)-1)) or \\\n",
    "              all(array[i] >= array[i+1] for i in range(len(array)-1))\n",
    "\n",
    "if is_monotonic:\n",
    "    print(\"The array is monotonic.\")\n",
    "else:\n",
    "    print(\"The array is not monotonic.\")\n"
   ]
  },
  {
   "cell_type": "code",
   "execution_count": null,
   "id": "a98c325d",
   "metadata": {},
   "outputs": [],
   "source": []
  }
 ],
 "metadata": {
  "kernelspec": {
   "display_name": "Python 3 (ipykernel)",
   "language": "python",
   "name": "python3"
  },
  "language_info": {
   "codemirror_mode": {
    "name": "ipython",
    "version": 3
   },
   "file_extension": ".py",
   "mimetype": "text/x-python",
   "name": "python",
   "nbconvert_exporter": "python",
   "pygments_lexer": "ipython3",
   "version": "3.9.13"
  }
 },
 "nbformat": 4,
 "nbformat_minor": 5
}
