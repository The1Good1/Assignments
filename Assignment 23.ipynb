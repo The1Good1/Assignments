{
 "cells": [
  {
   "cell_type": "markdown",
   "id": "22271c43",
   "metadata": {},
   "source": [
    "# Ques 1\n",
    "What is the result of the code, and why?\n",
    ">>> def func(a, b=6, c=8):\n",
    "print(a, b, c)\n",
    ">>> func(1, 2)\n",
    "\n",
    "\n"
   ]
  },
  {
   "cell_type": "markdown",
   "id": "64adb26c",
   "metadata": {},
   "source": [
    "Output : 1 2 8\n",
    "\n",
    "The function func() is defined with three parameters: a, b, and c. The parameter a is a positional argument, b has a default value of 6, and c has a default value of 8. When the function is called with func(1, 2), the value 1 is assigned to a, 2 is assigned to b, and c retains its default value of 8. Therefore, when print(a, b, c) is executed, it outputs 1 2 8.\n"
   ]
  },
  {
   "cell_type": "markdown",
   "id": "999d8a62",
   "metadata": {},
   "source": [
    "# Ques 2\n",
    "What is the result of this code, and why?\n",
    ">>> def func(a, b, c=5):\n",
    "print(a, b, c)\n",
    ">>> func(1, c=3, b=2)\n",
    "\n",
    "\n",
    "\n"
   ]
  },
  {
   "cell_type": "markdown",
   "id": "0de8fa15",
   "metadata": {},
   "source": [
    "Output : 1 2 3\n",
    "\n",
    "The function func() is defined with three parameters: a, b, and c. The parameter a is a positional argument, b is a keyword argument, and c has a default value of 5. When the function is called with func(1, c=3, b=2), the value 1 is assigned to a, 2 is assigned to b due to the keyword argument, and 3 is assigned to c due to the keyword argument. Therefore, when print(a, b, c) is executed, it outputs 1 2 3."
   ]
  },
  {
   "cell_type": "markdown",
   "id": "17a71a0b",
   "metadata": {},
   "source": [
    "# Ques 3\n",
    "How about this code: what is its result, and why?\n",
    ">>> def func(a, *pargs):\n",
    "print(a, pargs)\n",
    ">>> func(1, 2, 3)\n"
   ]
  },
  {
   "cell_type": "markdown",
   "id": "ec4c7615",
   "metadata": {},
   "source": [
    "Output : \n",
    "\n",
    "1 (2, 3)\n",
    "\n",
    "The function func() is defined with a parameter a and *pargs parameter, which allows for variable-length positional arguments. When the function is called with func(1, 2, 3), the value 1 is assigned to a, and the additional positional arguments 2 and 3 are collected into the pargs tuple. Therefore, when print(a, pargs) is executed, it outputs 1 (2, 3)."
   ]
  },
  {
   "cell_type": "markdown",
   "id": "788e9e19",
   "metadata": {},
   "source": [
    "# Ques 4\n",
    "What does this code print, and why?\n",
    ">>> def func(a, **kargs):\n",
    "print(a, kargs)\n",
    ">>> func(a=1, c=3, b=2)\n",
    "\n"
   ]
  },
  {
   "cell_type": "markdown",
   "id": "3e9d8199",
   "metadata": {},
   "source": [
    "Output will be :\n",
    "\n",
    "1 {'c': 3, 'b': 2}\n",
    "\n",
    "The function func() is defined with a parameter a and **kargs parameter, which allows for variable-length keyword arguments. When the function is called with func(a=1, c=3, b=2), the value 1 is assigned to a, and the additional keyword arguments c=3 and b=2 are collected into the kargs dictionary. Therefore, when print(a, kargs) is executed, it outputs 1 {'c': 3, 'b': 2}.\n"
   ]
  },
  {
   "cell_type": "markdown",
   "id": "bc6e18f1",
   "metadata": {},
   "source": [
    "# Ques 5\n",
    "What gets printed by this, and explain?\n",
    ">>> def func(a, b, c=8, d=5): print(a, b, c, d)\n",
    ">>> func(1, *(5, 6))\n",
    "\n",
    "\n",
    "\n"
   ]
  },
  {
   "cell_type": "markdown",
   "id": "6aaa9d7f",
   "metadata": {},
   "source": [
    "Output will be:\n",
    "\n",
    "1 5 6 5\n",
    "\n",
    "The function func() is defined with three parameters: a, b, and c. When the function is called with func(1, *(5, 6)), the value 1 is assigned to a, and the tuple (5, 6) is unpacked and assigned to b and c. Therefore, when print(a, b, c, d) is executed, it outputs 1 5 6 5."
   ]
  },
  {
   "cell_type": "markdown",
   "id": "077fa0a1",
   "metadata": {},
   "source": [
    "# Ques 6\n",
    "\n",
    "what is the result of this, and explain?\n",
    ">>> def func(a, b, c): a = 2; b[0] = 'x'; c['a'] = 'y'\n",
    ">>> l=1; m=[1]; n={'a':0}\n",
    ">>> func(l, m, n)\n",
    ">>> l, m, n\n"
   ]
  },
  {
   "cell_type": "markdown",
   "id": "114a3e90",
   "metadata": {},
   "source": [
    "Output:\n",
    "\n",
    "2 ['x'] {'a': 'y'}\n",
    "\n",
    "The function func() takes three parameters: a, b, and c. Inside the function, the value of a is reassigned to 2, b[0] is modified to 'x', and c['a'] is modified to 'y'. When the function is called with func(l, m, n), it passes the values of l, m, and n as arguments. Since l is an immutable integer, it is not affected by the function. However, m is a mutable list, so the modification b[0] = 'x' changes the list in place. Similarly, n is a mutable dictionary, so the modification c['a'] = 'y' updates the dictionary. After the function call, l remains 1, m becomes ['x'], and n becomes {'a': 'y'}. Therefore, when l, m, n is printed, it outputs 1 ['x'] {'a': 'y'}."
   ]
  }
 ],
 "metadata": {
  "kernelspec": {
   "display_name": "Python 3 (ipykernel)",
   "language": "python",
   "name": "python3"
  },
  "language_info": {
   "codemirror_mode": {
    "name": "ipython",
    "version": 3
   },
   "file_extension": ".py",
   "mimetype": "text/x-python",
   "name": "python",
   "nbconvert_exporter": "python",
   "pygments_lexer": "ipython3",
   "version": "3.9.13"
  }
 },
 "nbformat": 4,
 "nbformat_minor": 5
}
