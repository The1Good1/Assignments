{
 "cells": [
  {
   "cell_type": "markdown",
   "id": "4e864a43",
   "metadata": {},
   "source": [
    "# Ques 1\n",
    "\n"
   ]
  },
  {
   "cell_type": "code",
   "execution_count": null,
   "id": "ec9ef308",
   "metadata": {},
   "outputs": [],
   "source": [
    "def deleteMiddle(head):\n",
    "    if head is None or head.next is None:\n",
    "        return None\n",
    "\n",
    "    slow = head\n",
    "    fast = head\n",
    "    prev = None\n",
    "\n",
    "    while fast is not None and fast.next is not None:\n",
    "        fast = fast.next.next\n",
    "        prev = slow\n",
    "        slow = slow.next\n",
    "\n",
    "    prev.next = slow.next\n",
    "\n",
    "    return head\n"
   ]
  },
  {
   "cell_type": "markdown",
   "id": "be9e9310",
   "metadata": {},
   "source": [
    "# Ques 2\n",
    "\n"
   ]
  },
  {
   "cell_type": "code",
   "execution_count": 10,
   "id": "3cfc3e87",
   "metadata": {},
   "outputs": [],
   "source": [
    "def hasCycle(head):\n",
    "    if head is None or head.next is None:\n",
    "        return False\n",
    "\n",
    "    slow = head\n",
    "    fast = head.next\n",
    "\n",
    "    while fast is not None and fast.next is not None:\n",
    "        if slow == fast:\n",
    "            return True\n",
    "        slow = slow.next\n",
    "        fast = fast.next.next\n",
    "\n",
    "    return False\n"
   ]
  },
  {
   "cell_type": "markdown",
   "id": "87d70732",
   "metadata": {},
   "source": [
    "# Ques 3\n",
    "\n",
    "\n"
   ]
  },
  {
   "cell_type": "code",
   "execution_count": 11,
   "id": "a22f7bfb",
   "metadata": {},
   "outputs": [],
   "source": [
    "def nthNodeFromEnd(head, n):\n",
    "    if head is None:\n",
    "        return -1\n",
    "\n",
    "    mainPtr = head\n",
    "    refPtr = head\n",
    "\n",
    "    # Move the reference pointer N nodes ahead\n",
    "    for _ in range(n):\n",
    "        if refPtr is None:\n",
    "            return -1\n",
    "        refPtr = refPtr.next\n",
    "\n",
    "    # Move both pointers simultaneously\n",
    "    while refPtr is not None:\n",
    "        mainPtr = mainPtr.next\n",
    "        refPtr = refPtr.next\n",
    "\n",
    "    if mainPtr is None:\n",
    "        return -1\n",
    "    else:\n",
    "        return mainPtr.data\n",
    "\n"
   ]
  },
  {
   "cell_type": "markdown",
   "id": "5a5d3b41",
   "metadata": {},
   "source": [
    "# Ques 4\n",
    "\n"
   ]
  },
  {
   "cell_type": "code",
   "execution_count": 12,
   "id": "d03fafeb",
   "metadata": {},
   "outputs": [],
   "source": [
    "class ListNode:\n",
    "    def __init__(self, val=0, next=None):\n",
    "        self.val = val\n",
    "        self.next = next\n",
    "\n",
    "def isPalindrome(head):\n",
    "    if head is None or head.next is None:\n",
    "        return True\n",
    "\n",
    "    slow = head\n",
    "    fast = head\n",
    "\n",
    "    while fast.next is not None and fast.next.next is not None:\n",
    "        slow = slow.next\n",
    "        fast = fast.next.next\n",
    "\n",
    "    secondHalf = reverseLinkedList(slow.next)\n",
    "    slow.next = None\n",
    "\n",
    "    return compareLists(head, secondHalf)\n",
    "\n",
    "def reverseLinkedList(head):\n",
    "    prev = None\n",
    "    curr = head\n",
    "\n",
    "    while curr is not None:\n",
    "        nextNode = curr.next\n",
    "        curr.next = prev\n",
    "        prev = curr\n",
    "        curr = nextNode\n",
    "\n",
    "    return prev\n",
    "\n",
    "def compareLists(list1, list2):\n",
    "    curr1 = list1\n",
    "    curr2 = list2\n",
    "\n",
    "    while curr1 is not None and curr2 is not None:\n",
    "        if curr1.val != curr2.val:\n",
    "            return False\n",
    "        curr1 = curr1.next\n",
    "        curr2 = curr2.next\n",
    "\n",
    "    return True\n"
   ]
  },
  {
   "cell_type": "markdown",
   "id": "023f0137",
   "metadata": {},
   "source": [
    "# Ques 5\n"
   ]
  },
  {
   "cell_type": "code",
   "execution_count": 13,
   "id": "37e6093f",
   "metadata": {},
   "outputs": [],
   "source": [
    "class ListNode:\n",
    "    def __init__(self, x):\n",
    "        self.val = x\n",
    "        self.next = None\n",
    "\n",
    "def detectAndRemoveLoop(head):\n",
    "    slow = head\n",
    "    fast = head\n",
    "\n",
    "    # Detect the loop\n",
    "    while fast is not None and fast.next is not None:\n",
    "        slow = slow.next\n",
    "        fast = fast.next.next\n",
    "        if slow == fast:\n",
    "            break\n",
    "\n",
    "    # No loop found\n",
    "    if fast is None or fast.next is None:\n",
    "        return\n",
    "\n",
    "    # Find the length of the loop\n",
    "    length = 1\n",
    "    slow = slow.next\n",
    "    while slow != fast:\n",
    "        slow = slow.next\n",
    "        length += 1\n",
    "\n",
    "    # Move one pointer 'length' steps ahead\n",
    "    ptr1 = head\n",
    "    ptr2 = head\n",
    "    for _ in range(length):\n",
    "        ptr2 = ptr2.next\n",
    "\n",
    "    # Move both pointers until they meet\n",
    "    while ptr1 != ptr2:\n",
    "        ptr1 = ptr1.next\n",
    "        ptr2 = ptr2.next\n",
    "\n",
    "    # Move the second pointer to the last node\n",
    "    while ptr2.next != ptr1:\n",
    "        ptr2 = ptr2.next\n",
    "\n",
    "    # Break the loop\n",
    "    ptr2.next = None\n",
    "\n"
   ]
  },
  {
   "cell_type": "markdown",
   "id": "c6b97405",
   "metadata": {},
   "source": [
    "# Ques 6\n"
   ]
  },
  {
   "cell_type": "code",
   "execution_count": 14,
   "id": "f1dab1e8",
   "metadata": {},
   "outputs": [],
   "source": [
    "class ListNode:\n",
    "    def __init__(self, x):\n",
    "        self.val = x\n",
    "        self.next = None\n",
    "\n",
    "def deleteNodes(head, M, N):\n",
    "    if head is None:\n",
    "        return None\n",
    "\n",
    "    curr = head\n",
    "    prev = None\n",
    "\n",
    "    while curr is not None:\n",
    "        for _ in range(M):\n",
    "            if curr is None:\n",
    "                return head\n",
    "            prev = curr\n",
    "            curr = curr.next\n",
    "\n",
    "        for _ in range(N):\n",
    "            if curr is None:\n",
    "                break\n",
    "            curr = curr.next\n",
    "\n",
    "        prev.next = curr\n",
    "\n",
    "    return head\n"
   ]
  },
  {
   "cell_type": "markdown",
   "id": "93175276",
   "metadata": {},
   "source": [
    "# Ques 7\n",
    "\n"
   ]
  },
  {
   "cell_type": "code",
   "execution_count": 15,
   "id": "f5074bf0",
   "metadata": {},
   "outputs": [],
   "source": [
    "class ListNode:\n",
    "    def __init__(self, x):\n",
    "        self.val = x\n",
    "        self.next = None\n",
    "\n",
    "def insertAlternate(head1, head2):\n",
    "    if head1 is None:\n",
    "        return head2\n",
    "    if head2 is None:\n",
    "        return head1\n",
    "\n",
    "    curr1 = head1\n",
    "    curr2 = head2\n",
    "\n",
    "    while curr1 is not None and curr2 is not None:\n",
    "        temp1 = curr1.next\n",
    "        temp2 = curr2.next\n",
    "\n",
    "        curr1.next = curr2\n",
    "        curr2.next = temp1\n",
    "\n",
    "        curr1 = temp1\n",
    "        curr2 = temp2\n",
    "\n",
    "    return head1\n"
   ]
  },
  {
   "cell_type": "markdown",
   "id": "0e704234",
   "metadata": {},
   "source": [
    "# Ques 8\n"
   ]
  },
  {
   "cell_type": "code",
   "execution_count": null,
   "id": "37d3a534",
   "metadata": {},
   "outputs": [],
   "source": [
    "class ListNode:\n",
    "    def __init__(self, x):\n",
    "        self.val = x\n",
    "        self.next = None\n",
    "\n",
    "def isCircular(head):\n",
    "    if head is None:\n",
    "        return False\n",
    "\n",
    "    slow = head\n",
    "    fast = head\n",
    "\n",
    "    while fast is not None and fast.next is not None:\n",
    "        slow = slow.next\n",
    "        fast = fast.next.next\n",
    "\n",
    "        if slow == fast:\n",
    "            return True\n",
    "\n",
    "    return False\n"
   ]
  }
 ],
 "metadata": {
  "kernelspec": {
   "display_name": "Python 3 (ipykernel)",
   "language": "python",
   "name": "python3"
  },
  "language_info": {
   "codemirror_mode": {
    "name": "ipython",
    "version": 3
   },
   "file_extension": ".py",
   "mimetype": "text/x-python",
   "name": "python",
   "nbconvert_exporter": "python",
   "pygments_lexer": "ipython3",
   "version": "3.9.13"
  }
 },
 "nbformat": 4,
 "nbformat_minor": 5
}
