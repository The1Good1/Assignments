{
 "cells": [
  {
   "cell_type": "markdown",
   "id": "4e864a43",
   "metadata": {},
   "source": [
    "# Ques 1\n",
    "\n"
   ]
  },
  {
   "cell_type": "code",
   "execution_count": null,
   "id": "ec9ef308",
   "metadata": {},
   "outputs": [],
   "source": [
    "def calculateDepth(preorder):\n",
    "    if not preorder:\n",
    "        return 0\n",
    "\n",
    "    if preorder[0] == 'l':\n",
    "        return 0\n",
    "\n",
    "    left_subtree = calculateDepth(preorder[1:])\n",
    "    right_subtree = calculateDepth(preorder[left_subtree + 1:])\n",
    "\n",
    "    return max(left_subtree, right_subtree) + 1\n"
   ]
  },
  {
   "cell_type": "markdown",
   "id": "be9e9310",
   "metadata": {},
   "source": [
    "# Ques 2\n",
    "\n"
   ]
  },
  {
   "cell_type": "code",
   "execution_count": 10,
   "id": "3cfc3e87",
   "metadata": {},
   "outputs": [],
   "source": [
    "class TreeNode:\n",
    "    def __init__(self, val=0, left=None, right=None):\n",
    "        self.val = val\n",
    "        self.left = left\n",
    "        self.right = right\n",
    "\n",
    "def leftView(root):\n",
    "    if not root:\n",
    "        return []\n",
    "\n",
    "    result = []\n",
    "    max_level = -1\n",
    "\n",
    "    def dfs(node, level):\n",
    "        nonlocal max_level\n",
    "        if not node:\n",
    "            return\n",
    "\n",
    "        if level > max_level:\n",
    "            result.append(node.val)\n",
    "            max_level = level\n",
    "\n",
    "        dfs(node.left, level + 1)\n",
    "        dfs(node.right, level + 1)\n",
    "\n",
    "    dfs(root, 0)\n",
    "    return result\n"
   ]
  },
  {
   "cell_type": "markdown",
   "id": "87d70732",
   "metadata": {},
   "source": [
    "# Ques 3\n",
    "\n",
    "\n"
   ]
  },
  {
   "cell_type": "code",
   "execution_count": 11,
   "id": "a22f7bfb",
   "metadata": {},
   "outputs": [],
   "source": [
    "class TreeNode:\n",
    "    def __init__(self, val=0, left=None, right=None):\n",
    "        self.val = val\n",
    "        self.left = left\n",
    "        self.right = right\n",
    "\n",
    "def rightView(root):\n",
    "    if not root:\n",
    "        return []\n",
    "\n",
    "    result = []\n",
    "    max_level = -1\n",
    "\n",
    "    def dfs(node, level):\n",
    "        nonlocal max_level\n",
    "        if not node:\n",
    "            return\n",
    "\n",
    "        if level > max_level:\n",
    "            result.append(node.val)\n",
    "            max_level = level\n",
    "\n",
    "        dfs(node.right, level + 1)\n",
    "        dfs(node.left, level + 1)\n",
    "\n",
    "    dfs(root, 0)\n",
    "    return result\n"
   ]
  },
  {
   "cell_type": "markdown",
   "id": "5a5d3b41",
   "metadata": {},
   "source": [
    "# Ques 4\n",
    "\n"
   ]
  },
  {
   "cell_type": "code",
   "execution_count": 12,
   "id": "d03fafeb",
   "metadata": {},
   "outputs": [],
   "source": [
    "from collections import deque\n",
    "\n",
    "class TreeNode:\n",
    "    def __init__(self, val=0, left=None, right=None):\n",
    "        self.val = val\n",
    "        self.left = left\n",
    "        self.right = right\n",
    "\n",
    "def bottomView(root):\n",
    "    if not root:\n",
    "        return []\n",
    "\n",
    "    # Dictionary to store the bottom-most node for each horizontal distance\n",
    "    bottom_nodes = {}\n",
    "\n",
    "    # Queue for level order traversal\n",
    "    queue = deque([(root, 0)])\n",
    "\n",
    "    # Perform level order traversal\n",
    "    while queue:\n",
    "        node, h_distance = queue.popleft()\n",
    "\n",
    "        # Update the bottom-most node for the current horizontal distance\n",
    "        bottom_nodes[h_distance] = node.val\n",
    "\n",
    "        # Enqueue the left child with its horizontal distance\n",
    "        if node.left:\n",
    "            queue.append((node.left, h_distance - 1))\n",
    "\n",
    "        # Enqueue the right child with its horizontal distance\n",
    "        if node.right:\n",
    "            queue.append((node.right, h_distance + 1))\n",
    "\n",
    "    # Return the values of the bottom-most nodes sorted by their horizontal distance\n",
    "    return [bottom_nodes[h_distance] for h_distance in sorted(bottom_nodes.keys())]\n"
   ]
  }
 ],
 "metadata": {
  "kernelspec": {
   "display_name": "Python 3 (ipykernel)",
   "language": "python",
   "name": "python3"
  },
  "language_info": {
   "codemirror_mode": {
    "name": "ipython",
    "version": 3
   },
   "file_extension": ".py",
   "mimetype": "text/x-python",
   "name": "python",
   "nbconvert_exporter": "python",
   "pygments_lexer": "ipython3",
   "version": "3.9.13"
  }
 },
 "nbformat": 4,
 "nbformat_minor": 5
}
