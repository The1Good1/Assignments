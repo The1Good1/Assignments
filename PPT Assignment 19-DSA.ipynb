{
 "cells": [
  {
   "cell_type": "markdown",
   "id": "4e864a43",
   "metadata": {},
   "source": [
    "# Ques 1 \n",
    "\n"
   ]
  },
  {
   "cell_type": "code",
   "execution_count": null,
   "id": "ec9ef308",
   "metadata": {},
   "outputs": [],
   "source": [
    "import heapq\n",
    "\n",
    "class ListNode:\n",
    "    def __init__(self, val=0, next=None):\n",
    "        self.val = val\n",
    "        self.next = next\n",
    "\n",
    "def mergeKLists(lists):\n",
    "    heap = []\n",
    "    for node in lists:\n",
    "        if node:\n",
    "            heapq.heappush(heap, (node.val, node))\n",
    "\n",
    "    dummy = ListNode()\n",
    "    curr = dummy\n",
    "\n",
    "    while heap:\n",
    "        _, node = heapq.heappop(heap)\n",
    "        curr.next = node\n",
    "        curr = curr.next\n",
    "\n",
    "        if node.next:\n",
    "            heapq.heappush(heap, (node.next.val, node.next))\n",
    "\n",
    "    return dummy.next\n"
   ]
  },
  {
   "cell_type": "markdown",
   "id": "be9e9310",
   "metadata": {},
   "source": [
    "# Ques 2\n",
    "\n"
   ]
  },
  {
   "cell_type": "code",
   "execution_count": 10,
   "id": "3cfc3e87",
   "metadata": {},
   "outputs": [],
   "source": [
    "class BSTNode:\n",
    "    def __init__(self, val):\n",
    "        self.val = val\n",
    "        self.count = 1\n",
    "        self.left = None\n",
    "        self.right = None\n",
    "\n",
    "def countSmaller(nums):\n",
    "    counts = [0] * len(nums)\n",
    "    root = None\n",
    "\n",
    "    def insert(node, val, index, count):\n",
    "        if not node:\n",
    "            return BSTNode(val), count\n",
    "\n",
    "        if val < node.val:\n",
    "            node.left, left_count = insert(node.left, val, index, count)\n",
    "            node.count += left_count\n",
    "        else:\n",
    "            node.right, right_count = insert(node.right, val, index, count + node.count)\n",
    "            node.count += right_count\n",
    "\n",
    "        return node, node.count - count\n",
    "\n",
    "    for i in range(len(nums) - 1, -1, -1):\n",
    "        root, counts[i] = insert(root, nums[i], i, 0)\n",
    "\n",
    "    return counts\n"
   ]
  },
  {
   "cell_type": "markdown",
   "id": "87d70732",
   "metadata": {},
   "source": [
    "# Ques 3\n",
    "\n",
    "\n"
   ]
  },
  {
   "cell_type": "code",
   "execution_count": 11,
   "id": "a22f7bfb",
   "metadata": {},
   "outputs": [],
   "source": [
    "def sortArray(nums):\n",
    "    if len(nums) <= 1:\n",
    "        return nums\n",
    "\n",
    "    mid = len(nums) // 2\n",
    "    left = sortArray(nums[:mid])\n",
    "    right = sortArray(nums[mid:])\n",
    "    return merge(left, right)\n",
    "\n",
    "def merge(left, right):\n",
    "    merged = []\n",
    "    i, j = 0, 0\n",
    "\n",
    "    while i < len(left) and j < len(right):\n",
    "        if left[i] < right[j]:\n",
    "            merged.append(left[i])\n",
    "            i += 1\n",
    "        else:\n",
    "            merged.append(right[j])\n",
    "            j += 1\n",
    "\n",
    "    merged.extend(left[i:])\n",
    "    merged.extend(right[j:])\n",
    "    return merged\n"
   ]
  },
  {
   "cell_type": "markdown",
   "id": "9b7bf153",
   "metadata": {},
   "source": [
    "# Ques 4\n",
    "\n"
   ]
  },
  {
   "cell_type": "code",
   "execution_count": null,
   "id": "b8dbadac",
   "metadata": {},
   "outputs": [],
   "source": [
    "def moveZeroes(nums):\n",
    "    i = 0\n",
    "    for j in range(len(nums)):\n",
    "        if nums[j] != 0:\n",
    "            nums[i] = nums[j]\n",
    "            i += 1\n",
    "\n",
    "    while i < len(nums):\n",
    "        nums[i] = 0\n",
    "        i += 1\n"
   ]
  },
  {
   "cell_type": "code",
   "execution_count": null,
   "id": "53e22446",
   "metadata": {},
   "outputs": [],
   "source": []
  },
  {
   "cell_type": "markdown",
   "id": "690761df",
   "metadata": {},
   "source": [
    "# Ques 5\n",
    "\n"
   ]
  },
  {
   "cell_type": "code",
   "execution_count": null,
   "id": "bdbd1797",
   "metadata": {},
   "outputs": [],
   "source": [
    "def rearrange(nums):\n",
    "    i = 0\n",
    "    n = len(nums)\n",
    "\n",
    "    while i < n:\n",
    "        if i % 2 == 0 and nums[i] >= 0:\n",
    "            j = i + 1\n",
    "            while j < n and nums[j] >= 0:\n",
    "                j += 1\n",
    "            if j == n:\n",
    "                break\n",
    "            nums[i], nums[j] = nums[j], nums[i]\n",
    "\n",
    "        if i % 2 != 0 and nums[i] < 0:\n",
    "            j = i + 1\n",
    "            while j < n and nums[j] < 0:\n",
    "                j += 1\n",
    "            if j == n:\n",
    "                break\n",
    "            nums[i], nums[j] = nums[j], nums[i]\n",
    "\n",
    "        i += 1\n"
   ]
  },
  {
   "cell_type": "markdown",
   "id": "91af27b1",
   "metadata": {},
   "source": [
    "# Ques 6\n",
    "\n"
   ]
  },
  {
   "cell_type": "code",
   "execution_count": null,
   "id": "5880efa5",
   "metadata": {},
   "outputs": [],
   "source": [
    "def mergeArrays(arr1, arr2):\n",
    "    merged = []\n",
    "    i, j = 0, 0\n",
    "\n",
    "    while i < len(arr1) and j < len(arr2):\n",
    "        if arr1[i] < arr2[j]:\n",
    "            merged.append(arr1[i])\n",
    "            i += 1\n",
    "        else:\n",
    "            merged.append(arr2[j])\n",
    "            j += 1\n",
    "\n",
    "    merged.extend(arr1[i:])\n",
    "    merged.extend(arr2[j:])\n",
    "\n",
    "    return merged\n"
   ]
  },
  {
   "cell_type": "markdown",
   "id": "2026373f",
   "metadata": {},
   "source": [
    "# Ques 7\n",
    "\n"
   ]
  },
  {
   "cell_type": "code",
   "execution_count": null,
   "id": "218f07cd",
   "metadata": {},
   "outputs": [],
   "source": [
    "def intersection(nums1, nums2):\n",
    "    set1 = set(nums1)\n",
    "    set2 = set(nums2)\n",
    "    return list(set1.intersection(set2))\n"
   ]
  },
  {
   "cell_type": "markdown",
   "id": "a61bbb41",
   "metadata": {},
   "source": [
    "# Ques 8\n",
    "\n"
   ]
  },
  {
   "cell_type": "code",
   "execution_count": 12,
   "id": "d03fafeb",
   "metadata": {},
   "outputs": [],
   "source": [
    "def intersect(nums1, nums2):\n",
    "    count = {}\n",
    "    result = []\n",
    "\n",
    "    for num in nums1:\n",
    "        count[num] = count.get(num, 0) + 1\n",
    "\n",
    "    for num in nums2:\n",
    "        if num in count and count[num] > 0:\n",
    "            result.append(num)\n",
    "            count[num] -= 1\n",
    "\n",
    "    return result\n"
   ]
  }
 ],
 "metadata": {
  "kernelspec": {
   "display_name": "Python 3 (ipykernel)",
   "language": "python",
   "name": "python3"
  },
  "language_info": {
   "codemirror_mode": {
    "name": "ipython",
    "version": 3
   },
   "file_extension": ".py",
   "mimetype": "text/x-python",
   "name": "python",
   "nbconvert_exporter": "python",
   "pygments_lexer": "ipython3",
   "version": "3.9.13"
  }
 },
 "nbformat": 4,
 "nbformat_minor": 5
}
