{
 "cells": [
  {
   "cell_type": "markdown",
   "id": "1a4736a7",
   "metadata": {},
   "source": [
    "# Ques 1:"
   ]
  },
  {
   "cell_type": "markdown",
   "id": "74cfc6f9",
   "metadata": {},
   "source": [
    "How many seconds are in an hour? Use the interactive interpreter as a calculator and multiply the number of seconds in a minute (60) by the number of minutes in an hour (also 60).\n",
    "sol. 60"
   ]
  },
  {
   "cell_type": "markdown",
   "id": "235adfba",
   "metadata": {},
   "source": [
    "We can use the interactive interpreter as a calculator by simply typing in the arithmetic expression we want to evaluate and pressing Enter. To multiply the number of seconds in a minute (60) by the number of minutes in an hour (also 60), we can do:"
   ]
  },
  {
   "cell_type": "code",
   "execution_count": 4,
   "id": "143334ad",
   "metadata": {},
   "outputs": [
    {
     "data": {
      "text/plain": [
       "3600"
      ]
     },
     "execution_count": 4,
     "metadata": {},
     "output_type": "execute_result"
    }
   ],
   "source": [
    ">>> 60 * 60\n",
    "3600\n"
   ]
  },
  {
   "cell_type": "markdown",
   "id": "916f92c9",
   "metadata": {},
   "source": [
    "# Ques 2:"
   ]
  },
  {
   "cell_type": "markdown",
   "id": "8cbcd8c6",
   "metadata": {},
   "source": [
    "Assign the result from the previous task (seconds in an hour) to a variable called\n",
    "seconds_per_hour.\n"
   ]
  },
  {
   "cell_type": "markdown",
   "id": "eb3bb27a",
   "metadata": {},
   "source": [
    "To assign the result of multiplying the number of seconds in a minute (60) by the number of minutes in an hour (also 60) to a variable called seconds_per_hour, we can do:"
   ]
  },
  {
   "cell_type": "code",
   "execution_count": 5,
   "id": "118ca2db",
   "metadata": {},
   "outputs": [
    {
     "data": {
      "text/plain": [
       "3600"
      ]
     },
     "execution_count": 5,
     "metadata": {},
     "output_type": "execute_result"
    }
   ],
   "source": [
    ">>> seconds_per_hour = 60 * 60\n",
    ">>> seconds_per_hour\n",
    "3600\n"
   ]
  },
  {
   "cell_type": "markdown",
   "id": "b2526c8c",
   "metadata": {},
   "source": [
    "# Ques 3:"
   ]
  },
  {
   "cell_type": "markdown",
   "id": "709eb81a",
   "metadata": {},
   "source": [
    "How many seconds do you think there are in a day? Make use of the variables seconds per hour and minutes per hour.\n"
   ]
  },
  {
   "cell_type": "markdown",
   "id": "da35fa69",
   "metadata": {},
   "source": [
    "To calculate how many seconds are in a day using the seconds_per_hour variable, we can multiply the number of hours in a day (24) by the number of seconds in an hour (seconds_per_hour), like this:"
   ]
  },
  {
   "cell_type": "code",
   "execution_count": 6,
   "id": "12288a33",
   "metadata": {},
   "outputs": [
    {
     "data": {
      "text/plain": [
       "86400"
      ]
     },
     "execution_count": 6,
     "metadata": {},
     "output_type": "execute_result"
    }
   ],
   "source": [
    ">>> seconds_per_day = 24 * seconds_per_hour\n",
    ">>> seconds_per_day\n",
    "86400\n"
   ]
  },
  {
   "cell_type": "markdown",
   "id": "172f8035",
   "metadata": {},
   "source": [
    "# Ques 4:\n"
   ]
  },
  {
   "cell_type": "markdown",
   "id": "3b83a0d0",
   "metadata": {},
   "source": [
    "Calculate seconds per day again, but this time save the result in a variable called seconds_per_day\n"
   ]
  },
  {
   "cell_type": "markdown",
   "id": "82e3bfa2",
   "metadata": {},
   "source": [
    "To calculate the number of seconds in a day and save the result to a variable called seconds_per_day, we can use the seconds_per_hour variable we defined earlier, and multiply it by the number of hours in a day (24), like this:"
   ]
  },
  {
   "cell_type": "code",
   "execution_count": 7,
   "id": "b734bc83",
   "metadata": {},
   "outputs": [
    {
     "data": {
      "text/plain": [
       "86400"
      ]
     },
     "execution_count": 7,
     "metadata": {},
     "output_type": "execute_result"
    }
   ],
   "source": [
    ">>> seconds_per_day = seconds_per_hour * 24\n",
    ">>> seconds_per_day\n",
    "86400\n",
    "\n"
   ]
  },
  {
   "cell_type": "markdown",
   "id": "ea824a36",
   "metadata": {},
   "source": [
    "# Ques 5:\n"
   ]
  },
  {
   "cell_type": "markdown",
   "id": "75590f37",
   "metadata": {},
   "source": [
    "Divide seconds_per_day by seconds_per_hour. Use floating-point (/) division.\n"
   ]
  },
  {
   "cell_type": "markdown",
   "id": "4cab81c5",
   "metadata": {},
   "source": [
    "To calculate the ratio of seconds per day to seconds per hour, we can use floating-point division (/), like this:"
   ]
  },
  {
   "cell_type": "code",
   "execution_count": 8,
   "id": "e6c0ccb3",
   "metadata": {},
   "outputs": [
    {
     "data": {
      "text/plain": [
       "24.0"
      ]
     },
     "execution_count": 8,
     "metadata": {},
     "output_type": "execute_result"
    }
   ],
   "source": [
    ">>> seconds_per_day / seconds_per_hour\n",
    "24.0\n"
   ]
  },
  {
   "cell_type": "markdown",
   "id": "3e1eec00",
   "metadata": {},
   "source": [
    "# Ques 6:\n",
    "\n"
   ]
  },
  {
   "cell_type": "markdown",
   "id": "31ed3df2",
   "metadata": {},
   "source": [
    "Divide seconds_per_day by seconds_per_hour, using integer (//) division. Did this number agree with the floating-point value from the previous question, aside from the final .0?\n"
   ]
  },
  {
   "cell_type": "code",
   "execution_count": 9,
   "id": "29bd6bd6",
   "metadata": {},
   "outputs": [
    {
     "data": {
      "text/plain": [
       "24"
      ]
     },
     "execution_count": 9,
     "metadata": {},
     "output_type": "execute_result"
    }
   ],
   "source": [
    ">>> seconds_per_day // seconds_per_hour\n",
    "24\n"
   ]
  },
  {
   "cell_type": "markdown",
   "id": "545fbc09",
   "metadata": {},
   "source": [
    "# Ques 7:\n"
   ]
  },
  {
   "cell_type": "markdown",
   "id": "4241febd",
   "metadata": {},
   "source": [
    "Write a generator, genPrimes, that returns the sequence of prime numbers on successive calls to\n",
    "its next() method: 2, 3, 5, 7, 11, ."
   ]
  },
  {
   "cell_type": "markdown",
   "id": "2b181d0b",
   "metadata": {},
   "source": [
    "Here is an implementation of the genPrimes generator that returns the sequence of prime numbers on successive calls to its next() method:\n"
   ]
  },
  {
   "cell_type": "code",
   "execution_count": 10,
   "id": "581af416",
   "metadata": {},
   "outputs": [],
   "source": [
    "def genPrimes():\n",
    "    \"\"\"\n",
    "    Generate an infinite sequence of prime numbers.\n",
    "    \"\"\"\n",
    "    # Initialize the list of primes with the first prime number, 2.\n",
    "    primes = [2]\n",
    "    # Start checking for primes from the next odd number, 3.\n",
    "    candidate = 3\n",
    "    while True:\n",
    "        # Check if the candidate is divisible by any prime in the list.\n",
    "        # If not, it is a prime, so add it to the list and yield it.\n",
    "        if all(candidate % p != 0 for p in primes):\n",
    "            primes.append(candidate)\n",
    "            yield candidate\n",
    "        # Move on to the next odd number.\n",
    "        candidate += 2\n"
   ]
  },
  {
   "cell_type": "markdown",
   "id": "8fce1335",
   "metadata": {},
   "source": [
    "We can use this generator like this:"
   ]
  },
  {
   "cell_type": "code",
   "execution_count": null,
   "id": "a1d186f6",
   "metadata": {},
   "outputs": [],
   "source": [
    ">>> g = genPrimes()\n",
    ">>> next(g)\n",
    "2\n",
    ">>> next(g)\n",
    "3\n",
    ">>> next(g)\n",
    "5\n",
    ">>> next(g)\n",
    "7\n",
    ">>> next(g)\n",
    "11\n"
   ]
  }
 ],
 "metadata": {
  "kernelspec": {
   "display_name": "Python 3 (ipykernel)",
   "language": "python",
   "name": "python3"
  },
  "language_info": {
   "codemirror_mode": {
    "name": "ipython",
    "version": 3
   },
   "file_extension": ".py",
   "mimetype": "text/x-python",
   "name": "python",
   "nbconvert_exporter": "python",
   "pygments_lexer": "ipython3",
   "version": "3.9.13"
  }
 },
 "nbformat": 4,
 "nbformat_minor": 5
}
