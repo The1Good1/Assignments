{
 "cells": [
  {
   "cell_type": "code",
   "execution_count": 6,
   "id": "71328a09",
   "metadata": {},
   "outputs": [],
   "source": [
    "# Ques 1\n",
    "\n",
    "def playback_duration(duration, speed):\n",
    "    hours, minutes, seconds = map(int, duration.split(':'))\n",
    "    total_seconds = hours * 3600 + minutes * 60 + seconds\n",
    "    playback_seconds = total_seconds / speed\n",
    "    playback_hours = int(playback_seconds // 3600)\n",
    "    playback_minutes = int((playback_seconds % 3600) // 60)\n",
    "    playback_seconds = int(playback_seconds % 60)\n",
    "    return f\"{playback_hours:02d}:{playback_minutes:02d}:{playback_seconds:02d}\"\n",
    "\n",
    "\n"
   ]
  },
  {
   "cell_type": "code",
   "execution_count": 7,
   "id": "7b41e54b",
   "metadata": {},
   "outputs": [],
   "source": [
    "# Ques 2\n",
    "\n",
    "def pile_of_cubes(m):\n",
    "    n = 1\n",
    "    while (n * (n + 1) // 2) ** 2 < m:\n",
    "        n += 1\n",
    "    return n if (n * (n + 1) // 2) ** 2 == m else None\n"
   ]
  },
  {
   "cell_type": "code",
   "execution_count": 8,
   "id": "b406cc99",
   "metadata": {},
   "outputs": [],
   "source": [
    "# Ques 3\n",
    "\n",
    "def find_fulcrum(lst):\n",
    "    for i in range(1, len(lst)):\n",
    "        if sum(lst[:i]) == sum(lst[i + 1:]):\n",
    "            return lst[i]\n",
    "    return -1\n"
   ]
  },
  {
   "cell_type": "code",
   "execution_count": 9,
   "id": "129a0cab",
   "metadata": {},
   "outputs": [],
   "source": [
    "# Ques 4\n",
    "\n",
    "from collections import Counter\n",
    "\n",
    "def sock_merchant(socks):\n",
    "    sock_counts = Counter(socks)\n",
    "    pairs = 0\n",
    "    for count in sock_counts.values():\n",
    "        pairs += count // 2\n",
    "    return pairs\n"
   ]
  },
  {
   "cell_type": "code",
   "execution_count": 10,
   "id": "20b183cf",
   "metadata": {},
   "outputs": [],
   "source": [
    "# Ques 5\n",
    "\n",
    "import re\n",
    "\n",
    "def negative_sum(string):\n",
    "    numbers = map(int, re.findall(r'-\\d+', string))\n",
    "    return sum(numbers)\n"
   ]
  },
  {
   "cell_type": "code",
   "execution_count": null,
   "id": "cc6ed03b",
   "metadata": {},
   "outputs": [],
   "source": []
  },
  {
   "cell_type": "code",
   "execution_count": null,
   "id": "c6735dac",
   "metadata": {},
   "outputs": [],
   "source": []
  }
 ],
 "metadata": {
  "kernelspec": {
   "display_name": "Python 3 (ipykernel)",
   "language": "python",
   "name": "python3"
  },
  "language_info": {
   "codemirror_mode": {
    "name": "ipython",
    "version": 3
   },
   "file_extension": ".py",
   "mimetype": "text/x-python",
   "name": "python",
   "nbconvert_exporter": "python",
   "pygments_lexer": "ipython3",
   "version": "3.9.13"
  }
 },
 "nbformat": 4,
 "nbformat_minor": 5
}
