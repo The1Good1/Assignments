{
 "cells": [
  {
   "cell_type": "markdown",
   "id": "b2ba37a5",
   "metadata": {},
   "source": [
    "# Ques 1\n",
    "\n",
    "Write a program that calculates and prints the value according to the given formula:\n",
    "\n",
    "Q = Square root of [(2 * C * D)/H]\n",
    "\n",
    "Following are the fixed values of C and H:\n",
    "\n",
    "C is 50. H is 30.\n",
    "\n",
    "D is the variable whose values should be input to your program in a comma-separated sequence.\n"
   ]
  },
  {
   "cell_type": "code",
   "execution_count": 96,
   "id": "0531fdbc",
   "metadata": {},
   "outputs": [
    {
     "name": "stdout",
     "output_type": "stream",
     "text": [
      "Enter comma-separated values for D: 100,150,180\n",
      "18,22,24\n"
     ]
    }
   ],
   "source": [
    "import math\n",
    "\n",
    "C = 50\n",
    "H = 30\n",
    "\n",
    "# Input sequence of values for D\n",
    "input_values = input(\"Enter comma-separated values for D: \")\n",
    "values = input_values.split(',')\n",
    "\n",
    "result = []\n",
    "for value in values:\n",
    "    D = int(value)\n",
    "    Q = math.sqrt((2 * C * D) / H)\n",
    "    result.append(round(Q))\n",
    "\n",
    "print(','.join(map(str, result)))\n"
   ]
  },
  {
   "cell_type": "markdown",
   "id": "d213cfab",
   "metadata": {},
   "source": [
    "# Ques 2\n",
    "\n",
    "Write a program which takes 2 digits, X,Y as input and generates a 2-dimensional array. The element value in the i-th row and j-th column of the array should be i*j.\n",
    "\n",
    "Note: i=0,1.., X-1; j=0,1,¡¬Y-1.\n",
    "\n",
    "Example\n",
    "\n",
    "Suppose the following inputs are given to the program:\n",
    "\n",
    "3,5\n",
    "\n",
    "Then, the output of the program should be:\n",
    "\n",
    "[[0, 0, 0, 0, 0], [0, 1, 2, 3, 4], [0, 2, 4, 6, 8]] \n"
   ]
  },
  {
   "cell_type": "code",
   "execution_count": null,
   "id": "31b7b9af",
   "metadata": {},
   "outputs": [],
   "source": [
    "# Input values for X and Y\n",
    "X, Y = map(int, input(\"Enter values for X and Y (comma-separated): \").split(','))\n",
    "\n",
    "# Generate the 2-dimensional array\n",
    "array = [[i * j for j in range(Y)] for i in range(X)]\n",
    "\n",
    "print(array)\n"
   ]
  },
  {
   "cell_type": "markdown",
   "id": "4e008c77",
   "metadata": {},
   "source": [
    "# Ques 3\n",
    "\n",
    "Write a program that accepts a comma separated sequence of words as input and prints the words in a comma-separated sequence after sorting them alphabetically.\n",
    "\n",
    "Suppose the following input is supplied to the program:\n",
    "\n",
    "without,hello,bag,world\n",
    "\n",
    "Then, the output should be:\n",
    "\n",
    "bag,hello,without,world"
   ]
  },
  {
   "cell_type": "code",
   "execution_count": null,
   "id": "02c5524d",
   "metadata": {},
   "outputs": [],
   "source": [
    "# Input comma-separated sequence of words\n",
    "words = input(\"Enter comma-separated sequence of words: \")\n",
    "word_list = words.split(',')\n",
    "\n",
    "# Sort the words alphabetically\n",
    "sorted_words = sorted(word_list)\n",
    "\n",
    "print(','.join(sorted_words))\n"
   ]
  },
  {
   "cell_type": "markdown",
   "id": "62e17ba6",
   "metadata": {},
   "source": [
    "# Ques 4\n",
    "\n",
    "Write a program that accepts a sequence of whitespace separated words as input and prints the words after removing all duplicate words and sorting them alphanumerically.\n",
    "\n",
    "Suppose the following input is supplied to the program:\n",
    "\n",
    "hello world and practice makes perfect and hello world again\n",
    "\n",
    "Then, the output should be:\n",
    "\n",
    "again and hello makes perfect practice world\n",
    "\n"
   ]
  },
  {
   "cell_type": "code",
   "execution_count": null,
   "id": "eeb74344",
   "metadata": {},
   "outputs": [],
   "source": [
    "# Input whitespace-separated sequence of words\n",
    "words = input(\"Enter whitespace-separated sequence of words: \")\n",
    "word_list = words.split()\n",
    "\n",
    "# Remove duplicates and sort alphanumerically\n",
    "result = sorted(set(word_list))\n",
    "\n",
    "print(' '.join(result))\n"
   ]
  },
  {
   "cell_type": "markdown",
   "id": "038f58bd",
   "metadata": {},
   "source": [
    "# Ques 5\n",
    "\n",
    "Write a program that accepts a sentence and calculate the number of letters and digits.\n",
    "\n",
    "Suppose the following input is supplied to the program:\n",
    "\n",
    "hello world! 123\n",
    "\n",
    "Then, the output should be:\n",
    "\n",
    "LETTERS 10\n",
    "\n",
    "DIGITS 3"
   ]
  },
  {
   "cell_type": "code",
   "execution_count": null,
   "id": "ac3ceda5",
   "metadata": {},
   "outputs": [],
   "source": [
    "# Input sentence\n",
    "sentence = input(\"Enter a sentence: \")\n",
    "\n",
    "# Initialize counters for letters and digits\n",
    "letter_count = 0\n",
    "digit_count = 0\n",
    "\n",
    "# Iterate over each character in the sentence\n",
    "for char in sentence:\n",
    "    if char.isalpha():\n",
    "        letter_count += 1\n",
    "    elif char.isdigit():\n",
    "        digit_count += 1\n",
    "\n",
    "print(\"LETTERS\", letter_count)\n",
    "print(\"DIGITS\", digit_count)\n"
   ]
  },
  {
   "cell_type": "markdown",
   "id": "3d3f72be",
   "metadata": {},
   "source": [
    "# Ques 6\n",
    "\n",
    "\n",
    "A website requires the users to input username and password to register. Write a program to check the validity of password input by users.\n",
    "\n",
    "Following are the criteria for checking the password:\n",
    "\n",
    "1. At least 1 letter between [a-z]\n",
    "\n",
    "2. At least 1 number between [0-9]\n",
    "\n",
    "3. At least 1 letter between [A-Z]\n",
    "\n",
    "4. At least 1 character from [$#@]\n",
    "\n",
    "5. Minimum length of transaction password: 6\n",
    "\n",
    "6. Maximum length of transaction password: 12\n",
    "\n",
    "Your program should accept a sequence of comma separated passwords and will check them according to the above criteria. Passwords that match the criteria are to be printed, each separated by a comma.\n"
   ]
  },
  {
   "cell_type": "code",
   "execution_count": null,
   "id": "5c6eeb3a",
   "metadata": {},
   "outputs": [],
   "source": [
    "import re\n",
    "\n",
    "# Input sequence of comma-separated passwords\n",
    "passwords = input(\"Enter comma-separated passwords: \")\n",
    "password_list = passwords.split(',')\n",
    "\n",
    "valid_passwords = []\n",
    "for password in password_list:\n",
    "    if len(password) < 6 or len(password) > 12:\n",
    "        continue\n",
    "    if not re.search(r'[a-z]', password):\n",
    "        continue\n",
    "    if not re.search(r'[0-9]', password):\n",
    "        continue\n",
    "    if not re.search(r'[A-Z]', password):\n",
    "        continue\n",
    "    if not re.search(r'[$#@]', password):\n",
    "        continue\n",
    "    valid_passwords.append(password)\n",
    "\n",
    "print(','.join(valid_passwords))\n"
   ]
  },
  {
   "cell_type": "code",
   "execution_count": null,
   "id": "b7c649b3",
   "metadata": {},
   "outputs": [],
   "source": []
  }
 ],
 "metadata": {
  "kernelspec": {
   "display_name": "Python 3 (ipykernel)",
   "language": "python",
   "name": "python3"
  },
  "language_info": {
   "codemirror_mode": {
    "name": "ipython",
    "version": 3
   },
   "file_extension": ".py",
   "mimetype": "text/x-python",
   "name": "python",
   "nbconvert_exporter": "python",
   "pygments_lexer": "ipython3",
   "version": "3.9.13"
  }
 },
 "nbformat": 4,
 "nbformat_minor": 5
}
