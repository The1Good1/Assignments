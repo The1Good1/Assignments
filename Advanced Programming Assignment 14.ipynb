{
 "cells": [
  {
   "cell_type": "code",
   "execution_count": 6,
   "id": "71328a09",
   "metadata": {},
   "outputs": [],
   "source": [
    "# Ques 1\n",
    "\n",
    "def show_the_love(lst):\n",
    "    smallest = min(lst)\n",
    "    total_removed = 0\n",
    "    for i in range(len(lst)):\n",
    "        if lst[i] != smallest:\n",
    "            removed = lst[i] * 0.25\n",
    "            lst[i] -= removed\n",
    "            total_removed += removed\n",
    "    lst[lst.index(smallest)] += total_removed\n",
    "    return lst\n"
   ]
  },
  {
   "cell_type": "code",
   "execution_count": 7,
   "id": "7b41e54b",
   "metadata": {},
   "outputs": [],
   "source": [
    "# Ques 2\n",
    "\n",
    "def letters(word1, word2):\n",
    "    shared_letters = ''.join(sorted(set(word1) & set(word2)))\n",
    "    unique_letters1 = ''.join(sorted(set(word1) - set(word2)))\n",
    "    unique_letters2 = ''.join(sorted(set(word2) - set(word1)))\n",
    "    return [shared_letters, unique_letters1, unique_letters2]\n"
   ]
  },
  {
   "cell_type": "code",
   "execution_count": 8,
   "id": "b406cc99",
   "metadata": {},
   "outputs": [],
   "source": [
    "# Ques 3\n",
    "\n",
    "def pairs(arr):\n",
    "    pairs_list = []\n",
    "    length = len(arr)\n",
    "    for i in range(length // 2):\n",
    "        pairs_list.append([arr[i], arr[length - 1 - i]])\n",
    "    if length % 2 != 0:\n",
    "        pairs_list.append([arr[length // 2], arr[length // 2]])\n",
    "    return pairs_list\n",
    "\n"
   ]
  },
  {
   "cell_type": "code",
   "execution_count": 9,
   "id": "129a0cab",
   "metadata": {},
   "outputs": [],
   "source": [
    "# Ques 4\n",
    "\n",
    "def add_str_nums(num1, num2):\n",
    "    if num1 == \"\":\n",
    "        num1 = \"0\"\n",
    "    if num2 == \"\":\n",
    "        num2 = \"0\"\n",
    "    try:\n",
    "        return str(int(num1) + int(num2))\n",
    "    except ValueError:\n",
    "        return \"-1\"\n"
   ]
  },
  {
   "cell_type": "code",
   "execution_count": 10,
   "id": "20b183cf",
   "metadata": {},
   "outputs": [],
   "source": [
    "# Ques 5\n",
    "\n",
    "def unmix(txt):\n",
    "    unmix_txt = \"\"\n",
    "    for i in range(0, len(txt), 2):\n",
    "        if i + 1 < len(txt):\n",
    "            unmix_txt += txt[i + 1] + txt[i]\n",
    "        else:\n",
    "            unmix_txt += txt[i]\n",
    "    return unmix_txt\n"
   ]
  },
  {
   "cell_type": "code",
   "execution_count": null,
   "id": "cc6ed03b",
   "metadata": {},
   "outputs": [],
   "source": []
  },
  {
   "cell_type": "code",
   "execution_count": null,
   "id": "b9594fe8",
   "metadata": {},
   "outputs": [],
   "source": []
  }
 ],
 "metadata": {
  "kernelspec": {
   "display_name": "Python 3 (ipykernel)",
   "language": "python",
   "name": "python3"
  },
  "language_info": {
   "codemirror_mode": {
    "name": "ipython",
    "version": 3
   },
   "file_extension": ".py",
   "mimetype": "text/x-python",
   "name": "python",
   "nbconvert_exporter": "python",
   "pygments_lexer": "ipython3",
   "version": "3.9.13"
  }
 },
 "nbformat": 4,
 "nbformat_minor": 5
}
