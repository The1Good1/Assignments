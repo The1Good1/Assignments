{
 "cells": [
  {
   "cell_type": "markdown",
   "id": "4e864a43",
   "metadata": {},
   "source": [
    "# Ques 1 \n",
    "\n"
   ]
  },
  {
   "cell_type": "code",
   "execution_count": null,
   "id": "ec9ef308",
   "metadata": {},
   "outputs": [],
   "source": [
    "def firstUniqChar(s):\n",
    "    char_count = {}\n",
    "    \n",
    "    # Update character count\n",
    "    for char in s:\n",
    "        if char in char_count:\n",
    "            char_count[char] += 1\n",
    "        else:\n",
    "            char_count[char] = 1\n",
    "    \n",
    "    # Find the first non-repeating character\n",
    "    for i, char in enumerate(s):\n",
    "        if char_count[char] == 1:\n",
    "            return i\n",
    "    \n",
    "    return -1\n",
    "\n",
    "s = \"leetcode\"\n",
    "print(firstUniqChar(s))  # Output: 0\n",
    "\n",
    "s = \"loveleetcode\"\n",
    "print(firstUniqChar(s))  # Output: 2\n",
    "\n",
    "s = \"aabb\"\n",
    "print(firstUniqChar(s))  # Output: -1\n"
   ]
  },
  {
   "cell_type": "markdown",
   "id": "be9e9310",
   "metadata": {},
   "source": [
    "# Ques 2\n",
    "\n"
   ]
  },
  {
   "cell_type": "code",
   "execution_count": 10,
   "id": "3cfc3e87",
   "metadata": {},
   "outputs": [],
   "source": [
    "def maxSubarraySumCircular(nums):\n",
    "    n = len(nums)\n",
    "    \n",
    "    # Case 1: Maximum subarray sum without wrapping\n",
    "    maxSum = currentSum = nums[0]\n",
    "    for i in range(1, n):\n",
    "        currentSum = max(nums[i], currentSum + nums[i])\n",
    "        maxSum = max(maxSum, currentSum)\n",
    "    \n",
    "    # Case 2: Maximum subarray sum with wrapping\n",
    "    totalSum = sum(nums)\n",
    "    invertedSum = [-num for num in nums]\n",
    "    invertedMaxSum = currentSum = invertedSum[0]\n",
    "    for i in range(1, n):\n",
    "        currentSum = max(invertedSum[i], currentSum + invertedSum[i])\n",
    "        invertedMaxSum = max(invertedMaxSum, currentSum)\n",
    "    wrappingMaxSum = totalSum - (-invertedMaxSum)\n",
    "    \n",
    "    return max(maxSum, wrappingMaxSum)\n",
    "\n",
    "nums = [1, -2, 3, -2]\n",
    "print(maxSubarraySumCircular(nums))  # Output: 3\n",
    "\n",
    "nums = [5, -3, 5]\n",
    "print(maxSubarraySumCircular(nums))  # Output: 10\n",
    "\n",
    "nums = [-3, -2, -3]\n",
    "print(maxSubarraySumCircular(nums))  # Output: -2\n"
   ]
  },
  {
   "cell_type": "markdown",
   "id": "87d70732",
   "metadata": {},
   "source": [
    "# Ques 3\n",
    "\n",
    "\n"
   ]
  },
  {
   "cell_type": "code",
   "execution_count": 11,
   "id": "a22f7bfb",
   "metadata": {},
   "outputs": [],
   "source": [
    "from collections import deque\n",
    "\n",
    "def countStudents(students, sandwiches):\n",
    "    studentQueue = deque(students)\n",
    "    sandwichQueue = deque(sandwiches)\n",
    "    unableToEat = 0\n",
    "    \n",
    "    while studentQueue and sandwichQueue:\n",
    "        if studentQueue[0] == sandwichQueue[0]:\n",
    "            studentQueue.popleft()\n",
    "            sandwichQueue.popleft()\n",
    "            unableToEat = 0\n",
    "        else:\n",
    "            studentQueue.append(studentQueue.popleft())\n",
    "            unableToEat += 1\n",
    "        \n",
    "        # Check if all students are unable to eat\n",
    "        if unableToEat == len(studentQueue):\n",
    "            break\n",
    "    \n",
    "    return len(studentQueue)\n",
    "\n",
    "students = [1, 1, 0, 0]\n",
    "sandwiches = [0, 1, 0, 1]\n",
    "print(countStudents(students, sandwiches))\n"
   ]
  },
  {
   "cell_type": "markdown",
   "id": "d985df10",
   "metadata": {},
   "source": [
    "# Ques 4\n",
    "\n"
   ]
  },
  {
   "cell_type": "code",
   "execution_count": null,
   "id": "2a31393f",
   "metadata": {},
   "outputs": [],
   "source": [
    "from collections import deque\n",
    "\n",
    "class RecentCounter:\n",
    "    def __init__(self):\n",
    "        self.requests = deque()\n",
    "\n",
    "    def ping(self, t: int) -> int:\n",
    "        self.requests.append(t)\n",
    "        while self.requests[0] < t - 3000:\n",
    "            self.requests.popleft()\n",
    "        return len(self.requests)\n"
   ]
  },
  {
   "cell_type": "markdown",
   "id": "acba639e",
   "metadata": {},
   "source": [
    "# Ques 5\n",
    "\n"
   ]
  },
  {
   "cell_type": "code",
   "execution_count": null,
   "id": "dcb2b440",
   "metadata": {},
   "outputs": [],
   "source": [
    "def findTheWinner(n, k):\n",
    "    circle = list(range(1, n+1))\n",
    "    current = 0\n",
    "\n",
    "    while len(circle) > 1:\n",
    "        current = (current + k - 1) % len(circle)\n",
    "        circle.pop(current)\n",
    "\n",
    "    return circle[0]\n"
   ]
  },
  {
   "cell_type": "markdown",
   "id": "f35e432d",
   "metadata": {},
   "source": [
    "# Ques 6\n",
    "\n"
   ]
  },
  {
   "cell_type": "code",
   "execution_count": null,
   "id": "22e8fbfc",
   "metadata": {},
   "outputs": [],
   "source": [
    "from collections import deque\n",
    "def deckRevealedIncreasing(deck):\n",
    "    deck.sort()\n",
    "    queue = deque(deck)\n",
    "    result = []\n",
    "    \n",
    "    while queue:\n",
    "        result.append(queue.popleft())\n",
    "        if queue:\n",
    "            queue.append(queue.popleft())\n",
    "    \n",
    "    return result\n"
   ]
  },
  {
   "cell_type": "markdown",
   "id": "31b6a635",
   "metadata": {},
   "source": [
    "# Ques 7\n",
    "\n"
   ]
  },
  {
   "cell_type": "code",
   "execution_count": null,
   "id": "2d2c0c2b",
   "metadata": {},
   "outputs": [],
   "source": [
    "from collections import deque\n",
    "\n",
    "class FrontMiddleBackQueue:\n",
    "    def __init__(self):\n",
    "        self.front = deque()\n",
    "        self.back = deque()\n",
    "\n",
    "    def pushFront(self, val):\n",
    "        self.front.appendleft(val)\n",
    "        self.balance()\n",
    "\n",
    "    def pushMiddle(self, val):\n",
    "        if len(self.front) > len(self.back):\n",
    "            self.back.appendleft(self.front.pop())\n",
    "        self.front.append(val)\n",
    "\n",
    "    def pushBack(self, val):\n",
    "        self.back.append(val)\n",
    "        self.balance()\n",
    "\n",
    "    def popFront(self):\n",
    "        if self.front:\n",
    "            return self.front.popleft()\n",
    "        if self.back:\n",
    "            return self.back.popleft()\n",
    "        return -1\n",
    "\n",
    "    def popMiddle(self):\n",
    "        if self.front:\n",
    "            return self.front.pop()\n",
    "        return -1\n",
    "\n",
    "    def popBack(self):\n",
    "        if self.back:\n",
    "            return self.back.pop()\n",
    "        if self.front:\n",
    "            return self.front.pop()\n",
    "        return -1\n",
    "\n",
    "    def balance(self):\n",
    "        if len(self.front) > len(self.back) + 1:\n",
    "            self.back.appendleft(self.front.pop())\n",
    "        elif len(self.back) > len(self.front):\n",
    "            self.front.append(self.back.popleft())\n"
   ]
  },
  {
   "cell_type": "markdown",
   "id": "373f840e",
   "metadata": {},
   "source": [
    "# Ques 8\n",
    "\n"
   ]
  },
  {
   "cell_type": "code",
   "execution_count": 12,
   "id": "d03fafeb",
   "metadata": {},
   "outputs": [],
   "source": [
    "class DataStream:\n",
    "    def __init__(self, value, k):\n",
    "        self.value = value\n",
    "        self.k = k\n",
    "        self.stream = []\n",
    "\n",
    "    def consec(self, num):\n",
    "        self.stream.append(num)\n",
    "        if len(self.stream) < self.k:\n",
    "            return False\n",
    "        return all(x == self.value for x in self.stream[-self.k:])\n"
   ]
  }
 ],
 "metadata": {
  "kernelspec": {
   "display_name": "Python 3 (ipykernel)",
   "language": "python",
   "name": "python3"
  },
  "language_info": {
   "codemirror_mode": {
    "name": "ipython",
    "version": 3
   },
   "file_extension": ".py",
   "mimetype": "text/x-python",
   "name": "python",
   "nbconvert_exporter": "python",
   "pygments_lexer": "ipython3",
   "version": "3.9.13"
  }
 },
 "nbformat": 4,
 "nbformat_minor": 5
}
