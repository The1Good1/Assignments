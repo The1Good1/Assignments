{
 "cells": [
  {
   "cell_type": "code",
   "execution_count": 6,
   "id": "71328a09",
   "metadata": {},
   "outputs": [],
   "source": [
    "# Ques 1\n",
    "\n",
    "def meme_sum(num1, num2):\n",
    "    num1_str = str(num1)\n",
    "    num2_str = str(num2)\n",
    "    max_len = max(len(num1_str), len(num2_str))\n",
    "    result = \"\"\n",
    "    for i in range(max_len):\n",
    "        digit1 = int(num1_str[-(i+1)]) if i < len(num1_str) else 0\n",
    "        digit2 = int(num2_str[-(i+1)]) if i < len(num2_str) else 0\n",
    "        result = str(digit1 + digit2) + result\n",
    "    return int(result)\n"
   ]
  },
  {
   "cell_type": "code",
   "execution_count": 7,
   "id": "7b41e54b",
   "metadata": {},
   "outputs": [],
   "source": [
    "# Ques 2\n",
    "\n",
    "def is_prime(n):\n",
    "    if n < 2:\n",
    "        return False\n",
    "    for i in range(2, int(n**0.5) + 1):\n",
    "        if n % i == 0:\n",
    "            return False\n",
    "    return True\n",
    "\n",
    "def next_prime(num):\n",
    "    num += 1\n",
    "    while not is_prime(num):\n",
    "        num += 1\n",
    "    return num\n"
   ]
  },
  {
   "cell_type": "code",
   "execution_count": 8,
   "id": "b406cc99",
   "metadata": {},
   "outputs": [],
   "source": [
    "# Ques 3\n",
    "\n",
    "def ave_spd(uphill_time, uphill_rate, downhill_rate):\n",
    "    uphill_distance = (uphill_time / 60) * uphill_rate\n",
    "    downhill_distance = uphill_distance\n",
    "    total_distance = uphill_distance + downhill_distance\n",
    "    total_time = uphill_time + (total_distance / downhill_rate) * 60\n",
    "    average_speed = total_distance / (total_time / 60)\n",
    "    return int(average_speed)\n",
    "\n",
    "\n"
   ]
  },
  {
   "cell_type": "code",
   "execution_count": 9,
   "id": "129a0cab",
   "metadata": {},
   "outputs": [],
   "source": [
    "# Ques 4\n",
    "\n",
    "def kempner(n):\n",
    "    factorial = 1\n",
    "    for i in range(1, n + 1):\n",
    "        factorial *= i\n",
    "        if factorial % n == 0:\n",
    "            return i\n",
    "    return n\n"
   ]
  },
  {
   "cell_type": "code",
   "execution_count": 10,
   "id": "20b183cf",
   "metadata": {},
   "outputs": [],
   "source": [
    "# Ques 5\n",
    "\n",
    "def boxes(items):\n",
    "    total_weight = 0\n",
    "    box_count = 0\n",
    "    for item_weight in items:\n",
    "        if total_weight + item_weight > 10:\n",
    "            box_count += 1\n",
    "            total_weight = item_weight\n",
    "        else:\n",
    "            total_weight += item_weight\n",
    "    if total_weight > 0:\n",
    "        box_count += 1\n",
    "    return box_count\n"
   ]
  },
  {
   "cell_type": "code",
   "execution_count": null,
   "id": "cc6ed03b",
   "metadata": {},
   "outputs": [],
   "source": []
  },
  {
   "cell_type": "code",
   "execution_count": null,
   "id": "850e903a",
   "metadata": {},
   "outputs": [],
   "source": []
  }
 ],
 "metadata": {
  "kernelspec": {
   "display_name": "Python 3 (ipykernel)",
   "language": "python",
   "name": "python3"
  },
  "language_info": {
   "codemirror_mode": {
    "name": "ipython",
    "version": 3
   },
   "file_extension": ".py",
   "mimetype": "text/x-python",
   "name": "python",
   "nbconvert_exporter": "python",
   "pygments_lexer": "ipython3",
   "version": "3.9.13"
  }
 },
 "nbformat": 4,
 "nbformat_minor": 5
}
