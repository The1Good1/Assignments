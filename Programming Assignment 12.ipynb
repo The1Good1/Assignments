{
 "cells": [
  {
   "cell_type": "markdown",
   "id": "67ecf948",
   "metadata": {},
   "source": [
    "# Ques 1\n",
    "\n",
    "1. Write a Python program to Extract Unique values dictionary values?\n"
   ]
  },
  {
   "cell_type": "code",
   "execution_count": 87,
   "id": "b6197a43",
   "metadata": {},
   "outputs": [
    {
     "name": "stdout",
     "output_type": "stream",
     "text": [
      "Unique values: [1, 2, 3, 4, 5, 6]\n"
     ]
    }
   ],
   "source": [
    "def extract_unique_values(dictionary):\n",
    "    unique_values = set()\n",
    "    for value in dictionary.values():\n",
    "        if isinstance(value, list):\n",
    "            unique_values.update(value)\n",
    "        else:\n",
    "            unique_values.add(value)\n",
    "    return list(unique_values)\n",
    "\n",
    "# Dictionary input\n",
    "dictionary = {\n",
    "    \"key1\": [1, 2, 3],\n",
    "    \"key2\": [2, 3, 4],\n",
    "    \"key3\": 5,\n",
    "    \"key4\": 6,\n",
    "    \"key5\": [3, 4, 5]\n",
    "}\n",
    "\n",
    "# Extract and print unique values from dictionary values\n",
    "result = extract_unique_values(dictionary)\n",
    "print(\"Unique values:\", result)\n"
   ]
  },
  {
   "cell_type": "markdown",
   "id": "4f3c24da",
   "metadata": {},
   "source": [
    "# Ques 2\n",
    "2. Write a Python program to find the sum of all items in a dictionary?\n"
   ]
  },
  {
   "cell_type": "code",
   "execution_count": 88,
   "id": "d8e9926e",
   "metadata": {},
   "outputs": [
    {
     "name": "stdout",
     "output_type": "stream",
     "text": [
      "Sum of dictionary items: 150\n"
     ]
    }
   ],
   "source": [
    "def sum_dictionary_items(dictionary):\n",
    "    total_sum = 0\n",
    "    for value in dictionary.values():\n",
    "        if isinstance(value, (int, float)):\n",
    "            total_sum += value\n",
    "    return total_sum\n",
    "\n",
    "# Dictionary input\n",
    "dictionary = {\n",
    "    \"key1\": 10,\n",
    "    \"key2\": 20,\n",
    "    \"key3\": 30,\n",
    "    \"key4\": 40,\n",
    "    \"key5\": 50\n",
    "}\n",
    "\n",
    "# Find and print the sum of dictionary items\n",
    "result = sum_dictionary_items(dictionary)\n",
    "print(\"Sum of dictionary items:\", result)\n"
   ]
  },
  {
   "cell_type": "markdown",
   "id": "539b1552",
   "metadata": {},
   "source": [
    "# Ques 3\n",
    "\n",
    "3. Write a Python program to Merging two Dictionaries?\n"
   ]
  },
  {
   "cell_type": "code",
   "execution_count": 89,
   "id": "5b272f56",
   "metadata": {},
   "outputs": [
    {
     "name": "stdout",
     "output_type": "stream",
     "text": [
      "Merged Dictionary: {'a': 1, 'b': 2, 'c': 3, 'd': 4}\n"
     ]
    }
   ],
   "source": [
    "def merge_dictionaries(dict1, dict2):\n",
    "    merged_dict = dict1.copy()\n",
    "    merged_dict.update(dict2)\n",
    "    return merged_dict\n",
    "\n",
    "# Dictionaries input\n",
    "dict1 = {'a': 1, 'b': 2}\n",
    "dict2 = {'c': 3, 'd': 4}\n",
    "\n",
    "# Merge the dictionaries\n",
    "merged_dict = merge_dictionaries(dict1, dict2)\n",
    "\n",
    "# Print the merged dictionary\n",
    "print(\"Merged Dictionary:\", merged_dict)\n"
   ]
  },
  {
   "cell_type": "markdown",
   "id": "52d3bee6",
   "metadata": {},
   "source": [
    "# Ques 4\n",
    "\n",
    "4. Write a Python program to convert key-values list to flat dictionary?\n",
    "\n"
   ]
  },
  {
   "cell_type": "code",
   "execution_count": 90,
   "id": "c72e1544",
   "metadata": {},
   "outputs": [
    {
     "name": "stdout",
     "output_type": "stream",
     "text": [
      "Flat Dictionary: {'a': 1, 'b': 2, 'c': 3}\n"
     ]
    }
   ],
   "source": [
    "def convert_to_flat_dict(key_value_list):\n",
    "    flat_dict = {}\n",
    "    for key, value in key_value_list:\n",
    "        flat_dict[key] = value\n",
    "    return flat_dict\n",
    "\n",
    "# Key-value list input\n",
    "key_value_list = [('a', 1), ('b', 2), ('c', 3)]\n",
    "\n",
    "# Convert the key-value list to a flat dictionary\n",
    "flat_dict = convert_to_flat_dict(key_value_list)\n",
    "\n",
    "# Print the flat dictionary\n",
    "print(\"Flat Dictionary:\", flat_dict)\n"
   ]
  },
  {
   "cell_type": "markdown",
   "id": "117d4967",
   "metadata": {},
   "source": [
    "# Ques 5\n",
    "\n",
    "5. Write a Python program to insertion at the beginning in OrderedDict?\n"
   ]
  },
  {
   "cell_type": "code",
   "execution_count": 94,
   "id": "dbec3cb9",
   "metadata": {},
   "outputs": [
    {
     "name": "stdout",
     "output_type": "stream",
     "text": [
      "Initial OrderedDict: OrderedDict([('a', 1), ('b', 2), ('c', 3)])\n",
      "Updated OrderedDict: OrderedDict([('d', 4), ('a', 1), ('b', 2), ('c', 3)])\n"
     ]
    }
   ],
   "source": [
    "from collections import OrderedDict\n",
    "\n",
    "# Create an OrderedDict\n",
    "ordered_dict = OrderedDict([('a', 1), ('b', 2), ('c', 3)])\n",
    "\n",
    "# Print the initial OrderedDict\n",
    "print(\"Initial OrderedDict:\", ordered_dict)\n",
    "\n",
    "# Insert a new key-value pair at the beginning\n",
    "ordered_dict['d'] = 4\n",
    "ordered_dict.move_to_end('d', last=False)\n",
    "\n",
    "# Print the updated OrderedDict\n",
    "print(\"Updated OrderedDict:\", ordered_dict)\n"
   ]
  },
  {
   "cell_type": "markdown",
   "id": "21149510",
   "metadata": {},
   "source": [
    "# Ques 6\n",
    "\n",
    "6. Write a Python program to check order of character in string using OrderedDict()?\n",
    "\n"
   ]
  },
  {
   "cell_type": "code",
   "execution_count": 92,
   "id": "d71491cf",
   "metadata": {},
   "outputs": [
    {
     "name": "stdout",
     "output_type": "stream",
     "text": [
      "Order of characters in string1: False\n",
      "Order of characters in string2: True\n"
     ]
    }
   ],
   "source": [
    "from collections import OrderedDict\n",
    "\n",
    "def check_order_of_characters(string):\n",
    "    # Create an OrderedDict to store the characters and their occurrence order\n",
    "    char_order = OrderedDict()\n",
    "\n",
    "    for char in string:\n",
    "        # Add characters to the OrderedDict if they are not already present\n",
    "        if char not in char_order:\n",
    "            char_order[char] = len(char_order)\n",
    "\n",
    "    # Check if the occurrence order of characters matches their order in the string\n",
    "    for i, char in enumerate(string):\n",
    "        if char_order[char] != i:\n",
    "            return False\n",
    "\n",
    "    return True\n",
    "\n",
    "# Test the function\n",
    "string1 = \"hello\"\n",
    "print(\"Order of characters in string1:\", check_order_of_characters(string1))\n",
    "\n",
    "string2 = \"World\"\n",
    "print(\"Order of characters in string2:\", check_order_of_characters(string2))\n"
   ]
  },
  {
   "cell_type": "markdown",
   "id": "6de82bac",
   "metadata": {},
   "source": [
    "# Ques 7\n",
    "\n",
    "7. Write a Python program to sort Python Dictionaries by Key or Value?\n"
   ]
  },
  {
   "cell_type": "code",
   "execution_count": 93,
   "id": "82011d7e",
   "metadata": {},
   "outputs": [
    {
     "name": "stdout",
     "output_type": "stream",
     "text": [
      "Sorted by Key:\n",
      "Alice : 85\n",
      "Bob : 72\n",
      "Charlie : 92\n",
      "Dave : 68\n",
      "Eve : 78\n",
      "\n",
      "Sorted by Value:\n",
      "Dave : 68\n",
      "Bob : 72\n",
      "Eve : 78\n",
      "Alice : 85\n",
      "Charlie : 92\n"
     ]
    }
   ],
   "source": [
    "# Dictionary\n",
    "student_scores = {\n",
    "    'Alice': 85,\n",
    "    'Bob': 72,\n",
    "    'Charlie': 92,\n",
    "    'Dave': 68,\n",
    "    'Eve': 78\n",
    "}\n",
    "\n",
    "# Sort the dictionary by key\n",
    "sorted_by_key = dict(sorted(student_scores.items()))\n",
    "\n",
    "print(\"Sorted by Key:\")\n",
    "for key, value in sorted_by_key.items():\n",
    "    print(key, \":\", value)\n",
    "\n",
    "# Sort the dictionary by value\n",
    "sorted_by_value = dict(sorted(student_scores.items(), key=lambda item: item[1]))\n",
    "\n",
    "print(\"\\nSorted by Value:\")\n",
    "for key, value in sorted_by_value.items():\n",
    "    print(key, \":\", value)\n"
   ]
  },
  {
   "cell_type": "code",
   "execution_count": null,
   "id": "459c8f97",
   "metadata": {},
   "outputs": [],
   "source": []
  }
 ],
 "metadata": {
  "kernelspec": {
   "display_name": "Python 3 (ipykernel)",
   "language": "python",
   "name": "python3"
  },
  "language_info": {
   "codemirror_mode": {
    "name": "ipython",
    "version": 3
   },
   "file_extension": ".py",
   "mimetype": "text/x-python",
   "name": "python",
   "nbconvert_exporter": "python",
   "pygments_lexer": "ipython3",
   "version": "3.9.13"
  }
 },
 "nbformat": 4,
 "nbformat_minor": 5
}
