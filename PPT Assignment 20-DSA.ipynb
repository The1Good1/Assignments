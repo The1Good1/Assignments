{
 "cells": [
  {
   "cell_type": "markdown",
   "id": "4e864a43",
   "metadata": {},
   "source": [
    "# Ques 1 \n",
    "\n"
   ]
  },
  {
   "cell_type": "code",
   "execution_count": null,
   "id": "ec9ef308",
   "metadata": {},
   "outputs": [],
   "source": [
    "class TreeNode:\n",
    "    def __init__(self, val=0, left=None, right=None):\n",
    "        self.val = val\n",
    "        self.left = left\n",
    "        self.right = right\n",
    "\n",
    "def findMaxSubtreeSum(root):\n",
    "    maxSum = float('-inf')  # Initialize the maximum sum with negative infinity\n",
    "\n",
    "    # Helper function to calculate the sum of a subtree rooted at a node\n",
    "    def calculateSum(node):\n",
    "        nonlocal maxSum\n",
    "\n",
    "        if not node:\n",
    "            return 0\n",
    "\n",
    "        # Recursively calculate the sum of the left and right subtrees\n",
    "        leftSum = calculateSum(node.left)\n",
    "        rightSum = calculateSum(node.right)\n",
    "\n",
    "        # Update the maximum sum if the current subtree has a larger sum\n",
    "        currentSum = node.val + leftSum + rightSum\n",
    "        maxSum = max(maxSum, currentSum)\n",
    "\n",
    "        # Return the sum of the current subtree\n",
    "        return currentSum\n",
    "\n",
    "    # Start the recursive calculation from the root\n",
    "    calculateSum(root)\n",
    "\n",
    "    return maxSum\n"
   ]
  },
  {
   "cell_type": "markdown",
   "id": "be9e9310",
   "metadata": {},
   "source": [
    "# Ques 2\n",
    "\n"
   ]
  },
  {
   "cell_type": "code",
   "execution_count": 10,
   "id": "3cfc3e87",
   "metadata": {},
   "outputs": [],
   "source": [
    "class TreeNode:\n",
    "    def __init__(self, val=0, left=None, right=None):\n",
    "        self.val = val\n",
    "        self.left = left\n",
    "        self.right = right\n",
    "\n",
    "def constructBST(levelOrder):\n",
    "    if not levelOrder:\n",
    "        return None\n",
    "\n",
    "    root = TreeNode(levelOrder[0])  # Create the root node\n",
    "\n",
    "    # Iterate through the remaining values in levelOrder\n",
    "    for value in levelOrder[1:]:\n",
    "        insertNode(root, value)\n",
    "\n",
    "    return root\n",
    "\n",
    "# Helper function to insert a node into the BST\n",
    "def insertNode(root, value):\n",
    "    if not root:\n",
    "        return TreeNode(value)\n",
    "\n",
    "    # Traverse to the appropriate position based on the BST property\n",
    "    if value < root.val:\n",
    "        root.left = insertNode(root.left, value)\n",
    "    else:\n",
    "        root.right = insertNode(root.right, value)\n",
    "\n",
    "    return root\n"
   ]
  },
  {
   "cell_type": "markdown",
   "id": "87d70732",
   "metadata": {},
   "source": [
    "# Ques 3\n",
    "\n",
    "\n"
   ]
  },
  {
   "cell_type": "code",
   "execution_count": 11,
   "id": "a22f7bfb",
   "metadata": {},
   "outputs": [],
   "source": [
    "def isLevelOrderBST(levelOrder):\n",
    "    if not levelOrder:\n",
    "        return True\n",
    "\n",
    "    n = len(levelOrder)\n",
    "\n",
    "    # Initialize the maximum and minimum values\n",
    "    maxVal = float('inf')\n",
    "    minVal = float('-inf')\n",
    "\n",
    "    # Iterate through the level order traversal\n",
    "    for i in range(n):\n",
    "        currentVal = levelOrder[i]\n",
    "\n",
    "        # Check if the current value violates the BST property\n",
    "        if currentVal < minVal or currentVal > maxVal:\n",
    "            return False\n",
    "\n",
    "        # Update the maximum and minimum values\n",
    "        if i < n - 1:\n",
    "            if currentVal > levelOrder[i + 1]:\n",
    "                maxVal = currentVal\n",
    "            else:\n",
    "                minVal = currentVal\n",
    "\n",
    "    return True\n"
   ]
  },
  {
   "cell_type": "markdown",
   "id": "5a5d3b41",
   "metadata": {},
   "source": [
    "\n",
    "\n"
   ]
  },
  {
   "cell_type": "code",
   "execution_count": 12,
   "id": "d03fafeb",
   "metadata": {},
   "outputs": [],
   "source": []
  }
 ],
 "metadata": {
  "kernelspec": {
   "display_name": "Python 3 (ipykernel)",
   "language": "python",
   "name": "python3"
  },
  "language_info": {
   "codemirror_mode": {
    "name": "ipython",
    "version": 3
   },
   "file_extension": ".py",
   "mimetype": "text/x-python",
   "name": "python",
   "nbconvert_exporter": "python",
   "pygments_lexer": "ipython3",
   "version": "3.9.13"
  }
 },
 "nbformat": 4,
 "nbformat_minor": 5
}
