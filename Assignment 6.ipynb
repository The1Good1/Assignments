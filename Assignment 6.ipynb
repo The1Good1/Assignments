{
 "cells": [
  {
   "cell_type": "markdown",
   "id": "8091c75d",
   "metadata": {},
   "source": [
    "# Ques1:"
   ]
  },
  {
   "cell_type": "markdown",
   "id": "20f0fe1d",
   "metadata": {},
   "source": [
    "What are escape characters, and how do you use them?\n",
    "\n",
    "Escape characters are special characters in a string that are used to represent certain types of characters, such as newline characters or quotation marks, that cannot be represented directly. They are preceded by a backslash (\\) to indicate that they are part of the string's content rather than its syntax. For example, to include a newline character in a string, we would use the escape sequence \\n."
   ]
  },
  {
   "cell_type": "markdown",
   "id": "e4b16ff7",
   "metadata": {},
   "source": [
    "# Ques 2:"
   ]
  },
  {
   "cell_type": "markdown",
   "id": "91061cf1",
   "metadata": {},
   "source": [
    "What do the escape characters n and t stand for?\n",
    "\n",
    "The escape character \\n stands for a newline character, and the escape character \\t stands for a tab character."
   ]
  },
  {
   "cell_type": "markdown",
   "id": "0cc6c9bf",
   "metadata": {},
   "source": [
    "# Ques 3:"
   ]
  },
  {
   "cell_type": "markdown",
   "id": "cb559b45",
   "metadata": {},
   "source": [
    "What is the way to include backslash characters in a string?\n",
    "\n",
    "To include a backslash character in a string, we can use a double backslash (\\\\). For example, \"C:\\\\Users\\\\Desktop\" is a string that contains backslashes."
   ]
  },
  {
   "cell_type": "markdown",
   "id": "5879cd0e",
   "metadata": {},
   "source": [
    "# Ques 4:"
   ]
  },
  {
   "cell_type": "markdown",
   "id": "7aad7aeb",
   "metadata": {},
   "source": [
    "The string \"Howl's Moving Castle\" is a correct value. Why isn't the single quote character in the\n",
    "word Howl's not escaped a problem?\n",
    "\n",
    "The single quote character in the word \"Howl's\" is not a problem because the entire string is enclosed in double quotes. In Python, we can use either single quotes or double quotes to define a string. If a string is enclosed in one type of quote, any instances of the other type of quote within the string do not need to be escaped."
   ]
  },
  {
   "cell_type": "markdown",
   "id": "350244cc",
   "metadata": {},
   "source": [
    "# Ques 5:"
   ]
  },
  {
   "cell_type": "markdown",
   "id": "365acbd6",
   "metadata": {},
   "source": [
    "How do you write a string of newlines if you don't want to use the n character?\n",
    "\n",
    "If we don't want to use the \\n character to write a string of newlines, we can use the string concatenation operator (+) to combine multiple strings, each containing a newline character. For example:"
   ]
  },
  {
   "cell_type": "code",
   "execution_count": null,
   "id": "93f63a79",
   "metadata": {},
   "outputs": [],
   "source": [
    "my_string = \"Line 1\" + \"\\n\" + \"Line 2\" + \"\\n\" + \"Line 3\"\n"
   ]
  },
  {
   "cell_type": "markdown",
   "id": "c3f05cf4",
   "metadata": {},
   "source": [
    "# Ques 6:"
   ]
  },
  {
   "cell_type": "markdown",
   "id": "e1d75219",
   "metadata": {},
   "source": [
    "What are the values of the given expressions?\n",
    "'Hello, world!'[1]\n",
    "'Hello, world!'[0:5]\n",
    "'Hello, world!'[:5]\n",
    "'Hello, world!'[3:]\n",
    "\n",
    "The values of the given expressions are:\n",
    "\n",
    "1. 'e': This expression accesses the character at index 1 in the string \"Hello, world!\", which is the letter 'e'.\n",
    "2. 'Hello': This expression accesses the characters at indices 0 to 4 in the string \"Hello, world!\", which are the letters 'H', 'e', 'l', 'l', and 'o'.\n",
    "3. 'Hello': This expression accesses the characters at indices 0 to 4 in the string \"Hello, world!\", which are the letters 'H', 'e', 'l', 'l', and 'o'.\n",
    "4. 'lo, world!': This expression accesses the characters at indices 3 to the end of the string \"Hello, world!\", which are the letters 'l', 'o', ',', ' ', 'w', 'o', 'r', 'l', 'd', and '!'."
   ]
  },
  {
   "cell_type": "markdown",
   "id": "1ea62db7",
   "metadata": {},
   "source": [
    "# Ques 7:"
   ]
  },
  {
   "cell_type": "markdown",
   "id": "efadda5e",
   "metadata": {},
   "source": [
    "What are the values of the following expressions?\n",
    "'Hello'.upper()\n",
    "'Hello'.upper().isupper()\n",
    "'Hello'.upper().lower()\n",
    "\n",
    "The values of the following expressions are:\n",
    "\n",
    "1. 'HELLO': This expression converts the string \"Hello\" to uppercase.\n",
    "2. True: This expression first converts the string \"Hello\" to uppercase, and then checks whether the resulting string is all uppercase. Since it is, the expression evaluates to True.\n",
    "3. 'hello': This expression first converts the string \"Hello\" to uppercase, and then converts the resulting string to lowercase.\n",
    "\n"
   ]
  },
  {
   "cell_type": "markdown",
   "id": "d4d03f66",
   "metadata": {},
   "source": [
    "# Ques 8:"
   ]
  },
  {
   "cell_type": "markdown",
   "id": "26be1018",
   "metadata": {},
   "source": [
    "What are the values of the following expressions?\n",
    "'Remember, remember, the fifth of July.'.split()\n",
    "'-'.join('There can only one.'.split())\n",
    "\n",
    "The values of the following expressions are:\n",
    "\n",
    "1. ['Remember,', 'remember,', 'the', 'fifth', 'of', 'July.']: This expression splits the string \"Remember, remember, the fifth of July.\" into a list of words, using whitespace as the delimiter.\n",
    "2. 'There-can-only-one.': This expression splits the string \"There can only one.\" into a list of words, using whitespace as the delimiter, and then joins the words back together using the '-' character as the separator."
   ]
  },
  {
   "cell_type": "markdown",
   "id": "3cfc10fb",
   "metadata": {},
   "source": [
    "# Ques 9:"
   ]
  },
  {
   "cell_type": "markdown",
   "id": "7f208e2c",
   "metadata": {},
   "source": [
    "What are the methods for right-justifying, left-justifying, and centering a string?\n",
    "\n",
    "The methods for right-justifying, left-justifying, and centering a string are:\n",
    "\n",
    "1. str.rjust(width[, fillchar]): This method returns a string that is right-justified in a field of the specified width. If the string is shorter than the field width, it is padded with the specified fill character (which defaults to a space).\n",
    "2. str.ljust(width[, fillchar]): This method returns a string that is left-justified in a field of the specified width. If the string is shorter than the field width, it is padded with the specified fill character (which defaults to a space).\n",
    "3. str.center(width[, fillchar]): This method returns a string that is centered in a field of the specified width. If the string is shorter than the field width, it is padded with the specified fill character (which defaults to a space)."
   ]
  },
  {
   "cell_type": "markdown",
   "id": "c6fecc86",
   "metadata": {},
   "source": [
    "# Ques 10:"
   ]
  },
  {
   "cell_type": "markdown",
   "id": "4a844279",
   "metadata": {},
   "source": [
    "What is the best way to remove whitespace characters from the start or end?\n",
    "\n",
    "The best way to remove whitespace characters from the start or end of a string is to use the strip() method. This method removes all whitespace characters (spaces, tabs, and newline characters) from the beginning and end of the string. For example, \" hello \".strip() would return the string \"hello\". If you only want to remove whitespace characters from the beginning or end of the string, you can use the lstrip() or rstrip() methods, respectively."
   ]
  },
  {
   "cell_type": "code",
   "execution_count": null,
   "id": "eb30964f",
   "metadata": {},
   "outputs": [],
   "source": []
  }
 ],
 "metadata": {
  "kernelspec": {
   "display_name": "Python 3 (ipykernel)",
   "language": "python",
   "name": "python3"
  },
  "language_info": {
   "codemirror_mode": {
    "name": "ipython",
    "version": 3
   },
   "file_extension": ".py",
   "mimetype": "text/x-python",
   "name": "python",
   "nbconvert_exporter": "python",
   "pygments_lexer": "ipython3",
   "version": "3.9.13"
  }
 },
 "nbformat": 4,
 "nbformat_minor": 5
}
