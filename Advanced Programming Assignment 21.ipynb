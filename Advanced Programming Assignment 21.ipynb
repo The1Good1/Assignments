{
 "cells": [
  {
   "cell_type": "code",
   "execution_count": 6,
   "id": "71328a09",
   "metadata": {},
   "outputs": [],
   "source": [
    "# Ques 1\n",
    "\n",
    "def count_same_ends(sentence):\n",
    "    words = sentence.split()\n",
    "    count = 0\n",
    "    for word in words:\n",
    "        if word[0].lower() == word[-1].lower():\n",
    "            count += 1\n",
    "    return count\n"
   ]
  },
  {
   "cell_type": "code",
   "execution_count": 7,
   "id": "7b41e54b",
   "metadata": {},
   "outputs": [],
   "source": [
    "# Ques 2\n",
    "\n",
    "def atbash(string):\n",
    "    result = \"\"\n",
    "    for char in string:\n",
    "        if char.isalpha():\n",
    "            if char.isupper():\n",
    "                mirror_char = chr(155 - ord(char))\n",
    "            else:\n",
    "                mirror_char = chr(219 - ord(char))\n",
    "            result += mirror_char\n",
    "        else:\n",
    "            result += char\n",
    "    return result\n"
   ]
  },
  {
   "cell_type": "code",
   "execution_count": 8,
   "id": "b406cc99",
   "metadata": {},
   "outputs": [],
   "source": [
    "# Ques 3\n",
    "\n",
    "class Employee:\n",
    "    def __init__(self, full_name, **kwargs):\n",
    "        self.name, self.lastname = full_name.split()\n",
    "        for key, value in kwargs.items():\n",
    "            setattr(self, key, value)\n",
    "\n"
   ]
  },
  {
   "cell_type": "code",
   "execution_count": 9,
   "id": "129a0cab",
   "metadata": {},
   "outputs": [],
   "source": [
    "# Ques 4\n",
    "\n",
    "def can_see_stage(seating_arrangement):\n",
    "    rows = len(seating_arrangement)\n",
    "    cols = len(seating_arrangement[0])\n",
    "    for j in range(cols):\n",
    "        for i in range(1, rows):\n",
    "            if seating_arrangement[i][j] <= seating_arrangement[i-1][j]:\n",
    "                return False\n",
    "    return True\n",
    "\n"
   ]
  },
  {
   "cell_type": "code",
   "execution_count": 10,
   "id": "20b183cf",
   "metadata": {},
   "outputs": [],
   "source": [
    "# Ques 5\n",
    "\n",
    "class Pizza:\n",
    "    order_counter = 1\n",
    "\n",
    "    def __init__(self, ingredients):\n",
    "        self.order_number = Pizza.order_counter\n",
    "        self.ingredients = ingredients\n",
    "        Pizza.order_counter += 1\n",
    "\n",
    "    @classmethod\n",
    "    def hawaiian(cls):\n",
    "        return cls([\"ham\", \"pineapple\"])\n",
    "\n",
    "    @classmethod\n",
    "    def meat_festival(cls):\n",
    "        return cls([\"beef\", \"meatball\", \"bacon\"])\n",
    "\n",
    "    @classmethod\n",
    "    def garden_feast(cls):\n",
    "        return cls([\"spinach\", \"olives\", \"mushroom\"])\n",
    "\n"
   ]
  },
  {
   "cell_type": "code",
   "execution_count": null,
   "id": "cc6ed03b",
   "metadata": {},
   "outputs": [],
   "source": []
  },
  {
   "cell_type": "code",
   "execution_count": null,
   "id": "ba052bdc",
   "metadata": {},
   "outputs": [],
   "source": []
  }
 ],
 "metadata": {
  "kernelspec": {
   "display_name": "Python 3 (ipykernel)",
   "language": "python",
   "name": "python3"
  },
  "language_info": {
   "codemirror_mode": {
    "name": "ipython",
    "version": 3
   },
   "file_extension": ".py",
   "mimetype": "text/x-python",
   "name": "python",
   "nbconvert_exporter": "python",
   "pygments_lexer": "ipython3",
   "version": "3.9.13"
  }
 },
 "nbformat": 4,
 "nbformat_minor": 5
}
