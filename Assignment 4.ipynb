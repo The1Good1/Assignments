{
 "cells": [
  {
   "cell_type": "markdown",
   "id": "1a4736a7",
   "metadata": {},
   "source": [
    "# Ques 1:"
   ]
  },
  {
   "cell_type": "markdown",
   "id": "74cfc6f9",
   "metadata": {},
   "source": [
    "What exactly is []?"
   ]
  },
  {
   "cell_type": "markdown",
   "id": "235adfba",
   "metadata": {},
   "source": [
    "[] is an empty list literal. It represents an empty list, which is a mutable sequence of zero or more items. Lists are one of the built-in data types in Python, and they can contain elements of any data type, including other lists."
   ]
  },
  {
   "cell_type": "markdown",
   "id": "916f92c9",
   "metadata": {},
   "source": [
    "# Ques 2:"
   ]
  },
  {
   "cell_type": "markdown",
   "id": "8cbcd8c6",
   "metadata": {},
   "source": [
    "In a list of values stored in a variable called spam, how would you assign the value &#39;hello&#39; as the\n",
    "third value? (Assume [2, 4, 6, 8, 10] are in spam.)"
   ]
  },
  {
   "cell_type": "markdown",
   "id": "eb3bb27a",
   "metadata": {},
   "source": [
    "We can assign the value 'hello' as the third value in the list stored in the variable spam by using indexing and assignment:"
   ]
  },
  {
   "cell_type": "markdown",
   "id": "951cd871",
   "metadata": {},
   "source": [
    "spam[2] = 'hello'"
   ]
  },
  {
   "cell_type": "markdown",
   "id": "8adff53d",
   "metadata": {},
   "source": [
    "In Python, list indexes start at 0, so the third value in the list has an index of 2. This code will replace the value at index 2 (which is 6 in this case) with the string 'hello', resulting in the list [2, 4, 'hello', 8, 10]."
   ]
  },
  {
   "cell_type": "markdown",
   "id": "b2526c8c",
   "metadata": {},
   "source": [
    "# Ques 3:"
   ]
  },
  {
   "cell_type": "markdown",
   "id": "709eb81a",
   "metadata": {},
   "source": [
    "What is the value of spam[int(int('3' * 2) / 11)]?"
   ]
  },
  {
   "cell_type": "markdown",
   "id": "da35fa69",
   "metadata": {},
   "source": [
    "The expression int('3' * 2) evaluates to the string '33', and the expression int('33') / 11 evaluates to the floating-point number 3.0. Finally, the expression spam[3] accesses the fourth element in the list spam, which is the string 'd'. Therefore, the value of spam[int(int('3' * 2) / 11)] is 'd'"
   ]
  },
  {
   "cell_type": "code",
   "execution_count": 2,
   "id": "7453b162",
   "metadata": {},
   "outputs": [
    {
     "data": {
      "text/plain": [
       "'d'"
      ]
     },
     "execution_count": 2,
     "metadata": {},
     "output_type": "execute_result"
    }
   ],
   "source": [
    "spam = ['a', 'b', 'c', 'd']\n",
    "\n",
    "int('3' * 2)        # evaluates to 33\n",
    "int('33') / 11      # evaluates to 3.0\n",
    "spam[3]             # evaluates to 'd'\n",
    "\n",
    "spam[int(int('3' * 2) / 11)]   # evaluates to 'd'\n"
   ]
  },
  {
   "cell_type": "markdown",
   "id": "172f8035",
   "metadata": {},
   "source": [
    "# Ques 4:\n"
   ]
  },
  {
   "cell_type": "markdown",
   "id": "3b83a0d0",
   "metadata": {},
   "source": [
    "What is the value of spam[-1]?"
   ]
  },
  {
   "cell_type": "markdown",
   "id": "82e3bfa2",
   "metadata": {},
   "source": [
    " the expression spam[-1] returns the last element of the list spam. In the list ['a', 'b', 'c', 'd'], the last element is the string 'd'. Therefore, the value of spam[-1] is 'd'."
   ]
  },
  {
   "cell_type": "markdown",
   "id": "ea824a36",
   "metadata": {},
   "source": [
    "# Ques 5:\n"
   ]
  },
  {
   "cell_type": "markdown",
   "id": "75590f37",
   "metadata": {},
   "source": [
    "What is the value of spam[:2]?"
   ]
  },
  {
   "cell_type": "markdown",
   "id": "4cab81c5",
   "metadata": {},
   "source": [
    " the expression spam[:2] returns a new list that contains the first two elements of the list spam. In the list ['a', 'b', 'c', 'd'], the first two elements are the strings 'a' and 'b'. Therefore, the value of spam[:2] is ['a', 'b']."
   ]
  },
  {
   "cell_type": "markdown",
   "id": "362ae54f",
   "metadata": {},
   "source": [
    "Let&#39;s pretend bacon has the list [3.14, 'cat.' 11, 'cat,' True] for the next three questions."
   ]
  },
  {
   "cell_type": "markdown",
   "id": "3e1eec00",
   "metadata": {},
   "source": [
    "# Ques 6:\n",
    "\n"
   ]
  },
  {
   "cell_type": "markdown",
   "id": "31ed3df2",
   "metadata": {},
   "source": [
    "What is the value of bacon.index('cat')?"
   ]
  },
  {
   "cell_type": "markdown",
   "id": "b3fb4208",
   "metadata": {},
   "source": [
    "The index() method returns the index of the first occurrence of the specified value in a list. In the list bacon, the string 'cat' appears at indices 1 and 3. Since index() returns the index of the first occurrence, the value of bacon.index('cat') is 1."
   ]
  },
  {
   "cell_type": "markdown",
   "id": "545fbc09",
   "metadata": {},
   "source": [
    "# Ques 7:\n"
   ]
  },
  {
   "cell_type": "markdown",
   "id": "4241febd",
   "metadata": {},
   "source": [
    "How does bacon.append(99) change the look of the list value in bacon?"
   ]
  },
  {
   "cell_type": "markdown",
   "id": "2b181d0b",
   "metadata": {},
   "source": [
    "The append() method adds an element to the end of a list. So, if we execute bacon.append(99) with bacon containing [3.14, 'cat', 11, 'cat', True], then the value of bacon will be updated to [3.14, 'cat', 11, 'cat', True, 99]. The list bacon now has a new element, 99, added to the end of the list."
   ]
  },
  {
   "cell_type": "markdown",
   "id": "bc9ad8aa",
   "metadata": {},
   "source": [
    "# Ques 8:\n"
   ]
  },
  {
   "cell_type": "markdown",
   "id": "d2d422a4",
   "metadata": {},
   "source": [
    "How does bacon.remove('cat') change the look of the list in bacon?"
   ]
  },
  {
   "cell_type": "markdown",
   "id": "619b610b",
   "metadata": {},
   "source": [
    "The remove() method removes the first occurrence of the specified value from a list. In the list bacon, the string 'cat' appears at indices 1 and 3. Since remove() removes the first occurrence, executing bacon.remove('cat') will remove the first occurrence of 'cat' from bacon. After executing bacon.remove('cat'), the value of bacon will be [3.14, 11, 'cat', True]. The first occurrence of 'cat' (at index 1) is removed, leaving only the second occurrence of 'cat' at index 2 in the list."
   ]
  },
  {
   "cell_type": "markdown",
   "id": "47900c04",
   "metadata": {},
   "source": [
    "# Ques 9:\n"
   ]
  },
  {
   "cell_type": "markdown",
   "id": "28bd15b2",
   "metadata": {},
   "source": [
    "What are the list concatenation and list replication operators?"
   ]
  },
  {
   "cell_type": "markdown",
   "id": "3f60a62e",
   "metadata": {},
   "source": [
    "The list concatenation operator is +. It is used to combine two or more lists into a single list.\n",
    "The list replication operator is *. It is used to create a new list by replicating an existing list a specified number of times."
   ]
  },
  {
   "cell_type": "markdown",
   "id": "8b855bfe",
   "metadata": {},
   "source": [
    "# Ques 10:\n"
   ]
  },
  {
   "cell_type": "markdown",
   "id": "73d27f8a",
   "metadata": {},
   "source": [
    "What is difference between the list methods append() and insert()?"
   ]
  },
  {
   "cell_type": "markdown",
   "id": "dbcda85e",
   "metadata": {},
   "source": [
    "The append() and insert() methods are both used to add elements to a list, but they differ in how they add the elements.\n",
    "\n",
    "The append() method adds an element to the end of the list. It takes a single argument, which is the element to be added."
   ]
  },
  {
   "cell_type": "markdown",
   "id": "3790cdc4",
   "metadata": {},
   "source": [
    "On the other hand, the insert() method adds an element to a specific position in the list. It takes two arguments: the index of the position where the element is to be inserted, and the element to be inserted.\n",
    "\n",
    " the main difference between append() and insert() is that append() adds elements to the end of the list, while insert() can be used to add elements to any position in the list."
   ]
  },
  {
   "cell_type": "markdown",
   "id": "6dd95027",
   "metadata": {},
   "source": [
    "# Ques 11:\n"
   ]
  },
  {
   "cell_type": "markdown",
   "id": "53d68d71",
   "metadata": {},
   "source": [
    "What are the two methods for removing items from a list?"
   ]
  },
  {
   "cell_type": "markdown",
   "id": "ed1ddc80",
   "metadata": {},
   "source": [
    "There are two methods for removing items from a list in Python: remove() and pop().\n",
    "\n",
    "1. The remove() method is used to remove the first occurrence of a given element in a list. It takes a single argument, which is the element to be removed.\n",
    "2. The pop() method is used to remove an element from a specific position in the list and return its value. It takes an optional argument, which is the index of the position to be removed. If no argument is specified, it removes and returns the last element of the list. "
   ]
  },
  {
   "cell_type": "markdown",
   "id": "31de9ff2",
   "metadata": {},
   "source": [
    "# Ques 12:\n"
   ]
  },
  {
   "cell_type": "markdown",
   "id": "beff5c8c",
   "metadata": {},
   "source": [
    "Describe how list values and string values are identical."
   ]
  },
  {
   "cell_type": "markdown",
   "id": "ecee2622",
   "metadata": {},
   "source": [
    "List values and string values are similar in that they are both sequences of values. However, there are some differences between them:\n",
    "\n",
    "1. List values can hold values of any data type, including other lists, while strings can only hold characters.\n",
    "2. List values are mutable, meaning that their elements can be changed, added, or removed. String values, on the other hand, are immutable, meaning that once a string is created, its characters cannot be changed.\n",
    "3. Both lists and strings can be indexed and sliced. Indexing a list or string returns the value at the specified position, while slicing returns a portion of the sequence as a new sequence.\n",
    "4. Lists and strings can be iterated over using a for loop or other iteration methods.\n",
    "5. Both lists and strings have various built-in methods for manipulating and processing their contents, such as sorting, searching, and counting."
   ]
  },
  {
   "cell_type": "markdown",
   "id": "c1fd4336",
   "metadata": {},
   "source": [
    "# Ques 13:\n"
   ]
  },
  {
   "cell_type": "markdown",
   "id": "af519bbc",
   "metadata": {},
   "source": [
    "What's the difference between tuples and lists?"
   ]
  },
  {
   "cell_type": "markdown",
   "id": "7cacf6ae",
   "metadata": {},
   "source": [
    "The main differences between tuples and lists in Python are:\n",
    "\n",
    "1. Mutability: Tuples are immutable, meaning their elements cannot be changed after they are created. Lists, on the other hand, are mutable and can be changed after they are created.\n",
    "2. Syntax: Tuples are defined using parentheses (), while lists are defined using square brackets [].\n",
    "3. Usage: Tuples are typically used to hold a collection of related values that are not going to be modified, such as a point in space (x, y, z). Lists are used to hold collections of values that may be modified, such as a list of names or a queue of tasks.\n",
    "4. Performance: Tuples are generally more efficient than lists in terms of memory and speed, especially for small collections of values.\n",
    "In summary, tuples are immutable and defined with parentheses, while lists are mutable and defined with square brackets. Tuples are generally used for small collections of related values that will not change, while lists are used for larger collections of values that may change over time."
   ]
  },
  {
   "cell_type": "markdown",
   "id": "5f3918b9",
   "metadata": {},
   "source": [
    "# Ques 14:\n"
   ]
  },
  {
   "cell_type": "markdown",
   "id": "8e4017fd",
   "metadata": {},
   "source": [
    "How do you type a tuple value that only contains the integer 42?"
   ]
  },
  {
   "cell_type": "markdown",
   "id": "158f6b2e",
   "metadata": {},
   "source": [
    "To create a tuple value that only contains the integer 42, you can use the following syntax"
   ]
  },
  {
   "cell_type": "code",
   "execution_count": 3,
   "id": "6d3f7a59",
   "metadata": {},
   "outputs": [],
   "source": [
    "tuple1 = (42,)\n"
   ]
  },
  {
   "cell_type": "markdown",
   "id": "aa8df788",
   "metadata": {},
   "source": [
    "# Ques 15:\n"
   ]
  },
  {
   "cell_type": "markdown",
   "id": "7ce60fad",
   "metadata": {},
   "source": [
    "How do you get a list value's tuple form? How do you get a tuple value's list form?\n"
   ]
  },
  {
   "cell_type": "markdown",
   "id": "473706fe",
   "metadata": {},
   "source": [
    "To get a list value's tuple form, we can use the tuple() function, passing the list as an argument."
   ]
  },
  {
   "cell_type": "code",
   "execution_count": 4,
   "id": "c00a0948",
   "metadata": {},
   "outputs": [
    {
     "name": "stdout",
     "output_type": "stream",
     "text": [
      "(1, 2, 3)\n"
     ]
    }
   ],
   "source": [
    "my_list = [1, 2, 3]\n",
    "my_tuple = tuple(my_list)\n",
    "print(my_tuple)\n"
   ]
  },
  {
   "cell_type": "markdown",
   "id": "f88dca36",
   "metadata": {},
   "source": [
    "To get a tuple value's list form, we can use the list() function, passing the tuple as an argument."
   ]
  },
  {
   "cell_type": "code",
   "execution_count": 5,
   "id": "1c6f8154",
   "metadata": {},
   "outputs": [
    {
     "name": "stdout",
     "output_type": "stream",
     "text": [
      "[1, 2, 3]\n"
     ]
    }
   ],
   "source": [
    "my_tuple = (1, 2, 3)\n",
    "my_list = list(my_tuple)\n",
    "print(my_list)\n"
   ]
  },
  {
   "cell_type": "markdown",
   "id": "f1a06f54",
   "metadata": {},
   "source": [
    "# Ques 16:\n"
   ]
  },
  {
   "cell_type": "markdown",
   "id": "fb544873",
   "metadata": {},
   "source": [
    "Variables that \"contain\" list values are not necessarily lists themselves. Instead, what do they\n",
    "contain?"
   ]
  },
  {
   "cell_type": "markdown",
   "id": "b14ac555",
   "metadata": {},
   "source": [
    "Variables that \"contain\" list values actually contain a reference to a list object in memory. This means that the variable points to the location in memory where the list is stored, rather than containing the list directly. When the variable is used, the interpreter retrieves the reference and accesses the list object stored in memory. This is why variables can be assigned to different lists or modified to refer to a different list, without copying the entire list each time."
   ]
  },
  {
   "cell_type": "markdown",
   "id": "2613e56c",
   "metadata": {},
   "source": [
    "# Ques 17:\n"
   ]
  },
  {
   "cell_type": "markdown",
   "id": "5c9ba0e3",
   "metadata": {},
   "source": [
    "How do you distinguish between copy.copy() and copy.deepcopy()?"
   ]
  },
  {
   "cell_type": "markdown",
   "id": "38d9f8c9",
   "metadata": {},
   "source": [
    " 'copy.copy()' and copy.deepcopy() are two methods from the copy module that are used to create copies of mutable objects, such as lists, dictionaries, and custom objects. The key difference between the two methods is how they handle nested objects, such as lists or dictionaries within the original object:\n",
    "\n",
    "1. 'copy.copy()' creates a shallow copy of an object, which means that it creates a new object and copies the references to the nested objects in the original object. If the nested objects are mutable, changes to them will affect both the original and copied objects.\n",
    "\n",
    "2. 'copy.deepcopy()' creates a deep copy of an object, which means that it creates a new object and recursively copies all nested objects as well. This means that changes to the nested objects will not affect the original object or the copied object."
   ]
  },
  {
   "cell_type": "code",
   "execution_count": null,
   "id": "9b9c3472",
   "metadata": {},
   "outputs": [],
   "source": []
  }
 ],
 "metadata": {
  "kernelspec": {
   "display_name": "Python 3 (ipykernel)",
   "language": "python",
   "name": "python3"
  },
  "language_info": {
   "codemirror_mode": {
    "name": "ipython",
    "version": 3
   },
   "file_extension": ".py",
   "mimetype": "text/x-python",
   "name": "python",
   "nbconvert_exporter": "python",
   "pygments_lexer": "ipython3",
   "version": "3.9.13"
  }
 },
 "nbformat": 4,
 "nbformat_minor": 5
}
