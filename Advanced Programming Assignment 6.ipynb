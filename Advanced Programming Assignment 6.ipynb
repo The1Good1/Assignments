{
 "cells": [
  {
   "cell_type": "code",
   "execution_count": 6,
   "id": "71328a09",
   "metadata": {},
   "outputs": [],
   "source": [
    "# Ques 1\n",
    "\n",
    "def find_the_difference(s, t):\n",
    "    diff = 0\n",
    "    for char in s:\n",
    "        diff ^= ord(char)\n",
    "    for char in t:\n",
    "        diff ^= ord(char)\n",
    "    return chr(diff)\n"
   ]
  },
  {
   "cell_type": "code",
   "execution_count": 7,
   "id": "7b41e54b",
   "metadata": {},
   "outputs": [],
   "source": [
    "# Ques 2\n",
    "\n",
    "def count_datatypes(*args):\n",
    "    count = [0, 0, 0, 0, 0, 0]\n",
    "    for arg in args:\n",
    "        if isinstance(arg, int):\n",
    "            count[0] += 1\n",
    "        elif isinstance(arg, str):\n",
    "            count[1] += 1\n",
    "        elif isinstance(arg, bool):\n",
    "            count[2] += 1\n",
    "        elif isinstance(arg, list):\n",
    "            count[3] += 1\n",
    "        elif isinstance(arg, tuple):\n",
    "            count[4] += 1\n",
    "        elif isinstance(arg, dict):\n",
    "            count[5] += 1\n",
    "    return count\n"
   ]
  },
  {
   "cell_type": "code",
   "execution_count": 8,
   "id": "b406cc99",
   "metadata": {},
   "outputs": [],
   "source": [
    "# Ques 3\n",
    "\n",
    "def fib_str(n, chars):\n",
    "    sequence = []\n",
    "    for i in range(n):\n",
    "        if i < 2:\n",
    "            sequence.append(chars[i])\n",
    "        else:\n",
    "            sequence.append(sequence[-1] + sequence[-2])\n",
    "    return ', '.join(sequence)\n",
    "\n"
   ]
  },
  {
   "cell_type": "code",
   "execution_count": 9,
   "id": "129a0cab",
   "metadata": {},
   "outputs": [],
   "source": [
    "# Ques 4\n",
    "\n",
    "def ones_threes_nines(num):\n",
    "    nines = num // 9\n",
    "    num %= 9\n",
    "    threes = num // 3\n",
    "    num %= 3\n",
    "    ones = num\n",
    "    return f\"nines:{nines}, threes:{threes}, ones:{ones}\"\n",
    "\n"
   ]
  },
  {
   "cell_type": "code",
   "execution_count": 10,
   "id": "20b183cf",
   "metadata": {},
   "outputs": [],
   "source": [
    "# Ques 5\n",
    "\n",
    "def fib(n):\n",
    "    if n == 0:\n",
    "        return 0\n",
    "    elif n == 1:\n",
    "        return 1\n",
    "\n",
    "    prev, curr = 0, 1\n",
    "    for _ in range(2, n + 1):\n",
    "        prev, curr = curr, prev + curr\n",
    "    return curr\n",
    "\n",
    "\n"
   ]
  },
  {
   "cell_type": "code",
   "execution_count": null,
   "id": "cc6ed03b",
   "metadata": {},
   "outputs": [],
   "source": []
  },
  {
   "cell_type": "code",
   "execution_count": null,
   "id": "8ced5790",
   "metadata": {},
   "outputs": [],
   "source": []
  }
 ],
 "metadata": {
  "kernelspec": {
   "display_name": "Python 3 (ipykernel)",
   "language": "python",
   "name": "python3"
  },
  "language_info": {
   "codemirror_mode": {
    "name": "ipython",
    "version": 3
   },
   "file_extension": ".py",
   "mimetype": "text/x-python",
   "name": "python",
   "nbconvert_exporter": "python",
   "pygments_lexer": "ipython3",
   "version": "3.9.13"
  }
 },
 "nbformat": 4,
 "nbformat_minor": 5
}
