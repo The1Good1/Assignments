{
 "cells": [
  {
   "cell_type": "markdown",
   "id": "b4d6f711",
   "metadata": {},
   "source": [
    "# Ques 1\n",
    "\n",
    "1. Write a Python Program to Find LCM?\n"
   ]
  },
  {
   "cell_type": "code",
   "execution_count": 23,
   "id": "445e84d6",
   "metadata": {},
   "outputs": [
    {
     "name": "stdout",
     "output_type": "stream",
     "text": [
      "Enter first number: 67\n",
      "Enter second number: 45\n",
      "LCM of 67 and 45 is 3015\n"
     ]
    }
   ],
   "source": [
    "def calculate_lcm(a, b):\n",
    "    # Find the maximum of the two numbers\n",
    "    if a > b:\n",
    "        greater = a\n",
    "    else:\n",
    "        greater = b\n",
    "\n",
    "    while True:\n",
    "        if greater % a == 0 and greater % b == 0:\n",
    "            lcm = greater\n",
    "            break\n",
    "        greater += 1\n",
    "\n",
    "    return lcm\n",
    "\n",
    "num1 = int(input(\"Enter first number: \"))\n",
    "num2 = int(input(\"Enter second number: \"))\n",
    "\n",
    "lcm = calculate_lcm(num1, num2)\n",
    "print(\"LCM of\", num1, \"and\", num2, \"is\", lcm)\n"
   ]
  },
  {
   "cell_type": "markdown",
   "id": "c3707037",
   "metadata": {},
   "source": [
    "# Ques 2\n",
    "\n",
    "2. Write a Python Program to Find HCF?\n"
   ]
  },
  {
   "cell_type": "code",
   "execution_count": 24,
   "id": "b61a7d28",
   "metadata": {},
   "outputs": [
    {
     "name": "stdout",
     "output_type": "stream",
     "text": [
      "Enter first number: 22\n",
      "Enter second number: 11\n",
      "HCF of 22 and 11 is 11\n"
     ]
    }
   ],
   "source": [
    "def calculate_hcf(a, b):\n",
    "    while b != 0:\n",
    "        temp = b\n",
    "        b = a % b\n",
    "        a = temp\n",
    "    return a\n",
    "\n",
    "num1 = int(input(\"Enter first number: \"))\n",
    "num2 = int(input(\"Enter second number: \"))\n",
    "\n",
    "hcf = calculate_hcf(num1, num2)\n",
    "print(\"HCF of\", num1, \"and\", num2, \"is\", hcf)\n"
   ]
  },
  {
   "cell_type": "markdown",
   "id": "1c798b19",
   "metadata": {},
   "source": [
    "# Ques 3\n",
    "\n",
    "3. Write a Python Program to Convert Decimal to Binary, Octal and Hexadecimal?"
   ]
  },
  {
   "cell_type": "code",
   "execution_count": 28,
   "id": "6c560cad",
   "metadata": {},
   "outputs": [
    {
     "name": "stdout",
     "output_type": "stream",
     "text": [
      "Enter a decimal number: 24\n",
      "Binary: 11000\n",
      "Octal: 30\n",
      "Hexadecimal: 18\n"
     ]
    }
   ],
   "source": [
    "decimal = int(input(\"Enter a decimal number: \"))\n",
    "\n",
    "# Convert decimal to binary\n",
    "binary = \"\"\n",
    "temp = decimal\n",
    "\n",
    "while temp > 0:\n",
    "    binary = str(temp % 2) + binary\n",
    "    temp //= 2\n",
    "\n",
    "# Convert decimal to octal\n",
    "octal = \"\"\n",
    "temp = decimal\n",
    "\n",
    "while temp > 0:\n",
    "    octal = str(temp % 8) + octal\n",
    "    temp //= 8\n",
    "\n",
    "# Convert decimal to hexadecimal\n",
    "hexadecimal = \"\"\n",
    "temp = decimal\n",
    "\n",
    "while temp > 0:\n",
    "    remainder = temp % 16\n",
    "    if remainder < 10:\n",
    "        hexadecimal = str(remainder) + hexadecimal\n",
    "    else:\n",
    "        hexadecimal = chr(remainder + 55) + hexadecimal\n",
    "    temp //= 16\n",
    "\n",
    "print(\"Binary:\", binary)\n",
    "print(\"Octal:\", octal)\n",
    "print(\"Hexadecimal:\", hexadecimal)\n"
   ]
  },
  {
   "cell_type": "markdown",
   "id": "476d2677",
   "metadata": {},
   "source": [
    "# Ques 4\n",
    "\n",
    "\n",
    "4. Write a Python Program To Find ASCII value of a character?"
   ]
  },
  {
   "cell_type": "code",
   "execution_count": 29,
   "id": "d79ce02f",
   "metadata": {},
   "outputs": [
    {
     "name": "stdout",
     "output_type": "stream",
     "text": [
      "Enter a character: r\n",
      "ASCII value of r is 114\n"
     ]
    }
   ],
   "source": [
    "char = input(\"Enter a character: \")\n",
    "\n",
    "ascii_value = ord(char)\n",
    "\n",
    "print(\"ASCII value of\", char, \"is\", ascii_value)\n"
   ]
  },
  {
   "cell_type": "markdown",
   "id": "6874390b",
   "metadata": {},
   "source": [
    "# Ques 5\n",
    "\n",
    "\n",
    "\n",
    "5. Write a Python Program to Make a Simple Calculator with 4 basic mathematical operations?"
   ]
  },
  {
   "cell_type": "code",
   "execution_count": 30,
   "id": "b2735302",
   "metadata": {},
   "outputs": [
    {
     "name": "stdout",
     "output_type": "stream",
     "text": [
      "Enter first number: 23\n",
      "Enter operator (+, -, *, /): +\n",
      "Enter second number: 34\n",
      "Result: 57.0\n"
     ]
    }
   ],
   "source": [
    "num1 = float(input(\"Enter first number: \"))\n",
    "operator = input(\"Enter operator (+, -, *, /): \")\n",
    "num2 = float(input(\"Enter second number: \"))\n",
    "\n",
    "result = None\n",
    "\n",
    "if operator == \"+\":\n",
    "    result = num1 + num2\n",
    "elif operator == \"-\":\n",
    "    result = num1 - num2\n",
    "elif operator == \"*\":\n",
    "    result = num1 * num2\n",
    "elif operator == \"/\":\n",
    "    result = num1 / num2\n",
    "else:\n",
    "    print(\"Invalid operator\")\n",
    "\n",
    "if result is not None:\n",
    "    print(\"Result:\", result)\n"
   ]
  },
  {
   "cell_type": "code",
   "execution_count": null,
   "id": "43ed0c50",
   "metadata": {},
   "outputs": [],
   "source": []
  }
 ],
 "metadata": {
  "kernelspec": {
   "display_name": "Python 3 (ipykernel)",
   "language": "python",
   "name": "python3"
  },
  "language_info": {
   "codemirror_mode": {
    "name": "ipython",
    "version": 3
   },
   "file_extension": ".py",
   "mimetype": "text/x-python",
   "name": "python",
   "nbconvert_exporter": "python",
   "pygments_lexer": "ipython3",
   "version": "3.9.13"
  }
 },
 "nbformat": 4,
 "nbformat_minor": 5
}
