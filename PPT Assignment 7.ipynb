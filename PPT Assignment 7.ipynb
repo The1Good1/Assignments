{
 "cells": [
  {
   "cell_type": "markdown",
   "id": "82b7685a",
   "metadata": {},
   "source": [
    "# Ques1:"
   ]
  },
  {
   "cell_type": "code",
   "execution_count": null,
   "id": "5c5c1531",
   "metadata": {},
   "outputs": [],
   "source": [
    "def isIsomorphic(s, t):\n",
    "    s_to_t = {}\n",
    "    t_to_s = {}\n",
    "\n",
    "    for ch_s, ch_t in zip(s, t):\n",
    "        if ch_s not in s_to_t and ch_t not in t_to_s:\n",
    "            s_to_t[ch_s] = ch_t\n",
    "            t_to_s[ch_t] = ch_s\n",
    "        elif s_to_t.get(ch_s) != ch_t or t_to_s.get(ch_t) != ch_s:\n",
    "            return False\n",
    "\n",
    "    return True\n"
   ]
  },
  {
   "cell_type": "markdown",
   "id": "1e3047b9",
   "metadata": {},
   "source": [
    "# Ques 2:"
   ]
  },
  {
   "cell_type": "code",
   "execution_count": null,
   "id": "8f51df38",
   "metadata": {},
   "outputs": [],
   "source": [
    "def isStrobogra(num):\n",
    "    strobogrammatic_pairs = {'0': '0', '1': '1', '6': '9', '8': '8', '9': '6'}\n",
    "    left, right = 0, len(num) - 1\n",
    "\n",
    "    while left <= right:\n",
    "        if num[left] not in strobogr_pairs or num[right] != strobogra_pairs[num[left]]:\n",
    "            return False\n",
    "        left += 1\n",
    "        right -= 1\n",
    "\n",
    "    return True\n"
   ]
  },
  {
   "cell_type": "markdown",
   "id": "2f7c076c",
   "metadata": {},
   "source": [
    "# Ques 3:"
   ]
  },
  {
   "cell_type": "code",
   "execution_count": null,
   "id": "71892fce",
   "metadata": {},
   "outputs": [],
   "source": [
    "def addStrings(num1, num2):\n",
    "    i, j = len(num1) - 1, len(num2) - 1\n",
    "    carry = 0\n",
    "    result = \"\"\n",
    "\n",
    "    while i >= 0 or j >= 0 or carry != 0:\n",
    "        digit1 = int(num1[i]) if i >= 0 else 0\n",
    "        digit2 = int(num2[j]) if j >= 0 else 0\n",
    "        digit_sum = digit1 + digit2 + carry\n",
    "\n",
    "        carry = digit_sum // 10\n",
    "        digit = digit_sum % 10\n",
    "\n",
    "        result += str(digit)\n",
    "\n",
    "        i -= 1\n",
    "        j -= 1\n",
    "\n",
    "    return result[::-1]\n"
   ]
  },
  {
   "cell_type": "markdown",
   "id": "fde9d5cc",
   "metadata": {},
   "source": [
    "# Ques 4:"
   ]
  },
  {
   "cell_type": "code",
   "execution_count": null,
   "id": "90f0a89b",
   "metadata": {},
   "outputs": [],
   "source": [
    "def reverseWords(s):\n",
    "    words = s.split()\n",
    "    reversed_words = [word[::-1] for word in words]\n",
    "    return ' '.join(reversed_words)\n"
   ]
  },
  {
   "cell_type": "markdown",
   "id": "64e479ff",
   "metadata": {},
   "source": [
    "# Ques 5:"
   ]
  },
  {
   "cell_type": "code",
   "execution_count": null,
   "id": "d0ef3e91",
   "metadata": {},
   "outputs": [],
   "source": [
    "def reverseStr(s, k):\n",
    "    result = \"\"\n",
    "    for i in range(0, len(s), 2 * k):\n",
    "        result += s[i:i+k][::-1] + s[i+k:i+2*k]\n",
    "    return result\n"
   ]
  },
  {
   "cell_type": "markdown",
   "id": "d86ba32f",
   "metadata": {},
   "source": [
    "# Ques 6:"
   ]
  },
  {
   "cell_type": "markdown",
   "id": "debc92c8",
   "metadata": {},
   "source": [
    "def rotateString(s, goal):\n",
    "    if len(s) != len(goal):\n",
    "        return False\n",
    "    return goal in s + s\n"
   ]
  },
  {
   "cell_type": "markdown",
   "id": "cecbab57",
   "metadata": {},
   "source": [
    "# Ques 7:"
   ]
  },
  {
   "cell_type": "code",
   "execution_count": null,
   "id": "05675c7b",
   "metadata": {},
   "outputs": [],
   "source": [
    "def buildString(s):\n",
    "    result = []\n",
    "    for char in s:\n",
    "        if char != '#':\n",
    "            result.append(char)\n",
    "        elif result:\n",
    "            result.pop()\n",
    "    return ''.join(result)\n",
    "\n",
    "def backspaceCompare(s, t):\n",
    "    return buildString(s) == buildString(t)\n"
   ]
  },
  {
   "cell_type": "markdown",
   "id": "89ad3dd1",
   "metadata": {},
   "source": [
    "# Ques 8:"
   ]
  },
  {
   "cell_type": "code",
   "execution_count": null,
   "id": "d85a05a1",
   "metadata": {},
   "outputs": [],
   "source": [
    "def checkStraightLine(coordinates):\n",
    "    # Calculate the slope between the first two points\n",
    "    x0, y0 = coordinates[0]\n",
    "    x1, y1 = coordinates[1]\n",
    "    initial_slope = (y1 - y0) / (x1 - x0)\n",
    "    \n",
    "    # Check the slope between each consecutive pair of points\n",
    "    for i in range(2, len(coordinates)):\n",
    "        x0, y0 = coordinates[i-1]\n",
    "        x1, y1 = coordinates[i]\n",
    "        slope = (y1 - y0) / (x1 - x0)\n",
    "        \n",
    "        # If the current slope is not equal to the initial slope, return False\n",
    "        if slope != initial_slope:\n",
    "            return False\n",
    "    \n",
    "    # All slopes are equal, return True\n",
    "    return True\n",
    "\n",
    "# Test the function\n",
    "coordinates = [[1,2],[2,3],[3,4],[4,5],[5,6],[6,7]]\n",
    "print(checkStraightLine(coordinates))\n"
   ]
  }
 ],
 "metadata": {
  "kernelspec": {
   "display_name": "Python 3 (ipykernel)",
   "language": "python",
   "name": "python3"
  },
  "language_info": {
   "codemirror_mode": {
    "name": "ipython",
    "version": 3
   },
   "file_extension": ".py",
   "mimetype": "text/x-python",
   "name": "python",
   "nbconvert_exporter": "python",
   "pygments_lexer": "ipython3",
   "version": "3.9.13"
  }
 },
 "nbformat": 4,
 "nbformat_minor": 5
}
