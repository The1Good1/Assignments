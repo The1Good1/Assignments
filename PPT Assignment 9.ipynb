{
 "cells": [
  {
   "cell_type": "markdown",
   "id": "82b7685a",
   "metadata": {},
   "source": [
    "# Ques1:"
   ]
  },
  {
   "cell_type": "code",
   "execution_count": null,
   "id": "5c5c1531",
   "metadata": {},
   "outputs": [],
   "source": [
    "def isPowerOfTwo(n):\n",
    "    if n <= 0:\n",
    "        return False\n",
    "\n",
    "    while n > 1:\n",
    "        if n % 2 != 0:\n",
    "            return False\n",
    "        n //= 2\n",
    "\n",
    "    return True\n",
    "\n"
   ]
  },
  {
   "cell_type": "markdown",
   "id": "1e3047b9",
   "metadata": {},
   "source": [
    "# Ques 2:"
   ]
  },
  {
   "cell_type": "code",
   "execution_count": null,
   "id": "8f51df38",
   "metadata": {},
   "outputs": [],
   "source": [
    "def sumOfNaturalNumbers(n):\n",
    "    return (n * (n + 1)) // 2\n",
    "\n"
   ]
  },
  {
   "cell_type": "markdown",
   "id": "2f7c076c",
   "metadata": {},
   "source": [
    "# Ques 3:"
   ]
  },
  {
   "cell_type": "code",
   "execution_count": null,
   "id": "71892fce",
   "metadata": {},
   "outputs": [],
   "source": [
    "def factorial(N):\n",
    "    result = 1\n",
    "    for i in range(1, N + 1):\n",
    "        result *= i\n",
    "    return result\n",
    "\n"
   ]
  },
  {
   "cell_type": "markdown",
   "id": "fde9d5cc",
   "metadata": {},
   "source": [
    "# Ques 4:"
   ]
  },
  {
   "cell_type": "code",
   "execution_count": null,
   "id": "90f0a89b",
   "metadata": {},
   "outputs": [],
   "source": [
    "def exponent(N, P):\n",
    "    result = N ** P\n",
    "    return result\n",
    "\n"
   ]
  },
  {
   "cell_type": "markdown",
   "id": "64e479ff",
   "metadata": {},
   "source": [
    "# Ques 5:"
   ]
  },
  {
   "cell_type": "code",
   "execution_count": null,
   "id": "d0ef3e91",
   "metadata": {},
   "outputs": [],
   "source": [
    "def find_max(arr, n):\n",
    "    # Base case: If the array contains only one element, return that element\n",
    "    if n == 1:\n",
    "        return arr[0]\n",
    "\n",
    "    # Recursive case: Compare the first element with the maximum element of the remaining subarray\n",
    "    return max(arr[n-1], find_max(arr, n-1))\n",
    "\n"
   ]
  },
  {
   "cell_type": "markdown",
   "id": "d86ba32f",
   "metadata": {},
   "source": [
    "# Ques 6:"
   ]
  },
  {
   "cell_type": "code",
   "execution_count": null,
   "id": "ec6465e3",
   "metadata": {},
   "outputs": [],
   "source": [
    "def find_nth_term(a, d, N):\n",
    "    return a + (N - 1) * d\n",
    "\n"
   ]
  },
  {
   "cell_type": "markdown",
   "id": "cecbab57",
   "metadata": {},
   "source": [
    "# Ques 7:"
   ]
  },
  {
   "cell_type": "code",
   "execution_count": null,
   "id": "05675c7b",
   "metadata": {},
   "outputs": [],
   "source": [
    "ddef permute(s):\n",
    "    # Convert the string to a list to make it mutable\n",
    "    s_list = list(s)\n",
    "    # Store the result permutations\n",
    "    permutations = []\n",
    "    # Perform backtracking to generate permutations\n",
    "    backtrack(s_list, 0, len(s), permutations)\n",
    "    # Return the result\n",
    "    return permutations\n",
    "\n",
    "def backtrack(s_list, start, end, permutations):\n",
    "    # Base case: If we have reached the end of the string, add the current permutation to the result\n",
    "    if start == end:\n",
    "        permutations.append(''.join(s_list))\n",
    "        return\n",
    "    # Recursive case: Iterate through all characters from the start index and swap them with the start index\n",
    "    for i in range(start, end):\n",
    "        # Swap the characters\n",
    "        s_list[start], s_list[i] = s_list[i], s_list[start]\n",
    "        # Recursively generate permutations with the next character fixed\n",
    "        backtrack(s_list, start + 1, end, permutations)\n",
    "        # Undo the swap to restore the original order\n",
    "        s_list[start], s_list[i] = s_list[i], s_list[start]\n",
    "\n"
   ]
  },
  {
   "cell_type": "markdown",
   "id": "89ad3dd1",
   "metadata": {},
   "source": [
    "# Ques 8:"
   ]
  },
  {
   "cell_type": "code",
   "execution_count": null,
   "id": "b152c28d",
   "metadata": {},
   "outputs": [],
   "source": [
    "def arrayProduct(arr):\n",
    "    product = 1\n",
    "    for num in arr:\n",
    "        product *= num\n",
    "    return product\n",
    "\n"
   ]
  }
 ],
 "metadata": {
  "kernelspec": {
   "display_name": "Python 3 (ipykernel)",
   "language": "python",
   "name": "python3"
  },
  "language_info": {
   "codemirror_mode": {
    "name": "ipython",
    "version": 3
   },
   "file_extension": ".py",
   "mimetype": "text/x-python",
   "name": "python",
   "nbconvert_exporter": "python",
   "pygments_lexer": "ipython3",
   "version": "3.9.13"
  }
 },
 "nbformat": 4,
 "nbformat_minor": 5
}
