{
 "cells": [
  {
   "cell_type": "markdown",
   "id": "c1ce1b0d",
   "metadata": {},
   "source": [
    "# Ques 1\n",
    "\n",
    "1. Write a Python Program to Add Two Matrices?\n"
   ]
  },
  {
   "cell_type": "code",
   "execution_count": 33,
   "id": "1bf96d98",
   "metadata": {},
   "outputs": [
    {
     "name": "stdout",
     "output_type": "stream",
     "text": [
      "[10, 10, 10]\n",
      "[10, 10, 10]\n",
      "[10, 10, 10]\n"
     ]
    }
   ],
   "source": [
    "# Function to add two matrices\n",
    "def add_matrices(matrix1, matrix2):\n",
    "    rows = len(matrix1)\n",
    "    columns = len(matrix1[0])\n",
    "    result = [[0] * columns for _ in range(rows)]  # Create a matrix to store the result\n",
    "\n",
    "    for i in range(rows):\n",
    "        for j in range(columns):\n",
    "            result[i][j] = matrix1[i][j] + matrix2[i][j]\n",
    "\n",
    "    return result\n",
    "\n",
    "# Input matrices\n",
    "matrix1 = [[1, 2, 3], [4, 5, 6], [7, 8, 9]]\n",
    "matrix2 = [[9, 8, 7], [6, 5, 4], [3, 2, 1]]\n",
    "\n",
    "# Call the function to add the matrices\n",
    "sum_matrix = add_matrices(matrix1, matrix2)\n",
    "\n",
    "# Print the sum matrix\n",
    "for row in sum_matrix:\n",
    "    print(row)\n"
   ]
  },
  {
   "cell_type": "markdown",
   "id": "e93359e0",
   "metadata": {},
   "source": [
    "# Ques 2\n",
    "\n",
    "2. Write a Python Program to Multiply Two Matrices?\n"
   ]
  },
  {
   "cell_type": "code",
   "execution_count": 34,
   "id": "e0095635",
   "metadata": {},
   "outputs": [
    {
     "name": "stdout",
     "output_type": "stream",
     "text": [
      "[27, 30, 33]\n",
      "[61, 68, 75]\n",
      "[95, 106, 117]\n"
     ]
    }
   ],
   "source": [
    "# Function to multiply two matrices\n",
    "def multiply_matrices(matrix1, matrix2):\n",
    "    rows1 = len(matrix1)\n",
    "    columns1 = len(matrix1[0])\n",
    "    columns2 = len(matrix2[0])\n",
    "    result = [[0] * columns2 for _ in range(rows1)]  # Create a matrix to store the result\n",
    "\n",
    "    for i in range(rows1):\n",
    "        for j in range(columns2):\n",
    "            for k in range(columns1):\n",
    "                result[i][j] += matrix1[i][k] * matrix2[k][j]\n",
    "\n",
    "    return result\n",
    "\n",
    "# Input matrices\n",
    "matrix1 = [[1, 2], [3, 4], [5, 6]]\n",
    "matrix2 = [[7, 8, 9], [10, 11, 12]]\n",
    "\n",
    "# Call the function to multiply the matrices\n",
    "product_matrix = multiply_matrices(matrix1, matrix2)\n",
    "\n",
    "# Print the product matrix\n",
    "for row in product_matrix:\n",
    "    print(row)\n"
   ]
  },
  {
   "cell_type": "markdown",
   "id": "f897edfc",
   "metadata": {},
   "source": [
    "# Ques 3\n",
    "\n",
    "3. Write a Python Program to Transpose a Matrix?\n"
   ]
  },
  {
   "cell_type": "code",
   "execution_count": 35,
   "id": "9ccee273",
   "metadata": {},
   "outputs": [
    {
     "name": "stdout",
     "output_type": "stream",
     "text": [
      "[1, 4, 7]\n",
      "[2, 5, 8]\n",
      "[3, 6, 9]\n"
     ]
    }
   ],
   "source": [
    "# Function to transpose a matrix\n",
    "def transpose_matrix(matrix):\n",
    "    rows = len(matrix)\n",
    "    columns = len(matrix[0])\n",
    "    result = [[0] * rows for _ in range(columns)]  # Create a matrix to store the result\n",
    "\n",
    "    for i in range(rows):\n",
    "        for j in range(columns):\n",
    "            result[j][i] = matrix[i][j]\n",
    "\n",
    "    return result\n",
    "\n",
    "# Input matrix\n",
    "matrix = [[1, 2, 3], [4, 5, 6], [7, 8, 9]]\n",
    "\n",
    "# Call the function to transpose the matrix\n",
    "transposed_matrix = transpose_matrix(matrix)\n",
    "\n",
    "# Print the transposed matrix\n",
    "for row in transposed_matrix:\n",
    "    print(row)\n"
   ]
  },
  {
   "cell_type": "markdown",
   "id": "c4782afb",
   "metadata": {},
   "source": [
    "# Ques 4\n",
    "\n",
    "\n",
    "4. Write a Python Program to Sort Words in Alphabetic Order?\n"
   ]
  },
  {
   "cell_type": "code",
   "execution_count": 36,
   "id": "7a47a73a",
   "metadata": {},
   "outputs": [
    {
     "name": "stdout",
     "output_type": "stream",
     "text": [
      "Enter a sentence: Python Programming Example\n",
      "Sorted words: ['Example', 'Programming', 'Python']\n"
     ]
    }
   ],
   "source": [
    "# Function to sort words in alphabetical order\n",
    "def sort_words(words):\n",
    "    words.sort()\n",
    "    return words\n",
    "\n",
    "# Input string of words\n",
    "sentence = input(\"Enter a sentence: \")\n",
    "\n",
    "# Split the sentence into words\n",
    "words = sentence.split()\n",
    "\n",
    "# Call the function to sort the words\n",
    "sorted_words = sort_words(words)\n",
    "\n",
    "# Print the sorted words\n",
    "print(\"Sorted words:\", sorted_words)\n"
   ]
  },
  {
   "cell_type": "markdown",
   "id": "94d8a268",
   "metadata": {},
   "source": [
    "# Ques 5\n",
    "\n",
    "5. Write a Python Program to Remove Punctuation From a String?\n"
   ]
  },
  {
   "cell_type": "code",
   "execution_count": 37,
   "id": "242a4bcc",
   "metadata": {},
   "outputs": [
    {
     "name": "stdout",
     "output_type": "stream",
     "text": [
      "Enter a string with punctuation: Hello World\n",
      "String without punctuation: Hello World\n"
     ]
    }
   ],
   "source": [
    "import string\n",
    "\n",
    "# Function to remove punctuation from a string\n",
    "def remove_punctuation(text):\n",
    "    translator = str.maketrans(\"\", \"\", string.punctuation)\n",
    "    return text.translate(translator)\n",
    "\n",
    "# Input string with punctuation\n",
    "text = input(\"Enter a string with punctuation: \")\n",
    "\n",
    "# Call the function to remove punctuation\n",
    "text_without_punctuation = remove_punctuation(text)\n",
    "\n",
    "# Print the string without punctuation\n",
    "print(\"String without punctuation:\", text_without_punctuation)\n"
   ]
  },
  {
   "cell_type": "code",
   "execution_count": null,
   "id": "fb5c790a",
   "metadata": {},
   "outputs": [],
   "source": []
  }
 ],
 "metadata": {
  "kernelspec": {
   "display_name": "Python 3 (ipykernel)",
   "language": "python",
   "name": "python3"
  },
  "language_info": {
   "codemirror_mode": {
    "name": "ipython",
    "version": 3
   },
   "file_extension": ".py",
   "mimetype": "text/x-python",
   "name": "python",
   "nbconvert_exporter": "python",
   "pygments_lexer": "ipython3",
   "version": "3.9.13"
  }
 },
 "nbformat": 4,
 "nbformat_minor": 5
}
