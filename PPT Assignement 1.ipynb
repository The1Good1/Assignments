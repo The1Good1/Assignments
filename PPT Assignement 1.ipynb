{
 "cells": [
  {
   "cell_type": "markdown",
   "id": "416bf3c8",
   "metadata": {},
   "source": [
    "\n",
    "**Q1.** Given an array of integers nums and an integer target, return indices of the two numbers such that they add up to target.\n",
    "\n",
    "You may assume that each input would have exactly one solution, and you may not use the same element twice.\n",
    "\n",
    "You can return the answer in any order.\n",
    "\n",
    "**Example:**\n",
    "Input: nums = [2,7,11,15], target = 9\n",
    "Output0 [0,1]\n",
    "\n",
    "**Explanation:** Because nums[0] + nums[1] == 9, we return [0, 1]"
   ]
  },
  {
   "cell_type": "code",
   "execution_count": 11,
   "id": "f50dadb5",
   "metadata": {},
   "outputs": [
    {
     "name": "stdout",
     "output_type": "stream",
     "text": [
      "Enter the array of integers (space-separated): 2 \n",
      "Enter the target sum: 3\n",
      "Key: 2, Value: 0\n",
      "Indices of the two numbers that add up to the target: []\n"
     ]
    }
   ],
   "source": [
    "def twoSum(nums, target):\n",
    "    # Create a hash table to store elements and their indices\n",
    "    hash_table = {}\n",
    "    \n",
    "    for i, n in enumerate(nums):\n",
    "        complement = target - n\n",
    "        if complement in hash_table:\n",
    "            # Found the pair, return their indices\n",
    "            return [hash_table[complement], i]\n",
    "        # Add num to the hash table\n",
    "        hash_table[n] = i\n",
    "\n",
    "    # No solution found\n",
    "    return []\n",
    "\n",
    "\n",
    "\n",
    "# Read input from the user\n",
    "nums = input(\"Enter the array of integers (space-separated): \")\n",
    "target = int(input(\"Enter the target sum: \"))\n",
    "\n",
    "# Convert the input string into a list of integers\n",
    "nums = list(map(int, nums.split()))\n",
    "\n",
    "# Call the twoSum function\n",
    "result = twoSum(nums, target)\n",
    "\n",
    "# Display the output\n",
    "print(\"Indices of the two numbers that add up to the target:\", result)\n",
    "\n"
   ]
  },
  {
   "cell_type": "markdown",
   "id": "5bad6c77",
   "metadata": {},
   "source": [
    "# Ques 2\n",
    "\n",
    "Given an integer array nums and an integer val, remove all occurrences of val in nums in-place. The order of the elements may be changed. Then return the number of elements in nums which are not equal to val.\n",
    "\n",
    "Consider the number of elements in nums which are not equal to val be k, to get accepted, you need to do the following things:\n",
    "\n",
    "- Change the array nums such that the first k elements of nums contain the elements which are not equal to val. The remaining elements of nums are not important as well as the size of nums.\n",
    "- Return k.\n",
    "\n",
    "**Example :**\n",
    "Input: nums = [3,2,2,3], val = 3\n",
    "Output: 2, nums = [2,2,_*,_*]\n",
    "\n",
    "**Explanation:** Your function should return k = 2, with the first two elements of nums being 2. It does not matter what you leave beyond the returned k (hence they are underscores)"
   ]
  },
  {
   "cell_type": "code",
   "execution_count": 12,
   "id": "0349d881",
   "metadata": {},
   "outputs": [],
   "source": [
    "def removeElement(nums, val):\n",
    "    # Initialize two pointers: i points to the current element and k keeps track of the count of elements not equal to val\n",
    "    i = 0\n",
    "    k = 0\n",
    "\n",
    "    # Iterate through the array\n",
    "    while i < len(nums):\n",
    "        # If the current element is not equal to val, copy it to the k-th position\n",
    "        if nums[i] != val:\n",
    "            nums[k] = nums[i]\n",
    "            k += 1\n",
    "        i += 1\n",
    "\n",
    "    return k\n"
   ]
  },
  {
   "cell_type": "markdown",
   "id": "b5371aee",
   "metadata": {},
   "source": [
    "# Ques 3\n",
    "Given a sorted array of distinct integers and a target value, return the index if the target is found. If not, return the index where it would be if it were inserted in order.\n",
    "\n",
    "You must write an algorithm with O(log n) runtime complexity.\n"
   ]
  },
  {
   "cell_type": "code",
   "execution_count": 13,
   "id": "d5c19ca5",
   "metadata": {},
   "outputs": [],
   "source": [
    "def searchInsert(nums, target):\n",
    "    left = 0\n",
    "    right = len(nums) - 1\n",
    "\n",
    "    while left <= right:\n",
    "        mid = (left + right) // 2\n",
    "\n",
    "        if nums[mid] == target:\n",
    "            return mid\n",
    "        elif nums[mid] < target:\n",
    "            left = mid + 1\n",
    "        else:\n",
    "            right = mid - 1\n",
    "\n",
    "    # If the target is not found, return the left pointer which represents the index where it would be inserted\n",
    "    return left\n"
   ]
  },
  {
   "cell_type": "markdown",
   "id": "a336bfcc",
   "metadata": {},
   "source": [
    "# Ques 4\n",
    "\n",
    "You are given a large integer represented as an integer array digits, where each digits[i] is the ith digit of the integer. The digits are ordered from most significant to least significant in left-to-right order. The large integer does not contain any leading 0's.\n",
    "\n",
    "Increment the large integer by one and return the resulting array of digits.\n",
    "\n"
   ]
  },
  {
   "cell_type": "code",
   "execution_count": 14,
   "id": "60a76ad0",
   "metadata": {},
   "outputs": [],
   "source": [
    "def plusOne(digits):\n",
    "    n = len(digits)\n",
    "    carry = 1\n",
    "\n",
    "    for i in range(n - 1, -1, -1):\n",
    "        digits[i] += carry\n",
    "\n",
    "        if digits[i] == 10:\n",
    "            digits[i] = 0\n",
    "            carry = 1\n",
    "        else:\n",
    "            carry = 0\n",
    "            break\n",
    "\n",
    "    if carry == 1:\n",
    "        digits.insert(0, 1)\n",
    "\n",
    "    return digits\n"
   ]
  },
  {
   "cell_type": "markdown",
   "id": "915448d2",
   "metadata": {},
   "source": [
    "# Ques 5\n",
    "\n",
    "You are given two integer arrays nums1 and nums2, sorted in non-decreasing order, and two integers m and n, representing the number of elements in nums1 and nums2 respectively.\n",
    "\n",
    "Merge nums1 and nums2 into a single array sorted in non-decreasing order.\n",
    "\n",
    "The final sorted array should not be returned by the function, but instead be stored inside the array nums1. To accommodate this, nums1 has a length of m + n, where the first m elements denote the elements that should be merged, and the last n elements are set to 0 and should be ignored. nums2 has a length of n.\n",
    "\n"
   ]
  },
  {
   "cell_type": "code",
   "execution_count": 15,
   "id": "1dadd61d",
   "metadata": {},
   "outputs": [],
   "source": [
    "def merge(nums1, m, nums2, n):\n",
    "    # Initialize pointers for nums1, nums2, and the merged array\n",
    "    i = m - 1\n",
    "    j = n - 1\n",
    "    k = m + n - 1\n",
    "\n",
    "    # Merge nums1 and nums2 from the rightmost elements\n",
    "    while i >= 0 and j >= 0:\n",
    "        if nums1[i] >= nums2[j]:\n",
    "            nums1[k] = nums1[i]\n",
    "            i -= 1\n",
    "        else:\n",
    "            nums1[k] = nums2[j]\n",
    "            j -= 1\n",
    "        k -= 1\n",
    "\n",
    "    # If there are remaining elements in nums2, copy them to nums1\n",
    "    while j >= 0:\n",
    "        nums1[k] = nums2[j]\n",
    "        j -= 1\n",
    "        k -= 1\n"
   ]
  },
  {
   "cell_type": "markdown",
   "id": "a5183d1c",
   "metadata": {},
   "source": [
    "# Ques 6\n",
    "\n",
    "Given an integer array nums, return true if any value appears at least twice in the array, and return false if every element is distinct."
   ]
  },
  {
   "cell_type": "code",
   "execution_count": 16,
   "id": "d6fd09ab",
   "metadata": {},
   "outputs": [],
   "source": [
    "def containsDuplicate(nums):\n",
    "    seen = set()\n",
    "\n",
    "    for num in nums:\n",
    "        if num in seen:\n",
    "            return True\n",
    "        seen.add(num)\n",
    "\n",
    "    return False\n"
   ]
  },
  {
   "cell_type": "markdown",
   "id": "0dfb0249",
   "metadata": {},
   "source": [
    "# Ques 7\n",
    "\n",
    "Given an integer array nums, move all 0's to the end of it while maintaining the relative order of the nonzero elements.\n",
    "\n",
    "Note that you must do this in-place without making a copy of the array.\n"
   ]
  },
  {
   "cell_type": "code",
   "execution_count": 17,
   "id": "c7028e65",
   "metadata": {},
   "outputs": [],
   "source": [
    "def moveZeroes(nums):\n",
    "    nonzero_idx = 0\n",
    "\n",
    "    # Move non-zero elements to the front of the array\n",
    "    for i in range(len(nums)):\n",
    "        if nums[i] != 0:\n",
    "            nums[nonzero_idx] = nums[i]\n",
    "            nonzero_idx += 1\n",
    "\n",
    "    # Fill the remaining elements with zeros\n",
    "    while nonzero_idx < len(nums):\n",
    "        nums[nonzero_idx] = 0\n",
    "        nonzero_idx += 1\n"
   ]
  },
  {
   "cell_type": "markdown",
   "id": "60572a29",
   "metadata": {},
   "source": [
    "# Ques 8\n",
    "\n",
    "You have a set of integers s, which originally contains all the numbers from 1 to n. Unfortunately, due to some error, one of the numbers in s got duplicated to another number in the set, which results in repetition of one number and loss of another number.\n",
    "\n",
    "You are given an integer array nums representing the data status of this set after the error.\n",
    "\n",
    "Find the number that occurs twice and the number that is missing and return them in the form of an array.\n"
   ]
  },
  {
   "cell_type": "code",
   "execution_count": null,
   "id": "8a36dd02",
   "metadata": {},
   "outputs": [],
   "source": [
    "def findErrorNums(nums):\n",
    "    n = len(nums)\n",
    "    nums_set = set(nums)\n",
    "    duplicate_num = sum(nums) - sum(nums_set)\n",
    "    missing_num = (n * (n + 1) // 2) - sum(nums_set)\n",
    "    return [duplicate_num, missing_num]\n",
    "\n",
    "# Input\n",
    "nums = input(\"Enter the integer array (space-separated): \").split()\n",
    "nums = [int(num) for num in nums]\n",
    "\n",
    "# Call the function\n",
    "result = findErrorNums(nums)\n",
    "print(\"Duplicate Number:\", result[0])\n",
    "print(\"Missing Number:\", result[1])\n"
   ]
  }
 ],
 "metadata": {
  "kernelspec": {
   "display_name": "Python 3 (ipykernel)",
   "language": "python",
   "name": "python3"
  },
  "language_info": {
   "codemirror_mode": {
    "name": "ipython",
    "version": 3
   },
   "file_extension": ".py",
   "mimetype": "text/x-python",
   "name": "python",
   "nbconvert_exporter": "python",
   "pygments_lexer": "ipython3",
   "version": "3.9.13"
  }
 },
 "nbformat": 4,
 "nbformat_minor": 5
}
