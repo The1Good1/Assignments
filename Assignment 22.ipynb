{
 "cells": [
  {
   "cell_type": "markdown",
   "id": "264f1cfa",
   "metadata": {},
   "source": [
    "# Ques 1\n",
    "What is the result of the code, and explain?\n",
    "\n",
    "\n",
    ">>> X = 'iNeuron'\n",
    ">>> def func():\n",
    "print(X)\n",
    "\n",
    "\n",
    ">>> func()\n",
    "\n",
    "\n"
   ]
  },
  {
   "cell_type": "markdown",
   "id": "df725792",
   "metadata": {},
   "source": [
    "The code will result in an error. The function func() is defined, but the print statement inside the function is not properly indented. Proper indentation is crucial for defining blocks of code, such as function bodies. Therefore, the code will raise an Indentation Error when attempting to execute func()."
   ]
  },
  {
   "cell_type": "markdown",
   "id": "4a96ef13",
   "metadata": {},
   "source": [
    "# Ques 2\n",
    "What is the result of the code, and explain?\n",
    "\n",
    "\n",
    ">>> X = 'iNeuron'\n",
    ">>> def func():\n",
    "X = 'NI!'\n",
    "\n",
    "\n",
    ">>> func()\n",
    ">>> print(X)\n",
    "\n",
    "\n"
   ]
  },
  {
   "cell_type": "markdown",
   "id": "6c55e6c0",
   "metadata": {},
   "source": [
    "The result of the code : iNeuron\n",
    "\n",
    "\n",
    "Within the function func(), a new local variable X is defined and assigned the value 'NI!'. However, this local variable X does not affect the global variable X outside the function. When func() is called, it prints the value of the global variable X, which is 'iNeuron'. After the function call, when print(X) is executed, it prints the value of the global variable X, which remains unchanged as 'iNeuron'."
   ]
  },
  {
   "cell_type": "markdown",
   "id": "19b8408f",
   "metadata": {},
   "source": [
    "# Ques 3\n",
    "What does this code print, and why?\n",
    "\n",
    "\n",
    ">>> X = 'iNeuron'\n",
    ">>> def func():\n",
    "X = 'NI'\n",
    "print(X)\n",
    "\n",
    "\n",
    ">>> func()\n",
    ">>> print(X)\n"
   ]
  },
  {
   "cell_type": "markdown",
   "id": "452e0450",
   "metadata": {},
   "source": [
    "Output will be \n",
    "\n",
    "NI\n",
    "\n",
    "iNeuron\n",
    "\n",
    "Within the function func(), a new local variable X is defined and assigned the value 'NI'. When func() is called, it prints the value of the local variable X, which is 'NI'. After the function call, when print(X) is executed, it prints the value of the global variable X, which remains unchanged as 'iNeuron'."
   ]
  },
  {
   "cell_type": "markdown",
   "id": "0e778dd0",
   "metadata": {},
   "source": [
    "# Ques 4\n",
    "What output does this code produce? Why?\n",
    "\n",
    "\n",
    ">>> X = 'iNeuron'\n",
    ">>> def func():\n",
    "global X\n",
    "X = 'NI'\n",
    "\n",
    "\n",
    ">>> func()\n",
    ">>> print(X)\n",
    "\n",
    "\n"
   ]
  },
  {
   "cell_type": "markdown",
   "id": "5f0a99f9",
   "metadata": {},
   "source": [
    "Output will be :\n",
    "\n",
    "NI\n",
    "\n",
    "The global keyword is used within the function func() to declare that the variable X refers to the global variable with the same name. Within the function, the value of the global variable X is changed to 'NI'. When func() is called, it modifies the global variable X and assigns it the value 'NI'. Therefore, when print(X) is executed after the function call, it prints the updated value of the global variable X, which is 'NI'.\n"
   ]
  },
  {
   "cell_type": "markdown",
   "id": "66372a24",
   "metadata": {},
   "source": [
    "# Ques 5\n",
    "What about this code—what’s the output, and why?\n",
    "\n",
    "\n",
    ">>> X = 'iNeuron'\n",
    ">>> def func():\n",
    "X = 'NI'\n",
    "def nested():\n",
    "print(X)\n",
    "nested()\n",
    "\n",
    "\n",
    ">>> func()\n",
    ">>> X\n",
    "\n",
    "\n"
   ]
  },
  {
   "cell_type": "markdown",
   "id": "4fa371fc",
   "metadata": {},
   "source": [
    "Output will be:\n",
    "\n",
    "NI\n",
    "\n",
    "iNeuron\n",
    "\n",
    "Within the function func(), a local variable X is defined and assigned the value 'NI'. Inside func(), there is another nested function called nested(). When nested() is called, it prints the value of the local variable X, which is 'NI'. After the nested function call, when func() returns to its original execution, X still refers to the local variable 'NI'. Finally, when X is printed after the function call, it prints the value of the global variable X, which is 'iNeuron'."
   ]
  },
  {
   "cell_type": "markdown",
   "id": "5c15276e",
   "metadata": {},
   "source": [
    "# Ques 6\n",
    "\n",
    "How about this code: what is its output in Python 3, and explain?\n",
    "\n",
    "\n",
    ">>> def func():\n",
    "X = 'NI'\n",
    "def nested():\n",
    "nonlocal X\n",
    "X = 'Spam'\n",
    "nested()\n",
    "print(X)\n",
    "\n",
    "\n",
    ">>> func()\n"
   ]
  },
  {
   "cell_type": "markdown",
   "id": "09aa23eb",
   "metadata": {},
   "source": [
    "This code output will be : Spam\n",
    "\n",
    "Within the function func(), a local variable X is defined and assigned the value 'NI'. Inside func(), there is another nested function called nested(). The nonlocal keyword is used within nested() to indicate that the variable X refers to the nearest enclosing scope, which is the X variable defined in func(). The nested function nested() assigns the value 'Spam' to X. When nested() is called, it modifies the value of the variable X in the enclosing scope, which is 'Spam'. After the nested function call, func() continues its execution and prints the value of X, which is 'Spam'."
   ]
  }
 ],
 "metadata": {
  "kernelspec": {
   "display_name": "Python 3 (ipykernel)",
   "language": "python",
   "name": "python3"
  },
  "language_info": {
   "codemirror_mode": {
    "name": "ipython",
    "version": 3
   },
   "file_extension": ".py",
   "mimetype": "text/x-python",
   "name": "python",
   "nbconvert_exporter": "python",
   "pygments_lexer": "ipython3",
   "version": "3.9.13"
  }
 },
 "nbformat": 4,
 "nbformat_minor": 5
}
