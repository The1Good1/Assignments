{
 "cells": [
  {
   "cell_type": "markdown",
   "id": "1a4736a7",
   "metadata": {},
   "source": [
    "# Ques 1:"
   ]
  },
  {
   "cell_type": "markdown",
   "id": "74cfc6f9",
   "metadata": {},
   "source": [
    "Create a zoo.py file first. Define the hours() function, which prints the string 'Open 9-5 daily'.\n",
    "Then, use the interactive interpreter to import the zoo module and call its hours() function.\n"
   ]
  },
  {
   "cell_type": "code",
   "execution_count": 1,
   "id": "143334ad",
   "metadata": {},
   "outputs": [],
   "source": [
    "def hours():\n",
    "    print('Open 9-5 daily')\n"
   ]
  },
  {
   "cell_type": "markdown",
   "id": "916f92c9",
   "metadata": {},
   "source": [
    "# Ques 2:"
   ]
  },
  {
   "cell_type": "markdown",
   "id": "8cbcd8c6",
   "metadata": {},
   "source": [
    "In the interactive interpreter, import the zoo module as menagerie and call its hours() function.\n"
   ]
  },
  {
   "cell_type": "code",
   "execution_count": null,
   "id": "118ca2db",
   "metadata": {},
   "outputs": [],
   "source": [
    "import zoo as menagerie\n",
    "menagerie.hours()\n"
   ]
  },
  {
   "cell_type": "markdown",
   "id": "b2526c8c",
   "metadata": {},
   "source": [
    "# Ques 3:"
   ]
  },
  {
   "cell_type": "markdown",
   "id": "709eb81a",
   "metadata": {},
   "source": [
    "Using the interpreter, explicitly import and call the hours() function from zoo.\n"
   ]
  },
  {
   "cell_type": "code",
   "execution_count": null,
   "id": "12288a33",
   "metadata": {},
   "outputs": [],
   "source": [
    "from zoo import hours\n",
    "hours()\n"
   ]
  },
  {
   "cell_type": "markdown",
   "id": "172f8035",
   "metadata": {},
   "source": [
    "# Ques 4:\n"
   ]
  },
  {
   "cell_type": "markdown",
   "id": "3b83a0d0",
   "metadata": {},
   "source": [
    "Import the hours() function as info and call it."
   ]
  },
  {
   "cell_type": "code",
   "execution_count": null,
   "id": "b734bc83",
   "metadata": {},
   "outputs": [],
   "source": [
    "from zoo import hours as info\n",
    "info()\n"
   ]
  },
  {
   "cell_type": "markdown",
   "id": "ea824a36",
   "metadata": {},
   "source": [
    "# Ques 5:\n"
   ]
  },
  {
   "cell_type": "markdown",
   "id": "75590f37",
   "metadata": {},
   "source": [
    "Create a plain dictionary with the key-value pairs 'a': 1, 'b': 2, and 'c': 3, and print it out.\n"
   ]
  },
  {
   "cell_type": "code",
   "execution_count": 4,
   "id": "e6c0ccb3",
   "metadata": {},
   "outputs": [
    {
     "name": "stdout",
     "output_type": "stream",
     "text": [
      "{'a': 1, 'b': 2, 'c': 3}\n"
     ]
    }
   ],
   "source": [
    "plain_dict = {'a': 1, 'b': 2, 'c': 3}\n",
    "print(plain_dict)\n"
   ]
  },
  {
   "cell_type": "markdown",
   "id": "3e1eec00",
   "metadata": {},
   "source": [
    "# Ques 6:\n",
    "\n"
   ]
  },
  {
   "cell_type": "markdown",
   "id": "31ed3df2",
   "metadata": {},
   "source": [
    "Make an OrderedDict called fancy from the same pairs listed in 5 and print it. Did it print in the same order as plain?\n"
   ]
  },
  {
   "cell_type": "code",
   "execution_count": 5,
   "id": "29bd6bd6",
   "metadata": {},
   "outputs": [
    {
     "name": "stdout",
     "output_type": "stream",
     "text": [
      "OrderedDict([('a', 1), ('b', 2), ('c', 3)])\n"
     ]
    }
   ],
   "source": [
    "from collections import OrderedDict\n",
    "\n",
    "fancy = OrderedDict([('a', 1), ('b', 2), ('c', 3)])\n",
    "print(fancy)\n"
   ]
  },
  {
   "cell_type": "markdown",
   "id": "dbb064de",
   "metadata": {},
   "source": [
    "Yes, the OrderedDict will print in the same order as it was defined, unlike a regular dictionary."
   ]
  },
  {
   "cell_type": "markdown",
   "id": "545fbc09",
   "metadata": {},
   "source": [
    "# Ques 7:\n"
   ]
  },
  {
   "cell_type": "markdown",
   "id": "4241febd",
   "metadata": {},
   "source": [
    "Make a default dictionary called dict_of_lists and pass it the argument list. Make the list dict_of_lists['a'] and append the value 'something for a' to it in one assignment. Print dict_of_lists['a'].\n"
   ]
  },
  {
   "cell_type": "code",
   "execution_count": 6,
   "id": "581af416",
   "metadata": {},
   "outputs": [
    {
     "name": "stdout",
     "output_type": "stream",
     "text": [
      "['something for a']\n"
     ]
    }
   ],
   "source": [
    "from collections import defaultdict\n",
    "\n",
    "dict_of_lists = defaultdict(list)\n",
    "dict_of_lists['a'].append('something for a')\n",
    "print(dict_of_lists['a'])\n"
   ]
  },
  {
   "cell_type": "code",
   "execution_count": null,
   "id": "9edab45b",
   "metadata": {},
   "outputs": [],
   "source": []
  }
 ],
 "metadata": {
  "kernelspec": {
   "display_name": "Python 3 (ipykernel)",
   "language": "python",
   "name": "python3"
  },
  "language_info": {
   "codemirror_mode": {
    "name": "ipython",
    "version": 3
   },
   "file_extension": ".py",
   "mimetype": "text/x-python",
   "name": "python",
   "nbconvert_exporter": "python",
   "pygments_lexer": "ipython3",
   "version": "3.9.13"
  }
 },
 "nbformat": 4,
 "nbformat_minor": 5
}
