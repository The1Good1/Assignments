{
 "cells": [
  {
   "cell_type": "markdown",
   "id": "d9fffea4",
   "metadata": {},
   "source": [
    "# Ques 1\n",
    "\n",
    "1. Write a Python Program to Display Fibonacci Sequence Using Recursion?\n"
   ]
  },
  {
   "cell_type": "code",
   "execution_count": null,
   "id": "27389d18",
   "metadata": {},
   "outputs": [],
   "source": [
    "def fibonacci(n):\n",
    "    if n <= 1:\n",
    "        return n\n",
    "    else:\n",
    "        return fibonacci(n-1) + fibonacci(n-2)\n",
    "\n",
    "terms = int(input(\"Enter the number of terms: \"))\n",
    "\n",
    "if terms <= 0:\n",
    "    print(\"Number of terms should be positive.\")\n",
    "else:\n",
    "    print(\"Fibonacci sequence:\")\n",
    "    for i in range(terms):\n",
    "        print(fibonacci(i), end=\" \")\n"
   ]
  },
  {
   "cell_type": "markdown",
   "id": "d9833650",
   "metadata": {},
   "source": [
    "# Ques 2\n",
    "\n",
    "2. Write a Python Program to Find Factorial of Number Using Recursion?\n",
    "\n"
   ]
  },
  {
   "cell_type": "code",
   "execution_count": null,
   "id": "35792f81",
   "metadata": {},
   "outputs": [],
   "source": [
    "def factorial(n):\n",
    "    if n == 0:\n",
    "        return 1\n",
    "    else:\n",
    "        return n * factorial(n-1)\n",
    "\n",
    "num = int(input(\"Enter a number: \"))\n",
    "\n",
    "if num < 0:\n",
    "    print(\"Factorial is not defined for negative numbers.\")\n",
    "else:\n",
    "    print(\"Factorial of\", num, \"is\", factorial(num))\n"
   ]
  },
  {
   "cell_type": "markdown",
   "id": "d92d94d0",
   "metadata": {},
   "source": [
    "# Ques 3\n",
    "\n",
    "3. Write a Python Program to calculate your Body Mass Index?\n"
   ]
  },
  {
   "cell_type": "code",
   "execution_count": null,
   "id": "7d924a7c",
   "metadata": {},
   "outputs": [],
   "source": [
    "weight = float(input(\"Enter your weight in kilograms: \"))\n",
    "height = float(input(\"Enter your height in meters: \"))\n",
    "\n",
    "bmi = weight / (height ** 2)\n",
    "\n",
    "print(\"Your BMI is\", bmi)\n"
   ]
  },
  {
   "cell_type": "markdown",
   "id": "fcd491dc",
   "metadata": {},
   "source": [
    "# Ques 4\n",
    "\n",
    "\n",
    "4. Write a Python Program to calculate the natural logarithm of any number?\n"
   ]
  },
  {
   "cell_type": "code",
   "execution_count": null,
   "id": "3ae8849a",
   "metadata": {},
   "outputs": [],
   "source": [
    "import math\n",
    "\n",
    "number = float(input(\"Enter a number: \"))\n",
    "\n",
    "if number <= 0:\n",
    "    print(\"Natural logarithm is not defined for non-positive numbers.\")\n",
    "else:\n",
    "    logarithm = math.log(number)\n",
    "    print(\"Natural logarithm of\", number, \"is\", logarithm)\n"
   ]
  },
  {
   "cell_type": "markdown",
   "id": "83946a8e",
   "metadata": {},
   "source": [
    "# Ques 5\n",
    "\n",
    "5. Write a Python Program for cube sum of first n natural numbers?\n"
   ]
  },
  {
   "cell_type": "code",
   "execution_count": null,
   "id": "0c2b89a0",
   "metadata": {},
   "outputs": [],
   "source": [
    "n = int(input(\"Enter a positive integer: \"))\n",
    "\n",
    "if n < 0:\n",
    "    print(\"Please enter a positive integer.\")\n",
    "else:\n",
    "    sum_of_cubes = (n * (n + 1) // 2) ** 2\n",
    "    print(\"Cube sum of the first\", n, \"natural numbers is\", sum_of_cubes)\n"
   ]
  },
  {
   "cell_type": "code",
   "execution_count": null,
   "id": "11aa6a8d",
   "metadata": {},
   "outputs": [],
   "source": []
  }
 ],
 "metadata": {
  "kernelspec": {
   "display_name": "Python 3 (ipykernel)",
   "language": "python",
   "name": "python3"
  },
  "language_info": {
   "codemirror_mode": {
    "name": "ipython",
    "version": 3
   },
   "file_extension": ".py",
   "mimetype": "text/x-python",
   "name": "python",
   "nbconvert_exporter": "python",
   "pygments_lexer": "ipython3",
   "version": "3.9.13"
  }
 },
 "nbformat": 4,
 "nbformat_minor": 5
}
