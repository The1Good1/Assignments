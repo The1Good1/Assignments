{
 "cells": [
  {
   "cell_type": "markdown",
   "id": "13242694",
   "metadata": {},
   "source": [
    "# Ques 1:\n",
    "\n"
   ]
  },
  {
   "cell_type": "code",
   "execution_count": null,
   "id": "f6c7489d",
   "metadata": {},
   "outputs": [],
   "source": [
    "def reverse_string(input_string):\n",
    "    reversed_string = \"\"\n",
    "    for i in range(len(input_string) - 1, -1, -1):\n",
    "        reversed_string += input_string[i]\n",
    "    return reversed_string\n",
    "\n"
   ]
  },
  {
   "cell_type": "markdown",
   "id": "9a196ada",
   "metadata": {},
   "source": [
    "# Ques 2:\n",
    "\n"
   ]
  },
  {
   "cell_type": "code",
   "execution_count": null,
   "id": "c95998c4",
   "metadata": {},
   "outputs": [],
   "source": [
    "def is_palindrome(input_string):\n",
    "    reversed_string = reverse_string(input_string)\n",
    "    return input_string == reversed_string\n"
   ]
  },
  {
   "cell_type": "markdown",
   "id": "df18c17d",
   "metadata": {},
   "source": [
    "# Ques 3:\n",
    "\n",
    "\n"
   ]
  },
  {
   "cell_type": "code",
   "execution_count": null,
   "id": "d762b790",
   "metadata": {},
   "outputs": [],
   "source": [
    "def find_largest_element(input_list):\n",
    "    largest_element = input_list[0]\n",
    "    for element in input_list:\n",
    "        if element > largest_element:\n",
    "            largest_element = element\n",
    "    return largest_element\n",
    "\n"
   ]
  },
  {
   "cell_type": "markdown",
   "id": "5a253443",
   "metadata": {},
   "source": [
    "# Ques 4:\n"
   ]
  },
  {
   "cell_type": "code",
   "execution_count": null,
   "id": "db7c6927",
   "metadata": {},
   "outputs": [],
   "source": [
    "def count_occurrences(input_list):\n",
    "    occurrence_count = {}\n",
    "    for element in input_list:\n",
    "        if element in occurrence_count:\n",
    "            occurrence_count[element] += 1\n",
    "        else:\n",
    "            occurrence_count[element] = 1\n",
    "    return occurrence_count\n",
    "\n"
   ]
  },
  {
   "cell_type": "markdown",
   "id": "7304f8cd",
   "metadata": {},
   "source": [
    "# Ques 5:\n"
   ]
  },
  {
   "cell_type": "code",
   "execution_count": null,
   "id": "592d07c8",
   "metadata": {},
   "outputs": [],
   "source": [
    "def find_second_largest(input_list):\n",
    "    largest = float('-inf')\n",
    "    second_largest = float('-inf')\n",
    "    for number in input_list:\n",
    "        if number > largest:\n",
    "            second_largest = largest\n",
    "            largest = number\n",
    "        elif number > second_largest and number != largest:\n",
    "            second_largest = number\n",
    "    return second_largest\n",
    "\n"
   ]
  },
  {
   "cell_type": "markdown",
   "id": "d2fc0e84",
   "metadata": {},
   "source": [
    "# Ques 6:\n"
   ]
  },
  {
   "cell_type": "code",
   "execution_count": null,
   "id": "4cde41c2",
   "metadata": {},
   "outputs": [],
   "source": [
    "def remove_duplicates(input_list):\n",
    "    unique_list = []\n",
    "    for element in input_list:\n",
    "        if element not in unique_list:\n",
    "            unique_list.append(element)\n",
    "    return unique_list\n",
    "\n"
   ]
  },
  {
   "cell_type": "markdown",
   "id": "e8f2774f",
   "metadata": {},
   "source": [
    "# Ques 7:\n"
   ]
  },
  {
   "cell_type": "code",
   "execution_count": null,
   "id": "7a388ffa",
   "metadata": {},
   "outputs": [],
   "source": [
    "def factorial(number):\n",
    "    result = 1\n",
    "    for i in range(1, number + 1):\n",
    "        result *= i\n",
    "    return result\n",
    "\n"
   ]
  },
  {
   "cell_type": "markdown",
   "id": "7c53327e",
   "metadata": {},
   "source": [
    "# Ques 8:\n"
   ]
  },
  {
   "cell_type": "code",
   "execution_count": null,
   "id": "6d482dcd",
   "metadata": {},
   "outputs": [],
   "source": [
    "def is_prime(number):\n",
    "    if number < 2:\n",
    "        return False\n",
    "    for i in range(2, int(number ** 0.5) + 1):\n",
    "        if number % i == 0:\n",
    "            return False\n",
    "    return True\n",
    "\n"
   ]
  },
  {
   "cell_type": "markdown",
   "id": "d60b558d",
   "metadata": {},
   "source": [
    "# Ques 9:\n"
   ]
  },
  {
   "cell_type": "code",
   "execution_count": null,
   "id": "6a94f721",
   "metadata": {},
   "outputs": [],
   "source": [
    "def sort_list_ascending(input_list):\n",
    "    sorted_list = input_list[:]\n",
    "    for i in range(len(sorted_list)):\n",
    "        for j in range(i + 1, len(sorted_list)):\n",
    "            if sorted_list[i] > sorted_list[j]:\n",
    "                sorted_list[i], sorted_list[j] = sorted_list[j], sorted_list[i]\n",
    "    return sorted_list\n",
    "\n"
   ]
  },
  {
   "cell_type": "markdown",
   "id": "76d74ac6",
   "metadata": {},
   "source": [
    "# Ques 10:\n"
   ]
  },
  {
   "cell_type": "code",
   "execution_count": null,
   "id": "66cd2174",
   "metadata": {},
   "outputs": [],
   "source": [
    "def find_sum(input_list):\n",
    "    total = 0\n",
    "    for number in input_list:\n",
    "        total += number\n",
    "    return total\n",
    "\n"
   ]
  },
  {
   "cell_type": "markdown",
   "id": "0d683574",
   "metadata": {},
   "source": [
    "# Ques 11:\n"
   ]
  },
  {
   "cell_type": "code",
   "execution_count": null,
   "id": "ee2efa8a",
   "metadata": {},
   "outputs": [],
   "source": [
    "def find_common_elements(list1, list2):\n",
    "    common_elements = []\n",
    "    for element in list1:\n",
    "        if element in list2 and element not in common_elements:\n",
    "            common_elements.append(element)\n",
    "    return common_elements\n",
    "\n"
   ]
  },
  {
   "cell_type": "markdown",
   "id": "805c3794",
   "metadata": {},
   "source": [
    "# Ques 12:\n"
   ]
  },
  {
   "cell_type": "code",
   "execution_count": null,
   "id": "65b992cd",
   "metadata": {},
   "outputs": [],
   "source": [
    "def is_anagram(str1, str2):\n",
    "    str1 = str1.lower()\n",
    "    str2 = str2.lower()\n",
    "    return sorted(str1) == sorted(str2)\n",
    "\n"
   ]
  },
  {
   "cell_type": "markdown",
   "id": "dc6ff2bc",
   "metadata": {},
   "source": [
    "# Ques 13:\n"
   ]
  },
  {
   "cell_type": "code",
   "execution_count": null,
   "id": "39a326e6",
   "metadata": {},
   "outputs": [],
   "source": [
    "def permutations(string):\n",
    "    if len(string) == 1:\n",
    "        return [string]\n",
    "    perms = []\n",
    "    for i in range(len(string)):\n",
    "        first_char = string[i]\n",
    "        remaining_chars = string[:i] + string[i+1:]\n",
    "        for perm in permutations(remaining_chars):\n",
    "            perms.append(first_char + perm)\n",
    "    return perms\n",
    "\n"
   ]
  },
  {
   "cell_type": "markdown",
   "id": "334976ff",
   "metadata": {},
   "source": [
    "# Ques 14:\n"
   ]
  },
  {
   "cell_type": "code",
   "execution_count": null,
   "id": "4d7e37c0",
   "metadata": {},
   "outputs": [],
   "source": [
    "def fibonacci(n):\n",
    "    sequence = []\n",
    "    if n >= 1:\n",
    "        sequence.append(0)\n",
    "    if n >= 2:\n",
    "        sequence.append(1)\n",
    "    for i in range(2, n):\n",
    "        sequence.append(sequence[i-1] + sequence[i-2])\n",
    "    return sequence\n",
    "\n"
   ]
  },
  {
   "cell_type": "markdown",
   "id": "51caa4ba",
   "metadata": {},
   "source": [
    "# Ques 15:\n"
   ]
  },
  {
   "cell_type": "code",
   "execution_count": null,
   "id": "9cb62c47",
   "metadata": {},
   "outputs": [],
   "source": [
    "def find_median(numbers):\n",
    "    sorted_numbers = sorted(numbers)\n",
    "    n = len(sorted_numbers)\n",
    "    if n % 2 == 0:\n",
    "        median = (sorted_numbers[n//2 - 1] + sorted_numbers[n//2]) / 2\n",
    "    else:\n",
    "        median = sorted_numbers[n//2]\n",
    "    return median\n"
   ]
  },
  {
   "cell_type": "markdown",
   "id": "9b598a18",
   "metadata": {},
   "source": [
    "# Ques 16:\n"
   ]
  },
  {
   "cell_type": "code",
   "execution_count": null,
   "id": "3b152650",
   "metadata": {},
   "outputs": [],
   "source": [
    "def is_sorted(nums):\n",
    "    for i in range(len(nums) - 1):\n",
    "        if nums[i] > nums[i+1]:\n",
    "            return False\n",
    "    return True\n",
    "\n"
   ]
  },
  {
   "cell_type": "markdown",
   "id": "8c33aa2c",
   "metadata": {},
   "source": [
    "# Ques 17:\n"
   ]
  },
  {
   "cell_type": "code",
   "execution_count": null,
   "id": "17b2a59d",
   "metadata": {},
   "outputs": [],
   "source": [
    "def find_intersection(list1, list2):\n",
    "    return list(set(list1) & set(list2))\n",
    "\n"
   ]
  },
  {
   "cell_type": "markdown",
   "id": "ff035f50",
   "metadata": {},
   "source": [
    "# Ques 18:\n"
   ]
  },
  {
   "cell_type": "code",
   "execution_count": null,
   "id": "dbe48056",
   "metadata": {},
   "outputs": [],
   "source": [
    "def find_max_subarray_sum(nums):\n",
    "    current_sum = max_sum = nums[0]\n",
    "    for num in nums[1:]:\n",
    "        current_sum = max(num, current_sum + num)\n",
    "        max_sum = max(max_sum, current_sum)\n",
    "    return max_sum\n",
    "\n"
   ]
  },
  {
   "cell_type": "markdown",
   "id": "66fc7ff8",
   "metadata": {},
   "source": [
    "# Ques 19:\n"
   ]
  },
  {
   "cell_type": "code",
   "execution_count": null,
   "id": "c9030418",
   "metadata": {},
   "outputs": [],
   "source": [
    "def remove_vowels(string):\n",
    "    vowels = \"aeiouAEIOU\"\n",
    "    return ''.join([char for char in string if char not in vowels])\n",
    "\n"
   ]
  },
  {
   "cell_type": "markdown",
   "id": "f5f7a302",
   "metadata": {},
   "source": [
    "# Ques 20:\n"
   ]
  },
  {
   "cell_type": "code",
   "execution_count": null,
   "id": "9336b6c5",
   "metadata": {},
   "outputs": [],
   "source": [
    "def reverse_words(sentence):\n",
    "    words = sentence.split()\n",
    "    reversed_words = ' '.join(reversed(words))\n",
    "    return reversed_words\n",
    "\n"
   ]
  },
  {
   "cell_type": "markdown",
   "id": "dc95ee0a",
   "metadata": {},
   "source": [
    "# Ques 21:\n"
   ]
  },
  {
   "cell_type": "code",
   "execution_count": null,
   "id": "0ffcdd70",
   "metadata": {},
   "outputs": [],
   "source": [
    "def are_anagrams(str1, str2):\n",
    "    str1 = str1.lower().replace(\" \", \"\")\n",
    "    str2 = str2.lower().replace(\" \", \"\")\n",
    "    return sorted(str1) == sorted(str2)\n",
    "\n",
    "\n"
   ]
  },
  {
   "cell_type": "markdown",
   "id": "eacbb584",
   "metadata": {},
   "source": [
    "# Ques 22:\n"
   ]
  },
  {
   "cell_type": "code",
   "execution_count": null,
   "id": "3cb2fb76",
   "metadata": {},
   "outputs": [],
   "source": [
    "def find_first_non_repeating_char(string):\n",
    "    char_count = {}\n",
    "    for char in string:\n",
    "        char_count[char] = char_count.get(char, 0) + 1\n",
    "    for char in string:\n",
    "        if char_count[char] == 1:\n",
    "            return char\n",
    "    return None\n",
    "\n"
   ]
  },
  {
   "cell_type": "markdown",
   "id": "afba98ef",
   "metadata": {},
   "source": [
    "# Ques 23:\n"
   ]
  },
  {
   "cell_type": "code",
   "execution_count": null,
   "id": "d2aac837",
   "metadata": {},
   "outputs": [],
   "source": [
    "def find_prime_factors(number):\n",
    "    factors = []\n",
    "    divisor = 2\n",
    "    while divisor <= number:\n",
    "        if number % divisor == 0:\n",
    "            factors.append(divisor)\n",
    "            number //= divisor\n",
    "        else:\n",
    "            divisor += 1\n",
    "    return factors\n",
    "\n"
   ]
  },
  {
   "cell_type": "markdown",
   "id": "34e889fc",
   "metadata": {},
   "source": [
    "# Ques 24:\n"
   ]
  },
  {
   "cell_type": "code",
   "execution_count": null,
   "id": "a4b1d04e",
   "metadata": {},
   "outputs": [],
   "source": [
    "def is_power_of_two(number):\n",
    "    if number <= 0:\n",
    "        return False\n",
    "    while number > 1:\n",
    "        if number % 2 != 0:\n",
    "            return False\n",
    "        number //= 2\n",
    "    return True\n",
    "\n"
   ]
  },
  {
   "cell_type": "markdown",
   "id": "d40ec1bf",
   "metadata": {},
   "source": [
    "# Ques 25:\n"
   ]
  },
  {
   "cell_type": "code",
   "execution_count": null,
   "id": "93500b5a",
   "metadata": {},
   "outputs": [],
   "source": [
    "def merge_sorted_lists(list1, list2):\n",
    "    merged_list = []\n",
    "    i = j = 0\n",
    "    while i < len(list1) and j < len(list2):\n",
    "        if list1[i] < list2[j]:\n",
    "            merged_list.append(list1[i])\n",
    "            i += 1\n",
    "        else:\n",
    "            merged_list.append(list2[j])\n",
    "            j += 1\n",
    "    merged_list.extend(list1[i:])\n",
    "    merged_list.extend(list2[j:])\n",
    "    return merged_list\n",
    "\n",
    "\n"
   ]
  },
  {
   "cell_type": "markdown",
   "id": "07e0f7e9",
   "metadata": {},
   "source": [
    "# Ques 26:\n"
   ]
  },
  {
   "cell_type": "code",
   "execution_count": null,
   "id": "4b98b7a8",
   "metadata": {},
   "outputs": [],
   "source": [
    "from collections import Counter\n",
    "\n",
    "def find_mode(numbers):\n",
    "    counter = Counter(numbers)\n",
    "    max_count = max(counter.values())\n",
    "    mode = [num for num, count in counter.items() if count == max_count]\n",
    "    return mode\n",
    "\n",
    "\n"
   ]
  },
  {
   "cell_type": "markdown",
   "id": "54a498a5",
   "metadata": {},
   "source": [
    "# Ques 27:\n"
   ]
  },
  {
   "cell_type": "code",
   "execution_count": null,
   "id": "2223a791",
   "metadata": {},
   "outputs": [],
   "source": [
    "def find_gcd(a, b):\n",
    "    while b != 0:\n",
    "        a, b = b, a % b\n",
    "    return a\n",
    "\n",
    "\n"
   ]
  },
  {
   "cell_type": "markdown",
   "id": "5141bf77",
   "metadata": {},
   "source": [
    "# Ques 28:"
   ]
  },
  {
   "cell_type": "code",
   "execution_count": null,
   "id": "37e50b0e",
   "metadata": {},
   "outputs": [],
   "source": [
    "def calculate_square_root(number):\n",
    "    if number < 0:\n",
    "        raise ValueError(\"Square root is not defined for negative numbers.\")\n",
    "    guess = number\n",
    "    while abs(guess * guess - number) > 1e-6:\n",
    "        guess = (guess + number / guess) / 2\n",
    "    return guess\n",
    "\n"
   ]
  },
  {
   "cell_type": "markdown",
   "id": "1a8e36a2",
   "metadata": {},
   "source": [
    "# Ques 29:\n"
   ]
  },
  {
   "cell_type": "code",
   "execution_count": null,
   "id": "dda0a22e",
   "metadata": {},
   "outputs": [],
   "source": [
    "def is_valid_palindrome(string):\n",
    "    alphanumeric_string = ''.join(char.lower() for char in string if char.isalnum())\n",
    "    return alphanumeric_string == alphanumeric_string[::-1]\n",
    "\n"
   ]
  },
  {
   "cell_type": "markdown",
   "id": "04135d03",
   "metadata": {},
   "source": [
    "# Ques 30:\n"
   ]
  },
  {
   "cell_type": "code",
   "execution_count": null,
   "id": "713af835",
   "metadata": {},
   "outputs": [],
   "source": [
    "def find_min_element(nums):\n",
    "    left = 0\n",
    "    right = len(nums) - 1\n",
    "    while left < right:\n",
    "        mid = left + (right - left) // 2\n",
    "        if nums[mid] > nums[right]:\n",
    "            left = mid + 1\n",
    "        else:\n",
    "            right = mid\n",
    "    return nums[left]\n",
    "\n"
   ]
  },
  {
   "cell_type": "markdown",
   "id": "6d2296ce",
   "metadata": {},
   "source": [
    "# Ques 31:\n"
   ]
  },
  {
   "cell_type": "code",
   "execution_count": null,
   "id": "91163ed7",
   "metadata": {},
   "outputs": [],
   "source": [
    "def sum_even_numbers(numbers):\n",
    "    return sum(num for num in numbers if num % 2 == 0)\n",
    "\n"
   ]
  },
  {
   "cell_type": "markdown",
   "id": "d6641d56",
   "metadata": {},
   "source": [
    "# Ques 32:\n"
   ]
  },
  {
   "cell_type": "code",
   "execution_count": null,
   "id": "174132ee",
   "metadata": {},
   "outputs": [],
   "source": [
    "def power(base, exponent):\n",
    "    if exponent == 0:\n",
    "        return 1\n",
    "    elif exponent < 0:\n",
    "        return 1 / power(base, -exponent)\n",
    "    else:\n",
    "        return base * power(base, exponent - 1)\n",
    "\n"
   ]
  },
  {
   "cell_type": "markdown",
   "id": "2d85f4bc",
   "metadata": {},
   "source": [
    "# Ques 33:\n"
   ]
  },
  {
   "cell_type": "code",
   "execution_count": null,
   "id": "3bfa5031",
   "metadata": {},
   "outputs": [],
   "source": [
    "def remov_duplicates_preserve_order(input_list):\n",
    "    unique_list = []\n",
    "    for element in input_list:\n",
    "        if element not in unique_list:\n",
    "            unique_list.append(element)\n",
    "    return unique_list\n",
    "\n"
   ]
  },
  {
   "cell_type": "markdown",
   "id": "fe2103ca",
   "metadata": {},
   "source": [
    "# Ques 34:\n"
   ]
  },
  {
   "cell_type": "code",
   "execution_count": null,
   "id": "58371daa",
   "metadata": {},
   "outputs": [],
   "source": [
    "def lo_comn_pref(strings):\n",
    "    if not strings:\n",
    "        return \"\"\n",
    "    shortest_string = min(strings, key=len)\n",
    "    for i, char in enumerate(shortest_string):\n",
    "        for string in strings:\n",
    "            if string[i] != char:\n",
    "                return shortest_string[:i]\n",
    "    return shortest_string\n",
    "\n"
   ]
  },
  {
   "cell_type": "markdown",
   "id": "54470a6d",
   "metadata": {},
   "source": [
    "# Ques 35:\n"
   ]
  },
  {
   "cell_type": "code",
   "execution_count": null,
   "id": "9a4e4bf6",
   "metadata": {},
   "outputs": [],
   "source": [
    "def is_perfect_square(number):\n",
    "    if number < 0:\n",
    "        return False\n",
    "    sqrt = int(number ** 0.5)\n",
    "    return sqrt * sqrt == number\n",
    "\n"
   ]
  },
  {
   "cell_type": "markdown",
   "id": "8df67ad0",
   "metadata": {},
   "source": [
    "# Ques 36:\n"
   ]
  },
  {
   "cell_type": "code",
   "execution_count": null,
   "id": "279b0daf",
   "metadata": {},
   "outputs": [],
   "source": [
    "def calculate_product(numbers):\n",
    "    product = 1\n",
    "    for num in numbers:\n",
    "        product *= num\n",
    "    return product\n"
   ]
  },
  {
   "cell_type": "markdown",
   "id": "e54f3a25",
   "metadata": {},
   "source": [
    "# Ques 37:\n"
   ]
  },
  {
   "cell_type": "code",
   "execution_count": null,
   "id": "1fd98379",
   "metadata": {},
   "outputs": [],
   "source": [
    "def reverse_words_preserve_order(sentence):\n",
    "    words = sentence.split()\n",
    "    reversed_sentence = ' '.join(words[::-1])\n",
    "    return reversed_sentence\n",
    "\n"
   ]
  },
  {
   "cell_type": "markdown",
   "id": "2bbcdd89",
   "metadata": {},
   "source": [
    "# Ques 38:\n"
   ]
  },
  {
   "cell_type": "code",
   "execution_count": null,
   "id": "3a4ce72c",
   "metadata": {},
   "outputs": [],
   "source": [
    "def find_missing_number(numbers):\n",
    "    n = len(numbers) + 1\n",
    "    expected_sum = (n * (n + 1)) // 2\n",
    "    actual_sum = sum(numbers)\n",
    "    missing_number = expected_sum - actual_sum\n",
    "    return missing_number\n",
    "\n"
   ]
  },
  {
   "cell_type": "markdown",
   "id": "db06a896",
   "metadata": {},
   "source": [
    "# Ques 39:\n"
   ]
  },
  {
   "cell_type": "code",
   "execution_count": null,
   "id": "0e00c9ec",
   "metadata": {},
   "outputs": [],
   "source": [
    "def sum_of_digits(number):\n",
    "    sum_digits = 0\n",
    "    while number > 0:\n",
    "        sum_digits += number % 10\n",
    "        number //= 10\n",
    "    return sum_digits\n"
   ]
  },
  {
   "cell_type": "markdown",
   "id": "fbc6f228",
   "metadata": {},
   "source": [
    "# Ques 40:\n"
   ]
  },
  {
   "cell_type": "code",
   "execution_count": null,
   "id": "260dce14",
   "metadata": {},
   "outputs": [],
   "source": [
    "def is_valid_palindrome_case_sensitive(string):\n",
    "    return string == string[::-1]\n",
    "\n"
   ]
  },
  {
   "cell_type": "markdown",
   "id": "3d1e8079",
   "metadata": {},
   "source": [
    "# Ques 41:\n"
   ]
  },
  {
   "cell_type": "code",
   "execution_count": null,
   "id": "339fac11",
   "metadata": {},
   "outputs": [],
   "source": [
    "def find_smallest_missing_positive(nums):\n",
    "    nums = set(nums)\n",
    "    smallest_missing = 1\n",
    "    while smallest_missing in nums:\n",
    "        smallest_missing += 1\n",
    "    return smallest_missing\n",
    "\n",
    "\n"
   ]
  },
  {
   "cell_type": "markdown",
   "id": "a33c86ea",
   "metadata": {},
   "source": [
    "# Ques 42:\n"
   ]
  },
  {
   "cell_type": "code",
   "execution_count": null,
   "id": "11baca7e",
   "metadata": {},
   "outputs": [],
   "source": [
    "def longest_palindrome_substring(string):\n",
    "    longest_substring = \"\"\n",
    "    for i in range(len(string)):\n",
    "        for j in range(i, len(string)):\n",
    "            substring = string[i:j+1]\n",
    "            if substring == substring[::-1] and len(substring) > len(longest_substring):\n",
    "                longest_substring = substring\n",
    "    return longest_substring\n",
    "\n"
   ]
  },
  {
   "cell_type": "markdown",
   "id": "ed726eb2",
   "metadata": {},
   "source": [
    "# Ques 43:\n"
   ]
  },
  {
   "cell_type": "code",
   "execution_count": null,
   "id": "b67e231d",
   "metadata": {},
   "outputs": [],
   "source": [
    "def count_occurrences(element, lst):\n",
    "    return lst.count(element)\n",
    "\n"
   ]
  },
  {
   "cell_type": "markdown",
   "id": "9160a11e",
   "metadata": {},
   "source": [
    "# Ques 44:\n"
   ]
  },
  {
   "cell_type": "code",
   "execution_count": null,
   "id": "ddcb6dec",
   "metadata": {},
   "outputs": [],
   "source": [
    "def is_perfect_number(number):\n",
    "    if number <= 0:\n",
    "        return False\n",
    "    divisor_sum = 0\n",
    "    for i in range(1, number):\n",
    "        if number % i == 0:\n",
    "            divisor_sum += i\n",
    "    return divisor_sum == number\n",
    "\n"
   ]
  },
  {
   "cell_type": "markdown",
   "id": "483aa45e",
   "metadata": {},
   "source": [
    "# Ques 45:\n"
   ]
  },
  {
   "cell_type": "code",
   "execution_count": null,
   "id": "caa2e4f7",
   "metadata": {},
   "outputs": [],
   "source": [
    "def remove_duplicates_from_string(string):\n",
    "    return ''.join(set(string))\n",
    "\n"
   ]
  },
  {
   "cell_type": "markdown",
   "id": "5f084a46",
   "metadata": {},
   "source": [
    "# Ques 46:\n"
   ]
  },
  {
   "cell_type": "code",
   "execution_count": null,
   "id": "f3ebaca8",
   "metadata": {},
   "outputs": [],
   "source": [
    "def find_first_missing_positive(nums):\n",
    "    n = len(nums)\n",
    "    for i in range(n):\n",
    "        while 0 < nums[i] <= n and nums[nums[i] - 1] != nums[i]:\n",
    "            nums[nums[i] - 1], nums[i] = nums[i], nums[nums[i] - 1]\n",
    "    for i in range(n):\n",
    "        if nums[i] != i + 1:\n",
    "            return i + 1\n",
    "    return n + 1\n"
   ]
  }
 ],
 "metadata": {
  "kernelspec": {
   "display_name": "Python 3 (ipykernel)",
   "language": "python",
   "name": "python3"
  },
  "language_info": {
   "codemirror_mode": {
    "name": "ipython",
    "version": 3
   },
   "file_extension": ".py",
   "mimetype": "text/x-python",
   "name": "python",
   "nbconvert_exporter": "python",
   "pygments_lexer": "ipython3",
   "version": "3.9.13"
  }
 },
 "nbformat": 4,
 "nbformat_minor": 5
}
