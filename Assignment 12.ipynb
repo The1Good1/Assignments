{
 "cells": [
  {
   "cell_type": "markdown",
   "id": "1a4736a7",
   "metadata": {},
   "source": [
    "# Ques 1:"
   ]
  },
  {
   "cell_type": "markdown",
   "id": "74cfc6f9",
   "metadata": {},
   "source": [
    "In what modes should the PdfFileReader() and PdfFileWriter() File objects will be opened?"
   ]
  },
  {
   "cell_type": "markdown",
   "id": "235adfba",
   "metadata": {},
   "source": [
    "PdfFileReader() and PdfFileWriter() File objects should be opened in binary mode ('rb' for reading and 'wb' for writing)."
   ]
  },
  {
   "cell_type": "markdown",
   "id": "916f92c9",
   "metadata": {},
   "source": [
    "# Ques 2:"
   ]
  },
  {
   "cell_type": "markdown",
   "id": "8cbcd8c6",
   "metadata": {},
   "source": [
    "From a PdfFileReader object, how do you get a Page object for page 5?\n"
   ]
  },
  {
   "cell_type": "markdown",
   "id": "eb3bb27a",
   "metadata": {},
   "source": [
    "To get a Page object for page 5 from a PdfFileReader object, we can use the following code:"
   ]
  },
  {
   "cell_type": "markdown",
   "id": "951cd871",
   "metadata": {},
   "source": [
    "page = pdf_reader.getPage(4)"
   ]
  },
  {
   "cell_type": "markdown",
   "id": "8adff53d",
   "metadata": {},
   "source": [
    "the index for the first page is 0, so page 5 is at index 4"
   ]
  },
  {
   "cell_type": "markdown",
   "id": "b2526c8c",
   "metadata": {},
   "source": [
    "# Ques 3:"
   ]
  },
  {
   "cell_type": "markdown",
   "id": "709eb81a",
   "metadata": {},
   "source": [
    "What PdfFileReader variable stores the number of pages in the PDF document?"
   ]
  },
  {
   "cell_type": "markdown",
   "id": "da35fa69",
   "metadata": {},
   "source": [
    "The 'numPages' variable of a PdfFileReader object stores the number of pages in the PDF document."
   ]
  },
  {
   "cell_type": "markdown",
   "id": "172f8035",
   "metadata": {},
   "source": [
    "# Ques 4:\n"
   ]
  },
  {
   "cell_type": "markdown",
   "id": "3b83a0d0",
   "metadata": {},
   "source": [
    "If a PdfFileReader object’s PDF is encrypted with the password swordfish, what must you do before you can obtain Page objects from it?"
   ]
  },
  {
   "cell_type": "markdown",
   "id": "82e3bfa2",
   "metadata": {},
   "source": [
    "If a PdfFileReader object's PDF is encrypted with the password \"swordfish\", we must call the decrypt() method on the object and pass in the correct password as an argument before we can obtain Page objects from it.\n",
    "\n",
    "pdf_reader.decrypt('swordfish')\n"
   ]
  },
  {
   "cell_type": "markdown",
   "id": "ea824a36",
   "metadata": {},
   "source": [
    "# Ques 5:\n"
   ]
  },
  {
   "cell_type": "markdown",
   "id": "75590f37",
   "metadata": {},
   "source": [
    "What methods do you use to rotate a page?"
   ]
  },
  {
   "cell_type": "markdown",
   "id": "4cab81c5",
   "metadata": {},
   "source": [
    "To rotate a page, we can call the rotateClockwise() or rotateCounterClockwise() method on a Page object.\n",
    "\n",
    "page.rotateClockwise(90)\n"
   ]
  },
  {
   "cell_type": "markdown",
   "id": "3e1eec00",
   "metadata": {},
   "source": [
    "# Ques 6:\n",
    "\n"
   ]
  },
  {
   "cell_type": "markdown",
   "id": "31ed3df2",
   "metadata": {},
   "source": [
    "What is the difference between a Run object and a Paragraph object?"
   ]
  },
  {
   "cell_type": "markdown",
   "id": "b3fb4208",
   "metadata": {},
   "source": [
    "A Run object represents a contiguous run of text with the same style within a Paragraph object, while a Paragraph object represents a single paragraph of text. In other words, a Paragraph object may contain one or more Run objects."
   ]
  },
  {
   "cell_type": "markdown",
   "id": "545fbc09",
   "metadata": {},
   "source": [
    "# Ques 7:\n"
   ]
  },
  {
   "cell_type": "markdown",
   "id": "4241febd",
   "metadata": {},
   "source": [
    "How do you obtain a list of Paragraph objects for a Document object that’s stored in a variable named doc?\n"
   ]
  },
  {
   "cell_type": "markdown",
   "id": "2b181d0b",
   "metadata": {},
   "source": [
    "To obtain a list of Paragraph objects for a Document object stored in a variable named 'doc'\n",
    "\n",
    "paragraphs = doc.paragraphs\n",
    "\n"
   ]
  },
  {
   "cell_type": "markdown",
   "id": "bc9ad8aa",
   "metadata": {},
   "source": [
    "# Ques 8:\n"
   ]
  },
  {
   "cell_type": "markdown",
   "id": "d2d422a4",
   "metadata": {},
   "source": [
    "What type of object has bold, underline, italic, strike, and outline variables?\n"
   ]
  },
  {
   "cell_type": "markdown",
   "id": "619b610b",
   "metadata": {},
   "source": [
    "The Run object in the python-docx library has bold, underline, italic, strike, and outline variables. The Run object represents a contiguous run of text with the same style within a paragraph object. These variables can be used to control the appearance of text within a Run object. "
   ]
  },
  {
   "cell_type": "markdown",
   "id": "47900c04",
   "metadata": {},
   "source": [
    "# Ques 9:\n"
   ]
  },
  {
   "cell_type": "markdown",
   "id": "28bd15b2",
   "metadata": {},
   "source": [
    "What is the difference between False, True, and None for the bold variable?\n"
   ]
  },
  {
   "cell_type": "markdown",
   "id": "3f60a62e",
   "metadata": {},
   "source": [
    "The bold variable can have three possible values: True, False, or None. True means that the text is bold, False means that it is not bold, and None means that the text inherits the bold setting from the style of the parent object (such as a Paragraph object)."
   ]
  },
  {
   "cell_type": "markdown",
   "id": "8b855bfe",
   "metadata": {},
   "source": [
    "# Ques 10:\n"
   ]
  },
  {
   "cell_type": "markdown",
   "id": "73d27f8a",
   "metadata": {},
   "source": [
    "How do you create a Document object for a new Word document?"
   ]
  },
  {
   "cell_type": "markdown",
   "id": "dbcda85e",
   "metadata": {},
   "source": [
    "To create a Document object for a new Word document, we can use the following code:"
   ]
  },
  {
   "cell_type": "markdown",
   "id": "3790cdc4",
   "metadata": {},
   "source": [
    "from docx import Document\n",
    "\n",
    "doc = Document()\n"
   ]
  },
  {
   "cell_type": "markdown",
   "id": "6dd95027",
   "metadata": {},
   "source": [
    "# Ques 11:\n"
   ]
  },
  {
   "cell_type": "markdown",
   "id": "53d68d71",
   "metadata": {},
   "source": [
    "How do you add a paragraph with the text &#39;Hello, there!&#39; to a Document object stored in a\n",
    "variable named doc?\n"
   ]
  },
  {
   "cell_type": "markdown",
   "id": "ed1ddc80",
   "metadata": {},
   "source": [
    "To add a paragraph with the text 'Hello, there!' to a Document object stored in a variable named doc, we can use the following code:\n",
    "\n",
    "doc.add_paragraph('Hello, there!')\n"
   ]
  },
  {
   "cell_type": "markdown",
   "id": "31de9ff2",
   "metadata": {},
   "source": [
    "# Ques 12:\n"
   ]
  },
  {
   "cell_type": "markdown",
   "id": "beff5c8c",
   "metadata": {},
   "source": [
    "What integers represent the levels of headings available in Word documents?"
   ]
  },
  {
   "cell_type": "markdown",
   "id": "ecee2622",
   "metadata": {},
   "source": [
    "The levels of headings available in Word documents are represented by integers from 0 to 8, where 0 is the highest level (for the main heading) and 8 is the lowest level (for a sub-sub-sub-sub-sub-sub-sub-subheading)."
   ]
  },
  {
   "cell_type": "code",
   "execution_count": null,
   "id": "8a803146",
   "metadata": {},
   "outputs": [],
   "source": []
  }
 ],
 "metadata": {
  "kernelspec": {
   "display_name": "Python 3 (ipykernel)",
   "language": "python",
   "name": "python3"
  },
  "language_info": {
   "codemirror_mode": {
    "name": "ipython",
    "version": 3
   },
   "file_extension": ".py",
   "mimetype": "text/x-python",
   "name": "python",
   "nbconvert_exporter": "python",
   "pygments_lexer": "ipython3",
   "version": "3.9.13"
  }
 },
 "nbformat": 4,
 "nbformat_minor": 5
}
