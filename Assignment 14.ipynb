{
 "cells": [
  {
   "cell_type": "markdown",
   "id": "1a4736a7",
   "metadata": {},
   "source": [
    "# Ques 1:"
   ]
  },
  {
   "cell_type": "markdown",
   "id": "74cfc6f9",
   "metadata": {},
   "source": [
    "What does RGBA stand for?\n"
   ]
  },
  {
   "cell_type": "markdown",
   "id": "235adfba",
   "metadata": {},
   "source": [
    "RGBA stands for Red, Green, Blue, and Alpha. It is a color model used to represent colors in digital images. In this model, each pixel is represented by a combination of four values - the amounts of red, green, and blue light that are present in the color (represented as integers between 0 and 255), and an alpha value that represents the transparency of the pixel (represented as a float between 0 and 1)."
   ]
  },
  {
   "cell_type": "markdown",
   "id": "916f92c9",
   "metadata": {},
   "source": [
    "# Ques 2:"
   ]
  },
  {
   "cell_type": "markdown",
   "id": "8cbcd8c6",
   "metadata": {},
   "source": [
    "From the Pillow module, how do you get the RGBA value of any images?\n"
   ]
  },
  {
   "cell_type": "markdown",
   "id": "eb3bb27a",
   "metadata": {},
   "source": [
    "To get the RGBA value of an image using the Pillow module in Python, we can use the getpixel() method. This method takes a tuple containing the x and y coordinates of the pixel you want to retrieve, and returns a tuple containing the RGBA values for that pixel. For example:"
   ]
  },
  {
   "cell_type": "code",
   "execution_count": null,
   "id": "fef4051f",
   "metadata": {},
   "outputs": [],
   "source": [
    "from PIL import Image\n",
    "\n",
    "# Open an image\n",
    "image = Image.open('example.jpg')\n",
    "\n",
    "# Get the RGBA value of a pixel at position (100, 100)\n",
    "pixel_value = image.getpixel((100, 100))\n",
    "\n",
    "print(pixel_value) # Output: (255, 0, 0, 255)\n"
   ]
  },
  {
   "cell_type": "markdown",
   "id": "b2526c8c",
   "metadata": {},
   "source": [
    "# Ques 3:"
   ]
  },
  {
   "cell_type": "markdown",
   "id": "709eb81a",
   "metadata": {},
   "source": [
    " What is a box tuple, and how does it work?\n"
   ]
  },
  {
   "cell_type": "markdown",
   "id": "da35fa69",
   "metadata": {},
   "source": [
    "A box tuple is a tuple of four values that represents a rectangular region in an image. The four values are the left, upper, right, and lower coordinates of the region, in that order. The left and upper coordinates represent the top-left corner of the region, while the right and lower coordinates represent the bottom-right corner. This tuple is typically represented as (left, upper, right, lower)."
   ]
  },
  {
   "cell_type": "markdown",
   "id": "172f8035",
   "metadata": {},
   "source": [
    "# Ques 4:\n"
   ]
  },
  {
   "cell_type": "markdown",
   "id": "3b83a0d0",
   "metadata": {},
   "source": [
    "Use your image and load in notebook then, How can you find out the width and height of an Image object?"
   ]
  },
  {
   "cell_type": "markdown",
   "id": "82e3bfa2",
   "metadata": {},
   "source": [
    "To find out the width and height of an Image object in Python using the Pillow module, we can use the size attribute. This attribute returns a tuple containing the width and height of the image, in pixels. For example:"
   ]
  },
  {
   "cell_type": "code",
   "execution_count": null,
   "id": "6e5d4f67",
   "metadata": {},
   "outputs": [],
   "source": [
    "from PIL import Image\n",
    "\n",
    "# Open an image\n",
    "image = Image.open('example.jpg')\n",
    "\n",
    "# Get the width and height of the image\n",
    "width, height = image.size\n",
    "\n",
    "print('Width:', width)\n",
    "print('Height:', height)\n"
   ]
  },
  {
   "cell_type": "markdown",
   "id": "ea824a36",
   "metadata": {},
   "source": [
    "# Ques 5:\n"
   ]
  },
  {
   "cell_type": "markdown",
   "id": "75590f37",
   "metadata": {},
   "source": [
    "What method would you call to get Image object for a 100×100 image, excluding the lower-left quarter of it?\n"
   ]
  },
  {
   "cell_type": "markdown",
   "id": "4cab81c5",
   "metadata": {},
   "source": [
    "To get an Image object for a 100x100 image that excludes the lower-left quarter of it, we can use the crop() method of the Image object. This method takes a box tuple representing the region of the image we want to crop, and returns a new Image object containing only that region. For example"
   ]
  },
  {
   "cell_type": "code",
   "execution_count": null,
   "id": "7f62c5bb",
   "metadata": {},
   "outputs": [],
   "source": [
    "from PIL import Image\n",
    "\n",
    "# Open an image\n",
    "image = Image.open('example.jpg')\n",
    "\n",
    "# Crop the image to exclude the lower-left quarter\n",
    "box = (0, 50, 50, 100)\n",
    "cropped_image = image.crop(box)\n",
    "\n",
    "# Show the cropped image\n",
    "cropped_image.show()\n"
   ]
  },
  {
   "cell_type": "markdown",
   "id": "6ffedaff",
   "metadata": {},
   "source": [
    "This code opens an image file called 'example.jpg' and crops it to exclude the lower-left quarter, which is represented by the box tuple (0, 50, 50, 100). The crop() method returns a new Image object containing only that region of the original image."
   ]
  },
  {
   "cell_type": "markdown",
   "id": "3e1eec00",
   "metadata": {},
   "source": [
    "# Ques 6:\n",
    "\n"
   ]
  },
  {
   "cell_type": "markdown",
   "id": "31ed3df2",
   "metadata": {},
   "source": [
    "After making changes to an Image object, how could you save it as an image file?\n"
   ]
  },
  {
   "cell_type": "markdown",
   "id": "b3fb4208",
   "metadata": {},
   "source": [
    "To save changes made to an Image object as a new image file, we can use the save() method of the Image object. This method takes the filename we want to save the image as, and the file format we want to use. For example:"
   ]
  },
  {
   "cell_type": "code",
   "execution_count": null,
   "id": "00df80d5",
   "metadata": {},
   "outputs": [],
   "source": [
    "from PIL import Image\n",
    "\n",
    "# Open an image\n",
    "image = Image.open('example.jpg')\n",
    "\n",
    "# Make some changes to the image\n",
    "\n",
    "# Save the modified image as a new file\n",
    "image.save('modified.jpg', 'JPEG')\n"
   ]
  },
  {
   "cell_type": "markdown",
   "id": "545fbc09",
   "metadata": {},
   "source": [
    "# Ques 7:\n"
   ]
  },
  {
   "cell_type": "markdown",
   "id": "4241febd",
   "metadata": {},
   "source": [
    "What module contains Pillow’s shape-drawing code?\n"
   ]
  },
  {
   "cell_type": "markdown",
   "id": "2b181d0b",
   "metadata": {},
   "source": [
    "The module that contains Pillow's shape-drawing code is called ImageDraw. This module provides methods for drawing shapes such as lines, rectangles, circles, and text onto an Image object.\n"
   ]
  },
  {
   "cell_type": "markdown",
   "id": "21879727",
   "metadata": {},
   "source": [
    "# Ques 8:\n"
   ]
  },
  {
   "cell_type": "markdown",
   "id": "05d9d3fc",
   "metadata": {},
   "source": [
    "Image objects do not have drawing methods. What kind of object does? How do you get this kind of object?"
   ]
  },
  {
   "cell_type": "markdown",
   "id": "91da66bf",
   "metadata": {},
   "source": [
    "Image objects do not have drawing methods. To draw on an Image object, we need to create a new object of the ImageDraw.Draw class, which is provided by the ImageDraw module. This object represents a drawing context for the Image object, and provides methods for drawing shapes and text onto the image. To create an ImageDraw.Draw object, we can pass the Image object we want to draw on as an argument to the constructor. For example:"
   ]
  },
  {
   "cell_type": "code",
   "execution_count": null,
   "id": "46ee8848",
   "metadata": {},
   "outputs": [],
   "source": [
    "from PIL import Image, ImageDraw\n",
    "\n",
    "# Open an image\n",
    "image = Image.open('example.jpg')\n",
    "\n",
    "# Create a drawing context for the image\n",
    "draw = ImageDraw.Draw(image)\n",
    "\n",
    "# Draw a red line from (0, 0) to (100, 100)\n",
    "draw.line((0, 0, 100, 100), fill='red')\n",
    "\n",
    "# Show the modified image\n",
    "image.show()\n"
   ]
  }
 ],
 "metadata": {
  "kernelspec": {
   "display_name": "Python 3 (ipykernel)",
   "language": "python",
   "name": "python3"
  },
  "language_info": {
   "codemirror_mode": {
    "name": "ipython",
    "version": 3
   },
   "file_extension": ".py",
   "mimetype": "text/x-python",
   "name": "python",
   "nbconvert_exporter": "python",
   "pygments_lexer": "ipython3",
   "version": "3.9.13"
  }
 },
 "nbformat": 4,
 "nbformat_minor": 5
}
