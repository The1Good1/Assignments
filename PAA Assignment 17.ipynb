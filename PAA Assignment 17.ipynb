{
 "cells": [
  {
   "cell_type": "markdown",
   "id": "f63ea100",
   "metadata": {},
   "source": [
    "# Ques 1\n",
    "Q1. Explain the difference between greedy and non-greedy syntax with visual terms in as few words\n",
    "as possible. What is the bare minimum effort required to transform a greedy pattern into a non-greedy\n",
    "one? What characters or characters can you introduce or change?\n",
    "\n",
    "Greedy and non-greedy syntax in regular expressions determine the behavior of quantifiers (such as *, +, ?, {}) when matching patterns.\n",
    "\n",
    "1. Greedy: Matches as much as possible, consuming the maximum portion of the input string. It tries to match the longest possible substring that satisfies the pattern.\n",
    "2. Non-greedy (also called lazy or reluctant): Matches as little as possible, consuming the minimum portion of the input string. It tries to match the shortest possible substring that satisfies the pattern.\n",
    "\n",
    "\n",
    "To transform a greedy pattern into a non-greedy one, we can introduce the '?' character after a quantifier. For example, *?, +?, ??, {n, m}?."
   ]
  },
  {
   "cell_type": "markdown",
   "id": "7f4be2e0",
   "metadata": {},
   "source": [
    "# Ques 2\n",
    "Q2. When exactly does greedy versus non-greedy make a difference?  What if you&#39;re looking for a\n",
    "non-greedy match but the only one available is greedy?\n",
    "\n",
    "The distinction between greedy and non-greedy matching makes a difference when there are multiple possible matches within the input string.\n",
    "\n",
    "If we're looking for a non-greedy match, but only a greedy match is available, the greedy match will be returned. In such cases, we may need to modify the regular expression pattern to make it non-greedy or adjust the pattern logic to handle the specific matching requirements."
   ]
  },
  {
   "cell_type": "markdown",
   "id": "1e5531cd",
   "metadata": {},
   "source": [
    "# Ques 3\n",
    "\n",
    "Q3. In a simple match of a string, which looks only for one match and does not do any replacement, is\n",
    "the use of a nontagged group likely to make any practical difference?\n",
    "\n",
    " In a simple match of a string that only looks for one match and does not perform any replacement, the use of a non-tagged group (a group without capturing using parentheses) may not make a practical difference. Non-tagged groups are useful when we want to group a pattern without capturing it for later use, but in this scenario, where no further processing is done, the capturing behavior does not impact the outcome."
   ]
  },
  {
   "cell_type": "markdown",
   "id": "64f68878",
   "metadata": {},
   "source": [
    "# Ques 4\n",
    "Q4. Describe a scenario in which using a nontagged category would have a significant impact on the\n",
    "program's outcomes.\n",
    "\n",
    "A scenario where using a non-tagged category (a category without capturing using parentheses) can have a significant impact on the program's outcomes is when we are using backreferences to refer to captured groups. Backreferences allow us to refer to previously captured groups within the regular expression pattern.\n",
    "\n",
    "If we have multiple capturing groups in our pattern and we only want to refer to a specific group without capturing the others, using a non-tagged category for the unwanted groups ensures that they are not included in the backreferences. This can affect the results of the match or replacement operation if we rely on specific group references.\n"
   ]
  },
  {
   "cell_type": "markdown",
   "id": "a0593883",
   "metadata": {},
   "source": [
    "# Ques 5\n",
    "\n",
    "Q5. Unlike a normal regex pattern, a look-ahead condition does not consume the characters it\n",
    "examines. Describe a situation in which this could make a difference in the results of your\n",
    "programme.\n",
    "\n",
    "\n",
    "Look-ahead conditions in regular expressions allow you to specify conditions that must be satisfied without actually consuming the characters they examine. This can make a difference in the results of our program when we want to match or validate patterns based on specific conditions without including the condition characters in the actual match.\n",
    "\n",
    "For example, suppose you have a string containing multiple email addresses separated by commas. If we want to extract only the email addresses that are followed by \"@gmail.com\" without including \"@gmail.com\" in the match, we can use a positive look-ahead condition like (?=@gmail.com).\n",
    "\n",
    "Using a look-ahead condition in this scenario ensures that only the email addresses meeting the specified condition are included in the match result, without including the look-ahead characters in the actual match.\n",
    "\n"
   ]
  },
  {
   "cell_type": "markdown",
   "id": "0eb164da",
   "metadata": {},
   "source": [
    "# Ques 6\n",
    "\n",
    "Q6. In standard expressions, what is the difference between positive look-ahead and negative look-\n",
    "ahead?\n",
    "\n",
    "Positive look-ahead ((?=...)) and negative look-ahead ((?!...)) are both types of look-ahead conditions used in regular expressions.\n",
    "\n",
    "1. Positive look-ahead: Matches a group of characters if they are followed by a specific pattern. It asserts the presence of the specified pattern after the current position in the string.\n",
    "2. Negative look-ahead: Matches a group of characters if they are not followed by a specific pattern. It asserts the absence of the specified pattern after the current position in the string.\n",
    "In simpler terms, positive look-ahead checks if the pattern is there, while negative look-ahead checks if the pattern is not there.\n",
    "\n",
    "\n",
    "\n",
    "\n",
    "\n"
   ]
  },
  {
   "cell_type": "markdown",
   "id": "6ab47f00",
   "metadata": {},
   "source": [
    "# Ques 7\n",
    "\n",
    "Q7. What is the benefit of referring to groups by name rather than by number in a standard\n",
    "expression?\n",
    "\n",
    "Referring to groups by name, rather than by number, in a regular expression provides several benefits:\n",
    "\n",
    "1. Readability: Using named groups makes the regular expression pattern more readable and self-explanatory, as the group names can provide meaningful context to the pattern.\n",
    "2. Maintenance: When modifying or updating the regular expression, using named groups allows us to refer to groups by their semantic names instead of relying on positional numbers. This makes the pattern more robust and less prone to errors.\n",
    "3. Clarity: By using named groups, it becomes easier to understand the purpose and usage of each group in the pattern.\n",
    "\n"
   ]
  },
  {
   "cell_type": "markdown",
   "id": "207fecdb",
   "metadata": {},
   "source": [
    "# Ques 8\n",
    "\n",
    "\n",
    "Q8. Can you identify repeated items within a target string using named groups, as in &quot;The cow\n",
    "jumped over the moon&quot;?\n",
    "\n",
    "Yes, we can identify repeated items within a target string using named groups in regular expressions. For example, in the string \"The cow jumped over the moon\", we can define a named group like (?P<word>\\w+) to capture repeated words. This named group will capture each word in the string as a separate match, allowing us to identify the repeated items.\n",
    "\n"
   ]
  },
  {
   "cell_type": "markdown",
   "id": "c75283ac",
   "metadata": {},
   "source": [
    "# Ques 9\n",
    "\n",
    "Q9. When parsing a string, what is at least one thing that the Scanner interface does for you that the\n",
    "re.findall feature does not?\n",
    "\n",
    " When parsing a string, the Scanner interface in Python provides additional functionality compared to the re.findall feature. Some things that the Scanner interface does for you include:\n",
    "\n",
    "1. Tokenization: The Scanner interface allows us to tokenize a string by defining specific patterns for different types of tokens. It automatically iterates over the string, identifying and returning the next token based on the defined patterns.\n",
    "2. Ignoring patterns: The Scanner interface allows us to specify patterns that should be skipped or ignored during the parsing process. This can be useful for excluding whitespace or other irrelevant characters.\n",
    "3. Iterative parsing: The Scanner interface provides a convenient way to iterate over the tokens in a string, allowing us to process them one by one without having to extract all matches upfront.\n"
   ]
  },
  {
   "cell_type": "markdown",
   "id": "f98a2c3a",
   "metadata": {},
   "source": [
    "# Ques 10\n",
    "\n",
    "\n",
    "Q10. Does a scanner object have to be named scanner?\n",
    "\n",
    "No, a Scanner object does not have to be named \"scanner\". The name of the object is arbitrary and can be chosen according to your preference or the specific context of our program. The important thing is to instantiate a Scanner object and use it to parse the desired string using the defined patterns and logic. The choice of the object's name does not affect its functionality or behavior.\n"
   ]
  },
  {
   "cell_type": "code",
   "execution_count": null,
   "id": "36a83517",
   "metadata": {},
   "outputs": [],
   "source": []
  }
 ],
 "metadata": {
  "kernelspec": {
   "display_name": "Python 3 (ipykernel)",
   "language": "python",
   "name": "python3"
  },
  "language_info": {
   "codemirror_mode": {
    "name": "ipython",
    "version": 3
   },
   "file_extension": ".py",
   "mimetype": "text/x-python",
   "name": "python",
   "nbconvert_exporter": "python",
   "pygments_lexer": "ipython3",
   "version": "3.9.13"
  }
 },
 "nbformat": 4,
 "nbformat_minor": 5
}
