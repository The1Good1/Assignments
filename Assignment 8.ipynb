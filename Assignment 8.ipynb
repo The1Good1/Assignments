{
 "cells": [
  {
   "cell_type": "markdown",
   "id": "33e18115",
   "metadata": {},
   "source": [
    "# Ques1:"
   ]
  },
  {
   "cell_type": "markdown",
   "id": "e0048b7a",
   "metadata": {},
   "source": [
    "Is the Python Standard Library included with PyInputPlus?\n",
    "\n",
    "No, the Python Standard Library is not included with PyInputPlus. It is a separate library that provides additional functionality for taking user input."
   ]
  },
  {
   "cell_type": "markdown",
   "id": "ccc7fe8a",
   "metadata": {},
   "source": [
    "# Ques 2:"
   ]
  },
  {
   "cell_type": "markdown",
   "id": "96762dd7",
   "metadata": {},
   "source": [
    "Why is PyInputPlus commonly imported with import pyinputplus as pypi?\n",
    "\n",
    "PyInputPlus is commonly imported with the name 'pypi' to make it easier to reference in code and avoid naming conflicts with other modules."
   ]
  },
  {
   "cell_type": "markdown",
   "id": "a118d99d",
   "metadata": {},
   "source": [
    "# Ques 3:"
   ]
  },
  {
   "cell_type": "markdown",
   "id": "823f72a2",
   "metadata": {},
   "source": [
    "How do you distinguish between inputInt() and inputFloat()?\n",
    "\n",
    "inputInt() is used to get an integer input from the user, while inputFloat() is used to get a floating-point number input from the user."
   ]
  },
  {
   "cell_type": "markdown",
   "id": "fd7838f8",
   "metadata": {},
   "source": [
    "# Ques 4:"
   ]
  },
  {
   "cell_type": "markdown",
   "id": "c65c2832",
   "metadata": {},
   "source": [
    "Using PyInputPlus, how do you ensure that the user enters a whole number between 0 and 99?\n",
    "\n",
    "We can use the inputInt() function with the min and max keyword arguments set to 0 and 99 respectively to ensure that the user enters a whole number between 0 and 99. Here's an example code snippet: 'response = pyip.inputInt(prompt='Enter a number: ', min=0, max=99)'"
   ]
  },
  {
   "cell_type": "markdown",
   "id": "9e650825",
   "metadata": {},
   "source": [
    "# Ques 5:"
   ]
  },
  {
   "cell_type": "markdown",
   "id": "f02dd9d6",
   "metadata": {},
   "source": [
    "What is transferred to the keyword arguments allowRegexes and blockRegexes?\n",
    "\n",
    "allowRegexes and blockRegexes are lists of regular expressions that allow or block certain patterns of input from the user. For example, we could use allowRegexes to only allow inputs that match a certain pattern \n",
    "(e.g. only accept inputs that start with a certain letter), \n",
    "or use blockRegexes to block inputs that match a certain pattern \n",
    "(e.g. don't accept inputs that contain certain words)."
   ]
  },
  {
   "cell_type": "markdown",
   "id": "183a83a2",
   "metadata": {},
   "source": [
    "# Ques 6:"
   ]
  },
  {
   "cell_type": "markdown",
   "id": "d41e0fe8",
   "metadata": {},
   "source": [
    "If a blank input is entered three times, what does inputStr(limit=3) do?\n",
    "\n",
    "If a blank input is entered three times with inputStr(limit=3), the function will raise a RetryLimitException. This exception is raised when the maximum number of retries is reached and the user has not entered valid input."
   ]
  },
  {
   "cell_type": "markdown",
   "id": "06791d94",
   "metadata": {},
   "source": [
    "# Ques 7:"
   ]
  },
  {
   "cell_type": "markdown",
   "id": "29b6099c",
   "metadata": {},
   "source": [
    "If blank input is entered three times, what does inputStr(limit=3, default='hello') do?\n",
    "\n",
    "If a blank input is entered three times with inputStr(limit=3, default='hello'), the function will return the default value 'hello'. This is because the default value is used when the user reaches the maximum number of retries and has not entered valid input.\n"
   ]
  },
  {
   "cell_type": "code",
   "execution_count": null,
   "id": "ddff436f",
   "metadata": {},
   "outputs": [],
   "source": []
  }
 ],
 "metadata": {
  "kernelspec": {
   "display_name": "Python 3 (ipykernel)",
   "language": "python",
   "name": "python3"
  },
  "language_info": {
   "codemirror_mode": {
    "name": "ipython",
    "version": 3
   },
   "file_extension": ".py",
   "mimetype": "text/x-python",
   "name": "python",
   "nbconvert_exporter": "python",
   "pygments_lexer": "ipython3",
   "version": "3.9.13"
  }
 },
 "nbformat": 4,
 "nbformat_minor": 5
}
