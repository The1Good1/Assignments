{
 "cells": [
  {
   "cell_type": "code",
   "execution_count": 6,
   "id": "71328a09",
   "metadata": {},
   "outputs": [],
   "source": [
    "# Ques 1\n",
    "\n",
    "def secret(string):\n",
    "    classes = string.split(\".\")[1:]\n",
    "    class_str = \" \".join(classes)\n",
    "    return f\"<{string.split('.')[0]} class='{class_str}'></{string.split('.')[0]}>\"\n",
    "\n"
   ]
  },
  {
   "cell_type": "code",
   "execution_count": 7,
   "id": "7b41e54b",
   "metadata": {},
   "outputs": [],
   "source": [
    "# Ques 2\n",
    "\n",
    "def count_lone_ones(number):\n",
    "    number_str = str(number)\n",
    "    count = 0\n",
    "    for i in range(len(number_str)):\n",
    "        if number_str[i] == '1':\n",
    "            if i == 0 or number_str[i - 1] != '1':\n",
    "                if i == len(number_str) - 1 or number_str[i + 1] != '1':\n",
    "                    count += 1\n",
    "    return count\n"
   ]
  },
  {
   "cell_type": "code",
   "execution_count": 8,
   "id": "b406cc99",
   "metadata": {},
   "outputs": [],
   "source": [
    "# Ques 3\n",
    "\n",
    "def printGrid(rows, cols):\n",
    "    grid = [[j + i * cols + 1 for i in range(rows)] for j in range(cols)]\n",
    "    return grid\n",
    "\n",
    "\n"
   ]
  },
  {
   "cell_type": "code",
   "execution_count": 9,
   "id": "129a0cab",
   "metadata": {},
   "outputs": [],
   "source": [
    "# Ques 4\n",
    "\n",
    "def min_miss_pos(nums):\n",
    "    nums.sort()\n",
    "    smallest_pos = 1\n",
    "    for num in nums:\n",
    "        if num == smallest_pos:\n",
    "            smallest_pos += 1\n",
    "        elif num > smallest_pos:\n",
    "            return smallest_pos\n",
    "    return smallest_pos\n"
   ]
  },
  {
   "cell_type": "code",
   "execution_count": 10,
   "id": "20b183cf",
   "metadata": {},
   "outputs": [],
   "source": [
    "# Ques 5\n",
    "\n",
    "def pizza_points(customers, min_orders, min_order_price):\n",
    "    eligible_customers = []\n",
    "    for customer, orders in customers.items():\n",
    "        qualified_orders = [order for order in orders if order >= min_order_price]\n",
    "        if len(qualified_orders) >= min_orders:\n",
    "            eligible_customers.append(customer)\n",
    "    return eligible_customers\n"
   ]
  },
  {
   "cell_type": "code",
   "execution_count": null,
   "id": "cc6ed03b",
   "metadata": {},
   "outputs": [],
   "source": []
  },
  {
   "cell_type": "code",
   "execution_count": null,
   "id": "77adb336",
   "metadata": {},
   "outputs": [],
   "source": []
  }
 ],
 "metadata": {
  "kernelspec": {
   "display_name": "Python 3 (ipykernel)",
   "language": "python",
   "name": "python3"
  },
  "language_info": {
   "codemirror_mode": {
    "name": "ipython",
    "version": 3
   },
   "file_extension": ".py",
   "mimetype": "text/x-python",
   "name": "python",
   "nbconvert_exporter": "python",
   "pygments_lexer": "ipython3",
   "version": "3.9.13"
  }
 },
 "nbformat": 4,
 "nbformat_minor": 5
}
