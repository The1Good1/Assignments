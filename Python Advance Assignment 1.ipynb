{
 "cells": [
  {
   "cell_type": "markdown",
   "id": "6e080158",
   "metadata": {},
   "source": [
    "# Ques 1"
   ]
  },
  {
   "cell_type": "markdown",
   "id": "e5d7316d",
   "metadata": {},
   "source": [
    "What is the purpose of Python's OOP?\n",
    "\n",
    "The purpose of Python's Object-Oriented Programming (OOP) is to provide a way to structure and organize complex code so that it is easier to write, modify, and maintain. OOP allows us to define custom data types called classes, which encapsulate data and the functions that operate on that data.\n",
    "\n",
    "By using OOP, we can create reusable and modular code that is easier to maintain and extend. OOP also allows for concepts such as inheritance and polymorphism, which can help reduce code duplication and make our code more flexible.\n",
    "\n",
    "In Python, everything is an object, and the language provides powerful features to support OOP. With Python's OOP capabilities, we can create complex applications that are easy to understand and maintain, making it a popular choice for large-scale projects."
   ]
  },
  {
   "cell_type": "markdown",
   "id": "fbe0d8fd",
   "metadata": {},
   "source": [
    "# Ques 2"
   ]
  },
  {
   "cell_type": "markdown",
   "id": "995db09d",
   "metadata": {},
   "source": [
    "Where does an inheritance search look for an attribute?\n",
    "\n",
    "When an object tries to access an attribute (such as a method or a variable), the interpreter searches for that attribute in a specific order, known as the Method Resolution Order (MRO). The MRO is determined by the inheritance hierarchy of the object's class.\n",
    "\n",
    "The inheritance search for an attribute looks for the attribute in the following order:\n",
    "\n",
    "1 . The object's own class (also called the instance's class).\n",
    "2 . The classes that the object's class inherits from, in the order that they are listed in the class definition (i.e., left to right).\n",
    "3 . The built-in object class (which all classes inherit from).\n",
    "If the attribute is not found in any of these locations, Python will raise an AttributeError.\n",
    "\n",
    "This order ensures that the most specific attributes are found first and that the search is consistent across all objects of the same class hierarchy"
   ]
  },
  {
   "cell_type": "markdown",
   "id": "d0977d1b",
   "metadata": {},
   "source": [
    "# Ques 3"
   ]
  },
  {
   "cell_type": "markdown",
   "id": "23acc58d",
   "metadata": {},
   "source": [
    "How do you distinguish between a class object and an instance object?\n",
    "\n",
    "In object-oriented programming, a class is a blueprint for creating objects, and an instance is an object created from that blueprint.\n",
    "\n",
    "A class object is the object that represents the class itself. It is a single object in memory, and its attributes are shared by all instances of the class. We can access class attributes using the class name, like this:"
   ]
  },
  {
   "cell_type": "code",
   "execution_count": 3,
   "id": "f8371923",
   "metadata": {},
   "outputs": [
    {
     "name": "stdout",
     "output_type": "stream",
     "text": [
      "I am a class attribute 1\n"
     ]
    }
   ],
   "source": [
    "class Rajat:\n",
    "    class_attribute = \"I am a class attribute 1\"\n",
    "\n",
    "print(Rajat.class_attribute)\n"
   ]
  },
  {
   "cell_type": "markdown",
   "id": "90143a1a",
   "metadata": {},
   "source": [
    "An instance object, on the other hand, is an individual object created from the class blueprint. Each instance has its own set of attributes and methods, which can be unique from those of other instances of the same class. To create an instance of a class, we use the class name followed by parentheses, like this:"
   ]
  },
  {
   "cell_type": "code",
   "execution_count": 4,
   "id": "d24cf8f1",
   "metadata": {},
   "outputs": [
    {
     "name": "stdout",
     "output_type": "stream",
     "text": [
      "I am an instance attribute\n"
     ]
    }
   ],
   "source": [
    "class Rajat:\n",
    "    def __init__(self):\n",
    "        self.instance_attribute = \"I am an instance attribute\"\n",
    "\n",
    "my_object = Rajat()\n",
    "print(my_object.instance_attribute)\n"
   ]
  },
  {
   "cell_type": "markdown",
   "id": "82a1ada8",
   "metadata": {},
   "source": [
    "In this example, my_object is an instance of the Rajat class. It has its own instance_attribute attribute, which is separate from any other instances of the class"
   ]
  },
  {
   "cell_type": "markdown",
   "id": "d1eb81ba",
   "metadata": {},
   "source": [
    "# Ques 4"
   ]
  },
  {
   "cell_type": "markdown",
   "id": "27903444",
   "metadata": {},
   "source": [
    "What makes the first argument in a class’s method function special?\n",
    "\n",
    "The first argument of a class's method function is typically named self. This argument refers to the instance of the class that the method is being called on. It is a way for the method to access and modify the instance's attributes and behavior.\n",
    "\n",
    "When we call an instance method on an object, Python automatically passes the instance as the first argument to the method. For example, consider the following class:"
   ]
  },
  {
   "cell_type": "code",
   "execution_count": 9,
   "id": "541588c8",
   "metadata": {},
   "outputs": [],
   "source": [
    "class Class1:\n",
    "    def method(self):\n",
    "        print(\"Hello from method\")\n"
   ]
  },
  {
   "cell_type": "markdown",
   "id": "130c8f22",
   "metadata": {},
   "source": [
    "To call the method() method on an instance of class1, we would use the following syntax:"
   ]
  },
  {
   "cell_type": "code",
   "execution_count": 10,
   "id": "b16f0c45",
   "metadata": {},
   "outputs": [
    {
     "name": "stdout",
     "output_type": "stream",
     "text": [
      "Hello from method\n"
     ]
    }
   ],
   "source": [
    "my_instance = Class1()\n",
    "my_instance.method()"
   ]
  },
  {
   "cell_type": "markdown",
   "id": "cca3d5ca",
   "metadata": {},
   "source": [
    "When 'method()' is called on 'my_instance', Python automatically passes 'my_instance' as the 'self' argument to the method. This allows the method to access and modify the instance's attributes and behavior.\n",
    "\n",
    "In summary, the 'self' argument in a class's method function is special because it allows the method to access and modify the attributes and behavior of the instance that the method is being called on."
   ]
  },
  {
   "cell_type": "markdown",
   "id": "739647b1",
   "metadata": {},
   "source": [
    "# Ques 5"
   ]
  },
  {
   "cell_type": "markdown",
   "id": "c66f1940",
   "metadata": {},
   "source": [
    "What is the purpose of the __init__ method?"
   ]
  },
  {
   "cell_type": "markdown",
   "id": "173c269a",
   "metadata": {},
   "source": [
    "The '__init__()' method is a special method in Python classes that is called when an instance of the class is created. It is commonly used to initialize the attributes of the instance.\n",
    "\n",
    "When we create a new instance of a class, Python automatically calls the '__init__()' method for that instance. We can define the '__init__()' method in our class to specify how the instance's attributes should be initialized. For example:"
   ]
  },
  {
   "cell_type": "code",
   "execution_count": 11,
   "id": "af91ecad",
   "metadata": {},
   "outputs": [],
   "source": [
    "class Person:\n",
    "    def __init__(self, name, age):\n",
    "        self.name = name\n",
    "        self.age = age\n"
   ]
  },
  {
   "cell_type": "markdown",
   "id": "883a2d12",
   "metadata": {},
   "source": [
    "In this example, the '__init__()' method takes two arguments (name and age) and sets the instance's name and age attributes based on those arguments. When we create a new Person instance, we would specify values for the name and age arguments:"
   ]
  },
  {
   "cell_type": "code",
   "execution_count": 13,
   "id": "ca7dc7fd",
   "metadata": {},
   "outputs": [],
   "source": [
    "person1 = Person(\"Rocky\", 30)\n",
    "person2 = Person(\"Rajat\", 25)\n"
   ]
  },
  {
   "cell_type": "markdown",
   "id": "2a084ceb",
   "metadata": {},
   "source": [
    "In this example, person1 and person2 are both instances of the Person class, and their name and age attributes are initialized based on the arguments passed to the __init__() method.\n",
    "\n",
    "In summary, the __init__() method is used to initialize the attributes of a class instance when it is created. It is a common way to set up the initial state of a class instance."
   ]
  },
  {
   "cell_type": "markdown",
   "id": "4191ee93",
   "metadata": {},
   "source": [
    "# Ques 6"
   ]
  },
  {
   "cell_type": "markdown",
   "id": "6488c991",
   "metadata": {},
   "source": [
    "What is the process for creating a class instance?\n",
    "\n",
    "Creating a class instance involves the following steps:\n",
    "\n",
    "Define the class: First, we need to define the class with the class keyword. The class defines the blueprint for the objects that you want to create. We define the class attributes and methods inside the class definition.\n",
    "\n",
    "Once we have defined the class, we can create an instance of the class by calling the class like a function. When we call the class, Python creates a new instance of the class and returns it. We can assign the instance to a variable so that we can access it later.\n",
    "\n",
    "Initialize the instance: When we create an instance of a class, Python automatically calls the '__init__()' method for that instance, if it is defined. The '__init__()' method is used to initialize the attributes of the instance. We can pass arguments to the '__init__()' method to initialize the instance with specific values.\n",
    "\n",
    "Here is an example that demonstrates the process of creating a class instance:"
   ]
  },
  {
   "cell_type": "code",
   "execution_count": 14,
   "id": "9efc0763",
   "metadata": {},
   "outputs": [
    {
     "name": "stdout",
     "output_type": "stream",
     "text": [
      "Rocky\n",
      "30\n"
     ]
    }
   ],
   "source": [
    "class Enter_Person:\n",
    "    def __init__(self, name, age):\n",
    "        self.name = name\n",
    "        self.age = age\n",
    "\n",
    "# Create a Person instance\n",
    "person1 = Person(\"Rocky\", 30)\n",
    "\n",
    "# Access the instance attributes\n",
    "print(person1.name) \n",
    "print(person1.age)\n"
   ]
  },
  {
   "cell_type": "markdown",
   "id": "6e8c1052",
   "metadata": {},
   "source": [
    "In this example, we define a 'Enter_Person' class with an '__init__()' method that takes two arguments (name and age) and initializes the instance's attributes with those values. We then create a Person instance by calling the Person class like a function and passing it the arguments \"Rocky\" and 30. Finally, we access the instance attributes using dot notation (person1.name and person1.age)."
   ]
  },
  {
   "cell_type": "markdown",
   "id": "e429ac45",
   "metadata": {},
   "source": [
    "# Ques 7"
   ]
  },
  {
   "cell_type": "markdown",
   "id": "a9c935b3",
   "metadata": {},
   "source": [
    "What is the process for creating a class?\n",
    "\n",
    "To create a class, we can follow these steps:\n",
    "\n",
    "Use the class keyword followed by the name of the class, using CamelCase convention. For example, class Enter_Person:.\n",
    "\n",
    "1 . Define the attributes of the class inside the class definition. These are variables that hold data specific to each instance of the class.\n",
    "\n",
    "2 . Define the methods of the class inside the class definition. These are functions that perform actions on the data stored in the attributes.\n",
    "\n",
    "3 . Optionally, define a constructor method __init__() inside the class definition. The constructor is a special method that is called when an instance of the class is created. It is used to initialize the attributes of the instance with values passed as arguments.\n"
   ]
  },
  {
   "cell_type": "markdown",
   "id": "8f5e295b",
   "metadata": {},
   "source": [
    "# Ques 8"
   ]
  },
  {
   "cell_type": "markdown",
   "id": "37e49091",
   "metadata": {},
   "source": [
    "How would you define the superclasses of a class?\n",
    "\n",
    "To define the superclasses of a class, we need to use inheritance. We can define a subclass by putting the name of the superclass in parentheses after the subclass name in the class definition.\n",
    "\n",
    "For example, let's say we have a Square class and we want to define a Cube class that inherits from Square:"
   ]
  },
  {
   "cell_type": "code",
   "execution_count": 15,
   "id": "392e21e1",
   "metadata": {},
   "outputs": [],
   "source": [
    "class Square:\n",
    "    def __init__(self, side):\n",
    "        self.side = side\n",
    "        \n",
    "    def area(self):\n",
    "        return self.side ** 2\n",
    "\n",
    "class Cube(Square):\n",
    "    def volume(self):\n",
    "        return self.side ** 3\n"
   ]
  },
  {
   "cell_type": "markdown",
   "id": "c3213a73",
   "metadata": {},
   "source": [
    "In this example, the 'Cube' class is defined as a subclass of 'Square' by putting 'Square' in parentheses after 'Cube'. This means that 'Cube' inherits all the attributes and methods of 'Square'. In this case, 'Cube' adds a new method, 'volume()', which calculates the volume of a cube using the 'side' attribute inherited from 'Square'.\n",
    "\n",
    "Inheritance creates a relationship between two classes: the subclass \"is-a\" type of the superclass. By using inheritance, you can reuse code from the superclass and customize it in the subclass."
   ]
  },
  {
   "cell_type": "code",
   "execution_count": null,
   "id": "e71e89db",
   "metadata": {},
   "outputs": [],
   "source": []
  }
 ],
 "metadata": {
  "kernelspec": {
   "display_name": "Python 3 (ipykernel)",
   "language": "python",
   "name": "python3"
  },
  "language_info": {
   "codemirror_mode": {
    "name": "ipython",
    "version": 3
   },
   "file_extension": ".py",
   "mimetype": "text/x-python",
   "name": "python",
   "nbconvert_exporter": "python",
   "pygments_lexer": "ipython3",
   "version": "3.9.13"
  }
 },
 "nbformat": 4,
 "nbformat_minor": 5
}
