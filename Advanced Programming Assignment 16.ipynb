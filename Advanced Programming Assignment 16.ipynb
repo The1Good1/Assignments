{
 "cells": [
  {
   "cell_type": "code",
   "execution_count": 6,
   "id": "71328a09",
   "metadata": {},
   "outputs": [],
   "source": [
    "# Ques 1\n",
    "\n",
    "def valid_rondo(s):\n",
    "    if len(s) < 3 or s[0] != 'A' or s[-1] != 'A':\n",
    "        return False\n",
    "    for i in range(1, len(s) - 1):\n",
    "        if i % 2 == 1 and s[i] != chr(ord('A') + i // 2):\n",
    "            return False\n",
    "        elif i % 2 == 0 and s[i] != 'A':\n",
    "            return False\n",
    "    return True\n"
   ]
  },
  {
   "cell_type": "code",
   "execution_count": 7,
   "id": "7b41e54b",
   "metadata": {},
   "outputs": [],
   "source": [
    "# Ques 2\n",
    "\n",
    "def sentence_searcher(txt, word):\n",
    "    sentences = txt.split('. ')\n",
    "    for sentence in sentences:\n",
    "        if word.lower() in sentence.lower():\n",
    "            return sentence + '.'\n",
    "    return ''\n"
   ]
  },
  {
   "cell_type": "code",
   "execution_count": 8,
   "id": "b406cc99",
   "metadata": {},
   "outputs": [],
   "source": [
    "# Ques 3\n",
    "\n",
    "def sum_round(num):\n",
    "    num_str = str(num)\n",
    "    result = []\n",
    "    for i in range(len(num_str)):\n",
    "        digit = int(num_str[i])\n",
    "        if digit != 0:\n",
    "            result.append(str(digit * 10**(len(num_str)-1-i)))\n",
    "    return ' '.join(result)\n",
    "\n",
    "\n"
   ]
  },
  {
   "cell_type": "code",
   "execution_count": 9,
   "id": "129a0cab",
   "metadata": {},
   "outputs": [],
   "source": [
    "# Ques 4\n",
    "\n",
    "def multiplication_table(n):\n",
    "    return [[(i+1)*(j+1) for j in range(n)] for i in range(n)]\n"
   ]
  },
  {
   "cell_type": "code",
   "execution_count": 10,
   "id": "20b183cf",
   "metadata": {},
   "outputs": [],
   "source": [
    "# Ques 5\n",
    "\n",
    "import re\n",
    "\n",
    "def does_rhyme(s1, s2):\n",
    "    vowels = re.compile(r'[aeiou]', re.IGNORECASE)\n",
    "    last_word_s1 = re.findall(r'\\w+', s1)[-1]\n",
    "    last_word_s2 = re.findall(r'\\w+', s2)[-1]\n",
    "    return bool(vowels.findall(last_word_s1) == vowels.findall(last_word_s2))\n"
   ]
  },
  {
   "cell_type": "code",
   "execution_count": null,
   "id": "cc6ed03b",
   "metadata": {},
   "outputs": [],
   "source": []
  },
  {
   "cell_type": "code",
   "execution_count": null,
   "id": "4a35ccef",
   "metadata": {},
   "outputs": [],
   "source": []
  }
 ],
 "metadata": {
  "kernelspec": {
   "display_name": "Python 3 (ipykernel)",
   "language": "python",
   "name": "python3"
  },
  "language_info": {
   "codemirror_mode": {
    "name": "ipython",
    "version": 3
   },
   "file_extension": ".py",
   "mimetype": "text/x-python",
   "name": "python",
   "nbconvert_exporter": "python",
   "pygments_lexer": "ipython3",
   "version": "3.9.13"
  }
 },
 "nbformat": 4,
 "nbformat_minor": 5
}
