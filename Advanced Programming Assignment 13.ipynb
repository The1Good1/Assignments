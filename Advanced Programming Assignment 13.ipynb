{
 "cells": [
  {
   "cell_type": "code",
   "execution_count": 6,
   "id": "71328a09",
   "metadata": {},
   "outputs": [],
   "source": [
    "# Ques 1\n",
    "\n",
    "def remove_letters(lst, string):\n",
    "    for letter in string:\n",
    "        if letter in lst:\n",
    "            lst.remove(letter)\n",
    "    return lst\n"
   ]
  },
  {
   "cell_type": "code",
   "execution_count": 7,
   "id": "7b41e54b",
   "metadata": {},
   "outputs": [],
   "source": [
    "# Ques 2\n",
    "\n",
    "def blocks(step):\n",
    "    if step == 0:\n",
    "        return 0\n",
    "    else:\n",
    "        return step + (step + blocks(step - 1))\n"
   ]
  },
  {
   "cell_type": "code",
   "execution_count": 8,
   "id": "b406cc99",
   "metadata": {},
   "outputs": [],
   "source": [
    "# Ques 3\n",
    "\n",
    "def my_sub(a, b):\n",
    "    while b:\n",
    "        borrow = (~a) & b\n",
    "        a = a ^ b\n",
    "        b = borrow << 1\n",
    "    return a\n",
    "\n"
   ]
  },
  {
   "cell_type": "code",
   "execution_count": 9,
   "id": "129a0cab",
   "metadata": {},
   "outputs": [],
   "source": [
    "# Ques 4\n",
    "\n",
    "def add_bill(s):\n",
    "    amounts = s.split(',')\n",
    "    total = 0\n",
    "    for amount in amounts:\n",
    "        if amount[0] == 'd':\n",
    "            if amount[-1] == 'k':\n",
    "                total += int(amount[1:-1]) * 1000\n",
    "            else:\n",
    "                total += int(amount[1:])\n",
    "    return total\n"
   ]
  },
  {
   "cell_type": "code",
   "execution_count": 10,
   "id": "20b183cf",
   "metadata": {},
   "outputs": [],
   "source": [
    "# Ques 5\n",
    "\n",
    "def flip_list(lst):\n",
    "    if len(lst) == 0:\n",
    "        return []\n",
    "    elif isinstance(lst[0], list):\n",
    "        return [i[0] for i in lst]\n",
    "    else:\n",
    "        return [[i] for i in lst]\n"
   ]
  },
  {
   "cell_type": "code",
   "execution_count": null,
   "id": "cc6ed03b",
   "metadata": {},
   "outputs": [],
   "source": []
  },
  {
   "cell_type": "code",
   "execution_count": null,
   "id": "5dacfa39",
   "metadata": {},
   "outputs": [],
   "source": []
  }
 ],
 "metadata": {
  "kernelspec": {
   "display_name": "Python 3 (ipykernel)",
   "language": "python",
   "name": "python3"
  },
  "language_info": {
   "codemirror_mode": {
    "name": "ipython",
    "version": 3
   },
   "file_extension": ".py",
   "mimetype": "text/x-python",
   "name": "python",
   "nbconvert_exporter": "python",
   "pygments_lexer": "ipython3",
   "version": "3.9.13"
  }
 },
 "nbformat": 4,
 "nbformat_minor": 5
}
