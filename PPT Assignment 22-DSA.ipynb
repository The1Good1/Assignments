{
 "cells": [
  {
   "cell_type": "markdown",
   "id": "4e864a43",
   "metadata": {},
   "source": [
    "# Ques 1\n",
    "\n"
   ]
  },
  {
   "cell_type": "code",
   "execution_count": null,
   "id": "ec9ef308",
   "metadata": {},
   "outputs": [],
   "source": [
    "class TreeNode:\n",
    "    def __init__(self, val=0, left=None, right=None):\n",
    "        self.val = val\n",
    "        self.left = left\n",
    "        self.right = right\n",
    "\n",
    "def convertToDLL(root):\n",
    "    if not root:\n",
    "        return None\n",
    "\n",
    "    # Helper function for in-order traversal\n",
    "    def inorder(node):\n",
    "        nonlocal prev, head\n",
    "\n",
    "        if node:\n",
    "            # Recursively convert left subtree\n",
    "            inorder(node.left)\n",
    "\n",
    "            # Update pointers for current node\n",
    "            if prev:\n",
    "                prev.right = node\n",
    "                node.left = prev\n",
    "            else:\n",
    "                head = node  # Set head for the first node\n",
    "\n",
    "            prev = node  # Update prev\n",
    "\n",
    "            # Recursively convert right subtree\n",
    "            inorder(node.right)\n",
    "\n",
    "    # Initialize prev and head pointers\n",
    "    prev = None\n",
    "    head = None\n",
    "\n",
    "    # Perform in-order traversal to convert the tree to DLL\n",
    "    inorder(root)\n",
    "\n",
    "    return head\n"
   ]
  },
  {
   "cell_type": "markdown",
   "id": "be9e9310",
   "metadata": {},
   "source": [
    "# Ques 2\n",
    "\n"
   ]
  },
  {
   "cell_type": "code",
   "execution_count": 10,
   "id": "3cfc3e87",
   "metadata": {},
   "outputs": [],
   "source": [
    "class TreeNode:\n",
    "    def __init__(self, val=0, left=None, right=None):\n",
    "        self.val = val\n",
    "        self.left = left\n",
    "        self.right = right\n",
    "\n",
    "def flipBinaryTree(root):\n",
    "    if not root:\n",
    "        return None\n",
    "\n",
    "    # Helper function for post-order traversal\n",
    "    def postorder(node):\n",
    "        nonlocal flipped\n",
    "\n",
    "        if node:\n",
    "            # Recursively flip the left and right subtrees\n",
    "            postorder(node.left)\n",
    "            postorder(node.right)\n",
    "\n",
    "            # Swap the left and right children of the current node\n",
    "            node.left, node.right = node.right, node.left\n",
    "\n",
    "            # Update the flipped status\n",
    "            flipped = True\n",
    "\n",
    "    flipped = False\n",
    "\n",
    "    # Perform post-order traversal to flip the tree\n",
    "    postorder(root)\n",
    "\n",
    "    # Return the flipped tree if the tree was flipped, otherwise return the original tree\n",
    "    return root if flipped else None\n"
   ]
  },
  {
   "cell_type": "markdown",
   "id": "87d70732",
   "metadata": {},
   "source": [
    "# Ques 3\n",
    "\n",
    "\n"
   ]
  },
  {
   "cell_type": "code",
   "execution_count": 11,
   "id": "a22f7bfb",
   "metadata": {},
   "outputs": [],
   "source": [
    "class TreeNode:\n",
    "    def __init__(self, val=0, left=None, right=None):\n",
    "        self.val = val\n",
    "        self.left = left\n",
    "        self.right = right\n",
    "\n",
    "def printPaths(root):\n",
    "    if not root:\n",
    "        return []\n",
    "\n",
    "    paths = []  # List to store the root-to-leaf paths\n",
    "    stack = [(root, str(root.val))]  # Stack for iterative DFS traversal\n",
    "\n",
    "    while stack:\n",
    "        node, path = stack.pop()\n",
    "\n",
    "        if not node.left and not node.right:\n",
    "            paths.append(path)  # Add the current path to the list of paths\n",
    "\n",
    "        if node.right:\n",
    "            stack.append((node.right, path + \"->\" + str(node.right.val)))\n",
    "\n",
    "        if node.left:\n",
    "            stack.append((node.left, path + \"->\" + str(node.left.val)))\n",
    "\n",
    "    return paths\n"
   ]
  },
  {
   "cell_type": "markdown",
   "id": "5a5d3b41",
   "metadata": {},
   "source": [
    "# Ques 4\n",
    "\n"
   ]
  },
  {
   "cell_type": "code",
   "execution_count": 12,
   "id": "d03fafeb",
   "metadata": {},
   "outputs": [],
   "source": [
    "def isSameTree(inorder, preorder, postorder):\n",
    "    if not inorder and not preorder and not postorder:\n",
    "        return True\n",
    "\n",
    "    if len(inorder) != len(preorder) or len(inorder) != len(postorder):\n",
    "        return False\n",
    "\n",
    "    if set(inorder) != set(preorder) or set(inorder) != set(postorder):\n",
    "        return False\n",
    "\n",
    "    if len(inorder) == 1 and inorder[0] == preorder[0] and inorder[0] == postorder[0]:\n",
    "        return True\n",
    "\n",
    "    root = preorder[0]\n",
    "    root_index = inorder.index(root)\n",
    "\n",
    "    left_inorder = inorder[:root_index]\n",
    "    right_inorder = inorder[root_index + 1:]\n",
    "\n",
    "    left_preorder = preorder[1:root_index + 1]\n",
    "    right_preorder = preorder[root_index + 1:]\n",
    "\n",
    "    left_postorder = postorder[:root_index]\n",
    "    right_postorder = postorder[root_index:-1]\n",
    "\n",
    "    return (\n",
    "        isSameTree(left_inorder, left_preorder, left_postorder)\n",
    "        and isSameTree(right_inorder, right_preorder, right_postorder)\n",
    "    )\n"
   ]
  }
 ],
 "metadata": {
  "kernelspec": {
   "display_name": "Python 3 (ipykernel)",
   "language": "python",
   "name": "python3"
  },
  "language_info": {
   "codemirror_mode": {
    "name": "ipython",
    "version": 3
   },
   "file_extension": ".py",
   "mimetype": "text/x-python",
   "name": "python",
   "nbconvert_exporter": "python",
   "pygments_lexer": "ipython3",
   "version": "3.9.13"
  }
 },
 "nbformat": 4,
 "nbformat_minor": 5
}
