{
 "cells": [
  {
   "cell_type": "markdown",
   "id": "4e864a43",
   "metadata": {},
   "source": [
    "# Ques 1\n",
    "\n"
   ]
  },
  {
   "cell_type": "code",
   "execution_count": null,
   "id": "ec9ef308",
   "metadata": {},
   "outputs": [],
   "source": [
    "def mySqrt(x):\n",
    "    if x == 0:\n",
    "        return 0\n",
    "\n",
    "    left = 1\n",
    "    right = x\n",
    "\n",
    "    while left <= right:\n",
    "        mid = left + (right - left) // 2\n",
    "        if mid * mid == x:\n",
    "            return mid\n",
    "        elif mid * mid < x:\n",
    "            left = mid + 1\n",
    "        else:\n",
    "            right = mid - 1\n",
    "\n",
    "    return right\n"
   ]
  },
  {
   "cell_type": "markdown",
   "id": "be9e9310",
   "metadata": {},
   "source": [
    "# Ques 2\n",
    "\n"
   ]
  },
  {
   "cell_type": "code",
   "execution_count": 10,
   "id": "3cfc3e87",
   "metadata": {},
   "outputs": [],
   "source": [
    "def findPeakEle(nums):\n",
    "    left = 0\n",
    "    right = len(nums) - 1\n",
    "\n",
    "    while left < right:\n",
    "        mid = left + (right - left) // 2\n",
    "\n",
    "        if nums[mid] < nums[mid + 1]:\n",
    "            left = mid + 1\n",
    "        else:\n",
    "            right = mid\n",
    "\n",
    "    return left\n"
   ]
  },
  {
   "cell_type": "markdown",
   "id": "87d70732",
   "metadata": {},
   "source": [
    "# Ques 3\n",
    "\n",
    "\n"
   ]
  },
  {
   "cell_type": "code",
   "execution_count": 11,
   "id": "a22f7bfb",
   "metadata": {},
   "outputs": [],
   "source": [
    "def missingNumber(nums):\n",
    "    n = len(nums)\n",
    "    missing = n\n",
    "\n",
    "    for i in range(n):\n",
    "        missing ^= i ^ nums[i]\n",
    "\n",
    "    return missing\n"
   ]
  },
  {
   "cell_type": "markdown",
   "id": "5a5d3b41",
   "metadata": {},
   "source": [
    "# Ques 4\n",
    "\n"
   ]
  },
  {
   "cell_type": "code",
   "execution_count": 12,
   "id": "d03fafeb",
   "metadata": {},
   "outputs": [],
   "source": [
    "def findDuplicate(nums):\n",
    "    slow = nums[0]\n",
    "    fast = nums[0]\n",
    "\n",
    "    # Find the intersection point of the two pointers\n",
    "    while True:\n",
    "        slow = nums[slow]\n",
    "        fast = nums[nums[fast]]\n",
    "        if slow == fast:\n",
    "            break\n",
    "\n",
    "    # Move one pointer to the start and keep the other at the intersection point\n",
    "    slow = nums[0]\n",
    "    while slow != fast:\n",
    "        slow = nums[slow]\n",
    "        fast = nums[fast]\n",
    "\n",
    "    return slow\n"
   ]
  },
  {
   "cell_type": "markdown",
   "id": "023f0137",
   "metadata": {},
   "source": [
    "# Ques 5\n"
   ]
  },
  {
   "cell_type": "code",
   "execution_count": 13,
   "id": "37e6093f",
   "metadata": {},
   "outputs": [],
   "source": [
    "def intersection(nums1, nums2):\n",
    "    set1 = set(nums1)\n",
    "    result = []\n",
    "\n",
    "    for num in nums2:\n",
    "        if num in set1:\n",
    "            result.append(num)\n",
    "            set1.remove(num)\n",
    "\n",
    "    return result\n"
   ]
  },
  {
   "cell_type": "markdown",
   "id": "c6b97405",
   "metadata": {},
   "source": [
    "# Ques 6\n"
   ]
  },
  {
   "cell_type": "code",
   "execution_count": 14,
   "id": "f1dab1e8",
   "metadata": {},
   "outputs": [],
   "source": [
    "def findMin(nums):\n",
    "    left = 0\n",
    "    right = len(nums) - 1\n",
    "\n",
    "    while left < right:\n",
    "        mid = left + (right - left) // 2\n",
    "\n",
    "        if nums[mid] > nums[right]:\n",
    "            left = mid + 1\n",
    "        else:\n",
    "            right = mid\n",
    "\n",
    "    return nums[left]\n"
   ]
  },
  {
   "cell_type": "markdown",
   "id": "93175276",
   "metadata": {},
   "source": [
    "# Ques 7\n",
    "\n"
   ]
  },
  {
   "cell_type": "code",
   "execution_count": 15,
   "id": "f5074bf0",
   "metadata": {},
   "outputs": [],
   "source": [
    "def searchRange(nums, target):\n",
    "    left = findLeftmost(nums, target)\n",
    "    right = findRightmost(nums, target)\n",
    "    return [left, right]\n",
    "\n",
    "def findLeftmost(nums, target):\n",
    "    left = 0\n",
    "    right = len(nums) - 1\n",
    "    index = -1\n",
    "\n",
    "    while left <= right:\n",
    "        mid = left + (right - left) // 2\n",
    "\n",
    "        if nums[mid] >= target:\n",
    "            right = mid - 1\n",
    "        else:\n",
    "            left = mid + 1\n",
    "\n",
    "        if nums[mid] == target:\n",
    "            index = mid\n",
    "\n",
    "    return index\n",
    "\n",
    "def findRightmost(nums, target):\n",
    "    left = 0\n",
    "    right = len(nums) - 1\n",
    "    index = -1\n",
    "\n",
    "    while left <= right:\n",
    "        mid = left + (right - left) // 2\n",
    "\n",
    "        if nums[mid] <= target:\n",
    "            left = mid + 1\n",
    "        else:\n",
    "            right = mid - 1\n",
    "\n",
    "        if nums[mid] == target:\n",
    "            index = mid\n",
    "\n",
    "    return index\n"
   ]
  },
  {
   "cell_type": "markdown",
   "id": "0e704234",
   "metadata": {},
   "source": [
    "# Ques 8\n"
   ]
  },
  {
   "cell_type": "code",
   "execution_count": null,
   "id": "37d3a534",
   "metadata": {},
   "outputs": [],
   "source": [
    "from collections import Counter\n",
    "\n",
    "def intersect(nums1, nums2):\n",
    "    counter1 = Counter(nums1)\n",
    "    result = []\n",
    "\n",
    "    for num in nums2:\n",
    "        if num in counter1 and counter1[num] > 0:\n",
    "            result.append(num)\n",
    "            counter1[num] -= 1\n",
    "\n",
    "    return result\n"
   ]
  }
 ],
 "metadata": {
  "kernelspec": {
   "display_name": "Python 3 (ipykernel)",
   "language": "python",
   "name": "python3"
  },
  "language_info": {
   "codemirror_mode": {
    "name": "ipython",
    "version": 3
   },
   "file_extension": ".py",
   "mimetype": "text/x-python",
   "name": "python",
   "nbconvert_exporter": "python",
   "pygments_lexer": "ipython3",
   "version": "3.9.13"
  }
 },
 "nbformat": 4,
 "nbformat_minor": 5
}
