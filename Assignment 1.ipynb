{
 "cells": [
  {
   "cell_type": "markdown",
   "id": "63c55c92",
   "metadata": {},
   "source": [
    "# Assignment 1"
   ]
  },
  {
   "cell_type": "raw",
   "id": "c4f5635c",
   "metadata": {},
   "source": [
    "Ques 1 :\n",
    "In the below elements which of them are values or an expression? eg:- values can be\n",
    "integer or string and expressions will be mathematical operators.\n",
    "*\n",
    "'hello'\n",
    "-87.8\n",
    "-\n",
    "/\n",
    "+\n",
    "6\n",
    "Ans:\n",
    "* is an expression representing the multiplication operator.\n",
    "'hello' is a value representing a string data type.\n",
    "//-87.8 is a value representing a floating-point number.\n",
    "- is an expression representing the subtraction operator.\n",
    "/ is an expression representing the division operator.\n",
    "+ is an expression representing the addition operator.\n",
    "6 is a value representing an integer data type.\n"
   ]
  },
  {
   "cell_type": "raw",
   "id": "535b65f2",
   "metadata": {},
   "source": [
    "Ques 2 : What is the difference between string and variable?\n",
    "Ans:\n",
    "A string is a type of data that represents a sequence of characters enclosed in quotes (either single quotes or double quotes). Strings can contain letters, numbers, symbols, and spaces, and they are often used to represent text.\n",
    "\n",
    "A variable, on the other hand, is a name that represents a value or object in the program. It is used to store data or values that can be used later in the program. A variable is like a container that holds a value, and its value can change during the execution of the program.\n",
    "\n",
    "The main difference between a string and a variable is that a string is a data type, whereas a variable is a container that can store data of any type, including strings. When you assign a string to a variable, the variable stores the string value, and you can use the variable name to refer to the string value later in the program.\n"
   ]
  },
  {
   "cell_type": "raw",
   "id": "284f9aed",
   "metadata": {},
   "source": [
    "Ques 3 :\n",
    "Describe three different data types.\n",
    "Ans:\n",
    "Integer (int): An integer is a whole number, positive or negative, without a decimal point. You can use integers to perform mathematical operations like addition, subtraction, multiplication, and division. For example, 2, -5, and 1000 are all integers.\n",
    "\n",
    "String (str): A string is a sequence of characters enclosed in quotes (either single quotes or double quotes). You can use strings to represent text, such as names, addresses, and messages. Strings can contain letters, numbers, symbols, and spaces. For example, \"Hello, World!\", \"12345\", and \"Python Programming\" are all strings.\n",
    "\n",
    "Boolean (bool): A boolean is a data type that can have one of two values: True or False. Booleans are often used in programming to represent logical values, such as whether a condition is true or false. For example, the expression 5 > 3 would evaluate to True, while the expression 2 == 5 would evaluate to False. Booleans are also used to control the flow of programs using conditional statements, such as if-else statements.\n"
   ]
  },
  {
   "cell_type": "raw",
   "id": "7915b004",
   "metadata": {},
   "source": [
    "Ques 4:\n",
    "What is an expression made up of? What do all expressions do?\n",
    "Ans: \n",
    "An expression is made up of one or more values, operators, and/or function calls that evaluate to a single value. All expressions are evaluated to a single value. This value can be a number, a string, a boolean, or any other data type. The value of an expression can be assigned to a variable, printed to the console, used in conditional statements, and more.\n",
    "\n",
    "Expressions can be used in many different contexts in Python, such as arithmetic operations, logical operations, and function calls.\n",
    "\n"
   ]
  },
  {
   "cell_type": "raw",
   "id": "91385646",
   "metadata": {},
   "source": [
    "Ques 5 :\n",
    "This assignment statements, like spam = 10. What is the difference between an\n",
    "expression and a statement?\n",
    "Ans:\n",
    "An expression is a combination of values, variables, operators, and function calls that produces a new value. An expression can be a simple value, such as a number or a string, or it can be a more complex combination of values and operators. Examples of expressions in Python include:"
   ]
  },
  {
   "cell_type": "code",
   "execution_count": 4,
   "id": "69e981cc",
   "metadata": {},
   "outputs": [
    {
     "data": {
      "text/plain": [
       "6"
      ]
     },
     "execution_count": 4,
     "metadata": {},
     "output_type": "execute_result"
    }
   ],
   "source": [
    "5 + 3\n",
    "\"Hello\" + \"World\"\n",
    "len(\"Python\")\n"
   ]
  },
  {
   "cell_type": "raw",
   "id": "ae86fc90",
   "metadata": {},
   "source": [
    "A statement, on the other hand, is a unit of code that performs a specific action, such as assigning a value to a variable, calling a function, or controlling the flow of the program using conditional statements or loops. Examples of statements in Python include:"
   ]
  },
  {
   "cell_type": "code",
   "execution_count": 7,
   "id": "9add9e2c",
   "metadata": {},
   "outputs": [
    {
     "name": "stdout",
     "output_type": "stream",
     "text": [
      "Hello, Ineuron!\n",
      "y is greater than x\n"
     ]
    }
   ],
   "source": [
    "spam = 10\n",
    "print(\"Hello, Ineuron!\")\n",
    "if x > y:\n",
    "    print(\"x is greater than y\")\n",
    "else:\n",
    "    print(\"y is greater than x\")\n"
   ]
  },
  {
   "cell_type": "raw",
   "id": "c3a5806b",
   "metadata": {},
   "source": [
    "So, the main difference between an expression and a statement is that an expression produces a value, while a statement performs an action. In the case of the assignment statement, such as spam = 10, it assigns the value 10 to the variable spam, which is a statement that performs an action. On the other hand, the expression 5 + 3 evaluates to the value 8, which is an expression that produces a value."
   ]
  },
  {
   "cell_type": "raw",
   "id": "beacfc36",
   "metadata": {},
   "source": [
    "Ques 6: \n",
    "After running the following code, what does the variable bacon contain?\n",
    "bacon = 22\n",
    "bacon + 1\n",
    "Ans:The variable bacon contains the value 22"
   ]
  },
  {
   "cell_type": "raw",
   "id": "949a1ff8",
   "metadata": {},
   "source": [
    "Ques 7:\n",
    "What should the values of the following two terms be?\n",
    "'spam' + 'spamspam'\n",
    "'spam' * 3\n",
    "Ans:\n",
    "The result of both terms would be the same string 'spamspamspam'.\n",
    "\n",
    "In the first term, the + operator is used to concatenate (join) two strings, 'spam' and 'spamspam', to create the longer string 'spamspamspam'.\n",
    "\n",
    "In the second term, the * operator is used to repeat the string 'spam' three times to create the longer string 'spamspamspam'. This is called string multiplication.\n"
   ]
  },
  {
   "cell_type": "raw",
   "id": "da6aceb7",
   "metadata": {},
   "source": [
    "Ques 8:\n",
    "Why is eggs a valid variable name while 100 is invalid?\n",
    "Ans:\n",
    "Variable names must follow certain rules:\n",
    "They can only contain letters (a-z, A-Z), numbers (0-9), and underscores (_).\n",
    "They cannot begin with a number.\n",
    "They cannot be the same as a reserved keyword (such as if, else, while, etc.).\n",
    "Based on these rules, eggs is a valid variable name because it consists only of letters and it does not begin with a number or a reserved keyword.\n",
    "\n",
    "On the other hand, 100 is an invalid variable name because it begins with a number. Variable names cannot begin with a number, although they can contain numbers after the first letter.\n"
   ]
  },
  {
   "cell_type": "raw",
   "id": "be1d123b",
   "metadata": {},
   "source": [
    "Ques 9:\n",
    "What three functions can be used to get the integer, floating-point number, or string\n",
    "version of a value?\n",
    "Ans:There are three built-in functions that can be used to convert a value to a different data type:\n",
    "\n",
    "int(): This function can be used to convert a value to an integer data type. For example, int(3.14) would return the integer 3.\n",
    "\n",
    "float(): This function can be used to convert a value to a floating-point data type. For example, float(3) would return the floating-point number 3.0.\n",
    "\n",
    "str(): This function can be used to convert a value to a string data type. For example, str(42) would return the string '42'.\n",
    "\n",
    "    "
   ]
  },
  {
   "cell_type": "raw",
   "id": "7a38d327",
   "metadata": {},
   "source": [
    "Ques 10: \n",
    "Why does this expression cause an error? How can you fix it?\n",
    "'I have eaten' + 99 + 'burritos'\n",
    "Ans:\n",
    "The expression 'I have eaten ' + 99 + ' burritos.' causes a TypeError because we are trying to concatenate a string ('I have eaten ') with an integer (99) without converting the integer to a string first.\n",
    "\n",
    "To fix this error, we need to convert the integer 99 to a string using the str() function, for example:\n"
   ]
  },
  {
   "cell_type": "code",
   "execution_count": 8,
   "id": "189889d1",
   "metadata": {},
   "outputs": [
    {
     "data": {
      "text/plain": [
       "'I have eaten 99 burritos.'"
      ]
     },
     "execution_count": 8,
     "metadata": {},
     "output_type": "execute_result"
    }
   ],
   "source": [
    "'I have eaten ' + str(99) + ' burritos.'"
   ]
  },
  {
   "cell_type": "raw",
   "id": "24e3f50a",
   "metadata": {},
   "source": [
    "This will convert the integer 99 to the string '99', which can then be concatenated with the other two strings to create the final string 'I have eaten 99 burritos.'."
   ]
  }
 ],
 "metadata": {
  "kernelspec": {
   "display_name": "Python 3 (ipykernel)",
   "language": "python",
   "name": "python3"
  },
  "language_info": {
   "codemirror_mode": {
    "name": "ipython",
    "version": 3
   },
   "file_extension": ".py",
   "mimetype": "text/x-python",
   "name": "python",
   "nbconvert_exporter": "python",
   "pygments_lexer": "ipython3",
   "version": "3.9.13"
  }
 },
 "nbformat": 4,
 "nbformat_minor": 5
}
