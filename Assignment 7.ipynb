{
 "cells": [
  {
   "cell_type": "markdown",
   "id": "cb95b11a",
   "metadata": {},
   "source": [
    "# Ques1:"
   ]
  },
  {
   "cell_type": "markdown",
   "id": "a6d4672d",
   "metadata": {},
   "source": [
    "What is the name of the feature responsible for generating Regex objects?\n",
    "\n",
    "The re module is responsible for generating Regex objects in Python."
   ]
  },
  {
   "cell_type": "markdown",
   "id": "7558160c",
   "metadata": {},
   "source": [
    "# Ques 2:"
   ]
  },
  {
   "cell_type": "markdown",
   "id": "83a3993d",
   "metadata": {},
   "source": [
    "Why do raw strings often appear in Regex objects?\n",
    "\n",
    "Raw strings are used in Regex objects to avoid the need to escape special characters. For example, to match a backslash in a string, we need to write \"\\\\\" (double backslash) but in a raw string, we can simply write r\"\\\"."
   ]
  },
  {
   "cell_type": "markdown",
   "id": "7e6cd980",
   "metadata": {},
   "source": [
    "# Ques 3:"
   ]
  },
  {
   "cell_type": "markdown",
   "id": "66853107",
   "metadata": {},
   "source": [
    "What is the return value of the search() method?\n",
    "\n",
    "The search() method returns a match object if the pattern is found in the string, otherwise it returns None."
   ]
  },
  {
   "cell_type": "markdown",
   "id": "207ff9d9",
   "metadata": {},
   "source": [
    "# Ques 4:"
   ]
  },
  {
   "cell_type": "markdown",
   "id": "4574d488",
   "metadata": {},
   "source": [
    "From a Match item, how do you get the actual strings that match the pattern?\n",
    "\n",
    "We can use the group() method or indexing to get the actual strings that match the pattern. For example, if we have a match object called \"s\", we can get the first matched string with s.group(0) or s[0]."
   ]
  },
  {
   "cell_type": "markdown",
   "id": "cabe0cd6",
   "metadata": {},
   "source": [
    "# Ques 5:"
   ]
  },
  {
   "cell_type": "markdown",
   "id": "3989abe0",
   "metadata": {},
   "source": [
    "In the regex which created from the r'(\\d\\d\\d)-(\\d\\d\\d-\\d\\d\\d\\d)', what does group zero cover?\n",
    "Group 2? Group 1?\n",
    "\n",
    "Group zero covers the entire match, group 1 covers the first set of parentheses (which in this case is the three-digit number before the hyphen), and group 2 covers the second set of parentheses (which is the seven-digit number after the hyphen)."
   ]
  },
  {
   "cell_type": "markdown",
   "id": "b5b19279",
   "metadata": {},
   "source": [
    "# Ques 6:"
   ]
  },
  {
   "cell_type": "markdown",
   "id": "06c54ad2",
   "metadata": {},
   "source": [
    "In standard expression syntax, parentheses and intervals have distinct meanings. How can you tell\n",
    "a regex that you want it to fit real parentheses and periods?\n",
    "\n",
    "To match real parentheses and periods, we need to escape them with a backslash. For example, to match a literal period, we would write '.' in your regex pattern."
   ]
  },
  {
   "cell_type": "markdown",
   "id": "62a2e857",
   "metadata": {},
   "source": [
    "# Ques 7:"
   ]
  },
  {
   "cell_type": "markdown",
   "id": "547aa07b",
   "metadata": {},
   "source": [
    "The findall() method returns a string list or a list of string tuples. What causes it to return one of\n",
    "the two options?\n",
    "\n",
    "The findall() method returns a list of all non-overlapping matches in the string. If the pattern has capturing groups, it returns a list of tuples where each tuple represents a match and each element of the tuple represents a captured group."
   ]
  },
  {
   "cell_type": "markdown",
   "id": "46d0d000",
   "metadata": {},
   "source": [
    "# Ques 8:"
   ]
  },
  {
   "cell_type": "markdown",
   "id": "8b5a0db2",
   "metadata": {},
   "source": [
    "In standard expressions, what does the | character mean?\n",
    "\n",
    "In standard expressions, the | character means \"or\". For example, the regex pattern 'cat|dog' matches either the string 'cat' or the string 'dog'."
   ]
  },
  {
   "cell_type": "markdown",
   "id": "dcac18f1",
   "metadata": {},
   "source": [
    "# Ques 9:"
   ]
  },
  {
   "cell_type": "markdown",
   "id": "a403e568",
   "metadata": {},
   "source": [
    "In regular expressions, what does the character stand for?\n",
    "\n",
    "\n",
    "In regular expressions, the dot (.) character stands for any character except a newline character (\\n)."
   ]
  },
  {
   "cell_type": "markdown",
   "id": "dbb23dbc",
   "metadata": {},
   "source": [
    "# Ques 10:"
   ]
  },
  {
   "cell_type": "markdown",
   "id": "9e02f3c8",
   "metadata": {},
   "source": [
    "In regular expressions, what is the difference between the + and * characters?\n",
    "\n",
    "The + character matches one or more occurrences of the preceding character or group, while the * character matches zero or more occurrences of the preceding character or group."
   ]
  },
  {
   "cell_type": "markdown",
   "id": "2129a88b",
   "metadata": {},
   "source": [
    "# Ques 11:"
   ]
  },
  {
   "cell_type": "markdown",
   "id": "f06ff7a4",
   "metadata": {},
   "source": [
    "What is the difference between {4} and {4,5} in regular expression?\n",
    "\n",
    "{4} matches exactly four occurrences of the preceding character or group, while {4,5} matches between four and five occurrences of the preceding character or group."
   ]
  },
  {
   "cell_type": "markdown",
   "id": "5930cb55",
   "metadata": {},
   "source": [
    "# Ques 12:"
   ]
  },
  {
   "cell_type": "markdown",
   "id": "6e76199d",
   "metadata": {},
   "source": [
    "What do you mean by the \\d, \\w, and \\s shorthand character classes signify in regular\n",
    "expressions?\n",
    "\n",
    "\\d, \\w, and \\s are shorthand character classes that represent digit characters, word characters (letters, digits, and underscore), and whitespace characters (space, tab, newline, etc.), respectively."
   ]
  },
  {
   "cell_type": "markdown",
   "id": "9a615fda",
   "metadata": {},
   "source": [
    "# Ques 13:"
   ]
  },
  {
   "cell_type": "markdown",
   "id": "e072ca54",
   "metadata": {},
   "source": [
    "What do means by \\D, \\W, and \\S shorthand character classes signify in regular expressions?\n",
    "\n",
    "\\d, \\w, and \\s are shorthand character classes that represent digit characters, word characters (letters, digits, and underscore), and whitespace characters (space, tab, newline, etc.), respectively."
   ]
  },
  {
   "cell_type": "markdown",
   "id": "598ac7d8",
   "metadata": {},
   "source": [
    "\n",
    "# Ques 14:"
   ]
  },
  {
   "cell_type": "markdown",
   "id": "51516c0d",
   "metadata": {},
   "source": [
    "What is the difference between .*? and .*?\n",
    "\n",
    ".? matches as few characters as possible (lazy matching), while . matches as many characters as possible (greedy matching)."
   ]
  },
  {
   "cell_type": "markdown",
   "id": "21c735c8",
   "metadata": {},
   "source": [
    "# Ques 15:"
   ]
  },
  {
   "cell_type": "markdown",
   "id": "1c44ba58",
   "metadata": {},
   "source": [
    "What is the syntax for matching both numbers and lowercase letters with a character class?\n",
    "\n",
    "The syntax for matching both numbers and lowercase letters with a character class is [0-9a-z]."
   ]
  },
  {
   "cell_type": "markdown",
   "id": "2d627865",
   "metadata": {},
   "source": [
    "# Ques 16:"
   ]
  },
  {
   "cell_type": "markdown",
   "id": "f420a804",
   "metadata": {},
   "source": [
    "What is the procedure for making a normal expression in regax case insensitive?\n",
    "\n",
    "To make a regular expression case insensitive, we can pass the re.IGNORECASE (or re.I) flag as the second argument to re.compile()."
   ]
  },
  {
   "cell_type": "markdown",
   "id": "3c03734b",
   "metadata": {},
   "source": [
    "# Ques 17:"
   ]
  },
  {
   "cell_type": "markdown",
   "id": "446d9b03",
   "metadata": {},
   "source": [
    "What does the . character normally match? What does it match if re.DOTALL is passed as 2nd\n",
    "argument in re.compile()?\n",
    "\n",
    "The . character normally matches any character except a newline character (\\n). If the re.DOTALL (or re.S) flag is passed as the second argument to re.compile(), the . character will match any character, including a newline character."
   ]
  },
  {
   "cell_type": "markdown",
   "id": "30f538fa",
   "metadata": {},
   "source": [
    "# Ques 18:"
   ]
  },
  {
   "cell_type": "markdown",
   "id": "9e1bd9d9",
   "metadata": {},
   "source": [
    "If numReg = re.compile(r&#39;\\d+&#39;), what will numRegex.sub(&#39;X&#39;, &#39;11 drummers, 10 pipers, five rings, 4\n",
    "hen&#39;) return?\n",
    "\n",
    "numRegex.sub('X', '11 drummers, 10 pipers, five rings, 4 hen') will return 'X drummers, X pipers, five rings, X hen'."
   ]
  },
  {
   "cell_type": "markdown",
   "id": "8dc5214c",
   "metadata": {},
   "source": [
    "# Ques 19:"
   ]
  },
  {
   "cell_type": "markdown",
   "id": "96d88f63",
   "metadata": {},
   "source": [
    "What does passing re.VERBOSE as the 2nd argument to re.compile() allow to do?\n",
    "\n",
    "Passing re.VERBOSE as the second argument to re.compile() allows us to add comments and whitespace to the regex pattern to make it more readable. Comments start with the # character and continue until the end of the line"
   ]
  },
  {
   "cell_type": "markdown",
   "id": "e002e537",
   "metadata": {},
   "source": [
    "# Ques 20:"
   ]
  },
  {
   "cell_type": "markdown",
   "id": "9c4bce6f",
   "metadata": {},
   "source": [
    "How would you write a regex that match a number with comma for every three digits? It must\n",
    "match the given following:\n",
    "'42'\n",
    "'1,234'\n",
    "'6,368,745'\n",
    "but not the following:\n",
    "'12,34,567' (which has only two digits between the commas)\n",
    "'1234'(which lacks commas)"
   ]
  },
  {
   "cell_type": "code",
   "execution_count": null,
   "id": "d43130fe",
   "metadata": {},
   "outputs": [],
   "source": [
    "^\\d{1,3}(,\\d{3})*$"
   ]
  },
  {
   "cell_type": "markdown",
   "id": "924a1139",
   "metadata": {},
   "source": [
    "# Ques 21:"
   ]
  },
  {
   "cell_type": "markdown",
   "id": "8c23c9f8",
   "metadata": {},
   "source": [
    "How would you write a regex that matches the full name of someone whose last name is\n",
    "Watanabe? You can assume that the first name that comes before it will always be one word that\n",
    "begins with a capital letter. The regex must match the following:\n",
    "'Haruto Watanabe'\n",
    "'Alice Watanabe'\n",
    "'RoboCop Watanabe'\n",
    "but not the following:\n",
    "'haruto Watanabe' (where the first name is not capitalized)\n",
    "'Mr. Watanabe' (where the preceding word has a nonletter character)\n",
    "'Watanabe' (which has no first name)\n",
    "'Haruto watanabe' (where Watanabe is not capitalized)"
   ]
  },
  {
   "cell_type": "code",
   "execution_count": null,
   "id": "666d37a0",
   "metadata": {},
   "outputs": [],
   "source": [
    "^[A-Z][a-z]*\\sWatanabe$"
   ]
  },
  {
   "cell_type": "markdown",
   "id": "e7c2fce3",
   "metadata": {},
   "source": [
    "# Ques 22:"
   ]
  },
  {
   "cell_type": "markdown",
   "id": "a0e27712",
   "metadata": {},
   "source": [
    "How would you write a regex that matches a sentence where the first word is either Alice, Bob,\n",
    "or Carol; the second word is either eats, pets, or throws; the third word is apples, cats, or baseballs;\n",
    "and the sentence ends with a period? This regex should be case-insensitive. It must match the\n",
    "following:\n",
    "'Alice eats apples.'\n",
    "'Bob pets cats.'\n",
    "'Carol throws baseballs.'\n",
    "'Alice throws Apples.'\n",
    "'BOB EATS CATS.'\n",
    "but not the following:\n",
    "'RoboCop eats apples.'\n",
    "'ALICE THROWS FOOTBALLS.'\n",
    "'Carol eats 7 cats.'"
   ]
  },
  {
   "cell_type": "markdown",
   "id": "fe85a250",
   "metadata": {},
   "source": [
    "To match a sentence where the first word is either Alice, Bob, or Carol; the second word is either eats, pets, or throws; the third word is either apples, cats, or baseballs; and the sentence ends with a period, we can use the following regex:"
   ]
  },
  {
   "cell_type": "code",
   "execution_count": null,
   "id": "a4a74a30",
   "metadata": {},
   "outputs": [],
   "source": [
    "^(Alice|Bob|Carol)\\s(eats|pets|throws)\\s(apples|cats|baseballs)\\.$"
   ]
  }
 ],
 "metadata": {
  "kernelspec": {
   "display_name": "Python 3 (ipykernel)",
   "language": "python",
   "name": "python3"
  },
  "language_info": {
   "codemirror_mode": {
    "name": "ipython",
    "version": 3
   },
   "file_extension": ".py",
   "mimetype": "text/x-python",
   "name": "python",
   "nbconvert_exporter": "python",
   "pygments_lexer": "ipython3",
   "version": "3.9.13"
  }
 },
 "nbformat": 4,
 "nbformat_minor": 5
}
