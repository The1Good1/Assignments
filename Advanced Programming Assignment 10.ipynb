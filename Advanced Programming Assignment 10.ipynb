{
 "cells": [
  {
   "cell_type": "code",
   "execution_count": 6,
   "id": "71328a09",
   "metadata": {},
   "outputs": [],
   "source": [
    "# Ques 1\n",
    "\n",
    "def get_frame(width, height, char):\n",
    "    if width <= 2:\n",
    "        return \"invalid\"\n",
    "\n",
    "    frame = [[char * width]]\n",
    "    for _ in range(height - 2):\n",
    "        frame.append([char + \" \" * (width - 2) + char])\n",
    "    frame.append([char * width])\n",
    "\n",
    "    return frame\n",
    "\n"
   ]
  },
  {
   "cell_type": "code",
   "execution_count": 7,
   "id": "7b41e54b",
   "metadata": {},
   "outputs": [],
   "source": [
    "# Ques 2\n",
    "\n",
    "def boolean_and(lst):\n",
    "    result = True\n",
    "    for item in lst:\n",
    "        result = result and item\n",
    "    return result\n",
    "\n",
    "def boolean_or(lst):\n",
    "    result = False\n",
    "    for item in lst:\n",
    "        result = result or item\n",
    "    return result\n",
    "\n",
    "def boolean_xor(lst):\n",
    "    result = False\n",
    "    for item in lst:\n",
    "        result = result ^ item\n",
    "    return result\n"
   ]
  },
  {
   "cell_type": "code",
   "execution_count": 8,
   "id": "b406cc99",
   "metadata": {},
   "outputs": [],
   "source": [
    "# Ques 3\n",
    "\n",
    "def make_box(n):\n",
    "    if n < 1:\n",
    "        return []\n",
    "\n",
    "    box = [n * \"#\"]\n",
    "    for _ in range(n - 2):\n",
    "        box.append(\"#\" + (n - 2) * \" \" + \"#\")\n",
    "    if n > 1:\n",
    "        box.append(n * \"#\")\n",
    "\n",
    "    return box\n"
   ]
  },
  {
   "cell_type": "code",
   "execution_count": 9,
   "id": "129a0cab",
   "metadata": {},
   "outputs": [],
   "source": [
    "# Ques 4\n",
    "\n",
    "def no_duplicate_letters(phrase):\n",
    "    words = phrase.split()\n",
    "    for word in words:\n",
    "        if len(set(word)) != len(word):\n",
    "            return False\n",
    "    return True\n"
   ]
  },
  {
   "cell_type": "code",
   "execution_count": 10,
   "id": "20b183cf",
   "metadata": {},
   "outputs": [],
   "source": [
    "# Ques 5\n",
    "\n",
    "import re\n",
    "\n",
    "txt = \"Texas = no, California = yes, Florida = yes, Michigan = no\"\n",
    "pattern = r\"\\b(\\w+)\\s*=\\s*yes\\b\"\n",
    "\n",
    "matches = re.findall(pattern, txt)\n",
    "print(matches)  # Output: ['California', 'Florida']\n"
   ]
  },
  {
   "cell_type": "code",
   "execution_count": null,
   "id": "cc6ed03b",
   "metadata": {},
   "outputs": [],
   "source": []
  },
  {
   "cell_type": "code",
   "execution_count": null,
   "id": "f575cddf",
   "metadata": {},
   "outputs": [],
   "source": []
  }
 ],
 "metadata": {
  "kernelspec": {
   "display_name": "Python 3 (ipykernel)",
   "language": "python",
   "name": "python3"
  },
  "language_info": {
   "codemirror_mode": {
    "name": "ipython",
    "version": 3
   },
   "file_extension": ".py",
   "mimetype": "text/x-python",
   "name": "python",
   "nbconvert_exporter": "python",
   "pygments_lexer": "ipython3",
   "version": "3.9.13"
  }
 },
 "nbformat": 4,
 "nbformat_minor": 5
}
