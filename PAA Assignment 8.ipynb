{
 "cells": [
  {
   "cell_type": "markdown",
   "id": "89d8dffd",
   "metadata": {},
   "source": [
    "# Ques 1\n",
    "What are the two latest user-defined exception constraints in Python 3.X?\n",
    "\n",
    "Python provides flexibility for users to define custom exceptions by creating new classes that inherit from the built-in Exception class or its subclasses. By creating custom exception classes, we can define your own exception constraints based on your specific application requirements.\n",
    "\n"
   ]
  },
  {
   "cell_type": "markdown",
   "id": "021da1c1",
   "metadata": {},
   "source": [
    "# Ques 2\n",
    "Q2. How are class-based exceptions that have been raised matched to handlers?\n",
    "\n",
    "When a class-based exception is raised, Python searches for an appropriate exception handler to handle that specific exception. The matching process follows the method resolution order (MRO) of the exception class hierarchy. Python checks the exception class and its superclasses in the order defined by the MRO until it finds a matching exception handler.\n",
    "\n",
    "If an exact matching handler is found, it will be executed. If a matching handler is not found, the exception will propagate up the call stack until it either finds a handler or reaches the top-level of the program. If no handler is found, the program terminates and displays an error message or a stack trace."
   ]
  },
  {
   "cell_type": "markdown",
   "id": "ee82877d",
   "metadata": {},
   "source": [
    "# Ques 3\n",
    "\n",
    "Q3. Describe two methods for attaching context information to exception artefacts.\n",
    "\n",
    "Attaching context information to exception artifacts can be useful for providing additional details about the exception, aiding in debugging and error analysis. Two methods for attaching context information are:\n",
    "\n",
    "1. Exception chaining: When catching an exception, we can attach context information by raising a new exception with the original exception set as its cause. This can be done using the raise statement with the from keyword.\n",
    "\n",
    "try:# Code that may raise an exception\n",
    "\n",
    "except Exception as e:\n",
    "    \n",
    "    raise MyException(\"An error occurred\") from e\n",
    "\n",
    "In the above example, the MyException is raised with an additional context message, and the original exception (e) is set as the cause.\n",
    "\n",
    "2. Custom attributes: We can also attach context information to an exception by adding custom attributes to the exception object. We can define additional attributes in your custom exception class or assign values to existing attributes in the exception instance.\n",
    "\n",
    "class MyException(Exception):\n",
    "   \n",
    "   pass\n",
    "\n",
    "try:\n",
    "    # Code that may raise an exception\n",
    "\n",
    "except Exception as e:\n",
    "   \n",
    "   my_exception = MyException(\"An error occurred\")\n",
    "   \n",
    "   my_exception.context = \"Additional context information\"\n",
    "   \n",
    "   raise my_exception\n",
    "\n",
    "In the above example, a custom attribute named context is added to the MyException instance, allowing we to attach specific context information to the exception."
   ]
  },
  {
   "cell_type": "markdown",
   "id": "348507e8",
   "metadata": {},
   "source": [
    "# Ques 4\n",
    "Describe two methods for specifying the text of an exception object's error message.\n",
    "\n",
    "When creating and raising an exception, there are multiple ways to specify the text of the error message. Two common methods are:\n",
    "\n",
    "1. Passing a string argument to the exception constructor: Many built-in exception classes and custom exception classes accept a string argument that represents the error message. We can pass the desired error message as a string when creating an instance of the exception class.\n",
    "\n",
    "class MyException(Exception):\n",
    "    \n",
    "    pass\n",
    "\n",
    "raise MyException(\"This is the error message\")\n",
    "\n",
    "2. Overriding the __str__ method: By overriding the __str__ method in our custom exception class, we can specify the text of the error message for instances of that exception class. The __str__ method should return a string representing the desired error message.\n",
    "\n",
    "class MyException(Exception):\n",
    "    \n",
    "    def __str__(self):\n",
    "    \n",
    "        return \"This is the error message\"\n",
    "\n",
    "raise MyException()\n",
    "\n",
    "\n",
    "In the above example, the __str__ method is overridden to return the error message \"This is the error message\". When raising the MyException, the __str__ method is automatically called to retrieve the error message."
   ]
  },
  {
   "cell_type": "markdown",
   "id": "2791b7b1",
   "metadata": {},
   "source": [
    "# Ques 5\n",
    "\n",
    "Why do you no longer use string-based exceptions?\n",
    "\n",
    "In earlier versions of Python, it was common to use string-based exceptions to represent errors. However, it is no longer recommended to use string-based exceptions in modern Python development. There are several reasons for this:\n",
    "\n",
    "1. Lack of specificity: String-based exceptions provide limited information about the nature of the error. They don't convey the specific exception type, making it difficult to differentiate between different types of exceptions and handle them appropriately.\n",
    "\n",
    "2. Lack of inheritance hierarchy: String-based exceptions do not participate in the exception inheritance hierarchy. This means we cannot catch specific types of exceptions or use inheritance-based exception handling techniques.\n",
    "\n",
    "3. Limited error handling capabilities: String-based exceptions do not provide built-in methods or attributes for error handling and analysis. With class-based exceptions, we can define custom methods and attributes to handle and provide additional information about the exception.\n",
    "\n",
    "4. Code maintainability: Using string-based exceptions can make code harder to understand, maintain, and debug. Class-based exceptions, on the other hand, provide a clear and structured way to represent and handle errors, making the code more readable and maintainable.\n",
    "\n",
    "Overall, class-based exceptions offer more flexibility, better error handling capabilities, and improved code organization compared to string-based exceptions. Therefore, it is recommended to use class-based exceptions in Python instead.\n",
    "\n",
    "\n",
    "\n",
    "\n",
    "\n"
   ]
  },
  {
   "cell_type": "code",
   "execution_count": null,
   "id": "e08a0455",
   "metadata": {},
   "outputs": [],
   "source": []
  }
 ],
 "metadata": {
  "kernelspec": {
   "display_name": "Python 3 (ipykernel)",
   "language": "python",
   "name": "python3"
  },
  "language_info": {
   "codemirror_mode": {
    "name": "ipython",
    "version": 3
   },
   "file_extension": ".py",
   "mimetype": "text/x-python",
   "name": "python",
   "nbconvert_exporter": "python",
   "pygments_lexer": "ipython3",
   "version": "3.9.13"
  }
 },
 "nbformat": 4,
 "nbformat_minor": 5
}
