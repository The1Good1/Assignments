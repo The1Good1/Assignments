{
 "cells": [
  {
   "cell_type": "markdown",
   "id": "f63ea100",
   "metadata": {},
   "source": [
    "# Ques 1\n",
    "Q1. Can you create a programme or function that employs both positive and negative indexing? Is\n",
    "there any repercussion if you do so?\n",
    "\n",
    "Yes, we can create a program or function that employs both positive and negative indexing in Python. Positive indexing starts from 0 for the first element, while negative indexing starts from -1 for the last element."
   ]
  },
  {
   "cell_type": "code",
   "execution_count": null,
   "id": "141711c7",
   "metadata": {},
   "outputs": [],
   "source": [
    "def index_example():\n",
    "    my_list = [1, 2, 3, 4, 5]\n",
    "\n",
    "    # Accessing elements using positive indexing\n",
    "    print(my_list[0])     # 1\n",
    "    print(my_list[2])     # 3\n",
    "    print(my_list[-1])    # 5 (last element)\n",
    "\n",
    "    # Accessing elements using negative indexing\n",
    "    print(my_list[-2])    # 4\n",
    "    print(my_list[-5])    # 1 (first element)\n",
    "\n",
    "index_example()\n"
   ]
  },
  {
   "cell_type": "markdown",
   "id": "71382b65",
   "metadata": {},
   "source": [
    "There is no repercussion in using both positive and negative indexing in the same program or function. They are complementary ways of accessing elements in a list, and we can use them based on your specific needs and convenience."
   ]
  },
  {
   "cell_type": "markdown",
   "id": "7f4be2e0",
   "metadata": {},
   "source": [
    "# Ques 2\n",
    "Q2. What is the most effective way of starting with 1,000 elements in a Python list? Assume that all\n",
    "elements should be set to the same value.\n",
    "\n",
    " The most effective way to create a Python list with 1,000 elements, all set to the same value, is to use the list multiplication technique along with a singleton list. \n",
    " \n",
    " value = 42\n",
    "\n",
    "my_list = [value] * 1000\n",
    "\n",
    "\n",
    "In this example, the * operator is used to multiply the singleton list [value] by 1000, resulting in a new list with 1000 elements, all set to the value 42. This approach is efficient because it avoids explicit loops or repetitive assignments."
   ]
  },
  {
   "cell_type": "markdown",
   "id": "1e5531cd",
   "metadata": {},
   "source": [
    "# Ques 3\n",
    "\n",
    "Q3. How do you slice a list to get any other part while missing the rest? (For example, suppose you\n",
    "want to make a new list with the elements first, third, fifth, seventh, and so on.)\n",
    "\n",
    " To slice a list and get specific elements while skipping others, we can use the slice notation along with a step size. The step size determines the number of elements to skip between the selected elements.\n",
    " \n",
    " "
   ]
  },
  {
   "cell_type": "code",
   "execution_count": null,
   "id": "25d863de",
   "metadata": {},
   "outputs": [],
   "source": [
    "my_list = [1, 2, 3, 4, 5, 6, 7, 8, 9, 10]\n",
    "\n",
    "# Slicing with a step size of 2 to get elements at odd indices\n",
    "new_list = my_list[::2]\n",
    "print(new_list)  # [1, 3, 5, 7, 9]\n"
   ]
  },
  {
   "cell_type": "markdown",
   "id": "64f68878",
   "metadata": {},
   "source": [
    "# Ques 4\n",
    "Q4. Explain the distinctions between indexing and slicing.\n",
    "\n",
    "The distinctions between indexing and slicing in Python are as follows:\n",
    "\n",
    "1. Indexing: Indexing is used to access individual elements within a sequence (such as a list, string, or tuple) using their position. Indexing uses square brackets [] notation and takes a single index value to retrieve a specific element. Indexing starts from 0 for the first element, and negative indexing starts from -1 for the last element.\n",
    "\n",
    "2. Slicing: Slicing is used to extract a portion (a subsequence) of a sequence by specifying a range of indices. Slicing uses the colon : notation and takes one, two, or three values: [start:stop:step]. The start value is the index where the slice begins (inclusive), the stop value is the index where the slice ends (exclusive), and the step value (optional) determines the increment between indices. Slicing returns a new sequence containing the specified portion.\n",
    "\n",
    "In summary, indexing retrieves a single element at a specific position, while slicing extracts a range of elements as a new sequence."
   ]
  },
  {
   "cell_type": "markdown",
   "id": "a0593883",
   "metadata": {},
   "source": [
    "# Ques 5\n",
    "\n",
    "Q5. What happens if one of the slicing expression&#39;s indexes is out of range?\n",
    "\n",
    "When an index is out of range, slicing will simply truncate the range to fit within the valid index boundaries. It will not raise an error or exception."
   ]
  },
  {
   "cell_type": "code",
   "execution_count": null,
   "id": "202ae9a3",
   "metadata": {},
   "outputs": [],
   "source": [
    "my_list = [1, 2, 3, 4, 5]\n",
    "print(my_list[10:])  # Empty list, index out of range\n"
   ]
  },
  {
   "cell_type": "markdown",
   "id": "0eb164da",
   "metadata": {},
   "source": [
    "# Ques 6\n",
    "\n",
    "Q6. If you pass a list to a function, and if you want the function to be able to change the values of the\n",
    "list—so that the list is different after the function returns—what action should you avoid?\n",
    "\n",
    " If we pass a list to a function and you want the function to be able to change the values of the list, we should avoid reassigning the list parameter to a new list object. This is because assigning a new object to the parameter will not modify the original list outside the function. To modify the original list, we should directly modify its elements or use methods that modify the list in-place."
   ]
  },
  {
   "cell_type": "code",
   "execution_count": 1,
   "id": "b4333bdb",
   "metadata": {},
   "outputs": [
    {
     "name": "stdout",
     "output_type": "stream",
     "text": [
      "[10, 2, 3, 4, 5, 6]\n"
     ]
    }
   ],
   "source": [
    "def modify_list(my_list):\n",
    "    # Avoid reassigning the parameter to a new list\n",
    "    # This won't modify the original list outside the function\n",
    "    # my_list = [1, 2, 3, 4, 5]  # Avoid doing this\n",
    "\n",
    "    # Instead, modify the elements or use in-place methods\n",
    "    my_list[0] = 10\n",
    "    my_list.append(6)\n",
    "\n",
    "my_list = [1, 2, 3, 4, 5]\n",
    "modify_list(my_list)\n",
    "print(my_list)  # [10, 2, 3, 4, 5, 6]\n"
   ]
  },
  {
   "cell_type": "markdown",
   "id": "6ab47f00",
   "metadata": {},
   "source": [
    "# Ques 7\n",
    "\n",
    "Q7. What is the concept of an unbalanced matrix?\n",
    "\n",
    "The concept of an unbalanced matrix refers to a matrix where the number of elements in each row is not the same. In other words, the rows have different lengths. An unbalanced matrix can arise in situations where the data or structure being represented is not uniform across rows. It can pose challenges for certain operations or algorithms that assume a consistent shape or size for matrices."
   ]
  },
  {
   "cell_type": "markdown",
   "id": "207fecdb",
   "metadata": {},
   "source": [
    "# Ques 8\n",
    "\n",
    "\n",
    "Q8. Why is it necessary to use either list comprehension or a loop to create arbitrarily large matrices?\n",
    "\n",
    "It is necessary to use either list comprehension or a loop to create arbitrarily large matrices because these methods allow for dynamic creation and population of the matrix elements. With list comprehension, we can generate a matrix by iterating over rows and columns, filling in the elements using concise syntax. Alternatively, using a loop, such as a nested for loop, we can generate the matrix iteratively by appending rows and populating the elements step by step.\n",
    "\n",
    "The use of list comprehension or a loop is necessary because it allows for flexibility in creating matrices of varying sizes and avoids the need to explicitly write out every element. It provides a scalable approach to create matrices based on input parameters or conditions."
   ]
  },
  {
   "cell_type": "code",
   "execution_count": null,
   "id": "9da3afd7",
   "metadata": {},
   "outputs": [],
   "source": []
  }
 ],
 "metadata": {
  "kernelspec": {
   "display_name": "Python 3 (ipykernel)",
   "language": "python",
   "name": "python3"
  },
  "language_info": {
   "codemirror_mode": {
    "name": "ipython",
    "version": 3
   },
   "file_extension": ".py",
   "mimetype": "text/x-python",
   "name": "python",
   "nbconvert_exporter": "python",
   "pygments_lexer": "ipython3",
   "version": "3.9.13"
  }
 },
 "nbformat": 4,
 "nbformat_minor": 5
}
