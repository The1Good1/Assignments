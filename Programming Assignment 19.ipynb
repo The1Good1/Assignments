{
 "cells": [
  {
   "cell_type": "markdown",
   "id": "a560823b",
   "metadata": {},
   "source": [
    "# Ques 1\n"
   ]
  },
  {
   "cell_type": "code",
   "execution_count": 126,
   "id": "c97d1430",
   "metadata": {},
   "outputs": [
    {
     "name": "stdout",
     "output_type": "stream",
     "text": [
      "SSttrriinngg\n",
      "HHeelllloo  WWoorrlldd!!\n",
      "11223344!!__  \n"
     ]
    }
   ],
   "source": [
    "def double_char(string):\n",
    "    return ''.join([ch*2 for ch in string])\n",
    "\n",
    "# Example usage\n",
    "print(double_char(\"String\"))\n",
    "print(double_char(\"Hello World!\"))\n",
    "print(double_char(\"1234!_ \"))\n"
   ]
  },
  {
   "cell_type": "markdown",
   "id": "b6b3d9c3",
   "metadata": {},
   "source": [
    "# Ques 2\n",
    "\n",
    " "
   ]
  },
  {
   "cell_type": "code",
   "execution_count": 127,
   "id": "f2891214",
   "metadata": {},
   "outputs": [
    {
     "name": "stdout",
     "output_type": "stream",
     "text": [
      "False\n",
      "True\n",
      "boolean expected\n",
      "boolean expected\n"
     ]
    }
   ],
   "source": [
    "def reverse(boolean):\n",
    "    if isinstance(boolean, bool):\n",
    "        return not boolean\n",
    "    else:\n",
    "        return \"boolean expected\"\n",
    "\n",
    "# Example usage\n",
    "print(reverse(True))\n",
    "print(reverse(False))\n",
    "print(reverse(0))\n",
    "print(reverse(None))\n"
   ]
  },
  {
   "cell_type": "markdown",
   "id": "9b862e69",
   "metadata": {},
   "source": [
    "# Ques 3\n",
    "\n"
   ]
  },
  {
   "cell_type": "code",
   "execution_count": 128,
   "id": "7761530e",
   "metadata": {},
   "outputs": [
    {
     "name": "stdout",
     "output_type": "stream",
     "text": [
      "0.001m\n",
      "0.008m\n",
      "1048.576m\n"
     ]
    }
   ],
   "source": [
    "def num_layers(n):\n",
    "    thickness_mm = 0.5 * 2**n\n",
    "    thickness_m = thickness_mm / 1000\n",
    "    return \"{:.3f}m\".format(thickness_m)\n",
    "\n",
    "# Example usage\n",
    "print(num_layers(1))\n",
    "print(num_layers(4))\n",
    "print(num_layers(21))\n"
   ]
  },
  {
   "cell_type": "markdown",
   "id": "b6e2a16f",
   "metadata": {},
   "source": [
    "# Ques 4\n",
    "\n",
    "\n"
   ]
  },
  {
   "cell_type": "code",
   "execution_count": 129,
   "id": "e419bb91",
   "metadata": {},
   "outputs": [
    {
     "name": "stdout",
     "output_type": "stream",
     "text": [
      "[1, 3, 5]\n",
      "[1, 3, 4, 6]\n",
      "[]\n",
      "[0, 1, 2, 3, 4, 5]\n",
      "[1]\n"
     ]
    }
   ],
   "source": [
    "def index_of_caps(string):\n",
    "    return [i for i, ch in enumerate(string) if ch.isupper()]\n",
    "\n",
    "# Example usage\n",
    "print(index_of_caps(\"eDaBiT\"))\n",
    "print(index_of_caps(\"eQuINoX\"))\n",
    "print(index_of_caps(\"determine\"))\n",
    "print(index_of_caps(\"STRIKE\"))\n",
    "print(index_of_caps(\"sUn\"))\n"
   ]
  },
  {
   "cell_type": "markdown",
   "id": "11c23a1c",
   "metadata": {},
   "source": [
    "# Ques 5\n",
    "\n"
   ]
  },
  {
   "cell_type": "code",
   "execution_count": 130,
   "id": "d65ef18f",
   "metadata": {},
   "outputs": [
    {
     "name": "stdout",
     "output_type": "stream",
     "text": [
      "[2, 4, 6, 8]\n",
      "[2, 4]\n",
      "[2]\n"
     ]
    }
   ],
   "source": [
    "def find_even_nums(n):\n",
    "    return [num for num in range(1, n+1) if num % 2 == 0]\n",
    "\n",
    "# Example usage\n",
    "print(find_even_nums(8))\n",
    "print(find_even_nums(4))\n",
    "print(find_even_nums(2))\n"
   ]
  },
  {
   "cell_type": "code",
   "execution_count": null,
   "id": "79e74f2f",
   "metadata": {},
   "outputs": [],
   "source": []
  }
 ],
 "metadata": {
  "kernelspec": {
   "display_name": "Python 3 (ipykernel)",
   "language": "python",
   "name": "python3"
  },
  "language_info": {
   "codemirror_mode": {
    "name": "ipython",
    "version": 3
   },
   "file_extension": ".py",
   "mimetype": "text/x-python",
   "name": "python",
   "nbconvert_exporter": "python",
   "pygments_lexer": "ipython3",
   "version": "3.9.13"
  }
 },
 "nbformat": 4,
 "nbformat_minor": 5
}
