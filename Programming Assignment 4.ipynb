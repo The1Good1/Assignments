{
 "cells": [
  {
   "cell_type": "markdown",
   "id": "2db6a523",
   "metadata": {},
   "source": [
    "# Ques 1\n",
    "\n",
    "1. Write a Python Program to Find the Factorial of a Number?\n"
   ]
  },
  {
   "cell_type": "code",
   "execution_count": 17,
   "id": "24973bc2",
   "metadata": {},
   "outputs": [
    {
     "name": "stdout",
     "output_type": "stream",
     "text": [
      "Enter a number: 6\n",
      "Factorial of 6 is 720\n"
     ]
    }
   ],
   "source": [
    "num = int(input(\"Enter a number: \"))\n",
    "\n",
    "factorial = 1\n",
    "\n",
    "if num < 0:\n",
    "    print(\"Factorial is not defined for negative numbers\")\n",
    "elif num == 0:\n",
    "    print(\"Factorial of 0 is 1\")\n",
    "else:\n",
    "    for i in range(1, num + 1):\n",
    "        factorial *= i\n",
    "    print(\"Factorial of\", num, \"is\", factorial)\n"
   ]
  },
  {
   "cell_type": "markdown",
   "id": "942ca17d",
   "metadata": {},
   "source": [
    "# Ques 2\n",
    "\n",
    "2. Write a Python Program to Display the multiplication Table?\n"
   ]
  },
  {
   "cell_type": "code",
   "execution_count": 18,
   "id": "ac675f07",
   "metadata": {},
   "outputs": [
    {
     "name": "stdout",
     "output_type": "stream",
     "text": [
      "Enter a number: 5\n",
      "Multiplication table of 5\n",
      "5 x 1 = 5\n",
      "5 x 2 = 10\n",
      "5 x 3 = 15\n",
      "5 x 4 = 20\n",
      "5 x 5 = 25\n",
      "5 x 6 = 30\n",
      "5 x 7 = 35\n",
      "5 x 8 = 40\n",
      "5 x 9 = 45\n",
      "5 x 10 = 50\n"
     ]
    }
   ],
   "source": [
    "num = int(input(\"Enter a number: \"))\n",
    "\n",
    "print(\"Multiplication table of\", num)\n",
    "\n",
    "for i in range(1, 11):\n",
    "    print(num, \"x\", i, \"=\", num*i)\n"
   ]
  },
  {
   "cell_type": "markdown",
   "id": "47d5803d",
   "metadata": {},
   "source": [
    "# Ques 3\n",
    "\n",
    "3. Write a Python Program to Print the Fibonacci sequence?"
   ]
  },
  {
   "cell_type": "code",
   "execution_count": 19,
   "id": "3de7a09c",
   "metadata": {},
   "outputs": [
    {
     "name": "stdout",
     "output_type": "stream",
     "text": [
      "Enter the number of terms: 7\n",
      "Fibonacci sequence:\n",
      "0 1 1 2 3 5 8 "
     ]
    }
   ],
   "source": [
    "terms = int(input(\"Enter the number of terms: \"))\n",
    "\n",
    "# First two terms\n",
    "num1, num2 = 0, 1\n",
    "count = 0\n",
    "\n",
    "if terms <= 0:\n",
    "    print(\"Number of terms should be a positive integer\")\n",
    "elif terms == 1:\n",
    "    print(\"Fibonacci sequence up to\", terms, \"term:\")\n",
    "    print(num1)\n",
    "else:\n",
    "    print(\"Fibonacci sequence:\")\n",
    "    while count < terms:\n",
    "        print(num1, end=\" \")\n",
    "        next_num = num1 + num2\n",
    "        num1 = num2\n",
    "        num2 = next_num\n",
    "        count += 1\n"
   ]
  },
  {
   "cell_type": "markdown",
   "id": "d0888df2",
   "metadata": {},
   "source": [
    "# Ques 4\n",
    "\n",
    "4. Write a Python Program to Check Armstrong Number?"
   ]
  },
  {
   "cell_type": "code",
   "execution_count": 20,
   "id": "3f6494b9",
   "metadata": {},
   "outputs": [
    {
     "name": "stdout",
     "output_type": "stream",
     "text": [
      "Enter a number: 6\n",
      "6 is not an Armstrong number\n"
     ]
    }
   ],
   "source": [
    "num = int(input(\"Enter a number: \"))\n",
    "\n",
    "sum = 0\n",
    "temp = num\n",
    "\n",
    "while temp > 0:\n",
    "    digit = temp % 10\n",
    "    sum += digit**3\n",
    "    temp //= 10\n",
    "\n",
    "if num == sum:\n",
    "    print(num, \"is an Armstrong number\")\n",
    "else:\n",
    "    print(num, \"is not an Armstrong number\")\n"
   ]
  },
  {
   "cell_type": "markdown",
   "id": "45ea9826",
   "metadata": {},
   "source": [
    "# Ques 5\n",
    "\n",
    "\n",
    "5. Write a Python Program to Find Armstrong Number in an Interval?\n"
   ]
  },
  {
   "cell_type": "code",
   "execution_count": 21,
   "id": "76899f9f",
   "metadata": {},
   "outputs": [
    {
     "name": "stdout",
     "output_type": "stream",
     "text": [
      "Enter the lower limit of the interval: 5\n",
      "Enter the upper limit of the interval: 90\n",
      "Armstrong numbers between 5 and 90 are:\n",
      "5\n",
      "6\n",
      "7\n",
      "8\n",
      "9\n"
     ]
    }
   ],
   "source": [
    "lower = int(input(\"Enter the lower limit of the interval: \"))\n",
    "upper = int(input(\"Enter the upper limit of the interval: \"))\n",
    "\n",
    "print(\"Armstrong numbers between\", lower, \"and\", upper, \"are:\")\n",
    "\n",
    "for num in range(lower, upper + 1):\n",
    "    order = len(str(num))\n",
    "    sum = 0\n",
    "    temp = num\n",
    "    while temp > 0:\n",
    "        digit = temp % 10\n",
    "        sum += digit**order\n",
    "        temp //= 10\n",
    "    if num == sum:\n",
    "        print(num)\n"
   ]
  },
  {
   "cell_type": "markdown",
   "id": "55d3a062",
   "metadata": {},
   "source": [
    "# Ques 6\n",
    "\n",
    "6. Write a Python Program to Find the Sum of Natural Numbers?"
   ]
  },
  {
   "cell_type": "code",
   "execution_count": 22,
   "id": "f1739151",
   "metadata": {},
   "outputs": [
    {
     "name": "stdout",
     "output_type": "stream",
     "text": [
      "Enter a number: 67\n",
      "Sum of first 67 natural numbers is 2278\n"
     ]
    }
   ],
   "source": [
    "num = int(input(\"Enter a number: \"))\n",
    "\n",
    "if num < 0:\n",
    "    print(\"Enter a positive number\")\n",
    "else:\n",
    "    sum = 0\n",
    "    for i in range(1, num + 1):\n",
    "        sum += i\n",
    "    print(\"Sum of first\", num, \"natural numbers is\", sum)\n"
   ]
  },
  {
   "cell_type": "code",
   "execution_count": null,
   "id": "30681d21",
   "metadata": {},
   "outputs": [],
   "source": []
  }
 ],
 "metadata": {
  "kernelspec": {
   "display_name": "Python 3 (ipykernel)",
   "language": "python",
   "name": "python3"
  },
  "language_info": {
   "codemirror_mode": {
    "name": "ipython",
    "version": 3
   },
   "file_extension": ".py",
   "mimetype": "text/x-python",
   "name": "python",
   "nbconvert_exporter": "python",
   "pygments_lexer": "ipython3",
   "version": "3.9.13"
  }
 },
 "nbformat": 4,
 "nbformat_minor": 5
}
